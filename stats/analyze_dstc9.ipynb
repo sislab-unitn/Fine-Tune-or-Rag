{
 "cells": [
  {
   "cell_type": "markdown",
   "metadata": {},
   "source": [
    "# DSTC9"
   ]
  },
  {
   "cell_type": "markdown",
   "metadata": {},
   "source": [
    "## Load data"
   ]
  },
  {
   "cell_type": "code",
   "execution_count": 1,
   "metadata": {},
   "outputs": [],
   "source": [
    "import datetime\n",
    "import os\n",
    "import json\n",
    "import re\n",
    "from pathlib import Path\n",
    "from typing import Any, Dict, List, Set\n",
    "\n",
    "\n",
    "# taxi \"table\" only has a set of colours, a set of brands (\"types\"), and a set of possible phone numbers\n",
    "UNAVAIL_SLOTS = [\n",
    "    \"hotel-bookday\",\n",
    "    \"hotel-bookpeople\", # hotel-bookpeople based on presence of \"single/double/family\"?\n",
    "    \"hotel-bookstay\",\n",
    "    \"restaurant-bookday\",\n",
    "    \"restaurant-bookpeople\",\n",
    "    \"restaurant-booktime\",\n",
    "    \"taxi-arriveby\",\n",
    "    \"taxi-departure\",\n",
    "    \"taxi-destination\",\n",
    "    \"taxi-leaveat\",\n",
    "    \"train-bookpeople\"\n",
    "]\n",
    "\n",
    "# \"bus/train-leaveat\" (\"I'd like to leave AFTER ...\" vs \"I'd like to leave BEFORE ...\")\n",
    "EQ_SLOTS = [\n",
    "    \"attraction-area\",\n",
    "    \"attraction-name\",\n",
    "    \"attraction-type\",\n",
    "    \"bus-day\",\n",
    "    \"bus-departure\",\n",
    "    \"bus-destination\",\n",
    "    \"hotel-area\",\n",
    "    \"hotel-internet\",\n",
    "    \"hotel-name\",\n",
    "    \"hotel-parking\",\n",
    "    \"hotel-pricerange\",\n",
    "    \"hotel-stars\", # similar to \"-leaveat\" (could be in LEQ or GEQ)\n",
    "    \"hotel-type\",\n",
    "    \"restaurant-area\",\n",
    "    \"restaurant-food\",\n",
    "    \"restaurant-name\",\n",
    "    \"restaurant-pricerange\",\n",
    "    \"train-day\",\n",
    "    \"train-departure\",\n",
    "    \"train-destination\",\n",
    "]\n",
    "GEQ_SLOTS = [\n",
    "    \"bus-leaveat\",  # could be in LEQ\n",
    "    \"train-leaveat\" # could be in LEQ\n",
    "]\n",
    "LEQ_SLOTS = [\n",
    "    \"bus-arriveby\",\n",
    "    \"train-arriveby\"\n",
    "]\n",
    "\n",
    "AVAIL_SLOTS = EQ_SLOTS + GEQ_SLOTS + LEQ_SLOTS\n",
    "\n",
    "SLOT_MAP = {\n",
    "    \"arriveby\": \"arriveBy\",\n",
    "    \"leaveat\": \"leaveAt\",\n",
    "}\n",
    "\n",
    "# TIME_SLOTS = [\"bus-leaveat\", \"bus-arriveby\", \"restaurant-booktime\", \"taxi-arriveby\", \"taxi-leaveat\", \"train-arriveby\", \"train-leaveat\"]\n",
    "# INT_SLOTS = [\"hotel-bookpeople\", \"hotel-bookstay\", \"hotel-stars\", \"restaurant-bookpeople\", \"train-bookpeople\"]\n",
    "TIME_SLOTS = [\"bus-leaveat\", \"bus-arriveby\", \"train-arriveby\", \"train-leaveat\"]\n",
    "INT_SLOTS = [\"hotel-stars\"]\n",
    "\n",
    "\n",
    "TIME_PATTERNS = [\n",
    "    (r\"([0-2]?[0-9])(?:\\:|\\.)?([0-9][0-9])\", r\"\\1:\\2\"),\n",
    "    (r\"([0-2]?[0-9])\", r\"\\1:00\")\n",
    "]\n",
    "\n",
    "EMPTY_FIELD_VALUES = [\"\", \"?\"]\n",
    "\n",
    "LONG_FIELDS = [\"openhours\", \"introduction\", \"signature\"]\n",
    "\n",
    "def str_to_time(time_str: str):\n",
    "    orig_time_str = time_str\n",
    "    try:\n",
    "        # TODO check regex for multiwoz 2.1\n",
    "        for patt, sub in TIME_PATTERNS:\n",
    "            comp_patt = re.compile(patt)\n",
    "            match = comp_patt.match(time_str)\n",
    "            if match is not None:\n",
    "                time_str = re.sub(patt, sub, match[0])\n",
    "                break\n",
    "        hour, minute = time_str.split(\":\")\n",
    "        time = datetime.time(hour=int(hour)%24, minute=int(minute))\n",
    "    except:\n",
    "        time = None\n",
    "    return time\n",
    "\n",
    "SEP1 = \"<SEP1>\"\n",
    "SEP2 = \"<SEP2>\"\n",
    "\n",
    "def get_top_k_values(table: str, entries: List[Dict[str,Any]], k: int) -> Dict[str,List[Any]]:\n",
    "    value_counts = {}\n",
    "    for entry in entries:\n",
    "        for field, value in entry.items():\n",
    "            # skip \"null\" values (\"\", \"?\", ..) for top k\n",
    "            if value not in EMPTY_FIELD_VALUES:\n",
    "                # need to be hashable\n",
    "                if field == \"location\":\n",
    "                    # [long, lat]\n",
    "                    value = SEP1.join([str(v) for v in value])\n",
    "                if table == \"hotel\" and field == \"price\":\n",
    "                    # {single: 50, double: 90, ...}\n",
    "                    value = SEP1.join([f\"{k}{SEP2}{v}\" for k, v in value.items()]) #type: ignore\n",
    "\n",
    "                if field not in value_counts:\n",
    "                    value_counts[field] = {}\n",
    "                if value not in value_counts[field]:\n",
    "                    value_counts[field][value] = 0\n",
    "                value_counts[field][value] += 1\n",
    "    top_k_values = {}\n",
    "    for field, values in value_counts.items():\n",
    "        vc_list = [(value, count) for value, count in values.items()]\n",
    "        sorted_vc_list = sorted(vc_list, key=lambda x: x[1], reverse=True)\n",
    "        top_k, _ = zip(*sorted_vc_list[:min(k, len(sorted_vc_list))])\n",
    "        top_k_values[field] = list(top_k)\n",
    "    # restore location and hotel price\n",
    "    for field, value in top_k_values.items():\n",
    "        if field == \"location\":\n",
    "            top_k_values[field] = [[e for e in v.split(SEP1)] for v in value]\n",
    "        if table == \"hotel\" and field == \"price\":\n",
    "            top_k_values[field] = [{e.split(SEP2)[0]: e.split(SEP2)[1] for e in v.split(SEP1)} for v in value] #type: ignore\n",
    "\n",
    "    return top_k_values\n",
    "\n",
    "def summarise_query_result(result: Dict[str, List[Dict[str,Any]]], k: int) -> Dict[str, List[Dict[str,Any]]]:\n",
    "    \"\"\"\n",
    "    From list of results to list of top k most common values for each field.\n",
    "    \"\"\"\n",
    "    summarised = {}\n",
    "    for table, entries in result.items():\n",
    "        if len(entries) > 1:\n",
    "            top_k_values = get_top_k_values(table, entries, k)\n",
    "            # keep same format\n",
    "            summarised[table] = [top_k_values]\n",
    "        else:\n",
    "            summarised[table] = entries\n",
    "    return summarised\n",
    "\n",
    "\n",
    "class MwozDataBase:\n",
    "    def __init__(self, db_path: str, accept_dontcare: bool=False):\n",
    "        self.db: Dict[str, List[Dict[str,Any]]] = {}\n",
    "        self.accept_dontcare: bool = accept_dontcare\n",
    "        self._load_db(db_path)\n",
    "\n",
    "    def _load_db(self, db_path: str):\n",
    "        db_files_paths = [os.path.join(db_path, name) for name in os.listdir(db_path) if \"_db.json\" in name]\n",
    "        for db_file_path in db_files_paths:\n",
    "            domain = Path(db_file_path).name.split(\"_\")[0]\n",
    "            if domain == \"taxi\":\n",
    "                # always skip, no db for taxi\n",
    "                continue\n",
    "            # TODO analysis for hospital and police\n",
    "            # skip hospital and police domains\n",
    "            if \"hospital\" in domain or \"police\" in domain:\n",
    "                continue\n",
    "            # load data for domain\n",
    "            with open(db_file_path, \"r\") as f:\n",
    "                self.db[domain] = json.load(f)\n",
    "\n",
    "    def query(self, query: Dict[str,str], exclude_long_fields: bool = False) -> Dict[str, List[Dict[str,Any]]]:\n",
    "        query_domains = set([slot.split(\"-\")[0] for slot in query.keys()])\n",
    "        # always remove taxi\n",
    "        if \"taxi\" in query_domains:\n",
    "            query_domains.remove(\"taxi\")\n",
    "        result = {domain: [] for domain in query_domains}\n",
    "        for domain in query_domains:\n",
    "            # consider elements of domain for query\n",
    "            dom_query = {slot: value for slot, value in query.items() if slot.split(\"-\")[0] == domain}\n",
    "            dom_query = self._filter_query(dom_query)\n",
    "            # TODO check what happens: issue with bus\n",
    "            if domain not in self.db:\n",
    "                continue\n",
    "            for entry in self.db[domain]:\n",
    "                if self._is_match(entry, dom_query):\n",
    "                    if exclude_long_fields:\n",
    "                        entry = self._remove_long_fields(entry)\n",
    "                    result[domain].append(entry)\n",
    "        return result\n",
    "\n",
    "    def _remove_long_fields(self, entry: Dict[str, Any]) -> Dict[str, Any]:\n",
    "        new_entry = {}\n",
    "        for field, value in entry.items():\n",
    "            if field not in LONG_FIELDS:\n",
    "                new_entry[field] = value\n",
    "        return new_entry\n",
    "\n",
    "    def _filter_query(self, query: Dict[str, str]) -> Dict[str, str]:\n",
    "        # depending on the domain, some slots cannot be checked (no information in DB)\n",
    "        return {slot:value for slot, value in query.items() if slot not in UNAVAIL_SLOTS}\n",
    "\n",
    "\n",
    "    def _is_match(self, entry: Dict[str, Any], query: Dict[str, str]) -> bool:\n",
    "        match = True\n",
    "        for domain_slot, value in query.items():\n",
    "            assert \" \" not in domain_slot\n",
    "            slot = domain_slot.split(\"-\")[1]\n",
    "            # some slot names are not identical in the database (e.g. arriveby -> arriveBy)\n",
    "            if slot in SLOT_MAP:\n",
    "                slot = SLOT_MAP[slot]\n",
    "            if not self._is_acceptable(domain_slot, value, entry[slot]):\n",
    "                match = False\n",
    "                break\n",
    "        return match\n",
    "\n",
    "    def _is_acceptable(self, slot: str , value, entry_value) -> bool:\n",
    "        if value == \"dontcare\":\n",
    "            return self.accept_dontcare\n",
    "\n",
    "        # cast to correct type\n",
    "        if slot in INT_SLOTS:\n",
    "            if \"|\" in value:\n",
    "                # if alternatives with \"|\" take first\n",
    "                value = value.split(\"|\")[0]\n",
    "            value = int(value)\n",
    "            entry_value = int(entry_value)\n",
    "        elif slot in TIME_SLOTS:\n",
    "            orig_value = value\n",
    "            value = str_to_time(value)\n",
    "            entry_value = str_to_time(entry_value)\n",
    "            # TODO manage some cases\n",
    "            if value is None:\n",
    "                return False\n",
    "\n",
    "        if slot in EQ_SLOTS:\n",
    "            acceptable = entry_value == value\n",
    "        elif slot in LEQ_SLOTS:\n",
    "            acceptable = entry_value <= value # type: ignore\n",
    "        else: # slot in GEQ_SLOTS\n",
    "            acceptable = entry_value >= value # type: ignore\n",
    "\n",
    "        return acceptable\n",
    "\n",
    "    def get_all_fields(self) -> Dict[str, Set[str]]:\n",
    "        all_fields = {}\n",
    "        for table, entries in self.db.items():\n",
    "            all_fields[table] = set()\n",
    "            for entry in entries:\n",
    "                for field in entry.keys():\n",
    "                    all_fields[table].add(field)\n",
    "        return all_fields"
   ]
  },
  {
   "cell_type": "code",
   "execution_count": 2,
   "metadata": {},
   "outputs": [],
   "source": [
    "import os\n",
    "import json\n",
    "\n",
    "class KnowledgeReader(object):\n",
    "    def __init__(self, dataroot, knowledge_file):\n",
    "        path = os.path.join(os.path.abspath(dataroot))\n",
    "\n",
    "        with open(os.path.join(path, knowledge_file), 'r') as f:\n",
    "            self.knowledge = json.load(f)\n",
    "\n",
    "    def get_domain_list(self):\n",
    "        return list(self.knowledge.keys())\n",
    "\n",
    "    def get_entity_list(self, domain):\n",
    "        if domain not in self.get_domain_list():\n",
    "            raise ValueError(\"invalid domain name\")\n",
    "\n",
    "        entity_ids = []\n",
    "        for entity_id in self.knowledge[domain].keys():\n",
    "            try:\n",
    "                entity_id = int(entity_id)\n",
    "                entity_ids.append(int(entity_id))\n",
    "            except:\n",
    "                pass\n",
    "\n",
    "        result = []\n",
    "        for entity_id in sorted(entity_ids):\n",
    "            entity_name = self.knowledge[domain][str(entity_id)]['name']\n",
    "            result.append({'id': entity_id, 'name': entity_name})\n",
    "\n",
    "        return result\n",
    "\n",
    "    def get_entity_name(self, domain, entity_id):\n",
    "        if domain not in self.get_domain_list():\n",
    "            raise ValueError(\"invalid domain name: %s\" % domain)\n",
    "\n",
    "        if str(entity_id) not in self.knowledge[domain]:\n",
    "            raise ValueError(\"invalid entity id: %s\" % str(entity_id))\n",
    "\n",
    "        result = self.knowledge[domain][str(entity_id)]['name'] or None\n",
    "\n",
    "        return result\n",
    "\n",
    "\n",
    "    def get_doc_list(self, domain=None, entity_id=None):\n",
    "        if domain is None:\n",
    "            domain_list = self.get_domain_list()\n",
    "        else:\n",
    "            if domain not in self.get_domain_list():\n",
    "                raise ValueError(\"invalid domain name: %s\" % domain)\n",
    "            domain_list = [domain]\n",
    "\n",
    "        result = []\n",
    "        for domain in domain_list:\n",
    "            if entity_id is None:\n",
    "                for item_id, item_obj in self.knowledge[domain].items():\n",
    "                    item_name = self.get_entity_name(domain, item_id)\n",
    "                    \n",
    "                    if item_id != '*':\n",
    "                        item_id = int(item_id)\n",
    "\n",
    "                    for doc_id, doc_obj in item_obj['docs'].items():\n",
    "                        result.append({'domain': domain, 'entity_id': item_id, 'entity_name': item_name, 'doc_id': doc_id, 'doc': {'title': doc_obj['title'], 'body': doc_obj['body']}})\n",
    "            else:\n",
    "                if str(entity_id) not in self.knowledge[domain]:\n",
    "                    raise ValueError(\"invalid entity id: %s\" % str(entity_id))\n",
    "\n",
    "                entity_name = self.get_entity_name(domain, entity_id)\n",
    "                \n",
    "                entity_obj = self.knowledge[domain][str(entity_id)]\n",
    "                for doc_id, doc_obj in entity_obj['docs'].items():\n",
    "                    result.append({'domain': domain, 'entity_id': entity_id, 'entity_name': entity_name, 'doc_id': doc_id, 'doc': {'title': doc_obj['title'], 'body': doc_obj['body']}})\n",
    "        return result\n",
    "\n",
    "    def get_doc(self, domain, entity_id, doc_id):\n",
    "        if domain not in self.get_domain_list():\n",
    "            raise ValueError(\"invalid domain name: %s\" % domain)\n",
    "\n",
    "        if str(entity_id) not in self.knowledge[domain]:\n",
    "            raise ValueError(\"invalid entity id: %s\" % str(entity_id))\n",
    "\n",
    "        entity_name = self.get_entity_name(domain, entity_id)\n",
    "\n",
    "        if str(doc_id) not in self.knowledge[domain][str(entity_id)]['docs']:\n",
    "            raise ValueError(\"invalid doc id: %s\" % str(doc_id))\n",
    "\n",
    "        doc_obj = self.knowledge[domain][str(entity_id)]['docs'][str(doc_id)]\n",
    "        result = {'domain': domain, 'entity_id': entity_id, 'entity_name': entity_name, 'doc_id': doc_id, 'doc': {'title': doc_obj['title'], 'body': doc_obj['body']}}\n",
    "\n",
    "        return result"
   ]
  },
  {
   "cell_type": "code",
   "execution_count": 3,
   "metadata": {},
   "outputs": [],
   "source": [
    "import os\n",
    "from typing import Any, Dict, List, Optional, Tuple, Union\n",
    "from torch.utils import data\n",
    "from tqdm import tqdm\n",
    "\n",
    "class Dataset(data.Dataset):\n",
    "    def __init__(\n",
    "        self,\n",
    "        data: Dict[int, Dict[str, Union[Any, List[Dict[str, Any]]]]],\n",
    "        split: str,\n",
    "        db_path: Optional[str] = None,\n",
    "        unstr_kb_path: Optional[str] = None,\n",
    "        **kwargs\n",
    "    ):\n",
    "        self.hist: List[List[str]] = []\n",
    "        self.dialogue_state: List[Dict[str, str]] = []\n",
    "        self.dialogue_act: List[Dict[str, str]] = []\n",
    "        self.query_results: List[Dict[str, List[Dict[str,Any]]]] = []\n",
    "        self.gold_knowledge: List[List[Dict[str,Any]]] = []\n",
    "        self.retrieved_knowledge: List[List[Dict[str,Any]]] = []\n",
    "        self.targets: List[str] = []\n",
    "        self.sample_ids: List[str] = []\n",
    "        self.db: Optional[MwozDataBase] = None\n",
    "        self.speakers: List[str] = []\n",
    "        if db_path is not None:\n",
    "            self.db = MwozDataBase(db_path, accept_dontcare=True)\n",
    "        self.unstr_kb: Optional[KnowledgeReader] = None\n",
    "        if unstr_kb_path is not None:\n",
    "            self.unstr_kb = KnowledgeReader(unstr_kb_path, \"knowledge.json\")\n",
    "            # with open(os.path.join(unstr_kb_path, \"knowledge.json\")) as f:\n",
    "            #     kb = json.load(f)\n",
    "\n",
    "        for dial_id, dial in tqdm(data.items(), desc=\"Preparing dataset\", unit=\"dialogues\"):\n",
    "            # skip test dialogues that are not from multiwoz 2.1 (no dialogue state annotation)\n",
    "            if split == \"test\" and (\"source\" not in dial or dial[\"source\"] != \"multiwoz\"):\n",
    "                continue\n",
    "            for t_id, turn in enumerate(dial[\"turns\"]):\n",
    "                history = [t[\"text\"] for t in dial[\"turns\"][:t_id]]\n",
    "                self.hist.append(history)\n",
    "                self.dialogue_state.append(turn[\"dialogue_state\"])\n",
    "                if \"dialogue_act\" in turn:\n",
    "                    self.dialogue_act.append(turn[\"dialogue_act\"])\n",
    "                else:\n",
    "                    self.dialogue_act.append({})\n",
    "                self.query_results.append(self._get_query_results(turn))\n",
    "                self.gold_knowledge.append(self._get_knowledge(turn, \"knowledge\"))\n",
    "                self.retrieved_knowledge.append(self._get_knowledge(turn, \"top_k\"))\n",
    "                self.targets.append(turn[\"text\"])\n",
    "                self.sample_ids.append(f\"{split}_{dial_id}_{t_id}\")\n",
    "                self.speakers.append(\"U\" if t_id % 2 == 0 else \"S\")\n",
    "\n",
    "    def _get_query_results(self, turn: Dict[str, Any]) -> Dict[str, List[Dict[str,Any]]]:\n",
    "        results = {}\n",
    "        if self.db:\n",
    "            results = self.db.query(turn[\"dialogue_state\"], exclude_long_fields=True)\n",
    "            # summarised = summarise_query_result(results, 3)\n",
    "        return results\n",
    "\n",
    "    def _get_knowledge(self, turn: Dict[str, Any], k_field: str=\"knowledge\") -> List[Dict[str,Any]]:\n",
    "        results = []\n",
    "        if self.unstr_kb:\n",
    "            if k_field in turn and turn[k_field] is not None:\n",
    "                for entry in turn[k_field]:\n",
    "                    results.append(self.unstr_kb.get_doc(entry[\"domain\"], entry[\"entity_id\"], entry[\"doc_id\"]))\n",
    "        return results\n",
    "\n",
    "    def __len__(self):\n",
    "        return len(self.sample_ids)\n",
    "\n",
    "    def __getitem__(self, idx) -> Tuple[str, Dict[str, str], Dict[str, str], Dict[str, List[Dict[str,Any]]], List[Dict[str,Any]], List[Dict[str,Any]], str, str, str]:\n",
    "        return self.hist[idx], self.dialogue_state[idx], self.dialogue_act[idx], self.query_results[idx], self.gold_knowledge[idx], self.retrieved_knowledge[idx], self.speakers[idx], self.targets[idx], self.sample_ids[idx]"
   ]
  },
  {
   "cell_type": "code",
   "execution_count": 4,
   "metadata": {},
   "outputs": [],
   "source": [
    "def prepare_kb(kb: Dict[str, dict]) -> Dict[str, Dict[tuple, dict]]:\n",
    "    prepared: Dict[str, Dict[tuple, dict]] = {split:{} for split in kb}\n",
    "    for split, kb_split in kb.items():\n",
    "        for domain, entities in kb_split.items():\n",
    "            for ent_id, entity in entities.items():\n",
    "                # skip entities not from multiwoz\n",
    "                if \"city\" in entity and entity[\"city\"] != \"Cambridge\":\n",
    "                    continue\n",
    "                ent_name = entity[\"name\"]\n",
    "                if ent_name is None:\n",
    "                    assert domain in [\"taxi\", \"train\"]\n",
    "                    ent_name = domain.upper()\n",
    "                for doc_id, doc in entity[\"docs\"].items():\n",
    "                    prepared[split][(domain, ent_id, doc_id)] = {\n",
    "                        \"ent_name\": ent_name,\n",
    "                        \"doc\": doc,\n",
    "                    }\n",
    "    return prepared\n",
    "\n",
    "def get_list_and_ids(prep_kb: Dict[str, Dict[tuple, dict]]) -> Tuple[Dict[str, List[str]], Dict[str, List[Dict[str, str]]]]:\n",
    "    kb_list: Dict[str, List[str]] = {}\n",
    "    kb_ids: Dict[str, List[Dict[str, str]]] = {}\n",
    "\n",
    "    for split, kb_split in prep_kb.items():\n",
    "        kb_tuple = [\n",
    "            ({\"domain\": domain, \"entity_id\": ent_id, \"doc_id\": doc_id}, f\"{doc['ent_name']}, {doc['doc']['title']} {doc['doc']['body']}\")\n",
    "            for (domain, ent_id, doc_id), doc in kb_split.items()\n",
    "        ]\n",
    "        kb_ids[split], kb_list[split] = list(zip(*kb_tuple))\n",
    "        kb_ids[split] = list(kb_ids[split])\n",
    "        kb_list[split] = list(kb_list[split])\n",
    "\n",
    "    return kb_list, kb_ids\n",
    "\n",
    "def get_dstc9_kb():\n",
    "    kb: Dict[str, dict] = {}\n",
    "    for split, unstr_kb_path in zip([\"train\", \"test\"], [\"../original_data/DSTC9/data/\", \"../original_data/DSTC9/data/\"]):\n",
    "        with open(os.path.join(unstr_kb_path, \"knowledge.json\")) as f:\n",
    "            kb_split = json.load(f)\n",
    "        kb[split] = kb_split\n",
    "    # prepare kb\n",
    "    kb: Dict[str, Dict[tuple, dict]] = prepare_kb(kb)\n",
    "    kb_list, _ = get_list_and_ids(kb)\n",
    "    return kb_list"
   ]
  },
  {
   "cell_type": "markdown",
   "metadata": {},
   "source": [
    "## Stats"
   ]
  },
  {
   "cell_type": "markdown",
   "metadata": {},
   "source": [
    "### Original Stats"
   ]
  },
  {
   "cell_type": "code",
   "execution_count": 6,
   "metadata": {},
   "outputs": [
    {
     "name": "stdout",
     "output_type": "stream",
     "text": [
      "TRAIN\n",
      "\t# DIALS: 7173\n",
      "\tAVG # TURNS: 19.209396347413914\n",
      "\tSTD # TURNS: 5.197044258114225\n",
      "\tAVG # SYSTEM TOKENS PER TURN: 16.5461115619593\n",
      "\tSTD # SYSTEM TOKENS PER TURN: 6.144795178567002\n",
      "\tAVG # SYSTEM TOKENS PER DIAL: 150.6496584413774\n",
      "\tSTD # SYSTEM TOKENS PER DIAL: 45.81300920681529\n",
      "VALID\n",
      "\t# DIALS: 1000\n",
      "\tAVG # TURNS: 18.65\n",
      "\tSTD # TURNS: 5.234644209495045\n",
      "\tAVG # SYSTEM TOKENS PER TURN: 16.465495750708214\n",
      "\tSTD # SYSTEM TOKENS PER TURN: 6.06484079560579\n",
      "\tAVG # SYSTEM TOKENS PER DIAL: 145.308\n",
      "\tSTD # SYSTEM TOKENS PER DIAL: 46.40085275078466\n",
      "TEST\n",
      "\t# DIALS: 1984\n",
      "\tAVG # TURNS: 12.015625\n",
      "\tSTD # TURNS: 6.08220383085113\n",
      "\tAVG # SYSTEM TOKENS PER TURN: 16.49790233260614\n",
      "\tSTD # SYSTEM TOKENS PER TURN: 6.277010422068596\n",
      "\tAVG # SYSTEM TOKENS PER DIAL: 99.1038306451613\n",
      "\tSTD # SYSTEM TOKENS PER DIAL: 54.438800218200306\n"
     ]
    }
   ],
   "source": [
    "import numpy as np\n",
    "\n",
    "for split in [\"train\", \"valid\", \"test\"]:\n",
    "    with open(f\"../data/DSTC9/{split}.json\", \"r\") as f:\n",
    "        data = json.load(f)\n",
    "\n",
    "    turns_per_dial = []\n",
    "    tokens_per_dial = []\n",
    "    tokens_per_turn = []\n",
    "    system_tokens_per_dial = []\n",
    "    system_tokens_per_turn = []\n",
    "\n",
    "    for dial in data.values():\n",
    "        turns_per_dial.append(len(dial[\"turns\"]))\n",
    "        tokens_in_dial = 0\n",
    "        system_tokens_in_dial = 0\n",
    "        for turn in dial[\"turns\"]:\n",
    "            tokens_per_turn.append(len(turn[\"text\"].split()))\n",
    "            tokens_in_dial += len(turn[\"text\"].split())\n",
    "            if turn[\"speaker\"] == \"S\":\n",
    "                system_tokens_per_turn.append(len(turn[\"text\"].split()))\n",
    "                system_tokens_in_dial += len(turn[\"text\"].split())\n",
    "        tokens_per_dial.append(tokens_in_dial)\n",
    "        system_tokens_per_dial.append(system_tokens_in_dial)\n",
    "\n",
    "    print(split.upper())\n",
    "    print(\"\\t# DIALS:\", len(data))\n",
    "    print(\"\\tAVG # TURNS:\", np.mean(turns_per_dial))\n",
    "    print(\"\\tSTD # TURNS:\", np.std(turns_per_dial))\n",
    "    #print(\"\\tAVG # TOKENS PER TURN:\", np.mean(tokens_per_turn))\n",
    "    #print(\"\\tSTD # TOKENS PER TURN:\", np.std(tokens_per_turn))\n",
    "    #print(\"\\tAVG # TOKENS PER DIAL:\", np.mean(tokens_per_dial))\n",
    "    #print(\"\\tSTD # TOKENS PER DIAL:\", np.std(tokens_per_dial))\n",
    "    print(\"\\tAVG # SYSTEM TOKENS PER TURN:\", np.mean(system_tokens_per_turn))\n",
    "    print(\"\\tSTD # SYSTEM TOKENS PER TURN:\", np.std(system_tokens_per_turn))\n",
    "    print(\"\\tAVG # SYSTEM TOKENS PER DIAL:\", np.mean(system_tokens_per_dial))\n",
    "    print(\"\\tSTD # SYSTEM TOKENS PER DIAL:\", np.std(system_tokens_per_dial))"
   ]
  },
  {
   "cell_type": "code",
   "execution_count": 7,
   "metadata": {},
   "outputs": [
    {
     "name": "stderr",
     "output_type": "stream",
     "text": [
      "Preparing dataset: 100%|██████████| 7173/7173 [00:01<00:00, 5935.17dialogues/s]\n",
      "Preparing dataset: 100%|██████████| 1000/1000 [00:00<00:00, 1757.94dialogues/s]\n"
     ]
    },
    {
     "data": {
      "image/png": "[encoded data removed]",
      "text/plain": [
       "<Figure size 640x480 with 1 Axes>"
      ]
     },
     "metadata": {},
     "output_type": "display_data"
    },
    {
     "name": "stdout",
     "output_type": "stream",
     "text": [
      "Number of turns 74133\n"
     ]
    }
   ],
   "source": [
    "import matplotlib.pyplot as plt\n",
    "\n",
    "\n",
    "lengths = []\n",
    "for split in [\"train\", \"valid\"]:\n",
    "    with open(f\"../data/DSTC9/{split}.json\", \"r\") as f:\n",
    "        data = json.load(f)\n",
    "\n",
    "    ds = Dataset(\n",
    "        data,\n",
    "        split=split,\n",
    "        unstr_kb_path=\"../original_data/DSTC9/data/\" if split != \"test\" else \"../original_data/DSTC9/data_eval/\",\n",
    "    )\n",
    "\n",
    "\n",
    "    # Calculate the length per turn\n",
    "    for *_, speaker, target, dialogue_id in ds:\n",
    "        if speaker == \"S\":\n",
    "            lengths.append(len(target.split()))\n",
    "\n",
    "# Create the bar plot\n",
    "y, bins, fig = plt.hist(lengths, 10, weights=[1/len(lengths)]*len(lengths))\n",
    "plt.xlabel(\"Turn Index\")\n",
    "plt.ylabel(\"Length per Turn\")\n",
    "plt.title(\"Percentage of turns with a certain length.\")\n",
    "plt.show()\n",
    "print(f\"Number of turns {len(lengths)}\")\n"
   ]
  },
  {
   "cell_type": "code",
   "execution_count": 8,
   "metadata": {},
   "outputs": [
    {
     "name": "stderr",
     "output_type": "stream",
     "text": [
      "Preparing dataset: 100%|██████████| 7173/7173 [00:01<00:00, 4681.70dialogues/s] \n",
      "Preparing dataset: 100%|██████████| 1000/1000 [00:00<00:00, 10675.16dialogues/s]\n"
     ]
    },
    {
     "data": {
      "image/png": "[encoded data removed]",
      "text/plain": [
       "<Figure size 640x480 with 1 Axes>"
      ]
     },
     "metadata": {},
     "output_type": "display_data"
    }
   ],
   "source": [
    "cumulative_lenghts_per_turn = {}\n",
    "\n",
    "for split in [\"train\", \"valid\"]:\n",
    "    with open(f\"../data/DSTC9/{split}.json\", \"r\") as f:\n",
    "        data = json.load(f)\n",
    "\n",
    "    ds = Dataset(\n",
    "        data,\n",
    "        split=split,\n",
    "        unstr_kb_path=\"../original_data/DSTC9/data/\" if split != \"test\" else \"../original_data/DSTC9/data_eval/\",\n",
    "    )\n",
    "    for history, *_, speaker, target, sample_id in ds:\n",
    "        if speaker == \"S\":\n",
    "            turn_id = int(sample_id.split(\"_\")[2])\n",
    "            if turn_id not in cumulative_lenghts_per_turn:\n",
    "                cumulative_lenghts_per_turn[turn_id] = []\n",
    "            cumulative_lenghts_per_turn[turn_id].append(sum([len(utt.split()) for utt in history]))\n",
    "\n",
    "cumulative_lenghts_per_turn = {k: np.mean(v) for k, v in cumulative_lenghts_per_turn.items()}\n",
    "plt.bar(cumulative_lenghts_per_turn.keys(), cumulative_lenghts_per_turn.values())\n",
    "plt.yticks(np.arange(0, max(cumulative_lenghts_per_turn.values())+1, 50))\n",
    "plt.xticks(np.arange(1, max(cumulative_lenghts_per_turn)+1, 2))\n",
    "plt.xlabel(\"Turn Index\")\n",
    "plt.ylabel(\"Average Context Length\")\n",
    "plt.title(\"Average context length for each system turn\")\n",
    "plt.show()"
   ]
  },
  {
   "cell_type": "code",
   "execution_count": 9,
   "metadata": {},
   "outputs": [
    {
     "name": "stderr",
     "output_type": "stream",
     "text": [
      "Preparing dataset: 100%|██████████| 7173/7173 [00:01<00:00, 6693.61dialogues/s] \n"
     ]
    },
    {
     "data": {
      "image/png": "[encoded data removed]",
      "text/plain": [
       "<Figure size 640x480 with 1 Axes>"
      ]
     },
     "metadata": {},
     "output_type": "display_data"
    },
    {
     "name": "stderr",
     "output_type": "stream",
     "text": [
      "Preparing dataset: 100%|██████████| 1000/1000 [00:00<00:00, 8965.92dialogues/s]\n"
     ]
    },
    {
     "data": {
      "image/png": "[encoded data removed]",
      "text/plain": [
       "<Figure size 640x480 with 1 Axes>"
      ]
     },
     "metadata": {},
     "output_type": "display_data"
    },
    {
     "name": "stderr",
     "output_type": "stream",
     "text": [
      "Preparing dataset: 100%|██████████| 1984/1984 [00:00<00:00, 38332.38dialogues/s]\n"
     ]
    },
    {
     "data": {
      "image/png": "[encoded data removed]",
      "text/plain": [
       "<Figure size 640x480 with 1 Axes>"
      ]
     },
     "metadata": {},
     "output_type": "display_data"
    }
   ],
   "source": [
    "import matplotlib.pyplot as plt\n",
    "import numpy as np\n",
    "\n",
    "for split in [\"train\", \"valid\", \"test\"]:\n",
    "    turns_with_knowledge = {}\n",
    "    with open(f\"../data/DSTC9/{split}.json\", \"r\") as f:\n",
    "        data = json.load(f)\n",
    "\n",
    "    ds = Dataset(\n",
    "        data,\n",
    "        split=split,\n",
    "        unstr_kb_path=\"../original_data/DSTC9/data/\" if split != \"test\" else \"../original_data/DSTC9/data_eval/\",\n",
    "    )\n",
    "    for *_, gold_knowledge, _, speaker, target, sample_id in ds:\n",
    "        if speaker == \"S\":\n",
    "            turn_id = int(sample_id.split(\"_\")[2])\n",
    "            if len(gold_knowledge) > 0:\n",
    "                if turn_id not in turns_with_knowledge:\n",
    "                    turns_with_knowledge[turn_id] = 0\n",
    "                turns_with_knowledge[turn_id] += 1\n",
    "\n",
    "    plt.bar(turns_with_knowledge.keys(), turns_with_knowledge.values())\n",
    "    plt.xticks(np.arange(1, max(turns_with_knowledge)+1, 2))\n",
    "    plt.xlabel(\"Turn Index\")\n",
    "    plt.ylabel(\"Number of turns with knowledge\")\n",
    "    plt.title(f\"Number of turns with knowledge in {split}\")\n",
    "    plt.show()"
   ]
  },
  {
   "cell_type": "code",
   "execution_count": 10,
   "metadata": {},
   "outputs": [
    {
     "name": "stdout",
     "output_type": "stream",
     "text": [
      "Number of documents in train & dev: 2900\n",
      "Number of documents in test: 2900\n"
     ]
    }
   ],
   "source": [
    "kb = get_dstc9_kb()\n",
    "\n",
    "print(\"Number of documents in train & dev:\", len(kb[\"train\"]))\n",
    "print(\"Number of documents in test:\", len(kb[\"test\"]))"
   ]
  },
  {
   "cell_type": "markdown",
   "metadata": {},
   "source": [
    "### Paper Stats"
   ]
  },
  {
   "cell_type": "code",
   "execution_count": 11,
   "metadata": {},
   "outputs": [
    {
     "name": "stderr",
     "output_type": "stream",
     "text": [
      "Preparing dataset: 100%|██████████| 7173/7173 [00:01<00:00, 4720.80dialogues/s] \n",
      "Analysing train samples: 100%|██████████| 137789/137789 [00:05<00:00, 26127.23it/s]\n"
     ]
    },
    {
     "name": "stdout",
     "output_type": "stream",
     "text": [
      "TRAIN\n",
      "\t# DIALS: 7173\n",
      "\tAVG # SYSTEM TOKENS PER DIAL 150.6481249128677\n",
      "\tSTD # SYSTEM TOKENS PER DIAL 45.80852850291536\n",
      "\tAVG # SYSTEM TOKENS PER TURN 16.546196484351075\n",
      "\tSTD # SYSTEM TOKENS PER TURN 6.144803898481867\n",
      "\tAVG # SYSTEM SENTENCES PER TURN 1.929641085318797\n",
      "\tSTD # SYSTEM SENTENCES PER TURN 0.6935035804298967\n"
     ]
    },
    {
     "name": "stderr",
     "output_type": "stream",
     "text": [
      "Preparing dataset: 100%|██████████| 1000/1000 [00:00<00:00, 8755.79dialogues/s]\n",
      "Analysing valid samples: 100%|██████████| 18650/18650 [00:00<00:00, 25331.37it/s]\n"
     ]
    },
    {
     "name": "stdout",
     "output_type": "stream",
     "text": [
      "VALID\n",
      "\t# DIALS: 1000\n",
      "\tAVG # SYSTEM TOKENS PER DIAL 145.308\n",
      "\tSTD # SYSTEM TOKENS PER DIAL 46.40085275078466\n",
      "\tAVG # SYSTEM TOKENS PER TURN 16.465495750708214\n",
      "\tSTD # SYSTEM TOKENS PER TURN 6.06484079560579\n",
      "\tAVG # SYSTEM SENTENCES PER TURN 1.9227195467422096\n",
      "\tSTD # SYSTEM SENTENCES PER TURN 0.694885788066249\n"
     ]
    },
    {
     "name": "stderr",
     "output_type": "stream",
     "text": [
      "Preparing dataset: 100%|██████████| 1984/1984 [00:00<00:00, 27880.89dialogues/s]\n",
      "Analysing test samples: 100%|██████████| 15840/15840 [00:00<00:00, 23475.18it/s]"
     ]
    },
    {
     "name": "stdout",
     "output_type": "stream",
     "text": [
      "TEST\n",
      "\t# DIALS: 977\n",
      "\tAVG # SYSTEM TOKENS PER DIAL 135.94882292732856\n",
      "\tSTD # SYSTEM TOKENS PER DIAL 45.54206038623535\n",
      "\tAVG # SYSTEM TOKENS PER TURN 16.770454545454545\n",
      "\tSTD # SYSTEM TOKENS PER TURN 6.0942169801763075\n",
      "\tAVG # SYSTEM SENTENCES PER TURN 1.9285353535353535\n",
      "\tSTD # SYSTEM SENTENCES PER TURN 0.674532293079207\n"
     ]
    },
    {
     "name": "stderr",
     "output_type": "stream",
     "text": [
      "\n"
     ]
    }
   ],
   "source": [
    "import numpy as np\n",
    "from nltk.tokenize import sent_tokenize\n",
    "\n",
    "for split in [\"train\", \"valid\", \"test\"]:\n",
    "    with open(f\"../data/DSTC9/{split}.json\", \"r\") as f:\n",
    "        data = json.load(f)\n",
    "\n",
    "    ds = Dataset(\n",
    "        data,\n",
    "        split=split,\n",
    "        unstr_kb_path=\"../original_data/DSTC9/data/\" if split != \"test\" else \"../original_data/DSTC9/data_eval/\",\n",
    "    )\n",
    "\n",
    "    turns_per_dial = []\n",
    "    tokens_per_dial = {}\n",
    "    tokens_per_turn = []\n",
    "    sentences_per_turn = []\n",
    "    system_tokens_per_dial = {}\n",
    "    system_tokens_per_turn = []\n",
    "    system_sentences_per_turn = []\n",
    "    \n",
    "    for *_, speaker, target, sample_id in tqdm(ds, desc=f\"Analysing {split} samples\"): # type: ignore\n",
    "        dialogue_id = int(sample_id.split(\"_\")[1])\n",
    "        turn_id = int(sample_id.split(\"_\")[2])\n",
    "        if dialogue_id not in tokens_per_dial:\n",
    "            tokens_per_dial[dialogue_id] = 0\n",
    "            system_tokens_per_dial[dialogue_id] = 0\n",
    "        tokens_per_turn.append(len(target.split()))\n",
    "        tokens_per_dial[dialogue_id] += len(target.split())\n",
    "        sentences_per_turn.append(len(sent_tokenize(target)))\n",
    "        if speaker == \"S\":\n",
    "            system_tokens_per_turn.append(len(target.split()))\n",
    "            system_tokens_per_dial[dialogue_id] += len(target.split())\n",
    "            system_sentences_per_turn.append(len(sent_tokenize(target)))\n",
    "\n",
    "    print(split.upper())\n",
    "    print(\"\\t# DIALS:\", len(tokens_per_dial))\n",
    "    #print(\"\\tAVG # TOKENS PER DIAL\", np.mean(list(chain(tokens_per_dial.values()))))\n",
    "    #print(\"\\tSTD # TOKENS PER DIAL\", np.std(list(chain(tokens_per_dial.values()))))\n",
    "    #print(\"\\tAVG # TOKENS PER TURN\", np.mean(tokens_per_turn))\n",
    "    #print(\"\\tSTD # TOKENS PER TURN\", np.std(tokens_per_turn))\n",
    "    #print(\"\\tAVG # SENTENCES PER TURN\", np.mean(sentences_per_turn))\n",
    "    #print(\"\\tSTD # SENTENCES PER TURN\", np.std(sentences_per_turn))\n",
    "    print(\"\\tAVG # SYSTEM TOKENS PER DIAL\", np.mean(list(system_tokens_per_dial.values())))\n",
    "    print(\"\\tSTD # SYSTEM TOKENS PER DIAL\", np.std(list(system_tokens_per_dial.values())))\n",
    "    print(\"\\tAVG # SYSTEM TOKENS PER TURN\", np.mean(system_tokens_per_turn))\n",
    "    print(\"\\tSTD # SYSTEM TOKENS PER TURN\", np.std(system_tokens_per_turn))\n",
    "    print(\"\\tAVG # SYSTEM SENTENCES PER TURN\", np.mean(system_sentences_per_turn))\n",
    "    print(\"\\tSTD # SYSTEM SENTENCES PER TURN\", np.std(system_sentences_per_turn))\n",
    "\n",
    "    "
   ]
  },
  {
   "cell_type": "code",
   "execution_count": 13,
   "metadata": {},
   "outputs": [
    {
     "name": "stderr",
     "output_type": "stream",
     "text": [
      "Preparing dataset: 100%|██████████| 7173/7173 [00:01<00:00, 4415.31dialogues/s] \n",
      "Analysing train samples: 100%|██████████| 137789/137789 [00:05<00:00, 25962.90it/s]\n",
      "Preparing dataset: 100%|██████████| 1000/1000 [00:00<00:00, 10290.78dialogues/s]\n",
      "Analysing valid samples: 100%|██████████| 18650/18650 [00:00<00:00, 27118.19it/s]\n"
     ]
    },
    {
     "name": "stdout",
     "output_type": "stream",
     "text": [
      "TRAIN + VALID\n",
      "\t# DIALS: 7173\n",
      "\tAVG # SYSTEM TOKENS PER DIAL 170.90575770249546\n",
      "\tSTD # SYSTEM TOKENS PER DIAL 78.72561775122408\n",
      "\tAVG # SYSTEM TOKENS PER TURN 16.53658964293904\n",
      "\tSTD # SYSTEM TOKENS PER TURN 6.135395174126212\n",
      "\tAVG # SYSTEM SENTENCES PER TURN 1.9288171259762859\n",
      "\tSTD # SYSTEM SENTENCES PER TURN 0.6936718881491153\n",
      "\n",
      "97.7% of SYS sentence have no more than 29 tokens\n",
      "97.7% of SYS turns have no more than 4 sentences\n"
     ]
    }
   ],
   "source": [
    "import math\n",
    "\n",
    "import numpy as np\n",
    "from nltk.tokenize import sent_tokenize\n",
    "\n",
    "turns_per_dial = []\n",
    "tokens_per_dial = {}\n",
    "tokens_per_turn = []\n",
    "sentences_per_turn = []\n",
    "system_tokens_per_dial = {}\n",
    "system_tokens_per_turn = []\n",
    "system_sentences_per_turn = []\n",
    "    \n",
    "for split in [\"train\", \"valid\"]:\n",
    "    with open(f\"../data/DSTC9/{split}.json\", \"r\") as f:\n",
    "        data = json.load(f)\n",
    "\n",
    "    ds = Dataset(\n",
    "        data,\n",
    "        split=split,\n",
    "        unstr_kb_path=\"../original_data/DSTC9/data/\" if split != \"test\" else \"../original_data/DSTC9/data_eval/\",\n",
    "    )\n",
    "\n",
    "    for *_, speaker, target, sample_id in tqdm(ds, desc=f\"Analysing {split} samples\"): # type: ignore\n",
    "        dialogue_id = int(sample_id.split(\"_\")[1])\n",
    "        turn_id = int(sample_id.split(\"_\")[2])\n",
    "        if dialogue_id not in tokens_per_dial:\n",
    "            tokens_per_dial[dialogue_id] = 0\n",
    "            system_tokens_per_dial[dialogue_id] = 0\n",
    "        tokens_per_turn.append(len(target.split()))\n",
    "        tokens_per_dial[dialogue_id] += len(target.split())\n",
    "        sentences_per_turn.append(len(sent_tokenize(target)))\n",
    "        if speaker == \"S\":\n",
    "            system_tokens_per_turn.append(len(target.split()))\n",
    "            system_tokens_per_dial[dialogue_id] += len(target.split())\n",
    "            system_sentences_per_turn.append(len(sent_tokenize(target)))\n",
    "\n",
    "print(\"TRAIN + VALID\")\n",
    "print(\"\\t# DIALS:\", len(tokens_per_dial))\n",
    "print(\"\\tAVG # SYSTEM TOKENS PER DIAL\", np.mean(list(system_tokens_per_dial.values())))\n",
    "print(\"\\tSTD # SYSTEM TOKENS PER DIAL\", np.std(list(system_tokens_per_dial.values())))\n",
    "print(\"\\tAVG # SYSTEM TOKENS PER TURN\", np.mean(system_tokens_per_turn))\n",
    "print(\"\\tSTD # SYSTEM TOKENS PER TURN\", np.std(system_tokens_per_turn))\n",
    "print(\"\\tAVG # SYSTEM SENTENCES PER TURN\", np.mean(system_sentences_per_turn))\n",
    "print(\"\\tSTD # SYSTEM SENTENCES PER TURN\", np.std(system_sentences_per_turn))\n",
    "print()\n",
    "print(f\"97.7% of SYS sentence have no more than {math.ceil(np.mean(system_tokens_per_turn) + 2*np.std(system_tokens_per_turn))} tokens\")\n",
    "print(f\"97.7% of SYS turns have no more than {math.ceil(np.mean(system_sentences_per_turn) + 2*np.std(system_sentences_per_turn))} sentences\")\n"
   ]
  },
  {
   "cell_type": "markdown",
   "metadata": {},
   "source": [
    "## Retrieval Stats"
   ]
  },
  {
   "cell_type": "markdown",
   "metadata": {},
   "source": [
    "#### Document-level"
   ]
  },
  {
   "cell_type": "code",
   "execution_count": 11,
   "metadata": {},
   "outputs": [
    {
     "name": "stderr",
     "output_type": "stream",
     "text": [
      "Preparing dataset: 100%|██████████| 7173/7173 [00:01<00:00, 4814.38dialogues/s] \n",
      "Analysing train samples: 100%|██████████| 137789/137789 [00:00<00:00, 619341.87it/s]\n"
     ]
    },
    {
     "name": "stdout",
     "output_type": "stream",
     "text": [
      "\tRecall@1 for train: 11.25417014178482\n",
      "\tRecall@3 for train: 19.537114261884906\n",
      "\tRecall@5 for train: 24.061718098415348\n"
     ]
    },
    {
     "name": "stderr",
     "output_type": "stream",
     "text": [
      "Preparing dataset: 100%|██████████| 1000/1000 [00:00<00:00, 10274.42dialogues/s]\n",
      "Analysing valid samples: 100%|██████████| 18650/18650 [00:00<00:00, 438530.58it/s]\n"
     ]
    },
    {
     "name": "stdout",
     "output_type": "stream",
     "text": [
      "\tRecall@1 for valid: 13.393191170968949\n",
      "\tRecall@3 for valid: 24.354657687991022\n",
      "\tRecall@5 for valid: 29.068462401795735\n"
     ]
    },
    {
     "name": "stderr",
     "output_type": "stream",
     "text": [
      "Preparing dataset: 100%|██████████| 1984/1984 [00:00<00:00, 7302.44dialogues/s]\n",
      "Analysing test samples: 100%|██████████| 15840/15840 [00:00<00:00, 659726.68it/s]"
     ]
    },
    {
     "name": "stdout",
     "output_type": "stream",
     "text": [
      "\tRecall@1 for test: 7.471852610030706\n",
      "\tRecall@3 for test: 12.18014329580348\n",
      "\tRecall@5 for test: 15.86489252814739\n"
     ]
    },
    {
     "name": "stderr",
     "output_type": "stream",
     "text": [
      "\n"
     ]
    }
   ],
   "source": [
    "import json\n",
    "from tqdm import tqdm\n",
    "\n",
    "for split in [\"train\", \"valid\", \"test\"]:\n",
    "    with open(f\"../data/DSTC9/{split}.json\", \"r\") as f:\n",
    "        data = json.load(f)\n",
    "\n",
    "    ds = Dataset(\n",
    "        data,\n",
    "        split=split,\n",
    "        unstr_kb_path=\"../original_data/DSTC9/data/\" if split != \"test\" else \"../original_data/DSTC9/data_eval/\",\n",
    "    )\n",
    "\n",
    "    top_k_accuracy = {1: 0.0, 3: 0.0, 5: 0.0}\n",
    "    valid_turns = 0\n",
    "    for *_, gold_knowledge, retrieved_knowledge, speaker, _, _ in tqdm(ds, desc=f\"Analysing {split} samples\"): # type: ignore\n",
    "        if speaker == \"U\":\n",
    "            continue\n",
    "        if len(gold_knowledge) <= 0:\n",
    "            continue\n",
    "        valid_turns += 1\n",
    "        gold_knowledge = gold_knowledge[0]\n",
    "        retrieved_knowledge = [(doc[\"domain\"], str(doc[\"entity_id\"]), str(doc[\"doc_id\"])) for doc in retrieved_knowledge]\n",
    "        for i in [1, 3, 5]:\n",
    "            for domain, entity_id, doc_id in retrieved_knowledge[:i]:\n",
    "                if domain == gold_knowledge[\"domain\"] and entity_id == str(gold_knowledge[\"entity_id\"]) and doc_id == str(gold_knowledge[\"doc_id\"]):\n",
    "                    top_k_accuracy[i] += 1\n",
    "                    break\n",
    "    for i in [1, 3, 5]:\n",
    "        top_k_accuracy[i] /= valid_turns\n",
    "        print(f\"\\tRecall@{i} for {split}: {top_k_accuracy[i]*100}\")"
   ]
  },
  {
   "cell_type": "markdown",
   "metadata": {},
   "source": [
    "#### Domain-level"
   ]
  },
  {
   "cell_type": "code",
   "execution_count": 12,
   "metadata": {},
   "outputs": [
    {
     "name": "stderr",
     "output_type": "stream",
     "text": [
      "Preparing dataset: 100%|██████████| 7173/7173 [00:01<00:00, 4810.02dialogues/s] \n",
      "Analysing train samples: 100%|██████████| 137789/137789 [00:00<00:00, 614272.38it/s]\n"
     ]
    },
    {
     "name": "stdout",
     "output_type": "stream",
     "text": [
      "\tRecall@1 for train: 71.9140950792327\n",
      "\tRecall@3 for train: 79.36822351959967\n",
      "\tRecall@5 for train: 82.20391993327773\n"
     ]
    },
    {
     "name": "stderr",
     "output_type": "stream",
     "text": [
      "Preparing dataset: 100%|██████████| 1000/1000 [00:00<00:00, 10310.46dialogues/s]\n",
      "Analysing valid samples: 100%|██████████| 18650/18650 [00:00<00:00, 465498.53it/s]\n"
     ]
    },
    {
     "name": "stdout",
     "output_type": "stream",
     "text": [
      "\tRecall@1 for valid: 72.61503928170595\n",
      "\tRecall@3 for valid: 80.17209128320239\n",
      "\tRecall@5 for valid: 82.67863823419378\n"
     ]
    },
    {
     "name": "stderr",
     "output_type": "stream",
     "text": [
      "Preparing dataset: 100%|██████████| 1984/1984 [00:00<00:00, 7531.25dialogues/s]\n",
      "Analysing test samples: 100%|██████████| 15840/15840 [00:00<00:00, 675331.63it/s]"
     ]
    },
    {
     "name": "stdout",
     "output_type": "stream",
     "text": [
      "\tRecall@1 for test: 59.26305015353122\n",
      "\tRecall@3 for test: 66.32548618219037\n",
      "\tRecall@5 for test: 68.98669396110543\n"
     ]
    },
    {
     "name": "stderr",
     "output_type": "stream",
     "text": [
      "\n"
     ]
    }
   ],
   "source": [
    "import json\n",
    "from tqdm import tqdm\n",
    "\n",
    "for split in [\"train\", \"valid\", \"test\"]:\n",
    "    with open(f\"../data/DSTC9/{split}.json\", \"r\") as f:\n",
    "        data = json.load(f)\n",
    "\n",
    "    ds = Dataset(\n",
    "        data,\n",
    "        split=split,\n",
    "        unstr_kb_path=\"../original_data/DSTC9/data/\" if split != \"test\" else \"../original_data/DSTC9/data_eval/\",\n",
    "    )\n",
    "\n",
    "    top_k_accuracy = {1: 0.0, 3: 0.0, 5: 0.0}\n",
    "    valid_turns = 0\n",
    "    for *_, gold_knowledge, retrieved_knowledge, speaker, _, _ in tqdm(ds, desc=f\"Analysing {split} samples\"): # type: ignore\n",
    "        if speaker == \"U\":\n",
    "            continue\n",
    "        if len(gold_knowledge) <= 0:\n",
    "            continue\n",
    "        valid_turns += 1\n",
    "        gold_knowledge = gold_knowledge[0]\n",
    "        retrieved_knowledge = [(doc[\"domain\"], str(doc[\"entity_id\"]), str(doc[\"doc_id\"])) for doc in retrieved_knowledge]\n",
    "        for i in [1, 3, 5]:\n",
    "            for domain, entity_id, doc_id in retrieved_knowledge[:i]:\n",
    "                if domain == gold_knowledge[\"domain\"]:\n",
    "                    top_k_accuracy[i] += 1\n",
    "                    break\n",
    "    for i in [1, 3, 5]:\n",
    "        top_k_accuracy[i] /= valid_turns\n",
    "        print(f\"\\tRecall@{i} for {split}: {top_k_accuracy[i]*100}\")"
   ]
  },
  {
   "cell_type": "markdown",
   "metadata": {},
   "source": [
    "#### Entity-level"
   ]
  },
  {
   "cell_type": "code",
   "execution_count": 14,
   "metadata": {},
   "outputs": [
    {
     "name": "stderr",
     "output_type": "stream",
     "text": [
      "Preparing dataset: 100%|██████████| 7173/7173 [00:01<00:00, 4716.26dialogues/s] \n",
      "Analysing train samples: 100%|██████████| 137789/137789 [00:00<00:00, 660174.10it/s]\n"
     ]
    },
    {
     "name": "stdout",
     "output_type": "stream",
     "text": [
      "\tRecall@1 for train: 37.79190992493745\n",
      "\tRecall@3 for train: 47.388448707256046\n",
      "\tRecall@5 for train: 52.204962468723934\n"
     ]
    },
    {
     "name": "stderr",
     "output_type": "stream",
     "text": [
      "Preparing dataset: 100%|██████████| 1000/1000 [00:00<00:00, 10321.24dialogues/s]\n",
      "Analysing valid samples: 100%|██████████| 18650/18650 [00:00<00:00, 463704.89it/s]\n"
     ]
    },
    {
     "name": "stdout",
     "output_type": "stream",
     "text": [
      "\tRecall@1 for valid: 42.61129816685372\n",
      "\tRecall@3 for valid: 51.14104002992892\n",
      "\tRecall@5 for valid: 54.84474373363262\n"
     ]
    },
    {
     "name": "stderr",
     "output_type": "stream",
     "text": [
      "Preparing dataset: 100%|██████████| 1984/1984 [00:00<00:00, 36267.95dialogues/s]\n",
      "Analysing test samples: 100%|██████████| 15840/15840 [00:00<00:00, 687718.93it/s]"
     ]
    },
    {
     "name": "stdout",
     "output_type": "stream",
     "text": [
      "\tRecall@1 for test: 30.60388945752303\n",
      "\tRecall@3 for test: 38.68986693961106\n",
      "\tRecall@5 for test: 42.272262026612076\n"
     ]
    },
    {
     "name": "stderr",
     "output_type": "stream",
     "text": [
      "\n"
     ]
    }
   ],
   "source": [
    "import json\n",
    "from tqdm import tqdm\n",
    "\n",
    "for split in [\"train\", \"valid\", \"test\"]:\n",
    "    with open(f\"../data/DSTC9/{split}.json\", \"r\") as f:\n",
    "        data = json.load(f)\n",
    "\n",
    "    ds = Dataset(\n",
    "        data,\n",
    "        split=split,\n",
    "        unstr_kb_path=\"../original_data/DSTC9/data/\" if split != \"test\" else \"../original_data/DSTC9/data_eval/\",\n",
    "    )\n",
    "\n",
    "    top_k_accuracy = {1: 0.0, 3: 0.0, 5: 0.0}\n",
    "    valid_turns = 0\n",
    "    for *_, gold_knowledge, retrieved_knowledge, speaker, _, _ in tqdm(ds, desc=f\"Analysing {split} samples\"): # type: ignore\n",
    "        if speaker == \"U\":\n",
    "            continue\n",
    "        if len(gold_knowledge) <= 0:\n",
    "            continue\n",
    "        valid_turns += 1\n",
    "        gold_knowledge = gold_knowledge[0]\n",
    "        retrieved_knowledge = [(doc[\"domain\"], str(doc[\"entity_id\"]), str(doc[\"doc_id\"])) for doc in retrieved_knowledge]\n",
    "        for i in [1, 3, 5]:\n",
    "            for domain, entity_id, doc_id in retrieved_knowledge[:i]:\n",
    "                if domain == gold_knowledge[\"domain\"] and entity_id == str(gold_knowledge[\"entity_id\"]):\n",
    "                    top_k_accuracy[i] += 1\n",
    "                    break\n",
    "    for i in [1, 3, 5]:\n",
    "        top_k_accuracy[i] /= valid_turns\n",
    "        print(f\"\\tRecall@{i} for {split}: {top_k_accuracy[i]*100}\")"
   ]
  },
  {
   "cell_type": "markdown",
   "metadata": {},
   "source": [
    "## Generation stats"
   ]
  },
  {
   "cell_type": "code",
   "execution_count": 1,
   "metadata": {},
   "outputs": [],
   "source": [
    "from utils import collect_task_replies\n",
    "\n",
    "task_replies = collect_task_replies(\"../output/DSTC9/\")"
   ]
  },
  {
   "cell_type": "code",
   "execution_count": 2,
   "metadata": {},
   "outputs": [
    {
     "data": {
      "image/png": "[encoded data removed]",
      "text/plain": [
       "<Figure size 640x480 with 1 Axes>"
      ]
     },
     "metadata": {},
     "output_type": "display_data"
    },
    {
     "name": "stdout",
     "output_type": "stream",
     "text": [
      "# candidates 126720\n"
     ]
    }
   ],
   "source": [
    "import matplotlib.pyplot as plt\n",
    "\n",
    "lengths = []\n",
    "for sample_id, sample in task_replies.items():\n",
    "    for c_name, candidate in sample.items():\n",
    "        if c_name == \"gt\":\n",
    "            continue\n",
    "        lengths.append(len(candidate.split()))\n",
    "\n",
    "y, bins, fig = plt.hist(lengths, 10, weights=[1/len(lengths)]*len(lengths))\n",
    "plt.xlabel(\"# Tokens\")\n",
    "plt.ylabel(\"% Responses\")\n",
    "plt.title(\"Percentage of responses with a certain length.\")\n",
    "plt.show()\n",
    "print(f\"# candidates {len(lengths)}\")\n"
   ]
  },
  {
   "cell_type": "code",
   "execution_count": 4,
   "metadata": {},
   "outputs": [
    {
     "name": "stdout",
     "output_type": "stream",
     "text": [
      "Percentage of responses with length lower than 75: 81.38%\n"
     ]
    }
   ],
   "source": [
    "len_threshold = 75\n",
    "lengths_lower_than_threshold = [l for l in lengths if l <= len_threshold]\n",
    "print(f\"Percentage of responses with length lower than {len_threshold}: {round(len(lengths_lower_than_threshold)/len(lengths)*100, 2)}%\")"
   ]
  },
  {
   "cell_type": "markdown",
   "metadata": {},
   "source": [
    "## Sample dialogues for human evaluation"
   ]
  },
  {
   "cell_type": "markdown",
   "metadata": {},
   "source": [
    "#### Random Sampling"
   ]
  },
  {
   "cell_type": "code",
   "execution_count": 5,
   "metadata": {},
   "outputs": [
    {
     "name": "stderr",
     "output_type": "stream",
     "text": [
      "Preparing dataset: 100%|██████████| 1984/1984 [00:00<00:00, 41964.61dialogues/s]\n",
      "Processing samples: 100%|██████████| 15840/15840 [00:01<00:00, 8147.62it/s]"
     ]
    },
    {
     "name": "stdout",
     "output_type": "stream",
     "text": [
      "Number of samples at turn 5 and 7: 1941\n",
      "Number of valid samples: 968\n"
     ]
    },
    {
     "name": "stderr",
     "output_type": "stream",
     "text": [
      "\n"
     ]
    }
   ],
   "source": [
    "import json\n",
    "\n",
    "from tqdm import tqdm\n",
    "\n",
    "from utils import collect_task_replies, fix_replies_if_necessary\n",
    "\n",
    "task_replies = collect_task_replies(\"../output/DSTC9\")\n",
    "\n",
    "with open(\"../data/DSTC9/test.json\", \"r\") as f:\n",
    "    data = json.load(f)\n",
    "\n",
    "ds = Dataset(\n",
    "    data,\n",
    "    split=\"test\",\n",
    "    unstr_kb_path=\"../original_data/DSTC9/data_eval/\",\n",
    ")\n",
    "\n",
    "possible_samples = 0\n",
    "valid_samples = {\n",
    "    \"with_knowledge\": {},\n",
    "    \"without_knowledge\": {}\n",
    "}\n",
    "for history, _, _, _, gold_knowledge, _, speaker, _, sample_id in tqdm(ds, desc=\"Processing samples\"): # type: ignore\n",
    "    dialogue_id = int(sample_id.split(\"_\")[1])\n",
    "    turn_id = int(sample_id.split(\"_\")[2])\n",
    "\n",
    "    if speaker == \"U\":\n",
    "        continue\n",
    "\n",
    "    if turn_id not in [5, 7]:\n",
    "        continue\n",
    "    possible_samples += 1\n",
    "\n",
    "    has_knowledge = len(gold_knowledge) > 0\n",
    "\n",
    "    if has_knowledge:\n",
    "        key = \"with_knowledge\"\n",
    "    else:\n",
    "        key = \"without_knowledge\"\n",
    "\n",
    "    replies = {model: reply.lower() for model, reply in task_replies[sample_id].items()}\n",
    "\n",
    "    try:\n",
    "        candidates = fix_replies_if_necessary(replies, max_tokens=29, max_sentences=4, max_candidate_length=75)\n",
    "    except:\n",
    "        continue\n",
    "\n",
    "    identical_candidates = {}\n",
    "    for c_name, c in candidates.items():\n",
    "        remaining_candidates = [value for key, value in candidates.items() if key != c_name]\n",
    "        if c in remaining_candidates:\n",
    "            if c not in identical_candidates:\n",
    "                identical_candidates[c] = []\n",
    "            identical_candidates[c].append(c_name)\n",
    "\n",
    "    new_candidates = {}\n",
    "    for c_name, c in candidates.items():\n",
    "        if c not in identical_candidates:\n",
    "            new_candidates[c_name] = c\n",
    "    \n",
    "    for c in identical_candidates:\n",
    "        if \"gt\" in identical_candidates[c]:\n",
    "            c_name = \"gt\"\n",
    "        else:\n",
    "            c_name = identical_candidates[c][0]\n",
    "        new_candidates[c_name] = c\n",
    "\n",
    "    if dialogue_id not in valid_samples[key]:\n",
    "        valid_samples[key][dialogue_id] = {}\n",
    "\n",
    "    valid_samples[key][dialogue_id][sample_id] = {\n",
    "        \"sample_id\": sample_id,\n",
    "        \"dialogue_id\": dialogue_id,\n",
    "        \"turn_id\": turn_id,\n",
    "        \"history\": [turn.lower() for turn in history],\n",
    "        \"candidates\": new_candidates,\n",
    "        \"idenitical_candidates\": identical_candidates,\n",
    "        \"has_knowledge\": len(gold_knowledge) > 0,\n",
    "    }\n",
    "\n",
    "print(\"Number of samples at turn 5 and 7:\", possible_samples)\n",
    "print(\"Number of valid samples:\", len(set(list(valid_samples[\"with_knowledge\"].keys()) + list(valid_samples[\"without_knowledge\"].keys()))))"
   ]
  },
  {
   "cell_type": "code",
   "execution_count": 6,
   "metadata": {},
   "outputs": [
    {
     "data": {
      "image/png": "[encoded data removed]",
      "text/plain": [
       "<Figure size 2000x600 with 1 Axes>"
      ]
     },
     "metadata": {},
     "output_type": "display_data"
    }
   ],
   "source": [
    "from collections import Counter\n",
    "import matplotlib.pyplot as plt\n",
    "\n",
    "tokens = Counter()\n",
    "for categories in valid_samples.values():\n",
    "    for samples_per_dialogue in categories.values():\n",
    "        for sample in samples_per_dialogue.values():\n",
    "            for candidate in sample[\"candidates\"].values():\n",
    "                tokens.update([w.lower() for w in candidate.split()[:2]])\n",
    "\n",
    "\n",
    "most_common = tokens.most_common(200)\n",
    "\n",
    "plt.figure(figsize=(20, 6))\n",
    "plt.bar([k[0] for k in most_common[:50]], [k[1] for k in most_common[:50]])\n",
    "plt.xticks(rotation=-45)\n",
    "plt.show()\n",
    "\n"
   ]
  },
  {
   "cell_type": "code",
   "execution_count": 7,
   "metadata": {},
   "outputs": [
    {
     "name": "stdout",
     "output_type": "stream",
     "text": [
      "Number of valid samples with knowledge: 48\n",
      "Number of valid samples without knowledge: 956\n"
     ]
    }
   ],
   "source": [
    "print(\"Number of valid samples with knowledge:\", len(valid_samples[\"with_knowledge\"]))\n",
    "print(\"Number of valid samples without knowledge:\", len(valid_samples[\"without_knowledge\"]))"
   ]
  },
  {
   "cell_type": "code",
   "execution_count": 7,
   "metadata": {},
   "outputs": [
    {
     "name": "stdout",
     "output_type": "stream",
     "text": [
      "Number of sampled dialogues with knowledge: 10\n",
      "Number of sampled dialogues without knowledge: 10\n",
      "Max Token in History: 115\n",
      "Max Characters in History: 633\n",
      "Number of candidates: 17\n",
      "Number of samples in batch 0: 20\n",
      "\tAvg Number of candidates in batch 0: 4.9\n",
      "\tMin number of candidates in batch 0: 4\n",
      "\tMax number of candidates in batch 0: 5\n",
      "Number of samples in batch 1: 20\n",
      "\tAvg Number of candidates in batch 1: 4.7\n",
      "\tMin number of candidates in batch 1: 3\n",
      "\tMax number of candidates in batch 1: 5\n",
      "Number of samples in batch 2: 20\n",
      "\tAvg Number of candidates in batch 2: 4.95\n",
      "\tMin number of candidates in batch 2: 4\n",
      "\tMax number of candidates in batch 2: 5\n",
      "Number of samples in batch 3: 20\n",
      "\tAvg Number of candidates in batch 3: 4.55\n",
      "\tMin number of candidates in batch 3: 3\n",
      "\tMax number of candidates in batch 3: 5\n"
     ]
    }
   ],
   "source": [
    "import os\n",
    "import random\n",
    "from statistics import mean\n",
    "\n",
    "from utils import get_candidates_per_batch\n",
    "\n",
    "random.seed(7)\n",
    "\n",
    "n_dial_to_sample = 10\n",
    "samples_to_eval = {}\n",
    "dialogue_blacklist = set()\n",
    "\n",
    "blacklist = [\n",
    "    3250,\n",
    "    2582,\n",
    "    3361,\n",
    "    2244,\n",
    "    3442\n",
    "]\n",
    "\n",
    "max_history_tokens = 0\n",
    "max_history_chars = 0\n",
    "dialogue_keys = list(valid_samples[\"with_knowledge\"])\n",
    "for dialogue_id in blacklist:\n",
    "    if dialogue_id in dialogue_keys:\n",
    "        dialogue_keys.remove(dialogue_id)\n",
    "\n",
    "random.shuffle(dialogue_keys)\n",
    "for dialogue_id in dialogue_keys[:n_dial_to_sample]:\n",
    "    dialogue_blacklist.add(dialogue_id)\n",
    "    sample_id = random.sample(list(valid_samples[\"with_knowledge\"][dialogue_id].keys()), 1).pop()\n",
    "    samples_to_eval[sample_id] = valid_samples[\"with_knowledge\"][dialogue_id][sample_id]\n",
    "    sample = samples_to_eval[sample_id]\n",
    "\n",
    "    max_history_tokens = max(max_history_tokens, sum([len(turn.split()) for turn in sample[\"history\"]]))\n",
    "    max_history_chars = max(max_history_chars, sum([len(turn) for turn in sample[\"history\"]]))\n",
    "\n",
    "assert len(dialogue_blacklist) == n_dial_to_sample, dialogue_blacklist\n",
    "n_samples_with_knowledge = len(samples_to_eval)\n",
    "print(\"Number of sampled dialogues with knowledge:\", len(samples_to_eval))\n",
    "\n",
    "\n",
    "dialogue_keys = [dialogue_id for dialogue_id in valid_samples[\"without_knowledge\"] if dialogue_id not in dialogue_blacklist]\n",
    "for dialogue_id in blacklist:\n",
    "    if dialogue_id in dialogue_keys:\n",
    "        dialogue_keys.remove(dialogue_id)\n",
    "\n",
    "random.shuffle(dialogue_keys)\n",
    "for dialogue_id in dialogue_keys[:n_dial_to_sample]:\n",
    "    dialogue_blacklist.add(dialogue_id)\n",
    "    sample_id = random.sample(list(valid_samples[\"without_knowledge\"][dialogue_id].keys()), 1).pop()\n",
    "    samples_to_eval[sample_id] = valid_samples[\"without_knowledge\"][dialogue_id][sample_id]\n",
    "    sample = samples_to_eval[sample_id]\n",
    "\n",
    "    max_history_tokens = max(max_history_tokens, sum([len(turn.split()) for turn in sample[\"history\"]]))\n",
    "    max_history_chars = max(max_history_chars, sum([len(turn) for turn in sample[\"history\"]]))\n",
    "\n",
    "assert len(dialogue_blacklist) == n_dial_to_sample*2, dialogue_blacklist\n",
    "print(\"Number of sampled dialogues without knowledge:\", len(samples_to_eval) - n_samples_with_knowledge)\n",
    "\n",
    "print(\"Max Token in History:\", max_history_tokens)\n",
    "print(\"Max Characters in History:\", max_history_chars)\n",
    "\n",
    "with open(\"../data/DSTC9/samples_to_eval.json\", \"w\") as f:\n",
    "    json.dump(samples_to_eval, f, indent=4)\n",
    "\n",
    "for sample in task_replies.values():\n",
    "    model_candidates = list(sample.keys())\n",
    "    break\n",
    "\n",
    "print(\"Number of candidates:\", len(model_candidates))\n",
    "\n",
    "candidates_per_batch = get_candidates_per_batch(model_candidates, 4)\n",
    "\n",
    "for batch_id, candidates in enumerate(candidates_per_batch):\n",
    "    samples_per_batch_to_eval = {}\n",
    "    actual_candidates = []\n",
    "    for sample_id, sample in samples_to_eval.items():\n",
    "        samples_per_batch_to_eval[sample_id] = {\n",
    "            \"sample_id\": sample_id,\n",
    "            \"dialogue_id\": sample[\"dialogue_id\"],\n",
    "            \"turn_id\": sample[\"turn_id\"],\n",
    "            \"history\": sample[\"history\"],\n",
    "            \"candidates\": {model: sample[\"candidates\"][model] for model in candidates if model in sample[\"candidates\"]},\n",
    "            \"has_knowledge\": sample[\"has_knowledge\"],\n",
    "        }\n",
    "        # add the ground truth\n",
    "        samples_per_batch_to_eval[sample_id][\"candidates\"][\"gt\"] = sample[\"candidates\"][\"gt\"]\n",
    "        actual_candidates.append(len(samples_per_batch_to_eval[sample_id][\"candidates\"]))\n",
    "    print(f\"Number of samples in batch {batch_id}:\", len(samples_per_batch_to_eval))\n",
    "    print(f\"\\tAvg Number of candidates in batch {batch_id}:\", mean(actual_candidates))\n",
    "    print(f\"\\tMin number of candidates in batch {batch_id}:\", min(actual_candidates))\n",
    "    print(f\"\\tMax number of candidates in batch {batch_id}:\", max(actual_candidates))\n",
    "\n",
    "    out_folder = f\"../data/DSTC9/human_eval/batch_{batch_id}\"\n",
    "    os.makedirs(out_folder, exist_ok=True)\n",
    "    with open(f\"{out_folder}/samples_to_eval.json\", \"w\") as f:\n",
    "        json.dump(samples_per_batch_to_eval, f, indent=4)"
   ]
  },
  {
   "cell_type": "markdown",
   "metadata": {},
   "source": [
    "## Sample dialogues for generation"
   ]
  },
  {
   "cell_type": "code",
   "execution_count": 5,
   "metadata": {},
   "outputs": [
    {
     "data": {
      "image/png": "[encoded data removed]",
      "text/plain": [
       "<Figure size 640x480 with 1 Axes>"
      ]
     },
     "metadata": {},
     "output_type": "display_data"
    },
    {
     "name": "stdout",
     "output_type": "stream",
     "text": [
      "Number of turns 8825\n"
     ]
    }
   ],
   "source": [
    "import matplotlib.pyplot as plt\n",
    "\n",
    "\n",
    "lengths = []\n",
    "for *_, target, sample_id in dev_ds:\n",
    "        lengths.append(len(target.split()))\n",
    "\n",
    "# Create the bar plot\n",
    "y, bins, fig = plt.hist(lengths, 50, weights=[1/len(lengths)]*len(lengths))\n",
    "plt.xlabel(\"# Tokens\")\n",
    "plt.ylabel(\"% Questions\")\n",
    "plt.title(\"Percentage of turn replies with a certain length.\")\n",
    "plt.show()\n",
    "print(f\"Number of turns {len(lengths)}\")"
   ]
  },
  {
   "cell_type": "code",
   "execution_count": 6,
   "metadata": {},
   "outputs": [],
   "source": [
    "from tqdm import tqdm\n",
    "import random\n",
    "\n",
    "def prepare_split(samples, bins, split_size):\n",
    "\n",
    "    random.seed(42)\n",
    "    dataset = {}\n",
    "    for history, dialogue_state, dialogue_act, query_results, gold_knowledge, retrieved_knowledge, target, sample_id in tqdm(samples, desc=f\"Preparing Stratified split\"):\n",
    "        for i, bin in enumerate(bins[1:]):\n",
    "            if len(target.split()) <= bin:\n",
    "                if i not in dataset:\n",
    "                    dataset[i] = []\n",
    "                dataset[i].append({\n",
    "                    \"history\": history,\n",
    "                    \"dialogue_state\": dialogue_state,\n",
    "                    \"dialogue_act\": dialogue_act,\n",
    "                    \"query_results\": query_results,\n",
    "                    \"gold_knowledge\": gold_knowledge,\n",
    "                    \"retrieved_knowledge\": retrieved_knowledge,\n",
    "                    \"target\": target,\n",
    "                    \"sample_id\": sample_id\n",
    "                })\n",
    "                break\n",
    "    splits = []\n",
    "    for i, split in dataset.items():\n",
    "        try:\n",
    "            splits += random.sample(split, int(len(split) * split_size))\n",
    "        except ValueError:\n",
    "            continue\n",
    "\n",
    "    return splits"
   ]
  },
  {
   "cell_type": "code",
   "execution_count": 7,
   "metadata": {},
   "outputs": [
    {
     "name": "stderr",
     "output_type": "stream",
     "text": [
      "Preparing Stratified split:   0%|          | 0/8825 [00:00<?, ?it/s]"
     ]
    },
    {
     "name": "stderr",
     "output_type": "stream",
     "text": [
      "Preparing Stratified split: 100%|██████████| 8825/8825 [00:00<00:00, 62386.20it/s]\n"
     ]
    },
    {
     "data": {
      "text/plain": [
       "869"
      ]
     },
     "execution_count": 7,
     "metadata": {},
     "output_type": "execute_result"
    }
   ],
   "source": [
    "splits = prepare_split(dev_ds, bins, 0.1)\n",
    "len(splits)"
   ]
  },
  {
   "cell_type": "code",
   "execution_count": 8,
   "metadata": {},
   "outputs": [
    {
     "data": {
      "image/png": "[encoded data removed]",
      "text/plain": [
       "<Figure size 640x480 with 1 Axes>"
      ]
     },
     "metadata": {},
     "output_type": "display_data"
    }
   ],
   "source": [
    "plt.hist(lengths, bins, weights=[1/len(lengths)]*len(lengths), alpha=0.5, label='Original Lengths')\n",
    "plt.hist([len(sample[\"target\"].split()) for sample in splits], bins, weights=[1/len(splits)]*len(splits), alpha=0.5, label='Split Lengths')\n",
    "plt.xlabel(\"# Tokens\")\n",
    "plt.ylabel(\"% Questions\")\n",
    "plt.title(\"Comparison of Original Lengths and Split Lengths\")\n",
    "plt.legend()\n",
    "plt.show()\n"
   ]
  },
  {
   "cell_type": "code",
   "execution_count": 10,
   "metadata": {},
   "outputs": [],
   "source": [
    "with open(\"valid_optimization.json\", \"w\") as f:\n",
    "    json.dump(splits, f, indent=4)"
   ]
  },
  {
   "cell_type": "code",
   "execution_count": 11,
   "metadata": {},
   "outputs": [
    {
     "name": "stderr",
     "output_type": "stream",
     "text": [
      "/home/simone/miniconda3/envs/inlg/lib/python3.10/site-packages/tqdm/auto.py:21: TqdmWarning: IProgress not found. Please update jupyter and ipywidgets. See https://ipywidgets.readthedocs.io/en/stable/user_install.html\n",
      "  from .autonotebook import tqdm as notebook_tqdm\n"
     ]
    }
   ],
   "source": [
    "from transformers import AutoTokenizer\n",
    "\n",
    "llama = \"meta-llama/Llama-2-7b-chat-hf\"\n",
    "mistral = \"mistralai/Mistral-7B-Instruct-v0.1\""
   ]
  },
  {
   "cell_type": "code",
   "execution_count": 12,
   "metadata": {},
   "outputs": [
    {
     "name": "stdout",
     "output_type": "stream",
     "text": [
      "Maximum Length: 67\n",
      "Mean Length: 24.927502876869966\n"
     ]
    }
   ],
   "source": [
    "import statistics\n",
    "\n",
    "tokenizer = AutoTokenizer.from_pretrained(llama)\n",
    "\n",
    "lengths = []\n",
    "for sample in splits:\n",
    "    sample[\"input_ids\"] = tokenizer(sample[\"target\"])\n",
    "    lengths.append(len(sample[\"input_ids\"][\"input_ids\"]))\n",
    "\n",
    "max_length = max(lengths)\n",
    "mean_length = statistics.mean(lengths)\n",
    "\n",
    "print(\"Maximum Length:\", max_length)\n",
    "print(\"Mean Length:\", mean_length)\n"
   ]
  },
  {
   "cell_type": "code",
   "execution_count": 17,
   "metadata": {},
   "outputs": [
    {
     "name": "stderr",
     "output_type": "stream",
     "text": [
      "100%|██████████| 8825/8825 [00:00<00:00, 16649.81it/s]"
     ]
    },
    {
     "name": "stdout",
     "output_type": "stream",
     "text": [
      "Maximum Length: 88\n",
      "Mean Length: 25.176203966005666\n"
     ]
    },
    {
     "name": "stderr",
     "output_type": "stream",
     "text": [
      "\n"
     ]
    }
   ],
   "source": [
    "from tqdm import tqdm\n",
    "import statistics\n",
    "\n",
    "tokenizer = AutoTokenizer.from_pretrained(llama)\n",
    "\n",
    "lengths = []\n",
    "for *_, target, _ in tqdm(dev_ds):\n",
    "    lengths.append(len(tokenizer(target)[\"input_ids\"]))\n",
    "\n",
    "max_length = max(lengths)\n",
    "mean_length = statistics.mean(lengths)\n",
    "\n",
    "print(\"Maximum Length:\", max_length)\n",
    "print(\"Mean Length:\", mean_length)\n"
   ]
  },
  {
   "cell_type": "markdown",
   "metadata": {},
   "source": [
    "## Error Analysis"
   ]
  },
  {
   "cell_type": "code",
   "execution_count": 7,
   "metadata": {},
   "outputs": [
    {
     "name": "stderr",
     "output_type": "stream",
     "text": [
      "Preparing dataset: 100%|██████████| 1984/1984 [00:00<00:00, 36573.36dialogues/s]\n"
     ]
    }
   ],
   "source": [
    "\n",
    "import json\n",
    "from pathlib import Path\n",
    "\n",
    "from parlai.core.metrics import TeacherMetrics\n",
    "from tqdm import tqdm\n",
    "\n",
    "from utils import collect_task_replies\n",
    "\n",
    "with open(\"../data/DSTC9/test.json\", \"r\") as f:\n",
    "    data = json.load(f)\n",
    "    ds = Dataset(\n",
    "        data,\n",
    "        split=\"test\",\n",
    "        unstr_kb_path=\"../original_data/DSTC9/data_eval/\",\n",
    "    )\n",
    "\n",
    "task_replies = collect_task_replies(\"../output/DSTC9/\")"
   ]
  },
  {
   "cell_type": "markdown",
   "metadata": {},
   "source": [
    "### BLEU"
   ]
  },
  {
   "cell_type": "code",
   "execution_count": 8,
   "metadata": {},
   "outputs": [
    {
     "name": "stderr",
     "output_type": "stream",
     "text": [
      "Computing BLEU:   5%|▍         | 718/15840 [00:01<00:29, 504.82it/s]"
     ]
    },
    {
     "name": "stderr",
     "output_type": "stream",
     "text": [
      "Computing BLEU: 100%|██████████| 15840/15840 [00:27<00:00, 585.99it/s]"
     ]
    },
    {
     "name": "stdout",
     "output_type": "stream",
     "text": [
      "llama_prompt_gold: 0.01072\n",
      "llama_ft_gold: 0.05386\n",
      "llama_ft_retrieved_top-3: 0.04333\n",
      "llama_prompt_retrieved_top-3: 0.008266\n",
      "llama_ft_none: 0.06725\n",
      "llama_prompt_none: 0.008457\n",
      "llama_prompt_retrieved_top-1: 0.00816\n",
      "llama_ft_retrieved_top-1: 0.04991\n",
      "mistral_prompt_gold: 0.0133\n",
      "mistral_ft_gold: 0.03936\n",
      "mistral_ft_retrieved_top-3: 0.03846\n",
      "mistral_prompt_retrieved_top-3: 0.01063\n",
      "mistral_ft_none: 0.0499\n",
      "mistral_prompt_none: 0.01327\n",
      "mistral_prompt_retrieved_top-1: 0.01043\n",
      "mistral_ft_retrieved_top-1: 0.04325\n"
     ]
    },
    {
     "name": "stderr",
     "output_type": "stream",
     "text": [
      "\n"
     ]
    }
   ],
   "source": [
    "techniques = {}\n",
    "for *_, gold_knowledge, retrieved_knowledge, speaker, target, sample_id in tqdm(ds, desc=\"Computing BLEU\"):\n",
    "    if speaker == \"U\":\n",
    "        continue\n",
    "    for key, value in task_replies[sample_id].items():\n",
    "        if key == \"gt\":\n",
    "            continue\n",
    "        if key not in techniques:\n",
    "            techniques[key] = TeacherMetrics()\n",
    "        techniques[key].evaluate_response({\"text\": value}, [target])\n",
    "\n",
    "for technique, metrics in techniques.items():\n",
    "    print(f\"{technique}: {metrics.report()['bleu-4']}\")"
   ]
  },
  {
   "cell_type": "code",
   "execution_count": 10,
   "metadata": {},
   "outputs": [
    {
     "name": "stderr",
     "output_type": "stream",
     "text": [
      "Computing BLEU: 100%|██████████| 15840/15840 [00:03<00:00, 4542.01it/s]"
     ]
    },
    {
     "name": "stdout",
     "output_type": "stream",
     "text": [
      "llama_prompt_gold: 0.02809\n",
      "llama_ft_gold: 0.1085\n",
      "llama_ft_retrieved_top-3: 0.05931\n",
      "llama_prompt_retrieved_top-3: 0.00792\n",
      "llama_ft_none: 0.1022\n",
      "llama_prompt_none: 0.009043\n",
      "llama_prompt_retrieved_top-1: 0.009918\n",
      "llama_ft_retrieved_top-1: 0.06769\n",
      "mistral_prompt_gold: 0.03024\n",
      "mistral_ft_gold: 0.1103\n",
      "mistral_ft_retrieved_top-3: 0.08105\n",
      "mistral_prompt_retrieved_top-3: 0.01023\n",
      "mistral_ft_none: 0.08401\n",
      "mistral_prompt_none: 0.01142\n",
      "mistral_prompt_retrieved_top-1: 0.01172\n",
      "mistral_ft_retrieved_top-1: 0.0829\n"
     ]
    },
    {
     "name": "stderr",
     "output_type": "stream",
     "text": [
      "\n"
     ]
    }
   ],
   "source": [
    "\n",
    "techniques = {}\n",
    "for *_, gold_knowledge, retrieved_knowledge, speaker, target, sample_id in tqdm(ds, desc=\"Computing BLEU\"):\n",
    "    if speaker == \"U\":\n",
    "        continue\n",
    "    if len(gold_knowledge) <=0:\n",
    "        continue\n",
    "    for key, value in task_replies[sample_id].items():\n",
    "        if key == \"gt\":\n",
    "            continue\n",
    "        if key not in techniques:\n",
    "            techniques[key] = TeacherMetrics()\n",
    "        techniques[key].evaluate_response({\"text\": value}, [target])\n",
    "\n",
    "for technique, metrics in techniques.items():\n",
    "    print(f\"{technique}: {metrics.report()['bleu-4']}\")"
   ]
  },
  {
   "cell_type": "code",
   "execution_count": 10,
   "metadata": {},
   "outputs": [
    {
     "name": "stderr",
     "output_type": "stream",
     "text": [
      "Preparing dataset: 100%|██████████| 7173/7173 [00:01<00:00, 5008.43dialogues/s] \n",
      "Preparing dataset: 100%|██████████| 1984/1984 [00:00<00:00, 33454.34dialogues/s]\n",
      "Computing KF1: 100%|██████████| 137789/137789 [00:00<00:00, 801511.35it/s]\n",
      "Computing KF1: 100%|██████████| 15840/15840 [00:00<00:00, 384622.55it/s]"
     ]
    },
    {
     "name": "stdout",
     "output_type": "stream",
     "text": [
      "Number of unique knowledge in train: 2288\n",
      "Number of unique knowledge in test: 392\n",
      "Number of unique knowledge in test only: 69\n"
     ]
    },
    {
     "name": "stderr",
     "output_type": "stream",
     "text": [
      "\n"
     ]
    }
   ],
   "source": [
    "\n",
    "with open(\"../data/DSTC9/train.json\", \"r\") as f:\n",
    "    data = json.load(f)\n",
    "    train_ds = Dataset(\n",
    "        data,\n",
    "        split=\"train\",\n",
    "        unstr_kb_path=\"../original_data/DSTC9/data/\",\n",
    "    )\n",
    "\n",
    "with open(\"../data/DSTC9/test.json\", \"r\") as f:\n",
    "    data = json.load(f)\n",
    "    test_ds = Dataset(\n",
    "        data,\n",
    "        split=\"test\",\n",
    "        unstr_kb_path=\"../original_data/DSTC9/data_eval/\",\n",
    "    )\n",
    "\n",
    "\n",
    "train_knowledge = set()\n",
    "test_knowledge = set()\n",
    "\n",
    "for *_, gold_knowledge, _, speaker, _, _ in tqdm(train_ds, desc=\"Computing KF1\"):\n",
    "    if speaker == \"U\":\n",
    "        continue\n",
    "    for _ in gold_knowledge:\n",
    "        train_knowledge.add((_[\"domain\"], _[\"entity_id\"], _[\"doc_id\"]))\n",
    "\n",
    "for *_, gold_knowledge, _, speaker, _, _ in tqdm(test_ds, desc=\"Computing KF1\"):\n",
    "    if speaker == \"U\":\n",
    "        continue\n",
    "    for _ in gold_knowledge:\n",
    "        test_knowledge.add((_[\"domain\"], _[\"entity_id\"], _[\"doc_id\"]))\n",
    "\n",
    "\n",
    "print(\"Number of unique knowledge in train:\", len(train_knowledge))\n",
    "print(\"Number of unique knowledge in test:\", len(test_knowledge))\n",
    "test_only_knowledge = test_knowledge - train_knowledge\n",
    "print(\"Number of unique knowledge in test only:\", len(test_only_knowledge))"
   ]
  },
  {
   "cell_type": "code",
   "execution_count": 22,
   "metadata": {},
   "outputs": [
    {
     "name": "stderr",
     "output_type": "stream",
     "text": [
      "Computing BLEU-4: 100%|██████████| 15840/15840 [00:00<00:00, 33943.93it/s]"
     ]
    },
    {
     "name": "stdout",
     "output_type": "stream",
     "text": [
      "llama_prompt_gold: 0.02673\n",
      "llama_ft_gold: 0.08498\n",
      "llama_ft_retrieved_top-3: 0.0315\n",
      "llama_prompt_retrieved_top-3: 0.004383\n",
      "llama_ft_none: 0.04334\n",
      "llama_prompt_none: 0.006005\n",
      "mistral_prompt_gold: 0.037\n",
      "mistral_ft_gold: 0.1063\n",
      "mistral_ft_retrieved_top-3: 0.04763\n",
      "mistral_prompt_retrieved_top-3: 0.01016\n",
      "mistral_ft_none: 0.05828\n",
      "mistral_prompt_none: 0.01212\n"
     ]
    },
    {
     "name": "stderr",
     "output_type": "stream",
     "text": [
      "\n"
     ]
    }
   ],
   "source": [
    "techniques = {}\n",
    "for *_, gold_knowledge, retrieved_knowledge, speaker, target, sample_id in tqdm(ds, desc=\"Computing BLEU-4\"):\n",
    "    if speaker == \"U\":\n",
    "        continue\n",
    "    if len(gold_knowledge) <=0:\n",
    "        continue\n",
    "\n",
    "    _ = gold_knowledge[0]\n",
    "    if (_[\"domain\"], _[\"entity_id\"], _[\"doc_id\"]) not in test_only_knowledge:\n",
    "        continue\n",
    "\n",
    "    for key, value in task_replies[sample_id].items():\n",
    "        if key == \"gt\":\n",
    "            continue\n",
    "        if \"top-1\" in key:\n",
    "            continue\n",
    "        if key not in techniques:\n",
    "            techniques[key] = TeacherMetrics()\n",
    "        techniques[key].evaluate_response({\"text\": value}, [target])\n",
    "\n",
    "for technique, metrics in techniques.items():\n",
    "    print(f\"{technique}: {metrics.report()['bleu-4']}\")"
   ]
  },
  {
   "cell_type": "markdown",
   "metadata": {},
   "source": [
    "### Inform & Success"
   ]
  },
  {
   "cell_type": "code",
   "execution_count": 40,
   "metadata": {},
   "outputs": [
    {
     "data": {
      "text/plain": [
       "{'bleu': None,\n",
       " 'success': {'inform': {'train': 78.1,\n",
       "   'total': 18.4,\n",
       "   'restaurant': 17.7,\n",
       "   'hotel': 21.3,\n",
       "   'attraction': 20.7,\n",
       "   'taxi': 100.0},\n",
       "  'success': {'train': 7.2,\n",
       "   'total': 1.8,\n",
       "   'restaurant': 0.7,\n",
       "   'hotel': 1.0,\n",
       "   'attraction': 1.7,\n",
       "   'taxi': 0.0}},\n",
       " 'richness': None,\n",
       " 'dst': None}"
      ]
     },
     "execution_count": 40,
     "metadata": {},
     "output_type": "execute_result"
    }
   ],
   "source": [
    "from mwzeval.metrics import Evaluator\n",
    "e = Evaluator(bleu=False, success=True, richness=False)\n",
    "\n",
    "predictions = {}\n",
    "dial_number = -1\n",
    "dial_number_set = set()\n",
    "for i, (_, dialogue_state, *_, mw_dial_id, speaker, _, sample_id) in enumerate(ds):\n",
    "    if speaker == \"U\":\n",
    "        continue\n",
    "\n",
    "    target = task_replies[sample_id][\"gt\"]\n",
    "    #dial_number = int(sample_id.split(\"_\")[1])\n",
    "    #print(dial_number)\n",
    "    #print(mw_dial_id)\n",
    "    dialogue_id = mw_dial_id.split(\".json\")[0].lower()\n",
    "\n",
    "    if dialogue_id not in predictions:\n",
    "        predictions[dialogue_id] = []\n",
    "\n",
    "    turn = {\"response\": target, \"state\": {}}\n",
    "    for slot_name, slot_value in dialogue_state.items():\n",
    "        domain_name, slot_name = slot_name.split(\"-\")\n",
    "        if domain_name not in turn[\"state\"]:\n",
    "            turn[\"state\"][domain_name] = {}\n",
    "        turn[\"state\"][domain_name][slot_name] = slot_value\n",
    "    predictions[dialogue_id].append(turn)\n",
    "\n",
    "e.evaluate(predictions)"
   ]
  },
  {
   "cell_type": "code",
   "execution_count": 34,
   "metadata": {},
   "outputs": [
    {
     "data": {
      "text/plain": [
       "0"
      ]
     },
     "execution_count": 34,
     "metadata": {},
     "output_type": "execute_result"
    }
   ],
   "source": [
    "len(predictions)"
   ]
  },
  {
   "cell_type": "markdown",
   "metadata": {},
   "source": [
    "### BLEU - Plots"
   ]
  },
  {
   "cell_type": "code",
   "execution_count": 1,
   "metadata": {},
   "outputs": [],
   "source": [
    "from utils import collect_task_replies\n",
    "\n",
    "task_replies = collect_task_replies(\"../output/DSTC9\")\n",
    "\n",
    "task_replies = {sample_id: {c_name: candidate.lower() for c_name, candidate in sample.items()} for sample_id, sample in task_replies.items() if sample_id.split(\"_\")[-1] in [\"5\", \"7\"]}\n",
    "\n",
    "replacements = {\n",
    "    \"_\": \" \",\n",
    "    \".json\": \"\",\n",
    "    \"mistral\": \"Mistral\",\n",
    "    \"llama\": \"Llama2\",\n",
    "    \"gt\": \"Ground Truth\",\n",
    "    \"none\": \"\",\n",
    "    \"retrieved\": \"\",\n",
    "    \"top-1\": \"Top 1\",\n",
    "    \"top-3\": \"Top 3\",\n",
    "    \"gold\": \"Gold\",\n",
    "    \"prompt\": \"Prompt\",\n",
    "    \"ft\": \"Fine-Tuned\",\n",
    "    \"  \": \" \",\n",
    "}"
   ]
  },
  {
   "cell_type": "markdown",
   "metadata": {},
   "source": [
    "#### Average"
   ]
  },
  {
   "cell_type": "code",
   "execution_count": 5,
   "metadata": {},
   "outputs": [
    {
     "name": "stderr",
     "output_type": "stream",
     "text": [
      "Computing cross BLEU: 100%|██████████| 1941/1941 [00:43<00:00, 44.71it/s]\n"
     ]
    },
    {
     "data": {
      "application/vnd.plotly.v1+json": {
       "config": {
        "plotlyServerURL": "https://plot.ly"
       },
       "data": [
        {
         "coloraxis": "coloraxis",
         "hovertemplate": "x: %{x}<br>y: %{y}<br>color: %{z}<extra></extra>",
         "name": "0",
         "texttemplate": "%{z}",
         "type": "heatmap",
         "x": [
          "Ground Truth",
          "Llama2 Fine-Tuned ",
          "Llama2 Fine-Tuned Top 1",
          "Llama2 Fine-Tuned Top 3",
          "Llama2 Fine-Tuned Gold",
          "Llama2 Prompt ",
          "Llama2 Prompt Top 1",
          "Llama2 Prompt Top 3",
          "Llama2 Prompt Gold"
         ],
         "xaxis": "x",
         "y": [
          "Llama2 Prompt Gold",
          "Llama2 Prompt Top 3",
          "Llama2 Prompt Top 1",
          "Llama2 Prompt ",
          "Llama2 Fine-Tuned Gold",
          "Llama2 Fine-Tuned Top 3",
          "Llama2 Fine-Tuned Top 1",
          "Llama2 Fine-Tuned ",
          "Ground Truth"
         ],
         "yaxis": "y",
         "z": [
          [
           0.005,
           0.007,
           0.01,
           0.008,
           0.005,
           0.156,
           0.298,
           0.218,
           0
          ],
          [
           0.004,
           0.005,
           0.008,
           0.007,
           0.003,
           0.132,
           0.207,
           0,
           0.218
          ],
          [
           0.005,
           0.006,
           0.01,
           0.009,
           0.005,
           0.15,
           0,
           0.208,
           0.298
          ],
          [
           0.005,
           0.005,
           0.01,
           0.009,
           0.003,
           0,
           0.149,
           0.132,
           0.155
          ],
          [
           0.044,
           0.247,
           0.157,
           0.11,
           0,
           0.009,
           0.011,
           0.009,
           0.011
          ],
          [
           0.042,
           0.125,
           0.233,
           0,
           0.109,
           0.018,
           0.018,
           0.016,
           0.018
          ],
          [
           0.048,
           0.18,
           0,
           0.232,
           0.156,
           0.021,
           0.021,
           0.018,
           0.02
          ],
          [
           0.059,
           0,
           0.181,
           0.125,
           0.246,
           0.014,
           0.013,
           0.012,
           0.014
          ],
          [
           0,
           0.058,
           0.047,
           0.042,
           0.042,
           0.009,
           0.009,
           0.008,
           0.009
          ]
         ]
        }
       ],
       "layout": {
        "coloraxis": {
         "colorscale": [
          [
           0,
           "#0d0887"
          ],
          [
           0.1111111111111111,
           "#46039f"
          ],
          [
           0.2222222222222222,
           "#7201a8"
          ],
          [
           0.3333333333333333,
           "#9c179e"
          ],
          [
           0.4444444444444444,
           "#bd3786"
          ],
          [
           0.5555555555555556,
           "#d8576b"
          ],
          [
           0.6666666666666666,
           "#ed7953"
          ],
          [
           0.7777777777777778,
           "#fb9f3a"
          ],
          [
           0.8888888888888888,
           "#fdca26"
          ],
          [
           1,
           "#f0f921"
          ]
         ]
        },
        "font": {
         "size": 15
        },
        "height": 600,
        "template": {
         "data": {
          "bar": [
           {
            "error_x": {
             "color": "#2a3f5f"
            },
            "error_y": {
             "color": "#2a3f5f"
            },
            "marker": {
             "line": {
              "color": "#E5ECF6",
              "width": 0.5
             },
             "pattern": {
              "fillmode": "overlay",
              "size": 10,
              "solidity": 0.2
             }
            },
            "type": "bar"
           }
          ],
          "barpolar": [
           {
            "marker": {
             "line": {
              "color": "#E5ECF6",
              "width": 0.5
             },
             "pattern": {
              "fillmode": "overlay",
              "size": 10,
              "solidity": 0.2
             }
            },
            "type": "barpolar"
           }
          ],
          "carpet": [
           {
            "aaxis": {
             "endlinecolor": "#2a3f5f",
             "gridcolor": "white",
             "linecolor": "white",
             "minorgridcolor": "white",
             "startlinecolor": "#2a3f5f"
            },
            "baxis": {
             "endlinecolor": "#2a3f5f",
             "gridcolor": "white",
             "linecolor": "white",
             "minorgridcolor": "white",
             "startlinecolor": "#2a3f5f"
            },
            "type": "carpet"
           }
          ],
          "choropleth": [
           {
            "colorbar": {
             "outlinewidth": 0,
             "ticks": ""
            },
            "type": "choropleth"
           }
          ],
          "contour": [
           {
            "colorbar": {
             "outlinewidth": 0,
             "ticks": ""
            },
            "colorscale": [
             [
              0,
              "#0d0887"
             ],
             [
              0.1111111111111111,
              "#46039f"
             ],
             [
              0.2222222222222222,
              "#7201a8"
             ],
             [
              0.3333333333333333,
              "#9c179e"
             ],
             [
              0.4444444444444444,
              "#bd3786"
             ],
             [
              0.5555555555555556,
              "#d8576b"
             ],
             [
              0.6666666666666666,
              "#ed7953"
             ],
             [
              0.7777777777777778,
              "#fb9f3a"
             ],
             [
              0.8888888888888888,
              "#fdca26"
             ],
             [
              1,
              "#f0f921"
             ]
            ],
            "type": "contour"
           }
          ],
          "contourcarpet": [
           {
            "colorbar": {
             "outlinewidth": 0,
             "ticks": ""
            },
            "type": "contourcarpet"
           }
          ],
          "heatmap": [
           {
            "colorbar": {
             "outlinewidth": 0,
             "ticks": ""
            },
            "colorscale": [
             [
              0,
              "#0d0887"
             ],
             [
              0.1111111111111111,
              "#46039f"
             ],
             [
              0.2222222222222222,
              "#7201a8"
             ],
             [
              0.3333333333333333,
              "#9c179e"
             ],
             [
              0.4444444444444444,
              "#bd3786"
             ],
             [
              0.5555555555555556,
              "#d8576b"
             ],
             [
              0.6666666666666666,
              "#ed7953"
             ],
             [
              0.7777777777777778,
              "#fb9f3a"
             ],
             [
              0.8888888888888888,
              "#fdca26"
             ],
             [
              1,
              "#f0f921"
             ]
            ],
            "type": "heatmap"
           }
          ],
          "heatmapgl": [
           {
            "colorbar": {
             "outlinewidth": 0,
             "ticks": ""
            },
            "colorscale": [
             [
              0,
              "#0d0887"
             ],
             [
              0.1111111111111111,
              "#46039f"
             ],
             [
              0.2222222222222222,
              "#7201a8"
             ],
             [
              0.3333333333333333,
              "#9c179e"
             ],
             [
              0.4444444444444444,
              "#bd3786"
             ],
             [
              0.5555555555555556,
              "#d8576b"
             ],
             [
              0.6666666666666666,
              "#ed7953"
             ],
             [
              0.7777777777777778,
              "#fb9f3a"
             ],
             [
              0.8888888888888888,
              "#fdca26"
             ],
             [
              1,
              "#f0f921"
             ]
            ],
            "type": "heatmapgl"
           }
          ],
          "histogram": [
           {
            "marker": {
             "pattern": {
              "fillmode": "overlay",
              "size": 10,
              "solidity": 0.2
             }
            },
            "type": "histogram"
           }
          ],
          "histogram2d": [
           {
            "colorbar": {
             "outlinewidth": 0,
             "ticks": ""
            },
            "colorscale": [
             [
              0,
              "#0d0887"
             ],
             [
              0.1111111111111111,
              "#46039f"
             ],
             [
              0.2222222222222222,
              "#7201a8"
             ],
             [
              0.3333333333333333,
              "#9c179e"
             ],
             [
              0.4444444444444444,
              "#bd3786"
             ],
             [
              0.5555555555555556,
              "#d8576b"
             ],
             [
              0.6666666666666666,
              "#ed7953"
             ],
             [
              0.7777777777777778,
              "#fb9f3a"
             ],
             [
              0.8888888888888888,
              "#fdca26"
             ],
             [
              1,
              "#f0f921"
             ]
            ],
            "type": "histogram2d"
           }
          ],
          "histogram2dcontour": [
           {
            "colorbar": {
             "outlinewidth": 0,
             "ticks": ""
            },
            "colorscale": [
             [
              0,
              "#0d0887"
             ],
             [
              0.1111111111111111,
              "#46039f"
             ],
             [
              0.2222222222222222,
              "#7201a8"
             ],
             [
              0.3333333333333333,
              "#9c179e"
             ],
             [
              0.4444444444444444,
              "#bd3786"
             ],
             [
              0.5555555555555556,
              "#d8576b"
             ],
             [
              0.6666666666666666,
              "#ed7953"
             ],
             [
              0.7777777777777778,
              "#fb9f3a"
             ],
             [
              0.8888888888888888,
              "#fdca26"
             ],
             [
              1,
              "#f0f921"
             ]
            ],
            "type": "histogram2dcontour"
           }
          ],
          "mesh3d": [
           {
            "colorbar": {
             "outlinewidth": 0,
             "ticks": ""
            },
            "type": "mesh3d"
           }
          ],
          "parcoords": [
           {
            "line": {
             "colorbar": {
              "outlinewidth": 0,
              "ticks": ""
             }
            },
            "type": "parcoords"
           }
          ],
          "pie": [
           {
            "automargin": true,
            "type": "pie"
           }
          ],
          "scatter": [
           {
            "fillpattern": {
             "fillmode": "overlay",
             "size": 10,
             "solidity": 0.2
            },
            "type": "scatter"
           }
          ],
          "scatter3d": [
           {
            "line": {
             "colorbar": {
              "outlinewidth": 0,
              "ticks": ""
             }
            },
            "marker": {
             "colorbar": {
              "outlinewidth": 0,
              "ticks": ""
             }
            },
            "type": "scatter3d"
           }
          ],
          "scattercarpet": [
           {
            "marker": {
             "colorbar": {
              "outlinewidth": 0,
              "ticks": ""
             }
            },
            "type": "scattercarpet"
           }
          ],
          "scattergeo": [
           {
            "marker": {
             "colorbar": {
              "outlinewidth": 0,
              "ticks": ""
             }
            },
            "type": "scattergeo"
           }
          ],
          "scattergl": [
           {
            "marker": {
             "colorbar": {
              "outlinewidth": 0,
              "ticks": ""
             }
            },
            "type": "scattergl"
           }
          ],
          "scattermapbox": [
           {
            "marker": {
             "colorbar": {
              "outlinewidth": 0,
              "ticks": ""
             }
            },
            "type": "scattermapbox"
           }
          ],
          "scatterpolar": [
           {
            "marker": {
             "colorbar": {
              "outlinewidth": 0,
              "ticks": ""
             }
            },
            "type": "scatterpolar"
           }
          ],
          "scatterpolargl": [
           {
            "marker": {
             "colorbar": {
              "outlinewidth": 0,
              "ticks": ""
             }
            },
            "type": "scatterpolargl"
           }
          ],
          "scatterternary": [
           {
            "marker": {
             "colorbar": {
              "outlinewidth": 0,
              "ticks": ""
             }
            },
            "type": "scatterternary"
           }
          ],
          "surface": [
           {
            "colorbar": {
             "outlinewidth": 0,
             "ticks": ""
            },
            "colorscale": [
             [
              0,
              "#0d0887"
             ],
             [
              0.1111111111111111,
              "#46039f"
             ],
             [
              0.2222222222222222,
              "#7201a8"
             ],
             [
              0.3333333333333333,
              "#9c179e"
             ],
             [
              0.4444444444444444,
              "#bd3786"
             ],
             [
              0.5555555555555556,
              "#d8576b"
             ],
             [
              0.6666666666666666,
              "#ed7953"
             ],
             [
              0.7777777777777778,
              "#fb9f3a"
             ],
             [
              0.8888888888888888,
              "#fdca26"
             ],
             [
              1,
              "#f0f921"
             ]
            ],
            "type": "surface"
           }
          ],
          "table": [
           {
            "cells": {
             "fill": {
              "color": "#EBF0F8"
             },
             "line": {
              "color": "white"
             }
            },
            "header": {
             "fill": {
              "color": "#C8D4E3"
             },
             "line": {
              "color": "white"
             }
            },
            "type": "table"
           }
          ]
         },
         "layout": {
          "annotationdefaults": {
           "arrowcolor": "#2a3f5f",
           "arrowhead": 0,
           "arrowwidth": 1
          },
          "autotypenumbers": "strict",
          "coloraxis": {
           "colorbar": {
            "outlinewidth": 0,
            "ticks": ""
           }
          },
          "colorscale": {
           "diverging": [
            [
             0,
             "#8e0152"
            ],
            [
             0.1,
             "#c51b7d"
            ],
            [
             0.2,
             "#de77ae"
            ],
            [
             0.3,
             "#f1b6da"
            ],
            [
             0.4,
             "#fde0ef"
            ],
            [
             0.5,
             "#f7f7f7"
            ],
            [
             0.6,
             "#e6f5d0"
            ],
            [
             0.7,
             "#b8e186"
            ],
            [
             0.8,
             "#7fbc41"
            ],
            [
             0.9,
             "#4d9221"
            ],
            [
             1,
             "#276419"
            ]
           ],
           "sequential": [
            [
             0,
             "#0d0887"
            ],
            [
             0.1111111111111111,
             "#46039f"
            ],
            [
             0.2222222222222222,
             "#7201a8"
            ],
            [
             0.3333333333333333,
             "#9c179e"
            ],
            [
             0.4444444444444444,
             "#bd3786"
            ],
            [
             0.5555555555555556,
             "#d8576b"
            ],
            [
             0.6666666666666666,
             "#ed7953"
            ],
            [
             0.7777777777777778,
             "#fb9f3a"
            ],
            [
             0.8888888888888888,
             "#fdca26"
            ],
            [
             1,
             "#f0f921"
            ]
           ],
           "sequentialminus": [
            [
             0,
             "#0d0887"
            ],
            [
             0.1111111111111111,
             "#46039f"
            ],
            [
             0.2222222222222222,
             "#7201a8"
            ],
            [
             0.3333333333333333,
             "#9c179e"
            ],
            [
             0.4444444444444444,
             "#bd3786"
            ],
            [
             0.5555555555555556,
             "#d8576b"
            ],
            [
             0.6666666666666666,
             "#ed7953"
            ],
            [
             0.7777777777777778,
             "#fb9f3a"
            ],
            [
             0.8888888888888888,
             "#fdca26"
            ],
            [
             1,
             "#f0f921"
            ]
           ]
          },
          "colorway": [
           "#636efa",
           "#EF553B",
           "#00cc96",
           "#ab63fa",
           "#FFA15A",
           "#19d3f3",
           "#FF6692",
           "#B6E880",
           "#FF97FF",
           "#FECB52"
          ],
          "font": {
           "color": "#2a3f5f"
          },
          "geo": {
           "bgcolor": "white",
           "lakecolor": "white",
           "landcolor": "#E5ECF6",
           "showlakes": true,
           "showland": true,
           "subunitcolor": "white"
          },
          "hoverlabel": {
           "align": "left"
          },
          "hovermode": "closest",
          "mapbox": {
           "style": "light"
          },
          "paper_bgcolor": "white",
          "plot_bgcolor": "#E5ECF6",
          "polar": {
           "angularaxis": {
            "gridcolor": "white",
            "linecolor": "white",
            "ticks": ""
           },
           "bgcolor": "#E5ECF6",
           "radialaxis": {
            "gridcolor": "white",
            "linecolor": "white",
            "ticks": ""
           }
          },
          "scene": {
           "xaxis": {
            "backgroundcolor": "#E5ECF6",
            "gridcolor": "white",
            "gridwidth": 2,
            "linecolor": "white",
            "showbackground": true,
            "ticks": "",
            "zerolinecolor": "white"
           },
           "yaxis": {
            "backgroundcolor": "#E5ECF6",
            "gridcolor": "white",
            "gridwidth": 2,
            "linecolor": "white",
            "showbackground": true,
            "ticks": "",
            "zerolinecolor": "white"
           },
           "zaxis": {
            "backgroundcolor": "#E5ECF6",
            "gridcolor": "white",
            "gridwidth": 2,
            "linecolor": "white",
            "showbackground": true,
            "ticks": "",
            "zerolinecolor": "white"
           }
          },
          "shapedefaults": {
           "line": {
            "color": "#2a3f5f"
           }
          },
          "ternary": {
           "aaxis": {
            "gridcolor": "white",
            "linecolor": "white",
            "ticks": ""
           },
           "baxis": {
            "gridcolor": "white",
            "linecolor": "white",
            "ticks": ""
           },
           "bgcolor": "#E5ECF6",
           "caxis": {
            "gridcolor": "white",
            "linecolor": "white",
            "ticks": ""
           }
          },
          "title": {
           "x": 0.05
          },
          "xaxis": {
           "automargin": true,
           "gridcolor": "white",
           "linecolor": "white",
           "ticks": "",
           "title": {
            "standoff": 15
           },
           "zerolinecolor": "white",
           "zerolinewidth": 2
          },
          "yaxis": {
           "automargin": true,
           "gridcolor": "white",
           "linecolor": "white",
           "ticks": "",
           "title": {
            "standoff": 15
           },
           "zerolinecolor": "white",
           "zerolinewidth": 2
          }
         }
        },
        "title": {
         "text": "Bleu-4 token level (mean)"
        },
        "width": 600,
        "xaxis": {
         "anchor": "y",
         "constrain": "domain",
         "domain": [
          0,
          1
         ],
         "scaleanchor": "y",
         "tickangle": -45
        },
        "yaxis": {
         "anchor": "x",
         "autorange": "reversed",
         "constrain": "domain",
         "domain": [
          0,
          1
         ]
        }
       }
      },
      "text/html": [
       "<div>                            <div id=\"77a4aca9-88b4-4b3c-bc20-8daaedca10eb\" class=\"plotly-graph-div\" style=\"height:600px; width:600px;\"></div>            <script type=\"text/javascript\">                require([\"plotly\"], function(Plotly) {                    window.PLOTLYENV=window.PLOTLYENV || {};                                    if (document.getElementById(\"77a4aca9-88b4-4b3c-bc20-8daaedca10eb\")) {                    Plotly.newPlot(                        \"77a4aca9-88b4-4b3c-bc20-8daaedca10eb\",                        [{\"coloraxis\":\"coloraxis\",\"name\":\"0\",\"texttemplate\":\"%{z}\",\"x\":[\"Ground Truth\",\"Llama2 Fine-Tuned \",\"Llama2 Fine-Tuned Top 1\",\"Llama2 Fine-Tuned Top 3\",\"Llama2 Fine-Tuned Gold\",\"Llama2 Prompt \",\"Llama2 Prompt Top 1\",\"Llama2 Prompt Top 3\",\"Llama2 Prompt Gold\"],\"y\":[\"Llama2 Prompt Gold\",\"Llama2 Prompt Top 3\",\"Llama2 Prompt Top 1\",\"Llama2 Prompt \",\"Llama2 Fine-Tuned Gold\",\"Llama2 Fine-Tuned Top 3\",\"Llama2 Fine-Tuned Top 1\",\"Llama2 Fine-Tuned \",\"Ground Truth\"],\"z\":[[0.005,0.007,0.01,0.008,0.005,0.156,0.298,0.218,0.0],[0.004,0.005,0.008,0.007,0.003,0.132,0.207,0.0,0.218],[0.005,0.006,0.01,0.009,0.005,0.15,0.0,0.208,0.298],[0.005,0.005,0.01,0.009,0.003,0.0,0.149,0.132,0.155],[0.044,0.247,0.157,0.11,0.0,0.009,0.011,0.009,0.011],[0.042,0.125,0.233,0.0,0.109,0.018,0.018,0.016,0.018],[0.048,0.18,0.0,0.232,0.156,0.021,0.021,0.018,0.02],[0.059,0.0,0.181,0.125,0.246,0.014,0.013,0.012,0.014],[0.0,0.058,0.047,0.042,0.042,0.009,0.009,0.008,0.009]],\"type\":\"heatmap\",\"xaxis\":\"x\",\"yaxis\":\"y\",\"hovertemplate\":\"x: %{x}\\u003cbr\\u003ey: %{y}\\u003cbr\\u003ecolor: %{z}\\u003cextra\\u003e\\u003c\\u002fextra\\u003e\"}],                        {\"template\":{\"data\":{\"histogram2dcontour\":[{\"type\":\"histogram2dcontour\",\"colorbar\":{\"outlinewidth\":0,\"ticks\":\"\"},\"colorscale\":[[0.0,\"#0d0887\"],[0.1111111111111111,\"#46039f\"],[0.2222222222222222,\"#7201a8\"],[0.3333333333333333,\"#9c179e\"],[0.4444444444444444,\"#bd3786\"],[0.5555555555555556,\"#d8576b\"],[0.6666666666666666,\"#ed7953\"],[0.7777777777777778,\"#fb9f3a\"],[0.8888888888888888,\"#fdca26\"],[1.0,\"#f0f921\"]]}],\"choropleth\":[{\"type\":\"choropleth\",\"colorbar\":{\"outlinewidth\":0,\"ticks\":\"\"}}],\"histogram2d\":[{\"type\":\"histogram2d\",\"colorbar\":{\"outlinewidth\":0,\"ticks\":\"\"},\"colorscale\":[[0.0,\"#0d0887\"],[0.1111111111111111,\"#46039f\"],[0.2222222222222222,\"#7201a8\"],[0.3333333333333333,\"#9c179e\"],[0.4444444444444444,\"#bd3786\"],[0.5555555555555556,\"#d8576b\"],[0.6666666666666666,\"#ed7953\"],[0.7777777777777778,\"#fb9f3a\"],[0.8888888888888888,\"#fdca26\"],[1.0,\"#f0f921\"]]}],\"heatmap\":[{\"type\":\"heatmap\",\"colorbar\":{\"outlinewidth\":0,\"ticks\":\"\"},\"colorscale\":[[0.0,\"#0d0887\"],[0.1111111111111111,\"#46039f\"],[0.2222222222222222,\"#7201a8\"],[0.3333333333333333,\"#9c179e\"],[0.4444444444444444,\"#bd3786\"],[0.5555555555555556,\"#d8576b\"],[0.6666666666666666,\"#ed7953\"],[0.7777777777777778,\"#fb9f3a\"],[0.8888888888888888,\"#fdca26\"],[1.0,\"#f0f921\"]]}],\"heatmapgl\":[{\"type\":\"heatmapgl\",\"colorbar\":{\"outlinewidth\":0,\"ticks\":\"\"},\"colorscale\":[[0.0,\"#0d0887\"],[0.1111111111111111,\"#46039f\"],[0.2222222222222222,\"#7201a8\"],[0.3333333333333333,\"#9c179e\"],[0.4444444444444444,\"#bd3786\"],[0.5555555555555556,\"#d8576b\"],[0.6666666666666666,\"#ed7953\"],[0.7777777777777778,\"#fb9f3a\"],[0.8888888888888888,\"#fdca26\"],[1.0,\"#f0f921\"]]}],\"contourcarpet\":[{\"type\":\"contourcarpet\",\"colorbar\":{\"outlinewidth\":0,\"ticks\":\"\"}}],\"contour\":[{\"type\":\"contour\",\"colorbar\":{\"outlinewidth\":0,\"ticks\":\"\"},\"colorscale\":[[0.0,\"#0d0887\"],[0.1111111111111111,\"#46039f\"],[0.2222222222222222,\"#7201a8\"],[0.3333333333333333,\"#9c179e\"],[0.4444444444444444,\"#bd3786\"],[0.5555555555555556,\"#d8576b\"],[0.6666666666666666,\"#ed7953\"],[0.7777777777777778,\"#fb9f3a\"],[0.8888888888888888,\"#fdca26\"],[1.0,\"#f0f921\"]]}],\"surface\":[{\"type\":\"surface\",\"colorbar\":{\"outlinewidth\":0,\"ticks\":\"\"},\"colorscale\":[[0.0,\"#0d0887\"],[0.1111111111111111,\"#46039f\"],[0.2222222222222222,\"#7201a8\"],[0.3333333333333333,\"#9c179e\"],[0.4444444444444444,\"#bd3786\"],[0.5555555555555556,\"#d8576b\"],[0.6666666666666666,\"#ed7953\"],[0.7777777777777778,\"#fb9f3a\"],[0.8888888888888888,\"#fdca26\"],[1.0,\"#f0f921\"]]}],\"mesh3d\":[{\"type\":\"mesh3d\",\"colorbar\":{\"outlinewidth\":0,\"ticks\":\"\"}}],\"scatter\":[{\"fillpattern\":{\"fillmode\":\"overlay\",\"size\":10,\"solidity\":0.2},\"type\":\"scatter\"}],\"parcoords\":[{\"type\":\"parcoords\",\"line\":{\"colorbar\":{\"outlinewidth\":0,\"ticks\":\"\"}}}],\"scatterpolargl\":[{\"type\":\"scatterpolargl\",\"marker\":{\"colorbar\":{\"outlinewidth\":0,\"ticks\":\"\"}}}],\"bar\":[{\"error_x\":{\"color\":\"#2a3f5f\"},\"error_y\":{\"color\":\"#2a3f5f\"},\"marker\":{\"line\":{\"color\":\"#E5ECF6\",\"width\":0.5},\"pattern\":{\"fillmode\":\"overlay\",\"size\":10,\"solidity\":0.2}},\"type\":\"bar\"}],\"scattergeo\":[{\"type\":\"scattergeo\",\"marker\":{\"colorbar\":{\"outlinewidth\":0,\"ticks\":\"\"}}}],\"scatterpolar\":[{\"type\":\"scatterpolar\",\"marker\":{\"colorbar\":{\"outlinewidth\":0,\"ticks\":\"\"}}}],\"histogram\":[{\"marker\":{\"pattern\":{\"fillmode\":\"overlay\",\"size\":10,\"solidity\":0.2}},\"type\":\"histogram\"}],\"scattergl\":[{\"type\":\"scattergl\",\"marker\":{\"colorbar\":{\"outlinewidth\":0,\"ticks\":\"\"}}}],\"scatter3d\":[{\"type\":\"scatter3d\",\"line\":{\"colorbar\":{\"outlinewidth\":0,\"ticks\":\"\"}},\"marker\":{\"colorbar\":{\"outlinewidth\":0,\"ticks\":\"\"}}}],\"scattermapbox\":[{\"type\":\"scattermapbox\",\"marker\":{\"colorbar\":{\"outlinewidth\":0,\"ticks\":\"\"}}}],\"scatterternary\":[{\"type\":\"scatterternary\",\"marker\":{\"colorbar\":{\"outlinewidth\":0,\"ticks\":\"\"}}}],\"scattercarpet\":[{\"type\":\"scattercarpet\",\"marker\":{\"colorbar\":{\"outlinewidth\":0,\"ticks\":\"\"}}}],\"carpet\":[{\"aaxis\":{\"endlinecolor\":\"#2a3f5f\",\"gridcolor\":\"white\",\"linecolor\":\"white\",\"minorgridcolor\":\"white\",\"startlinecolor\":\"#2a3f5f\"},\"baxis\":{\"endlinecolor\":\"#2a3f5f\",\"gridcolor\":\"white\",\"linecolor\":\"white\",\"minorgridcolor\":\"white\",\"startlinecolor\":\"#2a3f5f\"},\"type\":\"carpet\"}],\"table\":[{\"cells\":{\"fill\":{\"color\":\"#EBF0F8\"},\"line\":{\"color\":\"white\"}},\"header\":{\"fill\":{\"color\":\"#C8D4E3\"},\"line\":{\"color\":\"white\"}},\"type\":\"table\"}],\"barpolar\":[{\"marker\":{\"line\":{\"color\":\"#E5ECF6\",\"width\":0.5},\"pattern\":{\"fillmode\":\"overlay\",\"size\":10,\"solidity\":0.2}},\"type\":\"barpolar\"}],\"pie\":[{\"automargin\":true,\"type\":\"pie\"}]},\"layout\":{\"autotypenumbers\":\"strict\",\"colorway\":[\"#636efa\",\"#EF553B\",\"#00cc96\",\"#ab63fa\",\"#FFA15A\",\"#19d3f3\",\"#FF6692\",\"#B6E880\",\"#FF97FF\",\"#FECB52\"],\"font\":{\"color\":\"#2a3f5f\"},\"hovermode\":\"closest\",\"hoverlabel\":{\"align\":\"left\"},\"paper_bgcolor\":\"white\",\"plot_bgcolor\":\"#E5ECF6\",\"polar\":{\"bgcolor\":\"#E5ECF6\",\"angularaxis\":{\"gridcolor\":\"white\",\"linecolor\":\"white\",\"ticks\":\"\"},\"radialaxis\":{\"gridcolor\":\"white\",\"linecolor\":\"white\",\"ticks\":\"\"}},\"ternary\":{\"bgcolor\":\"#E5ECF6\",\"aaxis\":{\"gridcolor\":\"white\",\"linecolor\":\"white\",\"ticks\":\"\"},\"baxis\":{\"gridcolor\":\"white\",\"linecolor\":\"white\",\"ticks\":\"\"},\"caxis\":{\"gridcolor\":\"white\",\"linecolor\":\"white\",\"ticks\":\"\"}},\"coloraxis\":{\"colorbar\":{\"outlinewidth\":0,\"ticks\":\"\"}},\"colorscale\":{\"sequential\":[[0.0,\"#0d0887\"],[0.1111111111111111,\"#46039f\"],[0.2222222222222222,\"#7201a8\"],[0.3333333333333333,\"#9c179e\"],[0.4444444444444444,\"#bd3786\"],[0.5555555555555556,\"#d8576b\"],[0.6666666666666666,\"#ed7953\"],[0.7777777777777778,\"#fb9f3a\"],[0.8888888888888888,\"#fdca26\"],[1.0,\"#f0f921\"]],\"sequentialminus\":[[0.0,\"#0d0887\"],[0.1111111111111111,\"#46039f\"],[0.2222222222222222,\"#7201a8\"],[0.3333333333333333,\"#9c179e\"],[0.4444444444444444,\"#bd3786\"],[0.5555555555555556,\"#d8576b\"],[0.6666666666666666,\"#ed7953\"],[0.7777777777777778,\"#fb9f3a\"],[0.8888888888888888,\"#fdca26\"],[1.0,\"#f0f921\"]],\"diverging\":[[0,\"#8e0152\"],[0.1,\"#c51b7d\"],[0.2,\"#de77ae\"],[0.3,\"#f1b6da\"],[0.4,\"#fde0ef\"],[0.5,\"#f7f7f7\"],[0.6,\"#e6f5d0\"],[0.7,\"#b8e186\"],[0.8,\"#7fbc41\"],[0.9,\"#4d9221\"],[1,\"#276419\"]]},\"xaxis\":{\"gridcolor\":\"white\",\"linecolor\":\"white\",\"ticks\":\"\",\"title\":{\"standoff\":15},\"zerolinecolor\":\"white\",\"automargin\":true,\"zerolinewidth\":2},\"yaxis\":{\"gridcolor\":\"white\",\"linecolor\":\"white\",\"ticks\":\"\",\"title\":{\"standoff\":15},\"zerolinecolor\":\"white\",\"automargin\":true,\"zerolinewidth\":2},\"scene\":{\"xaxis\":{\"backgroundcolor\":\"#E5ECF6\",\"gridcolor\":\"white\",\"linecolor\":\"white\",\"showbackground\":true,\"ticks\":\"\",\"zerolinecolor\":\"white\",\"gridwidth\":2},\"yaxis\":{\"backgroundcolor\":\"#E5ECF6\",\"gridcolor\":\"white\",\"linecolor\":\"white\",\"showbackground\":true,\"ticks\":\"\",\"zerolinecolor\":\"white\",\"gridwidth\":2},\"zaxis\":{\"backgroundcolor\":\"#E5ECF6\",\"gridcolor\":\"white\",\"linecolor\":\"white\",\"showbackground\":true,\"ticks\":\"\",\"zerolinecolor\":\"white\",\"gridwidth\":2}},\"shapedefaults\":{\"line\":{\"color\":\"#2a3f5f\"}},\"annotationdefaults\":{\"arrowcolor\":\"#2a3f5f\",\"arrowhead\":0,\"arrowwidth\":1},\"geo\":{\"bgcolor\":\"white\",\"landcolor\":\"#E5ECF6\",\"subunitcolor\":\"white\",\"showland\":true,\"showlakes\":true,\"lakecolor\":\"white\"},\"title\":{\"x\":0.05},\"mapbox\":{\"style\":\"light\"}}},\"xaxis\":{\"anchor\":\"y\",\"domain\":[0.0,1.0],\"scaleanchor\":\"y\",\"constrain\":\"domain\",\"tickangle\":-45},\"yaxis\":{\"anchor\":\"x\",\"domain\":[0.0,1.0],\"autorange\":\"reversed\",\"constrain\":\"domain\"},\"coloraxis\":{\"colorscale\":[[0.0,\"#0d0887\"],[0.1111111111111111,\"#46039f\"],[0.2222222222222222,\"#7201a8\"],[0.3333333333333333,\"#9c179e\"],[0.4444444444444444,\"#bd3786\"],[0.5555555555555556,\"#d8576b\"],[0.6666666666666666,\"#ed7953\"],[0.7777777777777778,\"#fb9f3a\"],[0.8888888888888888,\"#fdca26\"],[1.0,\"#f0f921\"]]},\"title\":{\"text\":\"Bleu-4 token level (mean)\"},\"font\":{\"size\":15},\"height\":600,\"width\":600},                        {\"responsive\": true}                    ).then(function(){\n",
       "                            \n",
       "var gd = document.getElementById('77a4aca9-88b4-4b3c-bc20-8daaedca10eb');\n",
       "var x = new MutationObserver(function (mutations, observer) {{\n",
       "        var display = window.getComputedStyle(gd).display;\n",
       "        if (!display || display === 'none') {{\n",
       "            console.log([gd, 'removed!']);\n",
       "            Plotly.purge(gd);\n",
       "            observer.disconnect();\n",
       "        }}\n",
       "}});\n",
       "\n",
       "// Listen for the removal of the full notebook cells\n",
       "var notebookContainer = gd.closest('#notebook-container');\n",
       "if (notebookContainer) {{\n",
       "    x.observe(notebookContainer, {childList: true});\n",
       "}}\n",
       "\n",
       "// Listen for the clearing of the current output cell\n",
       "var outputEl = gd.closest('.output');\n",
       "if (outputEl) {{\n",
       "    x.observe(outputEl, {childList: true});\n",
       "}}\n",
       "\n",
       "                        })                };                });            </script>        </div>"
      ]
     },
     "metadata": {},
     "output_type": "display_data"
    }
   ],
   "source": [
    "from utils import plot_cross_bleu\n",
    "\n",
    "candidates = [\n",
    "    \"gt\",\n",
    "    \"llama_ft_none.json\",\n",
    "    \"llama_ft_retrieved_top-1.json\",\n",
    "    \"llama_ft_retrieved_top-3.json\",\n",
    "    \"llama_ft_gold.json\",\n",
    "    \"llama_prompt_none.json\",\n",
    "    \"llama_prompt_retrieved_top-1.json\",\n",
    "    \"llama_prompt_retrieved_top-3.json\",\n",
    "    \"llama_prompt_gold.json\",\n",
    "]\n",
    "\n",
    "plot_cross_bleu(task_replies, candidates, replacements, results_to_plot=['b4_tok'])"
   ]
  },
  {
   "cell_type": "code",
   "execution_count": 6,
   "metadata": {},
   "outputs": [
    {
     "name": "stderr",
     "output_type": "stream",
     "text": [
      "Computing cross BLEU: 100%|██████████| 1941/1941 [00:36<00:00, 52.79it/s]\n"
     ]
    },
    {
     "data": {
      "application/vnd.plotly.v1+json": {
       "config": {
        "plotlyServerURL": "https://plot.ly"
       },
       "data": [
        {
         "coloraxis": "coloraxis",
         "hovertemplate": "x: %{x}<br>y: %{y}<br>color: %{z}<extra></extra>",
         "name": "0",
         "texttemplate": "%{z}",
         "type": "heatmap",
         "x": [
          "Ground Truth",
          "Mistral Fine-Tuned ",
          "Mistral Fine-Tuned Top 1",
          "Mistral Fine-Tuned Top 3",
          "Mistral Fine-Tuned Gold",
          "Mistral Prompt ",
          "Mistral Prompt Top 1",
          "Mistral Prompt Top 3",
          "Mistral Prompt Gold"
         ],
         "xaxis": "x",
         "y": [
          "Mistral Prompt Gold",
          "Mistral Prompt Top 3",
          "Mistral Prompt Top 1",
          "Mistral Prompt ",
          "Mistral Fine-Tuned Gold",
          "Mistral Fine-Tuned Top 3",
          "Mistral Fine-Tuned Top 1",
          "Mistral Fine-Tuned ",
          "Ground Truth"
         ],
         "yaxis": "y",
         "z": [
          [
           0.009,
           0.015,
           0.013,
           0.014,
           0.013,
           0.246,
           0.272,
           0.365,
           0
          ],
          [
           0.009,
           0.014,
           0.012,
           0.013,
           0.011,
           0.224,
           0.248,
           0,
           0.365
          ],
          [
           0.008,
           0.013,
           0.013,
           0.012,
           0.012,
           0.192,
           0,
           0.248,
           0.272
          ],
          [
           0.013,
           0.023,
           0.021,
           0.02,
           0.019,
           0,
           0.195,
           0.228,
           0.25
          ],
          [
           0.03,
           0.244,
           0.228,
           0.184,
           0,
           0.027,
           0.02,
           0.019,
           0.021
          ],
          [
           0.036,
           0.212,
           0.279,
           0,
           0.184,
           0.028,
           0.019,
           0.021,
           0.023
          ],
          [
           0.042,
           0.32,
           0,
           0.28,
           0.229,
           0.031,
           0.022,
           0.021,
           0.023
          ],
          [
           0.048,
           0,
           0.319,
           0.212,
           0.244,
           0.033,
           0.023,
           0.024,
           0.025
          ],
          [
           0,
           0.047,
           0.041,
           0.035,
           0.029,
           0.017,
           0.012,
           0.013,
           0.013
          ]
         ]
        }
       ],
       "layout": {
        "coloraxis": {
         "colorscale": [
          [
           0,
           "#0d0887"
          ],
          [
           0.1111111111111111,
           "#46039f"
          ],
          [
           0.2222222222222222,
           "#7201a8"
          ],
          [
           0.3333333333333333,
           "#9c179e"
          ],
          [
           0.4444444444444444,
           "#bd3786"
          ],
          [
           0.5555555555555556,
           "#d8576b"
          ],
          [
           0.6666666666666666,
           "#ed7953"
          ],
          [
           0.7777777777777778,
           "#fb9f3a"
          ],
          [
           0.8888888888888888,
           "#fdca26"
          ],
          [
           1,
           "#f0f921"
          ]
         ]
        },
        "font": {
         "size": 15
        },
        "height": 600,
        "template": {
         "data": {
          "bar": [
           {
            "error_x": {
             "color": "#2a3f5f"
            },
            "error_y": {
             "color": "#2a3f5f"
            },
            "marker": {
             "line": {
              "color": "#E5ECF6",
              "width": 0.5
             },
             "pattern": {
              "fillmode": "overlay",
              "size": 10,
              "solidity": 0.2
             }
            },
            "type": "bar"
           }
          ],
          "barpolar": [
           {
            "marker": {
             "line": {
              "color": "#E5ECF6",
              "width": 0.5
             },
             "pattern": {
              "fillmode": "overlay",
              "size": 10,
              "solidity": 0.2
             }
            },
            "type": "barpolar"
           }
          ],
          "carpet": [
           {
            "aaxis": {
             "endlinecolor": "#2a3f5f",
             "gridcolor": "white",
             "linecolor": "white",
             "minorgridcolor": "white",
             "startlinecolor": "#2a3f5f"
            },
            "baxis": {
             "endlinecolor": "#2a3f5f",
             "gridcolor": "white",
             "linecolor": "white",
             "minorgridcolor": "white",
             "startlinecolor": "#2a3f5f"
            },
            "type": "carpet"
           }
          ],
          "choropleth": [
           {
            "colorbar": {
             "outlinewidth": 0,
             "ticks": ""
            },
            "type": "choropleth"
           }
          ],
          "contour": [
           {
            "colorbar": {
             "outlinewidth": 0,
             "ticks": ""
            },
            "colorscale": [
             [
              0,
              "#0d0887"
             ],
             [
              0.1111111111111111,
              "#46039f"
             ],
             [
              0.2222222222222222,
              "#7201a8"
             ],
             [
              0.3333333333333333,
              "#9c179e"
             ],
             [
              0.4444444444444444,
              "#bd3786"
             ],
             [
              0.5555555555555556,
              "#d8576b"
             ],
             [
              0.6666666666666666,
              "#ed7953"
             ],
             [
              0.7777777777777778,
              "#fb9f3a"
             ],
             [
              0.8888888888888888,
              "#fdca26"
             ],
             [
              1,
              "#f0f921"
             ]
            ],
            "type": "contour"
           }
          ],
          "contourcarpet": [
           {
            "colorbar": {
             "outlinewidth": 0,
             "ticks": ""
            },
            "type": "contourcarpet"
           }
          ],
          "heatmap": [
           {
            "colorbar": {
             "outlinewidth": 0,
             "ticks": ""
            },
            "colorscale": [
             [
              0,
              "#0d0887"
             ],
             [
              0.1111111111111111,
              "#46039f"
             ],
             [
              0.2222222222222222,
              "#7201a8"
             ],
             [
              0.3333333333333333,
              "#9c179e"
             ],
             [
              0.4444444444444444,
              "#bd3786"
             ],
             [
              0.5555555555555556,
              "#d8576b"
             ],
             [
              0.6666666666666666,
              "#ed7953"
             ],
             [
              0.7777777777777778,
              "#fb9f3a"
             ],
             [
              0.8888888888888888,
              "#fdca26"
             ],
             [
              1,
              "#f0f921"
             ]
            ],
            "type": "heatmap"
           }
          ],
          "heatmapgl": [
           {
            "colorbar": {
             "outlinewidth": 0,
             "ticks": ""
            },
            "colorscale": [
             [
              0,
              "#0d0887"
             ],
             [
              0.1111111111111111,
              "#46039f"
             ],
             [
              0.2222222222222222,
              "#7201a8"
             ],
             [
              0.3333333333333333,
              "#9c179e"
             ],
             [
              0.4444444444444444,
              "#bd3786"
             ],
             [
              0.5555555555555556,
              "#d8576b"
             ],
             [
              0.6666666666666666,
              "#ed7953"
             ],
             [
              0.7777777777777778,
              "#fb9f3a"
             ],
             [
              0.8888888888888888,
              "#fdca26"
             ],
             [
              1,
              "#f0f921"
             ]
            ],
            "type": "heatmapgl"
           }
          ],
          "histogram": [
           {
            "marker": {
             "pattern": {
              "fillmode": "overlay",
              "size": 10,
              "solidity": 0.2
             }
            },
            "type": "histogram"
           }
          ],
          "histogram2d": [
           {
            "colorbar": {
             "outlinewidth": 0,
             "ticks": ""
            },
            "colorscale": [
             [
              0,
              "#0d0887"
             ],
             [
              0.1111111111111111,
              "#46039f"
             ],
             [
              0.2222222222222222,
              "#7201a8"
             ],
             [
              0.3333333333333333,
              "#9c179e"
             ],
             [
              0.4444444444444444,
              "#bd3786"
             ],
             [
              0.5555555555555556,
              "#d8576b"
             ],
             [
              0.6666666666666666,
              "#ed7953"
             ],
             [
              0.7777777777777778,
              "#fb9f3a"
             ],
             [
              0.8888888888888888,
              "#fdca26"
             ],
             [
              1,
              "#f0f921"
             ]
            ],
            "type": "histogram2d"
           }
          ],
          "histogram2dcontour": [
           {
            "colorbar": {
             "outlinewidth": 0,
             "ticks": ""
            },
            "colorscale": [
             [
              0,
              "#0d0887"
             ],
             [
              0.1111111111111111,
              "#46039f"
             ],
             [
              0.2222222222222222,
              "#7201a8"
             ],
             [
              0.3333333333333333,
              "#9c179e"
             ],
             [
              0.4444444444444444,
              "#bd3786"
             ],
             [
              0.5555555555555556,
              "#d8576b"
             ],
             [
              0.6666666666666666,
              "#ed7953"
             ],
             [
              0.7777777777777778,
              "#fb9f3a"
             ],
             [
              0.8888888888888888,
              "#fdca26"
             ],
             [
              1,
              "#f0f921"
             ]
            ],
            "type": "histogram2dcontour"
           }
          ],
          "mesh3d": [
           {
            "colorbar": {
             "outlinewidth": 0,
             "ticks": ""
            },
            "type": "mesh3d"
           }
          ],
          "parcoords": [
           {
            "line": {
             "colorbar": {
              "outlinewidth": 0,
              "ticks": ""
             }
            },
            "type": "parcoords"
           }
          ],
          "pie": [
           {
            "automargin": true,
            "type": "pie"
           }
          ],
          "scatter": [
           {
            "fillpattern": {
             "fillmode": "overlay",
             "size": 10,
             "solidity": 0.2
            },
            "type": "scatter"
           }
          ],
          "scatter3d": [
           {
            "line": {
             "colorbar": {
              "outlinewidth": 0,
              "ticks": ""
             }
            },
            "marker": {
             "colorbar": {
              "outlinewidth": 0,
              "ticks": ""
             }
            },
            "type": "scatter3d"
           }
          ],
          "scattercarpet": [
           {
            "marker": {
             "colorbar": {
              "outlinewidth": 0,
              "ticks": ""
             }
            },
            "type": "scattercarpet"
           }
          ],
          "scattergeo": [
           {
            "marker": {
             "colorbar": {
              "outlinewidth": 0,
              "ticks": ""
             }
            },
            "type": "scattergeo"
           }
          ],
          "scattergl": [
           {
            "marker": {
             "colorbar": {
              "outlinewidth": 0,
              "ticks": ""
             }
            },
            "type": "scattergl"
           }
          ],
          "scattermapbox": [
           {
            "marker": {
             "colorbar": {
              "outlinewidth": 0,
              "ticks": ""
             }
            },
            "type": "scattermapbox"
           }
          ],
          "scatterpolar": [
           {
            "marker": {
             "colorbar": {
              "outlinewidth": 0,
              "ticks": ""
             }
            },
            "type": "scatterpolar"
           }
          ],
          "scatterpolargl": [
           {
            "marker": {
             "colorbar": {
              "outlinewidth": 0,
              "ticks": ""
             }
            },
            "type": "scatterpolargl"
           }
          ],
          "scatterternary": [
           {
            "marker": {
             "colorbar": {
              "outlinewidth": 0,
              "ticks": ""
             }
            },
            "type": "scatterternary"
           }
          ],
          "surface": [
           {
            "colorbar": {
             "outlinewidth": 0,
             "ticks": ""
            },
            "colorscale": [
             [
              0,
              "#0d0887"
             ],
             [
              0.1111111111111111,
              "#46039f"
             ],
             [
              0.2222222222222222,
              "#7201a8"
             ],
             [
              0.3333333333333333,
              "#9c179e"
             ],
             [
              0.4444444444444444,
              "#bd3786"
             ],
             [
              0.5555555555555556,
              "#d8576b"
             ],
             [
              0.6666666666666666,
              "#ed7953"
             ],
             [
              0.7777777777777778,
              "#fb9f3a"
             ],
             [
              0.8888888888888888,
              "#fdca26"
             ],
             [
              1,
              "#f0f921"
             ]
            ],
            "type": "surface"
           }
          ],
          "table": [
           {
            "cells": {
             "fill": {
              "color": "#EBF0F8"
             },
             "line": {
              "color": "white"
             }
            },
            "header": {
             "fill": {
              "color": "#C8D4E3"
             },
             "line": {
              "color": "white"
             }
            },
            "type": "table"
           }
          ]
         },
         "layout": {
          "annotationdefaults": {
           "arrowcolor": "#2a3f5f",
           "arrowhead": 0,
           "arrowwidth": 1
          },
          "autotypenumbers": "strict",
          "coloraxis": {
           "colorbar": {
            "outlinewidth": 0,
            "ticks": ""
           }
          },
          "colorscale": {
           "diverging": [
            [
             0,
             "#8e0152"
            ],
            [
             0.1,
             "#c51b7d"
            ],
            [
             0.2,
             "#de77ae"
            ],
            [
             0.3,
             "#f1b6da"
            ],
            [
             0.4,
             "#fde0ef"
            ],
            [
             0.5,
             "#f7f7f7"
            ],
            [
             0.6,
             "#e6f5d0"
            ],
            [
             0.7,
             "#b8e186"
            ],
            [
             0.8,
             "#7fbc41"
            ],
            [
             0.9,
             "#4d9221"
            ],
            [
             1,
             "#276419"
            ]
           ],
           "sequential": [
            [
             0,
             "#0d0887"
            ],
            [
             0.1111111111111111,
             "#46039f"
            ],
            [
             0.2222222222222222,
             "#7201a8"
            ],
            [
             0.3333333333333333,
             "#9c179e"
            ],
            [
             0.4444444444444444,
             "#bd3786"
            ],
            [
             0.5555555555555556,
             "#d8576b"
            ],
            [
             0.6666666666666666,
             "#ed7953"
            ],
            [
             0.7777777777777778,
             "#fb9f3a"
            ],
            [
             0.8888888888888888,
             "#fdca26"
            ],
            [
             1,
             "#f0f921"
            ]
           ],
           "sequentialminus": [
            [
             0,
             "#0d0887"
            ],
            [
             0.1111111111111111,
             "#46039f"
            ],
            [
             0.2222222222222222,
             "#7201a8"
            ],
            [
             0.3333333333333333,
             "#9c179e"
            ],
            [
             0.4444444444444444,
             "#bd3786"
            ],
            [
             0.5555555555555556,
             "#d8576b"
            ],
            [
             0.6666666666666666,
             "#ed7953"
            ],
            [
             0.7777777777777778,
             "#fb9f3a"
            ],
            [
             0.8888888888888888,
             "#fdca26"
            ],
            [
             1,
             "#f0f921"
            ]
           ]
          },
          "colorway": [
           "#636efa",
           "#EF553B",
           "#00cc96",
           "#ab63fa",
           "#FFA15A",
           "#19d3f3",
           "#FF6692",
           "#B6E880",
           "#FF97FF",
           "#FECB52"
          ],
          "font": {
           "color": "#2a3f5f"
          },
          "geo": {
           "bgcolor": "white",
           "lakecolor": "white",
           "landcolor": "#E5ECF6",
           "showlakes": true,
           "showland": true,
           "subunitcolor": "white"
          },
          "hoverlabel": {
           "align": "left"
          },
          "hovermode": "closest",
          "mapbox": {
           "style": "light"
          },
          "paper_bgcolor": "white",
          "plot_bgcolor": "#E5ECF6",
          "polar": {
           "angularaxis": {
            "gridcolor": "white",
            "linecolor": "white",
            "ticks": ""
           },
           "bgcolor": "#E5ECF6",
           "radialaxis": {
            "gridcolor": "white",
            "linecolor": "white",
            "ticks": ""
           }
          },
          "scene": {
           "xaxis": {
            "backgroundcolor": "#E5ECF6",
            "gridcolor": "white",
            "gridwidth": 2,
            "linecolor": "white",
            "showbackground": true,
            "ticks": "",
            "zerolinecolor": "white"
           },
           "yaxis": {
            "backgroundcolor": "#E5ECF6",
            "gridcolor": "white",
            "gridwidth": 2,
            "linecolor": "white",
            "showbackground": true,
            "ticks": "",
            "zerolinecolor": "white"
           },
           "zaxis": {
            "backgroundcolor": "#E5ECF6",
            "gridcolor": "white",
            "gridwidth": 2,
            "linecolor": "white",
            "showbackground": true,
            "ticks": "",
            "zerolinecolor": "white"
           }
          },
          "shapedefaults": {
           "line": {
            "color": "#2a3f5f"
           }
          },
          "ternary": {
           "aaxis": {
            "gridcolor": "white",
            "linecolor": "white",
            "ticks": ""
           },
           "baxis": {
            "gridcolor": "white",
            "linecolor": "white",
            "ticks": ""
           },
           "bgcolor": "#E5ECF6",
           "caxis": {
            "gridcolor": "white",
            "linecolor": "white",
            "ticks": ""
           }
          },
          "title": {
           "x": 0.05
          },
          "xaxis": {
           "automargin": true,
           "gridcolor": "white",
           "linecolor": "white",
           "ticks": "",
           "title": {
            "standoff": 15
           },
           "zerolinecolor": "white",
           "zerolinewidth": 2
          },
          "yaxis": {
           "automargin": true,
           "gridcolor": "white",
           "linecolor": "white",
           "ticks": "",
           "title": {
            "standoff": 15
           },
           "zerolinecolor": "white",
           "zerolinewidth": 2
          }
         }
        },
        "title": {
         "text": "Bleu-4 token level (mean)"
        },
        "width": 600,
        "xaxis": {
         "anchor": "y",
         "constrain": "domain",
         "domain": [
          0,
          1
         ],
         "scaleanchor": "y",
         "tickangle": -45
        },
        "yaxis": {
         "anchor": "x",
         "autorange": "reversed",
         "constrain": "domain",
         "domain": [
          0,
          1
         ]
        }
       }
      },
      "text/html": [
       "<div>                            <div id=\"1a3201b2-60dd-496c-9705-b75ac4c4c430\" class=\"plotly-graph-div\" style=\"height:600px; width:600px;\"></div>            <script type=\"text/javascript\">                require([\"plotly\"], function(Plotly) {                    window.PLOTLYENV=window.PLOTLYENV || {};                                    if (document.getElementById(\"1a3201b2-60dd-496c-9705-b75ac4c4c430\")) {                    Plotly.newPlot(                        \"1a3201b2-60dd-496c-9705-b75ac4c4c430\",                        [{\"coloraxis\":\"coloraxis\",\"name\":\"0\",\"texttemplate\":\"%{z}\",\"x\":[\"Ground Truth\",\"Mistral Fine-Tuned \",\"Mistral Fine-Tuned Top 1\",\"Mistral Fine-Tuned Top 3\",\"Mistral Fine-Tuned Gold\",\"Mistral Prompt \",\"Mistral Prompt Top 1\",\"Mistral Prompt Top 3\",\"Mistral Prompt Gold\"],\"y\":[\"Mistral Prompt Gold\",\"Mistral Prompt Top 3\",\"Mistral Prompt Top 1\",\"Mistral Prompt \",\"Mistral Fine-Tuned Gold\",\"Mistral Fine-Tuned Top 3\",\"Mistral Fine-Tuned Top 1\",\"Mistral Fine-Tuned \",\"Ground Truth\"],\"z\":[[0.009,0.015,0.013,0.014,0.013,0.246,0.272,0.365,0.0],[0.009,0.014,0.012,0.013,0.011,0.224,0.248,0.0,0.365],[0.008,0.013,0.013,0.012,0.012,0.192,0.0,0.248,0.272],[0.013,0.023,0.021,0.02,0.019,0.0,0.195,0.228,0.25],[0.03,0.244,0.228,0.184,0.0,0.027,0.02,0.019,0.021],[0.036,0.212,0.279,0.0,0.184,0.028,0.019,0.021,0.023],[0.042,0.32,0.0,0.28,0.229,0.031,0.022,0.021,0.023],[0.048,0.0,0.319,0.212,0.244,0.033,0.023,0.024,0.025],[0.0,0.047,0.041,0.035,0.029,0.017,0.012,0.013,0.013]],\"type\":\"heatmap\",\"xaxis\":\"x\",\"yaxis\":\"y\",\"hovertemplate\":\"x: %{x}\\u003cbr\\u003ey: %{y}\\u003cbr\\u003ecolor: %{z}\\u003cextra\\u003e\\u003c\\u002fextra\\u003e\"}],                        {\"template\":{\"data\":{\"histogram2dcontour\":[{\"type\":\"histogram2dcontour\",\"colorbar\":{\"outlinewidth\":0,\"ticks\":\"\"},\"colorscale\":[[0.0,\"#0d0887\"],[0.1111111111111111,\"#46039f\"],[0.2222222222222222,\"#7201a8\"],[0.3333333333333333,\"#9c179e\"],[0.4444444444444444,\"#bd3786\"],[0.5555555555555556,\"#d8576b\"],[0.6666666666666666,\"#ed7953\"],[0.7777777777777778,\"#fb9f3a\"],[0.8888888888888888,\"#fdca26\"],[1.0,\"#f0f921\"]]}],\"choropleth\":[{\"type\":\"choropleth\",\"colorbar\":{\"outlinewidth\":0,\"ticks\":\"\"}}],\"histogram2d\":[{\"type\":\"histogram2d\",\"colorbar\":{\"outlinewidth\":0,\"ticks\":\"\"},\"colorscale\":[[0.0,\"#0d0887\"],[0.1111111111111111,\"#46039f\"],[0.2222222222222222,\"#7201a8\"],[0.3333333333333333,\"#9c179e\"],[0.4444444444444444,\"#bd3786\"],[0.5555555555555556,\"#d8576b\"],[0.6666666666666666,\"#ed7953\"],[0.7777777777777778,\"#fb9f3a\"],[0.8888888888888888,\"#fdca26\"],[1.0,\"#f0f921\"]]}],\"heatmap\":[{\"type\":\"heatmap\",\"colorbar\":{\"outlinewidth\":0,\"ticks\":\"\"},\"colorscale\":[[0.0,\"#0d0887\"],[0.1111111111111111,\"#46039f\"],[0.2222222222222222,\"#7201a8\"],[0.3333333333333333,\"#9c179e\"],[0.4444444444444444,\"#bd3786\"],[0.5555555555555556,\"#d8576b\"],[0.6666666666666666,\"#ed7953\"],[0.7777777777777778,\"#fb9f3a\"],[0.8888888888888888,\"#fdca26\"],[1.0,\"#f0f921\"]]}],\"heatmapgl\":[{\"type\":\"heatmapgl\",\"colorbar\":{\"outlinewidth\":0,\"ticks\":\"\"},\"colorscale\":[[0.0,\"#0d0887\"],[0.1111111111111111,\"#46039f\"],[0.2222222222222222,\"#7201a8\"],[0.3333333333333333,\"#9c179e\"],[0.4444444444444444,\"#bd3786\"],[0.5555555555555556,\"#d8576b\"],[0.6666666666666666,\"#ed7953\"],[0.7777777777777778,\"#fb9f3a\"],[0.8888888888888888,\"#fdca26\"],[1.0,\"#f0f921\"]]}],\"contourcarpet\":[{\"type\":\"contourcarpet\",\"colorbar\":{\"outlinewidth\":0,\"ticks\":\"\"}}],\"contour\":[{\"type\":\"contour\",\"colorbar\":{\"outlinewidth\":0,\"ticks\":\"\"},\"colorscale\":[[0.0,\"#0d0887\"],[0.1111111111111111,\"#46039f\"],[0.2222222222222222,\"#7201a8\"],[0.3333333333333333,\"#9c179e\"],[0.4444444444444444,\"#bd3786\"],[0.5555555555555556,\"#d8576b\"],[0.6666666666666666,\"#ed7953\"],[0.7777777777777778,\"#fb9f3a\"],[0.8888888888888888,\"#fdca26\"],[1.0,\"#f0f921\"]]}],\"surface\":[{\"type\":\"surface\",\"colorbar\":{\"outlinewidth\":0,\"ticks\":\"\"},\"colorscale\":[[0.0,\"#0d0887\"],[0.1111111111111111,\"#46039f\"],[0.2222222222222222,\"#7201a8\"],[0.3333333333333333,\"#9c179e\"],[0.4444444444444444,\"#bd3786\"],[0.5555555555555556,\"#d8576b\"],[0.6666666666666666,\"#ed7953\"],[0.7777777777777778,\"#fb9f3a\"],[0.8888888888888888,\"#fdca26\"],[1.0,\"#f0f921\"]]}],\"mesh3d\":[{\"type\":\"mesh3d\",\"colorbar\":{\"outlinewidth\":0,\"ticks\":\"\"}}],\"scatter\":[{\"fillpattern\":{\"fillmode\":\"overlay\",\"size\":10,\"solidity\":0.2},\"type\":\"scatter\"}],\"parcoords\":[{\"type\":\"parcoords\",\"line\":{\"colorbar\":{\"outlinewidth\":0,\"ticks\":\"\"}}}],\"scatterpolargl\":[{\"type\":\"scatterpolargl\",\"marker\":{\"colorbar\":{\"outlinewidth\":0,\"ticks\":\"\"}}}],\"bar\":[{\"error_x\":{\"color\":\"#2a3f5f\"},\"error_y\":{\"color\":\"#2a3f5f\"},\"marker\":{\"line\":{\"color\":\"#E5ECF6\",\"width\":0.5},\"pattern\":{\"fillmode\":\"overlay\",\"size\":10,\"solidity\":0.2}},\"type\":\"bar\"}],\"scattergeo\":[{\"type\":\"scattergeo\",\"marker\":{\"colorbar\":{\"outlinewidth\":0,\"ticks\":\"\"}}}],\"scatterpolar\":[{\"type\":\"scatterpolar\",\"marker\":{\"colorbar\":{\"outlinewidth\":0,\"ticks\":\"\"}}}],\"histogram\":[{\"marker\":{\"pattern\":{\"fillmode\":\"overlay\",\"size\":10,\"solidity\":0.2}},\"type\":\"histogram\"}],\"scattergl\":[{\"type\":\"scattergl\",\"marker\":{\"colorbar\":{\"outlinewidth\":0,\"ticks\":\"\"}}}],\"scatter3d\":[{\"type\":\"scatter3d\",\"line\":{\"colorbar\":{\"outlinewidth\":0,\"ticks\":\"\"}},\"marker\":{\"colorbar\":{\"outlinewidth\":0,\"ticks\":\"\"}}}],\"scattermapbox\":[{\"type\":\"scattermapbox\",\"marker\":{\"colorbar\":{\"outlinewidth\":0,\"ticks\":\"\"}}}],\"scatterternary\":[{\"type\":\"scatterternary\",\"marker\":{\"colorbar\":{\"outlinewidth\":0,\"ticks\":\"\"}}}],\"scattercarpet\":[{\"type\":\"scattercarpet\",\"marker\":{\"colorbar\":{\"outlinewidth\":0,\"ticks\":\"\"}}}],\"carpet\":[{\"aaxis\":{\"endlinecolor\":\"#2a3f5f\",\"gridcolor\":\"white\",\"linecolor\":\"white\",\"minorgridcolor\":\"white\",\"startlinecolor\":\"#2a3f5f\"},\"baxis\":{\"endlinecolor\":\"#2a3f5f\",\"gridcolor\":\"white\",\"linecolor\":\"white\",\"minorgridcolor\":\"white\",\"startlinecolor\":\"#2a3f5f\"},\"type\":\"carpet\"}],\"table\":[{\"cells\":{\"fill\":{\"color\":\"#EBF0F8\"},\"line\":{\"color\":\"white\"}},\"header\":{\"fill\":{\"color\":\"#C8D4E3\"},\"line\":{\"color\":\"white\"}},\"type\":\"table\"}],\"barpolar\":[{\"marker\":{\"line\":{\"color\":\"#E5ECF6\",\"width\":0.5},\"pattern\":{\"fillmode\":\"overlay\",\"size\":10,\"solidity\":0.2}},\"type\":\"barpolar\"}],\"pie\":[{\"automargin\":true,\"type\":\"pie\"}]},\"layout\":{\"autotypenumbers\":\"strict\",\"colorway\":[\"#636efa\",\"#EF553B\",\"#00cc96\",\"#ab63fa\",\"#FFA15A\",\"#19d3f3\",\"#FF6692\",\"#B6E880\",\"#FF97FF\",\"#FECB52\"],\"font\":{\"color\":\"#2a3f5f\"},\"hovermode\":\"closest\",\"hoverlabel\":{\"align\":\"left\"},\"paper_bgcolor\":\"white\",\"plot_bgcolor\":\"#E5ECF6\",\"polar\":{\"bgcolor\":\"#E5ECF6\",\"angularaxis\":{\"gridcolor\":\"white\",\"linecolor\":\"white\",\"ticks\":\"\"},\"radialaxis\":{\"gridcolor\":\"white\",\"linecolor\":\"white\",\"ticks\":\"\"}},\"ternary\":{\"bgcolor\":\"#E5ECF6\",\"aaxis\":{\"gridcolor\":\"white\",\"linecolor\":\"white\",\"ticks\":\"\"},\"baxis\":{\"gridcolor\":\"white\",\"linecolor\":\"white\",\"ticks\":\"\"},\"caxis\":{\"gridcolor\":\"white\",\"linecolor\":\"white\",\"ticks\":\"\"}},\"coloraxis\":{\"colorbar\":{\"outlinewidth\":0,\"ticks\":\"\"}},\"colorscale\":{\"sequential\":[[0.0,\"#0d0887\"],[0.1111111111111111,\"#46039f\"],[0.2222222222222222,\"#7201a8\"],[0.3333333333333333,\"#9c179e\"],[0.4444444444444444,\"#bd3786\"],[0.5555555555555556,\"#d8576b\"],[0.6666666666666666,\"#ed7953\"],[0.7777777777777778,\"#fb9f3a\"],[0.8888888888888888,\"#fdca26\"],[1.0,\"#f0f921\"]],\"sequentialminus\":[[0.0,\"#0d0887\"],[0.1111111111111111,\"#46039f\"],[0.2222222222222222,\"#7201a8\"],[0.3333333333333333,\"#9c179e\"],[0.4444444444444444,\"#bd3786\"],[0.5555555555555556,\"#d8576b\"],[0.6666666666666666,\"#ed7953\"],[0.7777777777777778,\"#fb9f3a\"],[0.8888888888888888,\"#fdca26\"],[1.0,\"#f0f921\"]],\"diverging\":[[0,\"#8e0152\"],[0.1,\"#c51b7d\"],[0.2,\"#de77ae\"],[0.3,\"#f1b6da\"],[0.4,\"#fde0ef\"],[0.5,\"#f7f7f7\"],[0.6,\"#e6f5d0\"],[0.7,\"#b8e186\"],[0.8,\"#7fbc41\"],[0.9,\"#4d9221\"],[1,\"#276419\"]]},\"xaxis\":{\"gridcolor\":\"white\",\"linecolor\":\"white\",\"ticks\":\"\",\"title\":{\"standoff\":15},\"zerolinecolor\":\"white\",\"automargin\":true,\"zerolinewidth\":2},\"yaxis\":{\"gridcolor\":\"white\",\"linecolor\":\"white\",\"ticks\":\"\",\"title\":{\"standoff\":15},\"zerolinecolor\":\"white\",\"automargin\":true,\"zerolinewidth\":2},\"scene\":{\"xaxis\":{\"backgroundcolor\":\"#E5ECF6\",\"gridcolor\":\"white\",\"linecolor\":\"white\",\"showbackground\":true,\"ticks\":\"\",\"zerolinecolor\":\"white\",\"gridwidth\":2},\"yaxis\":{\"backgroundcolor\":\"#E5ECF6\",\"gridcolor\":\"white\",\"linecolor\":\"white\",\"showbackground\":true,\"ticks\":\"\",\"zerolinecolor\":\"white\",\"gridwidth\":2},\"zaxis\":{\"backgroundcolor\":\"#E5ECF6\",\"gridcolor\":\"white\",\"linecolor\":\"white\",\"showbackground\":true,\"ticks\":\"\",\"zerolinecolor\":\"white\",\"gridwidth\":2}},\"shapedefaults\":{\"line\":{\"color\":\"#2a3f5f\"}},\"annotationdefaults\":{\"arrowcolor\":\"#2a3f5f\",\"arrowhead\":0,\"arrowwidth\":1},\"geo\":{\"bgcolor\":\"white\",\"landcolor\":\"#E5ECF6\",\"subunitcolor\":\"white\",\"showland\":true,\"showlakes\":true,\"lakecolor\":\"white\"},\"title\":{\"x\":0.05},\"mapbox\":{\"style\":\"light\"}}},\"xaxis\":{\"anchor\":\"y\",\"domain\":[0.0,1.0],\"scaleanchor\":\"y\",\"constrain\":\"domain\",\"tickangle\":-45},\"yaxis\":{\"anchor\":\"x\",\"domain\":[0.0,1.0],\"autorange\":\"reversed\",\"constrain\":\"domain\"},\"coloraxis\":{\"colorscale\":[[0.0,\"#0d0887\"],[0.1111111111111111,\"#46039f\"],[0.2222222222222222,\"#7201a8\"],[0.3333333333333333,\"#9c179e\"],[0.4444444444444444,\"#bd3786\"],[0.5555555555555556,\"#d8576b\"],[0.6666666666666666,\"#ed7953\"],[0.7777777777777778,\"#fb9f3a\"],[0.8888888888888888,\"#fdca26\"],[1.0,\"#f0f921\"]]},\"title\":{\"text\":\"Bleu-4 token level (mean)\"},\"font\":{\"size\":15},\"height\":600,\"width\":600},                        {\"responsive\": true}                    ).then(function(){\n",
       "                            \n",
       "var gd = document.getElementById('1a3201b2-60dd-496c-9705-b75ac4c4c430');\n",
       "var x = new MutationObserver(function (mutations, observer) {{\n",
       "        var display = window.getComputedStyle(gd).display;\n",
       "        if (!display || display === 'none') {{\n",
       "            console.log([gd, 'removed!']);\n",
       "            Plotly.purge(gd);\n",
       "            observer.disconnect();\n",
       "        }}\n",
       "}});\n",
       "\n",
       "// Listen for the removal of the full notebook cells\n",
       "var notebookContainer = gd.closest('#notebook-container');\n",
       "if (notebookContainer) {{\n",
       "    x.observe(notebookContainer, {childList: true});\n",
       "}}\n",
       "\n",
       "// Listen for the clearing of the current output cell\n",
       "var outputEl = gd.closest('.output');\n",
       "if (outputEl) {{\n",
       "    x.observe(outputEl, {childList: true});\n",
       "}}\n",
       "\n",
       "                        })                };                });            </script>        </div>"
      ]
     },
     "metadata": {},
     "output_type": "display_data"
    }
   ],
   "source": [
    "candidates = [\n",
    "    \"gt\",\n",
    "    \"mistral_ft_none.json\",\n",
    "    \"mistral_ft_retrieved_top-1.json\",\n",
    "    \"mistral_ft_retrieved_top-3.json\",\n",
    "    \"mistral_ft_gold.json\",\n",
    "    \"mistral_prompt_none.json\",\n",
    "    \"mistral_prompt_retrieved_top-1.json\",\n",
    "    \"mistral_prompt_retrieved_top-3.json\",\n",
    "    \"mistral_prompt_gold.json\",\n",
    "]\n",
    "\n",
    "plot_cross_bleu(task_replies, candidates, replacements, results_to_plot=['b4_tok'])"
   ]
  },
  {
   "cell_type": "markdown",
   "metadata": {},
   "source": [
    "#### Max"
   ]
  },
  {
   "cell_type": "code",
   "execution_count": 7,
   "metadata": {},
   "outputs": [
    {
     "name": "stderr",
     "output_type": "stream",
     "text": [
      "Computing cross BLEU: 100%|██████████| 1941/1941 [00:41<00:00, 47.25it/s]\n"
     ]
    },
    {
     "data": {
      "application/vnd.plotly.v1+json": {
       "config": {
        "plotlyServerURL": "https://plot.ly"
       },
       "data": [
        {
         "coloraxis": "coloraxis",
         "hovertemplate": "x: %{x}<br>y: %{y}<br>color: %{z}<extra></extra>",
         "name": "0",
         "texttemplate": "%{z}",
         "type": "heatmap",
         "x": [
          "Ground Truth",
          "Llama2 Fine-Tuned ",
          "Llama2 Fine-Tuned Top 1",
          "Llama2 Fine-Tuned Top 3",
          "Llama2 Fine-Tuned Gold",
          "Llama2 Prompt ",
          "Llama2 Prompt Top 1",
          "Llama2 Prompt Top 3",
          "Llama2 Prompt Gold"
         ],
         "xaxis": "x",
         "y": [
          "Llama2 Prompt Gold",
          "Llama2 Prompt Top 3",
          "Llama2 Prompt Top 1",
          "Llama2 Prompt ",
          "Llama2 Fine-Tuned Gold",
          "Llama2 Fine-Tuned Top 3",
          "Llama2 Fine-Tuned Top 1",
          "Llama2 Fine-Tuned ",
          "Ground Truth"
         ],
         "yaxis": "y",
         "z": [
          [
           0.394,
           0.497,
           0.853,
           0.853,
           0.411,
           0.951,
           1,
           1,
           0
          ],
          [
           0.396,
           0.497,
           0.853,
           0.853,
           0.57,
           1,
           1,
           0,
           1
          ],
          [
           0.548,
           0.536,
           0.9,
           0.9,
           0.724,
           1,
           0,
           1,
           1
          ],
          [
           0.36,
           0.334,
           0.519,
           0.516,
           0.269,
           0,
           1,
           1,
           0.951
          ],
          [
           1,
           1,
           1,
           1,
           0,
           0.3,
           0.728,
           0.583,
           0.43
          ],
          [
           1,
           1,
           1,
           0,
           1,
           0.514,
           0.897,
           0.853,
           0.853
          ],
          [
           1,
           1,
           0,
           1,
           1,
           0.514,
           0.897,
           0.853,
           0.853
          ],
          [
           1,
           0,
           1,
           1,
           1,
           0.357,
           0.553,
           0.496,
           0.496
          ],
          [
           0,
           1,
           1,
           1,
           1,
           0.36,
           0.55,
           0.442,
           0.4
          ]
         ]
        }
       ],
       "layout": {
        "coloraxis": {
         "colorscale": [
          [
           0,
           "#0d0887"
          ],
          [
           0.1111111111111111,
           "#46039f"
          ],
          [
           0.2222222222222222,
           "#7201a8"
          ],
          [
           0.3333333333333333,
           "#9c179e"
          ],
          [
           0.4444444444444444,
           "#bd3786"
          ],
          [
           0.5555555555555556,
           "#d8576b"
          ],
          [
           0.6666666666666666,
           "#ed7953"
          ],
          [
           0.7777777777777778,
           "#fb9f3a"
          ],
          [
           0.8888888888888888,
           "#fdca26"
          ],
          [
           1,
           "#f0f921"
          ]
         ]
        },
        "font": {
         "size": 15
        },
        "height": 600,
        "template": {
         "data": {
          "bar": [
           {
            "error_x": {
             "color": "#2a3f5f"
            },
            "error_y": {
             "color": "#2a3f5f"
            },
            "marker": {
             "line": {
              "color": "#E5ECF6",
              "width": 0.5
             },
             "pattern": {
              "fillmode": "overlay",
              "size": 10,
              "solidity": 0.2
             }
            },
            "type": "bar"
           }
          ],
          "barpolar": [
           {
            "marker": {
             "line": {
              "color": "#E5ECF6",
              "width": 0.5
             },
             "pattern": {
              "fillmode": "overlay",
              "size": 10,
              "solidity": 0.2
             }
            },
            "type": "barpolar"
           }
          ],
          "carpet": [
           {
            "aaxis": {
             "endlinecolor": "#2a3f5f",
             "gridcolor": "white",
             "linecolor": "white",
             "minorgridcolor": "white",
             "startlinecolor": "#2a3f5f"
            },
            "baxis": {
             "endlinecolor": "#2a3f5f",
             "gridcolor": "white",
             "linecolor": "white",
             "minorgridcolor": "white",
             "startlinecolor": "#2a3f5f"
            },
            "type": "carpet"
           }
          ],
          "choropleth": [
           {
            "colorbar": {
             "outlinewidth": 0,
             "ticks": ""
            },
            "type": "choropleth"
           }
          ],
          "contour": [
           {
            "colorbar": {
             "outlinewidth": 0,
             "ticks": ""
            },
            "colorscale": [
             [
              0,
              "#0d0887"
             ],
             [
              0.1111111111111111,
              "#46039f"
             ],
             [
              0.2222222222222222,
              "#7201a8"
             ],
             [
              0.3333333333333333,
              "#9c179e"
             ],
             [
              0.4444444444444444,
              "#bd3786"
             ],
             [
              0.5555555555555556,
              "#d8576b"
             ],
             [
              0.6666666666666666,
              "#ed7953"
             ],
             [
              0.7777777777777778,
              "#fb9f3a"
             ],
             [
              0.8888888888888888,
              "#fdca26"
             ],
             [
              1,
              "#f0f921"
             ]
            ],
            "type": "contour"
           }
          ],
          "contourcarpet": [
           {
            "colorbar": {
             "outlinewidth": 0,
             "ticks": ""
            },
            "type": "contourcarpet"
           }
          ],
          "heatmap": [
           {
            "colorbar": {
             "outlinewidth": 0,
             "ticks": ""
            },
            "colorscale": [
             [
              0,
              "#0d0887"
             ],
             [
              0.1111111111111111,
              "#46039f"
             ],
             [
              0.2222222222222222,
              "#7201a8"
             ],
             [
              0.3333333333333333,
              "#9c179e"
             ],
             [
              0.4444444444444444,
              "#bd3786"
             ],
             [
              0.5555555555555556,
              "#d8576b"
             ],
             [
              0.6666666666666666,
              "#ed7953"
             ],
             [
              0.7777777777777778,
              "#fb9f3a"
             ],
             [
              0.8888888888888888,
              "#fdca26"
             ],
             [
              1,
              "#f0f921"
             ]
            ],
            "type": "heatmap"
           }
          ],
          "heatmapgl": [
           {
            "colorbar": {
             "outlinewidth": 0,
             "ticks": ""
            },
            "colorscale": [
             [
              0,
              "#0d0887"
             ],
             [
              0.1111111111111111,
              "#46039f"
             ],
             [
              0.2222222222222222,
              "#7201a8"
             ],
             [
              0.3333333333333333,
              "#9c179e"
             ],
             [
              0.4444444444444444,
              "#bd3786"
             ],
             [
              0.5555555555555556,
              "#d8576b"
             ],
             [
              0.6666666666666666,
              "#ed7953"
             ],
             [
              0.7777777777777778,
              "#fb9f3a"
             ],
             [
              0.8888888888888888,
              "#fdca26"
             ],
             [
              1,
              "#f0f921"
             ]
            ],
            "type": "heatmapgl"
           }
          ],
          "histogram": [
           {
            "marker": {
             "pattern": {
              "fillmode": "overlay",
              "size": 10,
              "solidity": 0.2
             }
            },
            "type": "histogram"
           }
          ],
          "histogram2d": [
           {
            "colorbar": {
             "outlinewidth": 0,
             "ticks": ""
            },
            "colorscale": [
             [
              0,
              "#0d0887"
             ],
             [
              0.1111111111111111,
              "#46039f"
             ],
             [
              0.2222222222222222,
              "#7201a8"
             ],
             [
              0.3333333333333333,
              "#9c179e"
             ],
             [
              0.4444444444444444,
              "#bd3786"
             ],
             [
              0.5555555555555556,
              "#d8576b"
             ],
             [
              0.6666666666666666,
              "#ed7953"
             ],
             [
              0.7777777777777778,
              "#fb9f3a"
             ],
             [
              0.8888888888888888,
              "#fdca26"
             ],
             [
              1,
              "#f0f921"
             ]
            ],
            "type": "histogram2d"
           }
          ],
          "histogram2dcontour": [
           {
            "colorbar": {
             "outlinewidth": 0,
             "ticks": ""
            },
            "colorscale": [
             [
              0,
              "#0d0887"
             ],
             [
              0.1111111111111111,
              "#46039f"
             ],
             [
              0.2222222222222222,
              "#7201a8"
             ],
             [
              0.3333333333333333,
              "#9c179e"
             ],
             [
              0.4444444444444444,
              "#bd3786"
             ],
             [
              0.5555555555555556,
              "#d8576b"
             ],
             [
              0.6666666666666666,
              "#ed7953"
             ],
             [
              0.7777777777777778,
              "#fb9f3a"
             ],
             [
              0.8888888888888888,
              "#fdca26"
             ],
             [
              1,
              "#f0f921"
             ]
            ],
            "type": "histogram2dcontour"
           }
          ],
          "mesh3d": [
           {
            "colorbar": {
             "outlinewidth": 0,
             "ticks": ""
            },
            "type": "mesh3d"
           }
          ],
          "parcoords": [
           {
            "line": {
             "colorbar": {
              "outlinewidth": 0,
              "ticks": ""
             }
            },
            "type": "parcoords"
           }
          ],
          "pie": [
           {
            "automargin": true,
            "type": "pie"
           }
          ],
          "scatter": [
           {
            "fillpattern": {
             "fillmode": "overlay",
             "size": 10,
             "solidity": 0.2
            },
            "type": "scatter"
           }
          ],
          "scatter3d": [
           {
            "line": {
             "colorbar": {
              "outlinewidth": 0,
              "ticks": ""
             }
            },
            "marker": {
             "colorbar": {
              "outlinewidth": 0,
              "ticks": ""
             }
            },
            "type": "scatter3d"
           }
          ],
          "scattercarpet": [
           {
            "marker": {
             "colorbar": {
              "outlinewidth": 0,
              "ticks": ""
             }
            },
            "type": "scattercarpet"
           }
          ],
          "scattergeo": [
           {
            "marker": {
             "colorbar": {
              "outlinewidth": 0,
              "ticks": ""
             }
            },
            "type": "scattergeo"
           }
          ],
          "scattergl": [
           {
            "marker": {
             "colorbar": {
              "outlinewidth": 0,
              "ticks": ""
             }
            },
            "type": "scattergl"
           }
          ],
          "scattermapbox": [
           {
            "marker": {
             "colorbar": {
              "outlinewidth": 0,
              "ticks": ""
             }
            },
            "type": "scattermapbox"
           }
          ],
          "scatterpolar": [
           {
            "marker": {
             "colorbar": {
              "outlinewidth": 0,
              "ticks": ""
             }
            },
            "type": "scatterpolar"
           }
          ],
          "scatterpolargl": [
           {
            "marker": {
             "colorbar": {
              "outlinewidth": 0,
              "ticks": ""
             }
            },
            "type": "scatterpolargl"
           }
          ],
          "scatterternary": [
           {
            "marker": {
             "colorbar": {
              "outlinewidth": 0,
              "ticks": ""
             }
            },
            "type": "scatterternary"
           }
          ],
          "surface": [
           {
            "colorbar": {
             "outlinewidth": 0,
             "ticks": ""
            },
            "colorscale": [
             [
              0,
              "#0d0887"
             ],
             [
              0.1111111111111111,
              "#46039f"
             ],
             [
              0.2222222222222222,
              "#7201a8"
             ],
             [
              0.3333333333333333,
              "#9c179e"
             ],
             [
              0.4444444444444444,
              "#bd3786"
             ],
             [
              0.5555555555555556,
              "#d8576b"
             ],
             [
              0.6666666666666666,
              "#ed7953"
             ],
             [
              0.7777777777777778,
              "#fb9f3a"
             ],
             [
              0.8888888888888888,
              "#fdca26"
             ],
             [
              1,
              "#f0f921"
             ]
            ],
            "type": "surface"
           }
          ],
          "table": [
           {
            "cells": {
             "fill": {
              "color": "#EBF0F8"
             },
             "line": {
              "color": "white"
             }
            },
            "header": {
             "fill": {
              "color": "#C8D4E3"
             },
             "line": {
              "color": "white"
             }
            },
            "type": "table"
           }
          ]
         },
         "layout": {
          "annotationdefaults": {
           "arrowcolor": "#2a3f5f",
           "arrowhead": 0,
           "arrowwidth": 1
          },
          "autotypenumbers": "strict",
          "coloraxis": {
           "colorbar": {
            "outlinewidth": 0,
            "ticks": ""
           }
          },
          "colorscale": {
           "diverging": [
            [
             0,
             "#8e0152"
            ],
            [
             0.1,
             "#c51b7d"
            ],
            [
             0.2,
             "#de77ae"
            ],
            [
             0.3,
             "#f1b6da"
            ],
            [
             0.4,
             "#fde0ef"
            ],
            [
             0.5,
             "#f7f7f7"
            ],
            [
             0.6,
             "#e6f5d0"
            ],
            [
             0.7,
             "#b8e186"
            ],
            [
             0.8,
             "#7fbc41"
            ],
            [
             0.9,
             "#4d9221"
            ],
            [
             1,
             "#276419"
            ]
           ],
           "sequential": [
            [
             0,
             "#0d0887"
            ],
            [
             0.1111111111111111,
             "#46039f"
            ],
            [
             0.2222222222222222,
             "#7201a8"
            ],
            [
             0.3333333333333333,
             "#9c179e"
            ],
            [
             0.4444444444444444,
             "#bd3786"
            ],
            [
             0.5555555555555556,
             "#d8576b"
            ],
            [
             0.6666666666666666,
             "#ed7953"
            ],
            [
             0.7777777777777778,
             "#fb9f3a"
            ],
            [
             0.8888888888888888,
             "#fdca26"
            ],
            [
             1,
             "#f0f921"
            ]
           ],
           "sequentialminus": [
            [
             0,
             "#0d0887"
            ],
            [
             0.1111111111111111,
             "#46039f"
            ],
            [
             0.2222222222222222,
             "#7201a8"
            ],
            [
             0.3333333333333333,
             "#9c179e"
            ],
            [
             0.4444444444444444,
             "#bd3786"
            ],
            [
             0.5555555555555556,
             "#d8576b"
            ],
            [
             0.6666666666666666,
             "#ed7953"
            ],
            [
             0.7777777777777778,
             "#fb9f3a"
            ],
            [
             0.8888888888888888,
             "#fdca26"
            ],
            [
             1,
             "#f0f921"
            ]
           ]
          },
          "colorway": [
           "#636efa",
           "#EF553B",
           "#00cc96",
           "#ab63fa",
           "#FFA15A",
           "#19d3f3",
           "#FF6692",
           "#B6E880",
           "#FF97FF",
           "#FECB52"
          ],
          "font": {
           "color": "#2a3f5f"
          },
          "geo": {
           "bgcolor": "white",
           "lakecolor": "white",
           "landcolor": "#E5ECF6",
           "showlakes": true,
           "showland": true,
           "subunitcolor": "white"
          },
          "hoverlabel": {
           "align": "left"
          },
          "hovermode": "closest",
          "mapbox": {
           "style": "light"
          },
          "paper_bgcolor": "white",
          "plot_bgcolor": "#E5ECF6",
          "polar": {
           "angularaxis": {
            "gridcolor": "white",
            "linecolor": "white",
            "ticks": ""
           },
           "bgcolor": "#E5ECF6",
           "radialaxis": {
            "gridcolor": "white",
            "linecolor": "white",
            "ticks": ""
           }
          },
          "scene": {
           "xaxis": {
            "backgroundcolor": "#E5ECF6",
            "gridcolor": "white",
            "gridwidth": 2,
            "linecolor": "white",
            "showbackground": true,
            "ticks": "",
            "zerolinecolor": "white"
           },
           "yaxis": {
            "backgroundcolor": "#E5ECF6",
            "gridcolor": "white",
            "gridwidth": 2,
            "linecolor": "white",
            "showbackground": true,
            "ticks": "",
            "zerolinecolor": "white"
           },
           "zaxis": {
            "backgroundcolor": "#E5ECF6",
            "gridcolor": "white",
            "gridwidth": 2,
            "linecolor": "white",
            "showbackground": true,
            "ticks": "",
            "zerolinecolor": "white"
           }
          },
          "shapedefaults": {
           "line": {
            "color": "#2a3f5f"
           }
          },
          "ternary": {
           "aaxis": {
            "gridcolor": "white",
            "linecolor": "white",
            "ticks": ""
           },
           "baxis": {
            "gridcolor": "white",
            "linecolor": "white",
            "ticks": ""
           },
           "bgcolor": "#E5ECF6",
           "caxis": {
            "gridcolor": "white",
            "linecolor": "white",
            "ticks": ""
           }
          },
          "title": {
           "x": 0.05
          },
          "xaxis": {
           "automargin": true,
           "gridcolor": "white",
           "linecolor": "white",
           "ticks": "",
           "title": {
            "standoff": 15
           },
           "zerolinecolor": "white",
           "zerolinewidth": 2
          },
          "yaxis": {
           "automargin": true,
           "gridcolor": "white",
           "linecolor": "white",
           "ticks": "",
           "title": {
            "standoff": 15
           },
           "zerolinecolor": "white",
           "zerolinewidth": 2
          }
         }
        },
        "title": {
         "text": "Bleu-4 token level (max)"
        },
        "width": 600,
        "xaxis": {
         "anchor": "y",
         "constrain": "domain",
         "domain": [
          0,
          1
         ],
         "scaleanchor": "y",
         "tickangle": -45
        },
        "yaxis": {
         "anchor": "x",
         "autorange": "reversed",
         "constrain": "domain",
         "domain": [
          0,
          1
         ]
        }
       }
      },
      "text/html": [
       "<div>                            <div id=\"752bdd95-b9ff-4082-a736-63d039f10f1c\" class=\"plotly-graph-div\" style=\"height:600px; width:600px;\"></div>            <script type=\"text/javascript\">                require([\"plotly\"], function(Plotly) {                    window.PLOTLYENV=window.PLOTLYENV || {};                                    if (document.getElementById(\"752bdd95-b9ff-4082-a736-63d039f10f1c\")) {                    Plotly.newPlot(                        \"752bdd95-b9ff-4082-a736-63d039f10f1c\",                        [{\"coloraxis\":\"coloraxis\",\"name\":\"0\",\"texttemplate\":\"%{z}\",\"x\":[\"Ground Truth\",\"Llama2 Fine-Tuned \",\"Llama2 Fine-Tuned Top 1\",\"Llama2 Fine-Tuned Top 3\",\"Llama2 Fine-Tuned Gold\",\"Llama2 Prompt \",\"Llama2 Prompt Top 1\",\"Llama2 Prompt Top 3\",\"Llama2 Prompt Gold\"],\"y\":[\"Llama2 Prompt Gold\",\"Llama2 Prompt Top 3\",\"Llama2 Prompt Top 1\",\"Llama2 Prompt \",\"Llama2 Fine-Tuned Gold\",\"Llama2 Fine-Tuned Top 3\",\"Llama2 Fine-Tuned Top 1\",\"Llama2 Fine-Tuned \",\"Ground Truth\"],\"z\":[[0.394,0.497,0.853,0.853,0.411,0.951,1.0,1.0,0.0],[0.396,0.497,0.853,0.853,0.57,1.0,1.0,0.0,1.0],[0.548,0.536,0.9,0.9,0.724,1.0,0.0,1.0,1.0],[0.36,0.334,0.519,0.516,0.269,0.0,1.0,1.0,0.951],[1.0,1.0,1.0,1.0,0.0,0.3,0.728,0.583,0.43],[1.0,1.0,1.0,0.0,1.0,0.514,0.897,0.853,0.853],[1.0,1.0,0.0,1.0,1.0,0.514,0.897,0.853,0.853],[1.0,0.0,1.0,1.0,1.0,0.357,0.553,0.496,0.496],[0.0,1.0,1.0,1.0,1.0,0.36,0.55,0.442,0.4]],\"type\":\"heatmap\",\"xaxis\":\"x\",\"yaxis\":\"y\",\"hovertemplate\":\"x: %{x}\\u003cbr\\u003ey: %{y}\\u003cbr\\u003ecolor: %{z}\\u003cextra\\u003e\\u003c\\u002fextra\\u003e\"}],                        {\"template\":{\"data\":{\"histogram2dcontour\":[{\"type\":\"histogram2dcontour\",\"colorbar\":{\"outlinewidth\":0,\"ticks\":\"\"},\"colorscale\":[[0.0,\"#0d0887\"],[0.1111111111111111,\"#46039f\"],[0.2222222222222222,\"#7201a8\"],[0.3333333333333333,\"#9c179e\"],[0.4444444444444444,\"#bd3786\"],[0.5555555555555556,\"#d8576b\"],[0.6666666666666666,\"#ed7953\"],[0.7777777777777778,\"#fb9f3a\"],[0.8888888888888888,\"#fdca26\"],[1.0,\"#f0f921\"]]}],\"choropleth\":[{\"type\":\"choropleth\",\"colorbar\":{\"outlinewidth\":0,\"ticks\":\"\"}}],\"histogram2d\":[{\"type\":\"histogram2d\",\"colorbar\":{\"outlinewidth\":0,\"ticks\":\"\"},\"colorscale\":[[0.0,\"#0d0887\"],[0.1111111111111111,\"#46039f\"],[0.2222222222222222,\"#7201a8\"],[0.3333333333333333,\"#9c179e\"],[0.4444444444444444,\"#bd3786\"],[0.5555555555555556,\"#d8576b\"],[0.6666666666666666,\"#ed7953\"],[0.7777777777777778,\"#fb9f3a\"],[0.8888888888888888,\"#fdca26\"],[1.0,\"#f0f921\"]]}],\"heatmap\":[{\"type\":\"heatmap\",\"colorbar\":{\"outlinewidth\":0,\"ticks\":\"\"},\"colorscale\":[[0.0,\"#0d0887\"],[0.1111111111111111,\"#46039f\"],[0.2222222222222222,\"#7201a8\"],[0.3333333333333333,\"#9c179e\"],[0.4444444444444444,\"#bd3786\"],[0.5555555555555556,\"#d8576b\"],[0.6666666666666666,\"#ed7953\"],[0.7777777777777778,\"#fb9f3a\"],[0.8888888888888888,\"#fdca26\"],[1.0,\"#f0f921\"]]}],\"heatmapgl\":[{\"type\":\"heatmapgl\",\"colorbar\":{\"outlinewidth\":0,\"ticks\":\"\"},\"colorscale\":[[0.0,\"#0d0887\"],[0.1111111111111111,\"#46039f\"],[0.2222222222222222,\"#7201a8\"],[0.3333333333333333,\"#9c179e\"],[0.4444444444444444,\"#bd3786\"],[0.5555555555555556,\"#d8576b\"],[0.6666666666666666,\"#ed7953\"],[0.7777777777777778,\"#fb9f3a\"],[0.8888888888888888,\"#fdca26\"],[1.0,\"#f0f921\"]]}],\"contourcarpet\":[{\"type\":\"contourcarpet\",\"colorbar\":{\"outlinewidth\":0,\"ticks\":\"\"}}],\"contour\":[{\"type\":\"contour\",\"colorbar\":{\"outlinewidth\":0,\"ticks\":\"\"},\"colorscale\":[[0.0,\"#0d0887\"],[0.1111111111111111,\"#46039f\"],[0.2222222222222222,\"#7201a8\"],[0.3333333333333333,\"#9c179e\"],[0.4444444444444444,\"#bd3786\"],[0.5555555555555556,\"#d8576b\"],[0.6666666666666666,\"#ed7953\"],[0.7777777777777778,\"#fb9f3a\"],[0.8888888888888888,\"#fdca26\"],[1.0,\"#f0f921\"]]}],\"surface\":[{\"type\":\"surface\",\"colorbar\":{\"outlinewidth\":0,\"ticks\":\"\"},\"colorscale\":[[0.0,\"#0d0887\"],[0.1111111111111111,\"#46039f\"],[0.2222222222222222,\"#7201a8\"],[0.3333333333333333,\"#9c179e\"],[0.4444444444444444,\"#bd3786\"],[0.5555555555555556,\"#d8576b\"],[0.6666666666666666,\"#ed7953\"],[0.7777777777777778,\"#fb9f3a\"],[0.8888888888888888,\"#fdca26\"],[1.0,\"#f0f921\"]]}],\"mesh3d\":[{\"type\":\"mesh3d\",\"colorbar\":{\"outlinewidth\":0,\"ticks\":\"\"}}],\"scatter\":[{\"fillpattern\":{\"fillmode\":\"overlay\",\"size\":10,\"solidity\":0.2},\"type\":\"scatter\"}],\"parcoords\":[{\"type\":\"parcoords\",\"line\":{\"colorbar\":{\"outlinewidth\":0,\"ticks\":\"\"}}}],\"scatterpolargl\":[{\"type\":\"scatterpolargl\",\"marker\":{\"colorbar\":{\"outlinewidth\":0,\"ticks\":\"\"}}}],\"bar\":[{\"error_x\":{\"color\":\"#2a3f5f\"},\"error_y\":{\"color\":\"#2a3f5f\"},\"marker\":{\"line\":{\"color\":\"#E5ECF6\",\"width\":0.5},\"pattern\":{\"fillmode\":\"overlay\",\"size\":10,\"solidity\":0.2}},\"type\":\"bar\"}],\"scattergeo\":[{\"type\":\"scattergeo\",\"marker\":{\"colorbar\":{\"outlinewidth\":0,\"ticks\":\"\"}}}],\"scatterpolar\":[{\"type\":\"scatterpolar\",\"marker\":{\"colorbar\":{\"outlinewidth\":0,\"ticks\":\"\"}}}],\"histogram\":[{\"marker\":{\"pattern\":{\"fillmode\":\"overlay\",\"size\":10,\"solidity\":0.2}},\"type\":\"histogram\"}],\"scattergl\":[{\"type\":\"scattergl\",\"marker\":{\"colorbar\":{\"outlinewidth\":0,\"ticks\":\"\"}}}],\"scatter3d\":[{\"type\":\"scatter3d\",\"line\":{\"colorbar\":{\"outlinewidth\":0,\"ticks\":\"\"}},\"marker\":{\"colorbar\":{\"outlinewidth\":0,\"ticks\":\"\"}}}],\"scattermapbox\":[{\"type\":\"scattermapbox\",\"marker\":{\"colorbar\":{\"outlinewidth\":0,\"ticks\":\"\"}}}],\"scatterternary\":[{\"type\":\"scatterternary\",\"marker\":{\"colorbar\":{\"outlinewidth\":0,\"ticks\":\"\"}}}],\"scattercarpet\":[{\"type\":\"scattercarpet\",\"marker\":{\"colorbar\":{\"outlinewidth\":0,\"ticks\":\"\"}}}],\"carpet\":[{\"aaxis\":{\"endlinecolor\":\"#2a3f5f\",\"gridcolor\":\"white\",\"linecolor\":\"white\",\"minorgridcolor\":\"white\",\"startlinecolor\":\"#2a3f5f\"},\"baxis\":{\"endlinecolor\":\"#2a3f5f\",\"gridcolor\":\"white\",\"linecolor\":\"white\",\"minorgridcolor\":\"white\",\"startlinecolor\":\"#2a3f5f\"},\"type\":\"carpet\"}],\"table\":[{\"cells\":{\"fill\":{\"color\":\"#EBF0F8\"},\"line\":{\"color\":\"white\"}},\"header\":{\"fill\":{\"color\":\"#C8D4E3\"},\"line\":{\"color\":\"white\"}},\"type\":\"table\"}],\"barpolar\":[{\"marker\":{\"line\":{\"color\":\"#E5ECF6\",\"width\":0.5},\"pattern\":{\"fillmode\":\"overlay\",\"size\":10,\"solidity\":0.2}},\"type\":\"barpolar\"}],\"pie\":[{\"automargin\":true,\"type\":\"pie\"}]},\"layout\":{\"autotypenumbers\":\"strict\",\"colorway\":[\"#636efa\",\"#EF553B\",\"#00cc96\",\"#ab63fa\",\"#FFA15A\",\"#19d3f3\",\"#FF6692\",\"#B6E880\",\"#FF97FF\",\"#FECB52\"],\"font\":{\"color\":\"#2a3f5f\"},\"hovermode\":\"closest\",\"hoverlabel\":{\"align\":\"left\"},\"paper_bgcolor\":\"white\",\"plot_bgcolor\":\"#E5ECF6\",\"polar\":{\"bgcolor\":\"#E5ECF6\",\"angularaxis\":{\"gridcolor\":\"white\",\"linecolor\":\"white\",\"ticks\":\"\"},\"radialaxis\":{\"gridcolor\":\"white\",\"linecolor\":\"white\",\"ticks\":\"\"}},\"ternary\":{\"bgcolor\":\"#E5ECF6\",\"aaxis\":{\"gridcolor\":\"white\",\"linecolor\":\"white\",\"ticks\":\"\"},\"baxis\":{\"gridcolor\":\"white\",\"linecolor\":\"white\",\"ticks\":\"\"},\"caxis\":{\"gridcolor\":\"white\",\"linecolor\":\"white\",\"ticks\":\"\"}},\"coloraxis\":{\"colorbar\":{\"outlinewidth\":0,\"ticks\":\"\"}},\"colorscale\":{\"sequential\":[[0.0,\"#0d0887\"],[0.1111111111111111,\"#46039f\"],[0.2222222222222222,\"#7201a8\"],[0.3333333333333333,\"#9c179e\"],[0.4444444444444444,\"#bd3786\"],[0.5555555555555556,\"#d8576b\"],[0.6666666666666666,\"#ed7953\"],[0.7777777777777778,\"#fb9f3a\"],[0.8888888888888888,\"#fdca26\"],[1.0,\"#f0f921\"]],\"sequentialminus\":[[0.0,\"#0d0887\"],[0.1111111111111111,\"#46039f\"],[0.2222222222222222,\"#7201a8\"],[0.3333333333333333,\"#9c179e\"],[0.4444444444444444,\"#bd3786\"],[0.5555555555555556,\"#d8576b\"],[0.6666666666666666,\"#ed7953\"],[0.7777777777777778,\"#fb9f3a\"],[0.8888888888888888,\"#fdca26\"],[1.0,\"#f0f921\"]],\"diverging\":[[0,\"#8e0152\"],[0.1,\"#c51b7d\"],[0.2,\"#de77ae\"],[0.3,\"#f1b6da\"],[0.4,\"#fde0ef\"],[0.5,\"#f7f7f7\"],[0.6,\"#e6f5d0\"],[0.7,\"#b8e186\"],[0.8,\"#7fbc41\"],[0.9,\"#4d9221\"],[1,\"#276419\"]]},\"xaxis\":{\"gridcolor\":\"white\",\"linecolor\":\"white\",\"ticks\":\"\",\"title\":{\"standoff\":15},\"zerolinecolor\":\"white\",\"automargin\":true,\"zerolinewidth\":2},\"yaxis\":{\"gridcolor\":\"white\",\"linecolor\":\"white\",\"ticks\":\"\",\"title\":{\"standoff\":15},\"zerolinecolor\":\"white\",\"automargin\":true,\"zerolinewidth\":2},\"scene\":{\"xaxis\":{\"backgroundcolor\":\"#E5ECF6\",\"gridcolor\":\"white\",\"linecolor\":\"white\",\"showbackground\":true,\"ticks\":\"\",\"zerolinecolor\":\"white\",\"gridwidth\":2},\"yaxis\":{\"backgroundcolor\":\"#E5ECF6\",\"gridcolor\":\"white\",\"linecolor\":\"white\",\"showbackground\":true,\"ticks\":\"\",\"zerolinecolor\":\"white\",\"gridwidth\":2},\"zaxis\":{\"backgroundcolor\":\"#E5ECF6\",\"gridcolor\":\"white\",\"linecolor\":\"white\",\"showbackground\":true,\"ticks\":\"\",\"zerolinecolor\":\"white\",\"gridwidth\":2}},\"shapedefaults\":{\"line\":{\"color\":\"#2a3f5f\"}},\"annotationdefaults\":{\"arrowcolor\":\"#2a3f5f\",\"arrowhead\":0,\"arrowwidth\":1},\"geo\":{\"bgcolor\":\"white\",\"landcolor\":\"#E5ECF6\",\"subunitcolor\":\"white\",\"showland\":true,\"showlakes\":true,\"lakecolor\":\"white\"},\"title\":{\"x\":0.05},\"mapbox\":{\"style\":\"light\"}}},\"xaxis\":{\"anchor\":\"y\",\"domain\":[0.0,1.0],\"scaleanchor\":\"y\",\"constrain\":\"domain\",\"tickangle\":-45},\"yaxis\":{\"anchor\":\"x\",\"domain\":[0.0,1.0],\"autorange\":\"reversed\",\"constrain\":\"domain\"},\"coloraxis\":{\"colorscale\":[[0.0,\"#0d0887\"],[0.1111111111111111,\"#46039f\"],[0.2222222222222222,\"#7201a8\"],[0.3333333333333333,\"#9c179e\"],[0.4444444444444444,\"#bd3786\"],[0.5555555555555556,\"#d8576b\"],[0.6666666666666666,\"#ed7953\"],[0.7777777777777778,\"#fb9f3a\"],[0.8888888888888888,\"#fdca26\"],[1.0,\"#f0f921\"]]},\"title\":{\"text\":\"Bleu-4 token level (max)\"},\"font\":{\"size\":15},\"height\":600,\"width\":600},                        {\"responsive\": true}                    ).then(function(){\n",
       "                            \n",
       "var gd = document.getElementById('752bdd95-b9ff-4082-a736-63d039f10f1c');\n",
       "var x = new MutationObserver(function (mutations, observer) {{\n",
       "        var display = window.getComputedStyle(gd).display;\n",
       "        if (!display || display === 'none') {{\n",
       "            console.log([gd, 'removed!']);\n",
       "            Plotly.purge(gd);\n",
       "            observer.disconnect();\n",
       "        }}\n",
       "}});\n",
       "\n",
       "// Listen for the removal of the full notebook cells\n",
       "var notebookContainer = gd.closest('#notebook-container');\n",
       "if (notebookContainer) {{\n",
       "    x.observe(notebookContainer, {childList: true});\n",
       "}}\n",
       "\n",
       "// Listen for the clearing of the current output cell\n",
       "var outputEl = gd.closest('.output');\n",
       "if (outputEl) {{\n",
       "    x.observe(outputEl, {childList: true});\n",
       "}}\n",
       "\n",
       "                        })                };                });            </script>        </div>"
      ]
     },
     "metadata": {},
     "output_type": "display_data"
    }
   ],
   "source": [
    "from utils import plot_cross_bleu\n",
    "\n",
    "candidates = [\n",
    "    \"gt\",\n",
    "    \"llama_ft_none.json\",\n",
    "    \"llama_ft_retrieved_top-1.json\",\n",
    "    \"llama_ft_retrieved_top-3.json\",\n",
    "    \"llama_ft_gold.json\",\n",
    "    \"llama_prompt_none.json\",\n",
    "    \"llama_prompt_retrieved_top-1.json\",\n",
    "    \"llama_prompt_retrieved_top-3.json\",\n",
    "    \"llama_prompt_gold.json\",\n",
    "]\n",
    "\n",
    "plot_cross_bleu(task_replies, candidates, replacements, results_to_plot=['b4_tok'], operation=\"max\")"
   ]
  },
  {
   "cell_type": "code",
   "execution_count": 8,
   "metadata": {},
   "outputs": [
    {
     "name": "stderr",
     "output_type": "stream",
     "text": [
      "Computing cross BLEU: 100%|██████████| 1941/1941 [00:36<00:00, 53.74it/s]\n"
     ]
    },
    {
     "data": {
      "application/vnd.plotly.v1+json": {
       "config": {
        "plotlyServerURL": "https://plot.ly"
       },
       "data": [
        {
         "coloraxis": "coloraxis",
         "hovertemplate": "x: %{x}<br>y: %{y}<br>color: %{z}<extra></extra>",
         "name": "0",
         "texttemplate": "%{z}",
         "type": "heatmap",
         "x": [
          "Ground Truth",
          "Mistral Fine-Tuned ",
          "Mistral Fine-Tuned Top 1",
          "Mistral Fine-Tuned Top 3",
          "Mistral Fine-Tuned Gold",
          "Mistral Prompt ",
          "Mistral Prompt Top 1",
          "Mistral Prompt Top 3",
          "Mistral Prompt Gold"
         ],
         "xaxis": "x",
         "y": [
          "Mistral Prompt Gold",
          "Mistral Prompt Top 3",
          "Mistral Prompt Top 1",
          "Mistral Prompt ",
          "Mistral Fine-Tuned Gold",
          "Mistral Fine-Tuned Top 3",
          "Mistral Fine-Tuned Top 1",
          "Mistral Fine-Tuned ",
          "Ground Truth"
         ],
         "yaxis": "y",
         "z": [
          [
           0.442,
           0.529,
           1,
           0.565,
           0.863,
           1,
           1,
           1,
           0
          ],
          [
           0.54,
           0.794,
           1,
           0.606,
           0.863,
           1,
           1,
           0,
           1
          ],
          [
           0.454,
           0.499,
           1,
           0.657,
           0.863,
           1,
           0,
           1,
           1
          ],
          [
           0.442,
           0.794,
           1,
           0.699,
           0.863,
           0,
           1,
           1,
           1
          ],
          [
           0.8,
           1,
           1,
           1,
           0,
           0.863,
           0.863,
           0.863,
           0.863
          ],
          [
           0.863,
           1,
           1,
           0,
           1,
           0.699,
           0.659,
           0.646,
           0.569
          ],
          [
           0.732,
           1,
           0,
           1,
           1,
           1,
           1,
           1,
           1
          ],
          [
           0.925,
           0,
           1,
           1,
           1,
           0.791,
           0.508,
           0.791,
           0.526
          ],
          [
           0,
           0.925,
           0.727,
           0.863,
           0.786,
           0.445,
           0.456,
           0.539,
           0.445
          ]
         ]
        }
       ],
       "layout": {
        "coloraxis": {
         "colorscale": [
          [
           0,
           "#0d0887"
          ],
          [
           0.1111111111111111,
           "#46039f"
          ],
          [
           0.2222222222222222,
           "#7201a8"
          ],
          [
           0.3333333333333333,
           "#9c179e"
          ],
          [
           0.4444444444444444,
           "#bd3786"
          ],
          [
           0.5555555555555556,
           "#d8576b"
          ],
          [
           0.6666666666666666,
           "#ed7953"
          ],
          [
           0.7777777777777778,
           "#fb9f3a"
          ],
          [
           0.8888888888888888,
           "#fdca26"
          ],
          [
           1,
           "#f0f921"
          ]
         ]
        },
        "font": {
         "size": 15
        },
        "height": 600,
        "template": {
         "data": {
          "bar": [
           {
            "error_x": {
             "color": "#2a3f5f"
            },
            "error_y": {
             "color": "#2a3f5f"
            },
            "marker": {
             "line": {
              "color": "#E5ECF6",
              "width": 0.5
             },
             "pattern": {
              "fillmode": "overlay",
              "size": 10,
              "solidity": 0.2
             }
            },
            "type": "bar"
           }
          ],
          "barpolar": [
           {
            "marker": {
             "line": {
              "color": "#E5ECF6",
              "width": 0.5
             },
             "pattern": {
              "fillmode": "overlay",
              "size": 10,
              "solidity": 0.2
             }
            },
            "type": "barpolar"
           }
          ],
          "carpet": [
           {
            "aaxis": {
             "endlinecolor": "#2a3f5f",
             "gridcolor": "white",
             "linecolor": "white",
             "minorgridcolor": "white",
             "startlinecolor": "#2a3f5f"
            },
            "baxis": {
             "endlinecolor": "#2a3f5f",
             "gridcolor": "white",
             "linecolor": "white",
             "minorgridcolor": "white",
             "startlinecolor": "#2a3f5f"
            },
            "type": "carpet"
           }
          ],
          "choropleth": [
           {
            "colorbar": {
             "outlinewidth": 0,
             "ticks": ""
            },
            "type": "choropleth"
           }
          ],
          "contour": [
           {
            "colorbar": {
             "outlinewidth": 0,
             "ticks": ""
            },
            "colorscale": [
             [
              0,
              "#0d0887"
             ],
             [
              0.1111111111111111,
              "#46039f"
             ],
             [
              0.2222222222222222,
              "#7201a8"
             ],
             [
              0.3333333333333333,
              "#9c179e"
             ],
             [
              0.4444444444444444,
              "#bd3786"
             ],
             [
              0.5555555555555556,
              "#d8576b"
             ],
             [
              0.6666666666666666,
              "#ed7953"
             ],
             [
              0.7777777777777778,
              "#fb9f3a"
             ],
             [
              0.8888888888888888,
              "#fdca26"
             ],
             [
              1,
              "#f0f921"
             ]
            ],
            "type": "contour"
           }
          ],
          "contourcarpet": [
           {
            "colorbar": {
             "outlinewidth": 0,
             "ticks": ""
            },
            "type": "contourcarpet"
           }
          ],
          "heatmap": [
           {
            "colorbar": {
             "outlinewidth": 0,
             "ticks": ""
            },
            "colorscale": [
             [
              0,
              "#0d0887"
             ],
             [
              0.1111111111111111,
              "#46039f"
             ],
             [
              0.2222222222222222,
              "#7201a8"
             ],
             [
              0.3333333333333333,
              "#9c179e"
             ],
             [
              0.4444444444444444,
              "#bd3786"
             ],
             [
              0.5555555555555556,
              "#d8576b"
             ],
             [
              0.6666666666666666,
              "#ed7953"
             ],
             [
              0.7777777777777778,
              "#fb9f3a"
             ],
             [
              0.8888888888888888,
              "#fdca26"
             ],
             [
              1,
              "#f0f921"
             ]
            ],
            "type": "heatmap"
           }
          ],
          "heatmapgl": [
           {
            "colorbar": {
             "outlinewidth": 0,
             "ticks": ""
            },
            "colorscale": [
             [
              0,
              "#0d0887"
             ],
             [
              0.1111111111111111,
              "#46039f"
             ],
             [
              0.2222222222222222,
              "#7201a8"
             ],
             [
              0.3333333333333333,
              "#9c179e"
             ],
             [
              0.4444444444444444,
              "#bd3786"
             ],
             [
              0.5555555555555556,
              "#d8576b"
             ],
             [
              0.6666666666666666,
              "#ed7953"
             ],
             [
              0.7777777777777778,
              "#fb9f3a"
             ],
             [
              0.8888888888888888,
              "#fdca26"
             ],
             [
              1,
              "#f0f921"
             ]
            ],
            "type": "heatmapgl"
           }
          ],
          "histogram": [
           {
            "marker": {
             "pattern": {
              "fillmode": "overlay",
              "size": 10,
              "solidity": 0.2
             }
            },
            "type": "histogram"
           }
          ],
          "histogram2d": [
           {
            "colorbar": {
             "outlinewidth": 0,
             "ticks": ""
            },
            "colorscale": [
             [
              0,
              "#0d0887"
             ],
             [
              0.1111111111111111,
              "#46039f"
             ],
             [
              0.2222222222222222,
              "#7201a8"
             ],
             [
              0.3333333333333333,
              "#9c179e"
             ],
             [
              0.4444444444444444,
              "#bd3786"
             ],
             [
              0.5555555555555556,
              "#d8576b"
             ],
             [
              0.6666666666666666,
              "#ed7953"
             ],
             [
              0.7777777777777778,
              "#fb9f3a"
             ],
             [
              0.8888888888888888,
              "#fdca26"
             ],
             [
              1,
              "#f0f921"
             ]
            ],
            "type": "histogram2d"
           }
          ],
          "histogram2dcontour": [
           {
            "colorbar": {
             "outlinewidth": 0,
             "ticks": ""
            },
            "colorscale": [
             [
              0,
              "#0d0887"
             ],
             [
              0.1111111111111111,
              "#46039f"
             ],
             [
              0.2222222222222222,
              "#7201a8"
             ],
             [
              0.3333333333333333,
              "#9c179e"
             ],
             [
              0.4444444444444444,
              "#bd3786"
             ],
             [
              0.5555555555555556,
              "#d8576b"
             ],
             [
              0.6666666666666666,
              "#ed7953"
             ],
             [
              0.7777777777777778,
              "#fb9f3a"
             ],
             [
              0.8888888888888888,
              "#fdca26"
             ],
             [
              1,
              "#f0f921"
             ]
            ],
            "type": "histogram2dcontour"
           }
          ],
          "mesh3d": [
           {
            "colorbar": {
             "outlinewidth": 0,
             "ticks": ""
            },
            "type": "mesh3d"
           }
          ],
          "parcoords": [
           {
            "line": {
             "colorbar": {
              "outlinewidth": 0,
              "ticks": ""
             }
            },
            "type": "parcoords"
           }
          ],
          "pie": [
           {
            "automargin": true,
            "type": "pie"
           }
          ],
          "scatter": [
           {
            "fillpattern": {
             "fillmode": "overlay",
             "size": 10,
             "solidity": 0.2
            },
            "type": "scatter"
           }
          ],
          "scatter3d": [
           {
            "line": {
             "colorbar": {
              "outlinewidth": 0,
              "ticks": ""
             }
            },
            "marker": {
             "colorbar": {
              "outlinewidth": 0,
              "ticks": ""
             }
            },
            "type": "scatter3d"
           }
          ],
          "scattercarpet": [
           {
            "marker": {
             "colorbar": {
              "outlinewidth": 0,
              "ticks": ""
             }
            },
            "type": "scattercarpet"
           }
          ],
          "scattergeo": [
           {
            "marker": {
             "colorbar": {
              "outlinewidth": 0,
              "ticks": ""
             }
            },
            "type": "scattergeo"
           }
          ],
          "scattergl": [
           {
            "marker": {
             "colorbar": {
              "outlinewidth": 0,
              "ticks": ""
             }
            },
            "type": "scattergl"
           }
          ],
          "scattermapbox": [
           {
            "marker": {
             "colorbar": {
              "outlinewidth": 0,
              "ticks": ""
             }
            },
            "type": "scattermapbox"
           }
          ],
          "scatterpolar": [
           {
            "marker": {
             "colorbar": {
              "outlinewidth": 0,
              "ticks": ""
             }
            },
            "type": "scatterpolar"
           }
          ],
          "scatterpolargl": [
           {
            "marker": {
             "colorbar": {
              "outlinewidth": 0,
              "ticks": ""
             }
            },
            "type": "scatterpolargl"
           }
          ],
          "scatterternary": [
           {
            "marker": {
             "colorbar": {
              "outlinewidth": 0,
              "ticks": ""
             }
            },
            "type": "scatterternary"
           }
          ],
          "surface": [
           {
            "colorbar": {
             "outlinewidth": 0,
             "ticks": ""
            },
            "colorscale": [
             [
              0,
              "#0d0887"
             ],
             [
              0.1111111111111111,
              "#46039f"
             ],
             [
              0.2222222222222222,
              "#7201a8"
             ],
             [
              0.3333333333333333,
              "#9c179e"
             ],
             [
              0.4444444444444444,
              "#bd3786"
             ],
             [
              0.5555555555555556,
              "#d8576b"
             ],
             [
              0.6666666666666666,
              "#ed7953"
             ],
             [
              0.7777777777777778,
              "#fb9f3a"
             ],
             [
              0.8888888888888888,
              "#fdca26"
             ],
             [
              1,
              "#f0f921"
             ]
            ],
            "type": "surface"
           }
          ],
          "table": [
           {
            "cells": {
             "fill": {
              "color": "#EBF0F8"
             },
             "line": {
              "color": "white"
             }
            },
            "header": {
             "fill": {
              "color": "#C8D4E3"
             },
             "line": {
              "color": "white"
             }
            },
            "type": "table"
           }
          ]
         },
         "layout": {
          "annotationdefaults": {
           "arrowcolor": "#2a3f5f",
           "arrowhead": 0,
           "arrowwidth": 1
          },
          "autotypenumbers": "strict",
          "coloraxis": {
           "colorbar": {
            "outlinewidth": 0,
            "ticks": ""
           }
          },
          "colorscale": {
           "diverging": [
            [
             0,
             "#8e0152"
            ],
            [
             0.1,
             "#c51b7d"
            ],
            [
             0.2,
             "#de77ae"
            ],
            [
             0.3,
             "#f1b6da"
            ],
            [
             0.4,
             "#fde0ef"
            ],
            [
             0.5,
             "#f7f7f7"
            ],
            [
             0.6,
             "#e6f5d0"
            ],
            [
             0.7,
             "#b8e186"
            ],
            [
             0.8,
             "#7fbc41"
            ],
            [
             0.9,
             "#4d9221"
            ],
            [
             1,
             "#276419"
            ]
           ],
           "sequential": [
            [
             0,
             "#0d0887"
            ],
            [
             0.1111111111111111,
             "#46039f"
            ],
            [
             0.2222222222222222,
             "#7201a8"
            ],
            [
             0.3333333333333333,
             "#9c179e"
            ],
            [
             0.4444444444444444,
             "#bd3786"
            ],
            [
             0.5555555555555556,
             "#d8576b"
            ],
            [
             0.6666666666666666,
             "#ed7953"
            ],
            [
             0.7777777777777778,
             "#fb9f3a"
            ],
            [
             0.8888888888888888,
             "#fdca26"
            ],
            [
             1,
             "#f0f921"
            ]
           ],
           "sequentialminus": [
            [
             0,
             "#0d0887"
            ],
            [
             0.1111111111111111,
             "#46039f"
            ],
            [
             0.2222222222222222,
             "#7201a8"
            ],
            [
             0.3333333333333333,
             "#9c179e"
            ],
            [
             0.4444444444444444,
             "#bd3786"
            ],
            [
             0.5555555555555556,
             "#d8576b"
            ],
            [
             0.6666666666666666,
             "#ed7953"
            ],
            [
             0.7777777777777778,
             "#fb9f3a"
            ],
            [
             0.8888888888888888,
             "#fdca26"
            ],
            [
             1,
             "#f0f921"
            ]
           ]
          },
          "colorway": [
           "#636efa",
           "#EF553B",
           "#00cc96",
           "#ab63fa",
           "#FFA15A",
           "#19d3f3",
           "#FF6692",
           "#B6E880",
           "#FF97FF",
           "#FECB52"
          ],
          "font": {
           "color": "#2a3f5f"
          },
          "geo": {
           "bgcolor": "white",
           "lakecolor": "white",
           "landcolor": "#E5ECF6",
           "showlakes": true,
           "showland": true,
           "subunitcolor": "white"
          },
          "hoverlabel": {
           "align": "left"
          },
          "hovermode": "closest",
          "mapbox": {
           "style": "light"
          },
          "paper_bgcolor": "white",
          "plot_bgcolor": "#E5ECF6",
          "polar": {
           "angularaxis": {
            "gridcolor": "white",
            "linecolor": "white",
            "ticks": ""
           },
           "bgcolor": "#E5ECF6",
           "radialaxis": {
            "gridcolor": "white",
            "linecolor": "white",
            "ticks": ""
           }
          },
          "scene": {
           "xaxis": {
            "backgroundcolor": "#E5ECF6",
            "gridcolor": "white",
            "gridwidth": 2,
            "linecolor": "white",
            "showbackground": true,
            "ticks": "",
            "zerolinecolor": "white"
           },
           "yaxis": {
            "backgroundcolor": "#E5ECF6",
            "gridcolor": "white",
            "gridwidth": 2,
            "linecolor": "white",
            "showbackground": true,
            "ticks": "",
            "zerolinecolor": "white"
           },
           "zaxis": {
            "backgroundcolor": "#E5ECF6",
            "gridcolor": "white",
            "gridwidth": 2,
            "linecolor": "white",
            "showbackground": true,
            "ticks": "",
            "zerolinecolor": "white"
           }
          },
          "shapedefaults": {
           "line": {
            "color": "#2a3f5f"
           }
          },
          "ternary": {
           "aaxis": {
            "gridcolor": "white",
            "linecolor": "white",
            "ticks": ""
           },
           "baxis": {
            "gridcolor": "white",
            "linecolor": "white",
            "ticks": ""
           },
           "bgcolor": "#E5ECF6",
           "caxis": {
            "gridcolor": "white",
            "linecolor": "white",
            "ticks": ""
           }
          },
          "title": {
           "x": 0.05
          },
          "xaxis": {
           "automargin": true,
           "gridcolor": "white",
           "linecolor": "white",
           "ticks": "",
           "title": {
            "standoff": 15
           },
           "zerolinecolor": "white",
           "zerolinewidth": 2
          },
          "yaxis": {
           "automargin": true,
           "gridcolor": "white",
           "linecolor": "white",
           "ticks": "",
           "title": {
            "standoff": 15
           },
           "zerolinecolor": "white",
           "zerolinewidth": 2
          }
         }
        },
        "title": {
         "text": "Bleu-4 token level (max)"
        },
        "width": 600,
        "xaxis": {
         "anchor": "y",
         "constrain": "domain",
         "domain": [
          0,
          1
         ],
         "scaleanchor": "y",
         "tickangle": -45
        },
        "yaxis": {
         "anchor": "x",
         "autorange": "reversed",
         "constrain": "domain",
         "domain": [
          0,
          1
         ]
        }
       }
      },
      "text/html": [
       "<div>                            <div id=\"3ebe7c05-3970-4c30-a790-c463498ae207\" class=\"plotly-graph-div\" style=\"height:600px; width:600px;\"></div>            <script type=\"text/javascript\">                require([\"plotly\"], function(Plotly) {                    window.PLOTLYENV=window.PLOTLYENV || {};                                    if (document.getElementById(\"3ebe7c05-3970-4c30-a790-c463498ae207\")) {                    Plotly.newPlot(                        \"3ebe7c05-3970-4c30-a790-c463498ae207\",                        [{\"coloraxis\":\"coloraxis\",\"name\":\"0\",\"texttemplate\":\"%{z}\",\"x\":[\"Ground Truth\",\"Mistral Fine-Tuned \",\"Mistral Fine-Tuned Top 1\",\"Mistral Fine-Tuned Top 3\",\"Mistral Fine-Tuned Gold\",\"Mistral Prompt \",\"Mistral Prompt Top 1\",\"Mistral Prompt Top 3\",\"Mistral Prompt Gold\"],\"y\":[\"Mistral Prompt Gold\",\"Mistral Prompt Top 3\",\"Mistral Prompt Top 1\",\"Mistral Prompt \",\"Mistral Fine-Tuned Gold\",\"Mistral Fine-Tuned Top 3\",\"Mistral Fine-Tuned Top 1\",\"Mistral Fine-Tuned \",\"Ground Truth\"],\"z\":[[0.442,0.529,1.0,0.565,0.863,1.0,1.0,1.0,0.0],[0.54,0.794,1.0,0.606,0.863,1.0,1.0,0.0,1.0],[0.454,0.499,1.0,0.657,0.863,1.0,0.0,1.0,1.0],[0.442,0.794,1.0,0.699,0.863,0.0,1.0,1.0,1.0],[0.8,1.0,1.0,1.0,0.0,0.863,0.863,0.863,0.863],[0.863,1.0,1.0,0.0,1.0,0.699,0.659,0.646,0.569],[0.732,1.0,0.0,1.0,1.0,1.0,1.0,1.0,1.0],[0.925,0.0,1.0,1.0,1.0,0.791,0.508,0.791,0.526],[0.0,0.925,0.727,0.863,0.786,0.445,0.456,0.539,0.445]],\"type\":\"heatmap\",\"xaxis\":\"x\",\"yaxis\":\"y\",\"hovertemplate\":\"x: %{x}\\u003cbr\\u003ey: %{y}\\u003cbr\\u003ecolor: %{z}\\u003cextra\\u003e\\u003c\\u002fextra\\u003e\"}],                        {\"template\":{\"data\":{\"histogram2dcontour\":[{\"type\":\"histogram2dcontour\",\"colorbar\":{\"outlinewidth\":0,\"ticks\":\"\"},\"colorscale\":[[0.0,\"#0d0887\"],[0.1111111111111111,\"#46039f\"],[0.2222222222222222,\"#7201a8\"],[0.3333333333333333,\"#9c179e\"],[0.4444444444444444,\"#bd3786\"],[0.5555555555555556,\"#d8576b\"],[0.6666666666666666,\"#ed7953\"],[0.7777777777777778,\"#fb9f3a\"],[0.8888888888888888,\"#fdca26\"],[1.0,\"#f0f921\"]]}],\"choropleth\":[{\"type\":\"choropleth\",\"colorbar\":{\"outlinewidth\":0,\"ticks\":\"\"}}],\"histogram2d\":[{\"type\":\"histogram2d\",\"colorbar\":{\"outlinewidth\":0,\"ticks\":\"\"},\"colorscale\":[[0.0,\"#0d0887\"],[0.1111111111111111,\"#46039f\"],[0.2222222222222222,\"#7201a8\"],[0.3333333333333333,\"#9c179e\"],[0.4444444444444444,\"#bd3786\"],[0.5555555555555556,\"#d8576b\"],[0.6666666666666666,\"#ed7953\"],[0.7777777777777778,\"#fb9f3a\"],[0.8888888888888888,\"#fdca26\"],[1.0,\"#f0f921\"]]}],\"heatmap\":[{\"type\":\"heatmap\",\"colorbar\":{\"outlinewidth\":0,\"ticks\":\"\"},\"colorscale\":[[0.0,\"#0d0887\"],[0.1111111111111111,\"#46039f\"],[0.2222222222222222,\"#7201a8\"],[0.3333333333333333,\"#9c179e\"],[0.4444444444444444,\"#bd3786\"],[0.5555555555555556,\"#d8576b\"],[0.6666666666666666,\"#ed7953\"],[0.7777777777777778,\"#fb9f3a\"],[0.8888888888888888,\"#fdca26\"],[1.0,\"#f0f921\"]]}],\"heatmapgl\":[{\"type\":\"heatmapgl\",\"colorbar\":{\"outlinewidth\":0,\"ticks\":\"\"},\"colorscale\":[[0.0,\"#0d0887\"],[0.1111111111111111,\"#46039f\"],[0.2222222222222222,\"#7201a8\"],[0.3333333333333333,\"#9c179e\"],[0.4444444444444444,\"#bd3786\"],[0.5555555555555556,\"#d8576b\"],[0.6666666666666666,\"#ed7953\"],[0.7777777777777778,\"#fb9f3a\"],[0.8888888888888888,\"#fdca26\"],[1.0,\"#f0f921\"]]}],\"contourcarpet\":[{\"type\":\"contourcarpet\",\"colorbar\":{\"outlinewidth\":0,\"ticks\":\"\"}}],\"contour\":[{\"type\":\"contour\",\"colorbar\":{\"outlinewidth\":0,\"ticks\":\"\"},\"colorscale\":[[0.0,\"#0d0887\"],[0.1111111111111111,\"#46039f\"],[0.2222222222222222,\"#7201a8\"],[0.3333333333333333,\"#9c179e\"],[0.4444444444444444,\"#bd3786\"],[0.5555555555555556,\"#d8576b\"],[0.6666666666666666,\"#ed7953\"],[0.7777777777777778,\"#fb9f3a\"],[0.8888888888888888,\"#fdca26\"],[1.0,\"#f0f921\"]]}],\"surface\":[{\"type\":\"surface\",\"colorbar\":{\"outlinewidth\":0,\"ticks\":\"\"},\"colorscale\":[[0.0,\"#0d0887\"],[0.1111111111111111,\"#46039f\"],[0.2222222222222222,\"#7201a8\"],[0.3333333333333333,\"#9c179e\"],[0.4444444444444444,\"#bd3786\"],[0.5555555555555556,\"#d8576b\"],[0.6666666666666666,\"#ed7953\"],[0.7777777777777778,\"#fb9f3a\"],[0.8888888888888888,\"#fdca26\"],[1.0,\"#f0f921\"]]}],\"mesh3d\":[{\"type\":\"mesh3d\",\"colorbar\":{\"outlinewidth\":0,\"ticks\":\"\"}}],\"scatter\":[{\"fillpattern\":{\"fillmode\":\"overlay\",\"size\":10,\"solidity\":0.2},\"type\":\"scatter\"}],\"parcoords\":[{\"type\":\"parcoords\",\"line\":{\"colorbar\":{\"outlinewidth\":0,\"ticks\":\"\"}}}],\"scatterpolargl\":[{\"type\":\"scatterpolargl\",\"marker\":{\"colorbar\":{\"outlinewidth\":0,\"ticks\":\"\"}}}],\"bar\":[{\"error_x\":{\"color\":\"#2a3f5f\"},\"error_y\":{\"color\":\"#2a3f5f\"},\"marker\":{\"line\":{\"color\":\"#E5ECF6\",\"width\":0.5},\"pattern\":{\"fillmode\":\"overlay\",\"size\":10,\"solidity\":0.2}},\"type\":\"bar\"}],\"scattergeo\":[{\"type\":\"scattergeo\",\"marker\":{\"colorbar\":{\"outlinewidth\":0,\"ticks\":\"\"}}}],\"scatterpolar\":[{\"type\":\"scatterpolar\",\"marker\":{\"colorbar\":{\"outlinewidth\":0,\"ticks\":\"\"}}}],\"histogram\":[{\"marker\":{\"pattern\":{\"fillmode\":\"overlay\",\"size\":10,\"solidity\":0.2}},\"type\":\"histogram\"}],\"scattergl\":[{\"type\":\"scattergl\",\"marker\":{\"colorbar\":{\"outlinewidth\":0,\"ticks\":\"\"}}}],\"scatter3d\":[{\"type\":\"scatter3d\",\"line\":{\"colorbar\":{\"outlinewidth\":0,\"ticks\":\"\"}},\"marker\":{\"colorbar\":{\"outlinewidth\":0,\"ticks\":\"\"}}}],\"scattermapbox\":[{\"type\":\"scattermapbox\",\"marker\":{\"colorbar\":{\"outlinewidth\":0,\"ticks\":\"\"}}}],\"scatterternary\":[{\"type\":\"scatterternary\",\"marker\":{\"colorbar\":{\"outlinewidth\":0,\"ticks\":\"\"}}}],\"scattercarpet\":[{\"type\":\"scattercarpet\",\"marker\":{\"colorbar\":{\"outlinewidth\":0,\"ticks\":\"\"}}}],\"carpet\":[{\"aaxis\":{\"endlinecolor\":\"#2a3f5f\",\"gridcolor\":\"white\",\"linecolor\":\"white\",\"minorgridcolor\":\"white\",\"startlinecolor\":\"#2a3f5f\"},\"baxis\":{\"endlinecolor\":\"#2a3f5f\",\"gridcolor\":\"white\",\"linecolor\":\"white\",\"minorgridcolor\":\"white\",\"startlinecolor\":\"#2a3f5f\"},\"type\":\"carpet\"}],\"table\":[{\"cells\":{\"fill\":{\"color\":\"#EBF0F8\"},\"line\":{\"color\":\"white\"}},\"header\":{\"fill\":{\"color\":\"#C8D4E3\"},\"line\":{\"color\":\"white\"}},\"type\":\"table\"}],\"barpolar\":[{\"marker\":{\"line\":{\"color\":\"#E5ECF6\",\"width\":0.5},\"pattern\":{\"fillmode\":\"overlay\",\"size\":10,\"solidity\":0.2}},\"type\":\"barpolar\"}],\"pie\":[{\"automargin\":true,\"type\":\"pie\"}]},\"layout\":{\"autotypenumbers\":\"strict\",\"colorway\":[\"#636efa\",\"#EF553B\",\"#00cc96\",\"#ab63fa\",\"#FFA15A\",\"#19d3f3\",\"#FF6692\",\"#B6E880\",\"#FF97FF\",\"#FECB52\"],\"font\":{\"color\":\"#2a3f5f\"},\"hovermode\":\"closest\",\"hoverlabel\":{\"align\":\"left\"},\"paper_bgcolor\":\"white\",\"plot_bgcolor\":\"#E5ECF6\",\"polar\":{\"bgcolor\":\"#E5ECF6\",\"angularaxis\":{\"gridcolor\":\"white\",\"linecolor\":\"white\",\"ticks\":\"\"},\"radialaxis\":{\"gridcolor\":\"white\",\"linecolor\":\"white\",\"ticks\":\"\"}},\"ternary\":{\"bgcolor\":\"#E5ECF6\",\"aaxis\":{\"gridcolor\":\"white\",\"linecolor\":\"white\",\"ticks\":\"\"},\"baxis\":{\"gridcolor\":\"white\",\"linecolor\":\"white\",\"ticks\":\"\"},\"caxis\":{\"gridcolor\":\"white\",\"linecolor\":\"white\",\"ticks\":\"\"}},\"coloraxis\":{\"colorbar\":{\"outlinewidth\":0,\"ticks\":\"\"}},\"colorscale\":{\"sequential\":[[0.0,\"#0d0887\"],[0.1111111111111111,\"#46039f\"],[0.2222222222222222,\"#7201a8\"],[0.3333333333333333,\"#9c179e\"],[0.4444444444444444,\"#bd3786\"],[0.5555555555555556,\"#d8576b\"],[0.6666666666666666,\"#ed7953\"],[0.7777777777777778,\"#fb9f3a\"],[0.8888888888888888,\"#fdca26\"],[1.0,\"#f0f921\"]],\"sequentialminus\":[[0.0,\"#0d0887\"],[0.1111111111111111,\"#46039f\"],[0.2222222222222222,\"#7201a8\"],[0.3333333333333333,\"#9c179e\"],[0.4444444444444444,\"#bd3786\"],[0.5555555555555556,\"#d8576b\"],[0.6666666666666666,\"#ed7953\"],[0.7777777777777778,\"#fb9f3a\"],[0.8888888888888888,\"#fdca26\"],[1.0,\"#f0f921\"]],\"diverging\":[[0,\"#8e0152\"],[0.1,\"#c51b7d\"],[0.2,\"#de77ae\"],[0.3,\"#f1b6da\"],[0.4,\"#fde0ef\"],[0.5,\"#f7f7f7\"],[0.6,\"#e6f5d0\"],[0.7,\"#b8e186\"],[0.8,\"#7fbc41\"],[0.9,\"#4d9221\"],[1,\"#276419\"]]},\"xaxis\":{\"gridcolor\":\"white\",\"linecolor\":\"white\",\"ticks\":\"\",\"title\":{\"standoff\":15},\"zerolinecolor\":\"white\",\"automargin\":true,\"zerolinewidth\":2},\"yaxis\":{\"gridcolor\":\"white\",\"linecolor\":\"white\",\"ticks\":\"\",\"title\":{\"standoff\":15},\"zerolinecolor\":\"white\",\"automargin\":true,\"zerolinewidth\":2},\"scene\":{\"xaxis\":{\"backgroundcolor\":\"#E5ECF6\",\"gridcolor\":\"white\",\"linecolor\":\"white\",\"showbackground\":true,\"ticks\":\"\",\"zerolinecolor\":\"white\",\"gridwidth\":2},\"yaxis\":{\"backgroundcolor\":\"#E5ECF6\",\"gridcolor\":\"white\",\"linecolor\":\"white\",\"showbackground\":true,\"ticks\":\"\",\"zerolinecolor\":\"white\",\"gridwidth\":2},\"zaxis\":{\"backgroundcolor\":\"#E5ECF6\",\"gridcolor\":\"white\",\"linecolor\":\"white\",\"showbackground\":true,\"ticks\":\"\",\"zerolinecolor\":\"white\",\"gridwidth\":2}},\"shapedefaults\":{\"line\":{\"color\":\"#2a3f5f\"}},\"annotationdefaults\":{\"arrowcolor\":\"#2a3f5f\",\"arrowhead\":0,\"arrowwidth\":1},\"geo\":{\"bgcolor\":\"white\",\"landcolor\":\"#E5ECF6\",\"subunitcolor\":\"white\",\"showland\":true,\"showlakes\":true,\"lakecolor\":\"white\"},\"title\":{\"x\":0.05},\"mapbox\":{\"style\":\"light\"}}},\"xaxis\":{\"anchor\":\"y\",\"domain\":[0.0,1.0],\"scaleanchor\":\"y\",\"constrain\":\"domain\",\"tickangle\":-45},\"yaxis\":{\"anchor\":\"x\",\"domain\":[0.0,1.0],\"autorange\":\"reversed\",\"constrain\":\"domain\"},\"coloraxis\":{\"colorscale\":[[0.0,\"#0d0887\"],[0.1111111111111111,\"#46039f\"],[0.2222222222222222,\"#7201a8\"],[0.3333333333333333,\"#9c179e\"],[0.4444444444444444,\"#bd3786\"],[0.5555555555555556,\"#d8576b\"],[0.6666666666666666,\"#ed7953\"],[0.7777777777777778,\"#fb9f3a\"],[0.8888888888888888,\"#fdca26\"],[1.0,\"#f0f921\"]]},\"title\":{\"text\":\"Bleu-4 token level (max)\"},\"font\":{\"size\":15},\"height\":600,\"width\":600},                        {\"responsive\": true}                    ).then(function(){\n",
       "                            \n",
       "var gd = document.getElementById('3ebe7c05-3970-4c30-a790-c463498ae207');\n",
       "var x = new MutationObserver(function (mutations, observer) {{\n",
       "        var display = window.getComputedStyle(gd).display;\n",
       "        if (!display || display === 'none') {{\n",
       "            console.log([gd, 'removed!']);\n",
       "            Plotly.purge(gd);\n",
       "            observer.disconnect();\n",
       "        }}\n",
       "}});\n",
       "\n",
       "// Listen for the removal of the full notebook cells\n",
       "var notebookContainer = gd.closest('#notebook-container');\n",
       "if (notebookContainer) {{\n",
       "    x.observe(notebookContainer, {childList: true});\n",
       "}}\n",
       "\n",
       "// Listen for the clearing of the current output cell\n",
       "var outputEl = gd.closest('.output');\n",
       "if (outputEl) {{\n",
       "    x.observe(outputEl, {childList: true});\n",
       "}}\n",
       "\n",
       "                        })                };                });            </script>        </div>"
      ]
     },
     "metadata": {},
     "output_type": "display_data"
    }
   ],
   "source": [
    "candidates = [\n",
    "    \"gt\",\n",
    "    \"mistral_ft_none.json\",\n",
    "    \"mistral_ft_retrieved_top-1.json\",\n",
    "    \"mistral_ft_retrieved_top-3.json\",\n",
    "    \"mistral_ft_gold.json\",\n",
    "    \"mistral_prompt_none.json\",\n",
    "    \"mistral_prompt_retrieved_top-1.json\",\n",
    "    \"mistral_prompt_retrieved_top-3.json\",\n",
    "    \"mistral_prompt_gold.json\",\n",
    "]\n",
    "\n",
    "plot_cross_bleu(task_replies, candidates, replacements, results_to_plot=['b4_tok'], operation=\"max\")"
   ]
  },
  {
   "cell_type": "markdown",
   "metadata": {},
   "source": [
    "#### Samples above a threshold"
   ]
  },
  {
   "cell_type": "code",
   "execution_count": 9,
   "metadata": {},
   "outputs": [
    {
     "name": "stderr",
     "output_type": "stream",
     "text": [
      "100%|██████████| 1941/1941 [00:17<00:00, 107.91it/s]"
     ]
    },
    {
     "name": "stdout",
     "output_type": "stream",
     "text": [
      "Number of samples above threshold: 10.41%\n"
     ]
    },
    {
     "name": "stderr",
     "output_type": "stream",
     "text": [
      "\n"
     ]
    }
   ],
   "source": [
    "from utils import get_samples_above_threshold\n",
    "\n",
    "\n",
    "candidates = [\n",
    "    \"gt\",\n",
    "    \"llama_ft_none.json\",\n",
    "    \"llama_ft_retrieved_top-1.json\",\n",
    "    \"llama_ft_retrieved_top-3.json\",\n",
    "    \"llama_ft_gold.json\",\n",
    "    \"llama_prompt_none.json\",\n",
    "    \"llama_prompt_retrieved_top-1.json\",\n",
    "    \"llama_prompt_retrieved_top-3.json\",\n",
    "    \"llama_prompt_gold.json\",\n",
    "]\n",
    "\n",
    "llama_samples_above_threshold = get_samples_above_threshold(task_replies, candidates, threshold=1)\n",
    "\n",
    "print(f\"Number of samples above threshold: {round(len(llama_samples_above_threshold)/len(task_replies)*100, 2)}%\")"
   ]
  },
  {
   "cell_type": "code",
   "execution_count": 10,
   "metadata": {},
   "outputs": [
    {
     "name": "stderr",
     "output_type": "stream",
     "text": [
      "100%|██████████| 1941/1941 [00:15<00:00, 125.14it/s]"
     ]
    },
    {
     "name": "stdout",
     "output_type": "stream",
     "text": [
      "Number of samples above threshold: 29.57%\n"
     ]
    },
    {
     "name": "stderr",
     "output_type": "stream",
     "text": [
      "\n"
     ]
    }
   ],
   "source": [
    "from utils import get_samples_above_threshold\n",
    "\n",
    "\n",
    "candidates = [\n",
    "    \"gt\",\n",
    "    \"mistral_ft_none.json\",\n",
    "    \"mistral_ft_retrieved_top-1.json\",\n",
    "    \"mistral_ft_retrieved_top-3.json\",\n",
    "    \"mistral_ft_gold.json\",\n",
    "    \"mistral_prompt_none.json\",\n",
    "    \"mistral_prompt_retrieved_top-1.json\",\n",
    "    \"mistral_prompt_retrieved_top-3.json\",\n",
    "    \"mistral_prompt_gold.json\",\n",
    "]\n",
    "\n",
    "mistral_samples_above_threshold = get_samples_above_threshold(task_replies, candidates, threshold=1)\n",
    "\n",
    "print(f\"Number of samples above threshold: {round(len(mistral_samples_above_threshold)/len(task_replies)*100, 2)}%\")"
   ]
  },
  {
   "cell_type": "code",
   "execution_count": 11,
   "metadata": {},
   "outputs": [
    {
     "name": "stdout",
     "output_type": "stream",
     "text": [
      "Total number of samples above threshold: 35.39%\n"
     ]
    }
   ],
   "source": [
    "total_samples_above_threshold = llama_samples_above_threshold.union(mistral_samples_above_threshold)\n",
    "print(f\"Total number of samples above threshold: {round(len(total_samples_above_threshold)/len(task_replies)*100, 2)}%\")"
   ]
  },
  {
   "cell_type": "markdown",
   "metadata": {},
   "source": [
    "### KF1 Unigram-Overlap (w. knowledge)"
   ]
  },
  {
   "cell_type": "markdown",
   "metadata": {},
   "source": [
    "#### Full test set"
   ]
  },
  {
   "cell_type": "code",
   "execution_count": 20,
   "metadata": {},
   "outputs": [
    {
     "name": "stderr",
     "output_type": "stream",
     "text": [
      "Computing KF1: 100%|██████████| 15840/15840 [00:03<00:00, 4532.27it/s]"
     ]
    },
    {
     "name": "stdout",
     "output_type": "stream",
     "text": [
      "gt: 0.3779\n",
      "llama_prompt_gold: 0.2587\n",
      "llama_ft_gold: 0.4269\n",
      "llama_ft_retrieved_top-3: 0.2685\n",
      "llama_prompt_retrieved_top-3: 0.121\n",
      "llama_ft_none: 0.3404\n",
      "llama_prompt_none: 0.1366\n",
      "llama_prompt_retrieved_top-1: 0.1379\n",
      "llama_ft_retrieved_top-1: 0.2802\n",
      "mistral_prompt_gold: 0.2874\n",
      "mistral_ft_gold: 0.4303\n",
      "mistral_ft_retrieved_top-3: 0.3044\n",
      "mistral_prompt_retrieved_top-3: 0.1253\n",
      "mistral_ft_none: 0.2927\n",
      "mistral_prompt_none: 0.1301\n",
      "mistral_prompt_retrieved_top-1: 0.1306\n",
      "mistral_ft_retrieved_top-1: 0.2934\n"
     ]
    },
    {
     "name": "stderr",
     "output_type": "stream",
     "text": [
      "\n"
     ]
    }
   ],
   "source": [
    "techniques = {}\n",
    "for *_, gold_knowledge, retrieved_knowledge, speaker, target, sample_id in tqdm(ds, desc=\"Computing KF1\"):\n",
    "    if speaker == \"U\":\n",
    "        continue\n",
    "    if len(gold_knowledge) <=0:\n",
    "        continue\n",
    "    for key, value in task_replies[sample_id].items():\n",
    "        if key not in techniques:\n",
    "            techniques[key] = TeacherMetrics()\n",
    "        techniques[key].evaluate_response({\"text\": value}, [gold_knowledge[0][\"doc\"][\"body\"]])\n",
    "\n",
    "for technique, metrics in techniques.items():\n",
    "    print(f\"{technique}: {metrics.report()['f1']}\")"
   ]
  },
  {
   "cell_type": "markdown",
   "metadata": {},
   "source": [
    "#### Samples with correctly retrieved documents"
   ]
  },
  {
   "cell_type": "markdown",
   "metadata": {},
   "source": [
    "##### Top-1"
   ]
  },
  {
   "cell_type": "code",
   "execution_count": 9,
   "metadata": {},
   "outputs": [
    {
     "name": "stderr",
     "output_type": "stream",
     "text": [
      "Computing KF1: 100%|██████████| 15840/15840 [00:00<00:00, 70162.05it/s]"
     ]
    },
    {
     "name": "stdout",
     "output_type": "stream",
     "text": [
      "gt: 0.3928\n",
      "llama_prompt_gold.json: 0.3035\n",
      "llama_ft_gold.json: 0.4383\n",
      "llama_prompt_retrieved_top-1.json: 0.3199\n",
      "llama_ft_retrieved_top-1.json: 0.4319\n",
      "mistral_prompt_gold.json: 0.4078\n",
      "mistral_ft_gold.json: 0.4427\n",
      "mistral_prompt_retrieved_top-1.json: 0.3703\n",
      "mistral_ft_retrieved_top-1.json: 0.3545\n"
     ]
    },
    {
     "name": "stderr",
     "output_type": "stream",
     "text": [
      "\n"
     ]
    }
   ],
   "source": [
    "techniques = {}\n",
    "for *_, gold_knowledge, retrieved_knowledge, speaker, target, sample_id in tqdm(ds, desc=\"Computing KF1\"):\n",
    "\n",
    "    if speaker == \"U\":\n",
    "        continue\n",
    "    if len(gold_knowledge) <=0:\n",
    "        continue\n",
    "    retrieved_sentences = [doc[\"doc\"][\"body\"] for doc in retrieved_knowledge[:1]]\n",
    "\n",
    "    if gold_knowledge[0][\"doc\"][\"body\"] not in retrieved_sentences:\n",
    "        continue\n",
    "\n",
    "    for key, value in task_replies[sample_id].items():\n",
    "        if \"retrieved_top-1\" in key or \"gold\" in key or \"gt\" in key:\n",
    "            if key not in techniques:\n",
    "                techniques[key] = TeacherMetrics()\n",
    "            techniques[key].evaluate_response({\"text\": value}, [gold_knowledge[0][\"doc\"][\"body\"]])\n",
    "\n",
    "for technique, metrics in techniques.items():\n",
    "    print(f\"{technique}: {metrics.report()['f1']}\")"
   ]
  },
  {
   "cell_type": "markdown",
   "metadata": {},
   "source": [
    "##### Top-3"
   ]
  },
  {
   "cell_type": "code",
   "execution_count": 11,
   "metadata": {},
   "outputs": [
    {
     "name": "stderr",
     "output_type": "stream",
     "text": [
      "Computing KF1:   0%|          | 0/15840 [00:00<?, ?it/s]"
     ]
    },
    {
     "name": "stderr",
     "output_type": "stream",
     "text": [
      "Computing KF1: 100%|██████████| 15840/15840 [00:00<00:00, 61190.73it/s]"
     ]
    },
    {
     "name": "stdout",
     "output_type": "stream",
     "text": [
      "gt: 0.3882\n",
      "llama_prompt_gold.json: 0.2972\n",
      "llama_ft_gold.json: 0.4141\n",
      "llama_ft_retrieved_top-3.json: 0.3641\n",
      "llama_prompt_retrieved_top-3.json: 0.2372\n",
      "mistral_prompt_gold.json: 0.3681\n",
      "mistral_ft_gold.json: 0.4366\n",
      "mistral_ft_retrieved_top-3.json: 0.3724\n",
      "mistral_prompt_retrieved_top-3.json: 0.2565\n"
     ]
    },
    {
     "name": "stderr",
     "output_type": "stream",
     "text": [
      "\n"
     ]
    }
   ],
   "source": [
    "techniques = {}\n",
    "for *_, gold_knowledge, retrieved_knowledge, speaker, target, sample_id in tqdm(ds, desc=\"Computing KF1\"):\n",
    "\n",
    "    if speaker == \"U\":\n",
    "        continue\n",
    "    if len(gold_knowledge) <=0:\n",
    "        continue\n",
    "    retrieved_sentences = [doc[\"doc\"][\"body\"] for doc in retrieved_knowledge[:3]]\n",
    "\n",
    "    if gold_knowledge[0][\"doc\"][\"body\"] not in retrieved_sentences:\n",
    "        continue\n",
    "\n",
    "    for key, value in task_replies[sample_id].items():\n",
    "        if \"retrieved_top-3\" in key or \"gold\" in key or \"gt\" in key:\n",
    "            if key not in techniques:\n",
    "                techniques[key] = TeacherMetrics()\n",
    "            techniques[key].evaluate_response({\"text\": value}, [gold_knowledge[0][\"doc\"][\"body\"]])\n",
    "\n",
    "for technique, metrics in techniques.items():\n",
    "    print(f\"{technique}: {metrics.report()['f1']}\")"
   ]
  },
  {
   "cell_type": "markdown",
   "metadata": {},
   "source": [
    "#### Samples not in the training set"
   ]
  },
  {
   "cell_type": "code",
   "execution_count": 5,
   "metadata": {},
   "outputs": [
    {
     "name": "stderr",
     "output_type": "stream",
     "text": [
      "Preparing dataset: 100%|██████████| 7173/7173 [00:01<00:00, 5788.85dialogues/s]\n",
      "Preparing dataset: 100%|██████████| 1984/1984 [00:00<00:00, 37214.51dialogues/s]\n",
      "Computing KF1: 100%|██████████| 137789/137789 [00:00<00:00, 738126.84it/s]\n",
      "Computing KF1: 100%|██████████| 15840/15840 [00:00<00:00, 357340.27it/s]"
     ]
    },
    {
     "name": "stdout",
     "output_type": "stream",
     "text": [
      "Number of unique knowledge in train: 2288\n",
      "Number of unique knowledge in test: 392\n",
      "Number of unique knowledge in test only: 69\n"
     ]
    },
    {
     "name": "stderr",
     "output_type": "stream",
     "text": [
      "\n"
     ]
    }
   ],
   "source": [
    "with open(\"../data/DSTC9/train.json\", \"r\") as f:\n",
    "    data = json.load(f)\n",
    "    train_ds = Dataset(\n",
    "        data,\n",
    "        split=\"train\",\n",
    "        unstr_kb_path=\"../original_data/DSTC9/data/\",\n",
    "    )\n",
    "\n",
    "with open(\"../data/DSTC9/test.json\", \"r\") as f:\n",
    "    data = json.load(f)\n",
    "    test_ds = Dataset(\n",
    "        data,\n",
    "        split=\"test\",\n",
    "        unstr_kb_path=\"../original_data/DSTC9/data_eval/\",\n",
    "    )\n",
    "\n",
    "\n",
    "train_knowledge = set()\n",
    "test_knowledge = set()\n",
    "\n",
    "for *_, gold_knowledge, _, speaker, _, _ in tqdm(train_ds, desc=\"Computing KF1\"):\n",
    "    if speaker == \"U\":\n",
    "        continue\n",
    "    for _ in gold_knowledge:\n",
    "        train_knowledge.add((_[\"domain\"], _[\"entity_id\"], _[\"doc_id\"]))\n",
    "\n",
    "for *_, gold_knowledge, _, speaker, _, _ in tqdm(test_ds, desc=\"Computing KF1\"):\n",
    "    if speaker == \"U\":\n",
    "        continue\n",
    "    for _ in gold_knowledge:\n",
    "        test_knowledge.add((_[\"domain\"], _[\"entity_id\"], _[\"doc_id\"]))\n",
    "\n",
    "\n",
    "print(\"Number of unique knowledge in train:\", len(train_knowledge))\n",
    "print(\"Number of unique knowledge in test:\", len(test_knowledge))\n",
    "test_only_knowledge = test_knowledge - train_knowledge\n",
    "print(\"Number of unique knowledge in test only:\", len(test_only_knowledge))"
   ]
  },
  {
   "cell_type": "code",
   "execution_count": 21,
   "metadata": {},
   "outputs": [
    {
     "name": "stderr",
     "output_type": "stream",
     "text": [
      "Computing KF1: 100%|██████████| 15840/15840 [00:00<00:00, 25915.02it/s]"
     ]
    },
    {
     "name": "stdout",
     "output_type": "stream",
     "text": [
      "gt: 0.3991\n",
      "llama_prompt_gold: 0.2377\n",
      "llama_ft_gold: 0.4549\n",
      "llama_ft_retrieved_top-3: 0.2292\n",
      "llama_prompt_retrieved_top-3: 0.1044\n",
      "llama_ft_none: 0.2573\n",
      "llama_prompt_none: 0.1239\n",
      "llama_prompt_retrieved_top-1: 0.1186\n",
      "llama_ft_retrieved_top-1: 0.2435\n",
      "mistral_prompt_gold: 0.2879\n",
      "mistral_ft_gold: 0.494\n",
      "mistral_ft_retrieved_top-3: 0.2561\n",
      "mistral_prompt_retrieved_top-3: 0.1036\n",
      "mistral_ft_none: 0.2547\n",
      "mistral_prompt_none: 0.1191\n",
      "mistral_prompt_retrieved_top-1: 0.1154\n",
      "mistral_ft_retrieved_top-1: 0.27\n"
     ]
    },
    {
     "name": "stderr",
     "output_type": "stream",
     "text": [
      "\n"
     ]
    }
   ],
   "source": [
    "techniques = {}\n",
    "for *_, gold_knowledge, retrieved_knowledge, speaker, target, sample_id in tqdm(ds, desc=\"Computing KF1\"):\n",
    "    if speaker == \"U\":\n",
    "        continue\n",
    "    if len(gold_knowledge) <=0:\n",
    "        continue\n",
    "\n",
    "    _ = gold_knowledge[0]\n",
    "    if (_[\"domain\"], _[\"entity_id\"], _[\"doc_id\"]) not in test_only_knowledge:\n",
    "        continue\n",
    "\n",
    "    for key, value in task_replies[sample_id].items():\n",
    "        if key not in techniques:\n",
    "            techniques[key] = TeacherMetrics()\n",
    "        techniques[key].evaluate_response({\"text\": value}, [gold_knowledge[0][\"doc\"][\"body\"]])\n",
    "\n",
    "for technique, metrics in techniques.items():\n",
    "    print(f\"{technique}: {metrics.report()['f1']}\")"
   ]
  },
  {
   "cell_type": "code",
   "execution_count": null,
   "metadata": {},
   "outputs": [],
   "source": []
  },
  {
   "cell_type": "markdown",
   "metadata": {},
   "source": [
    "##### Top-1"
   ]
  },
  {
   "cell_type": "code",
   "execution_count": 19,
   "metadata": {},
   "outputs": [
    {
     "name": "stderr",
     "output_type": "stream",
     "text": [
      "Computing KF1:   0%|          | 0/15840 [00:00<?, ?it/s]"
     ]
    },
    {
     "name": "stderr",
     "output_type": "stream",
     "text": [
      "Computing KF1: 100%|██████████| 15840/15840 [00:00<00:00, 205004.88it/s]"
     ]
    },
    {
     "name": "stdout",
     "output_type": "stream",
     "text": [
      "gt: 0.3556\n",
      "llama_prompt_gold.json: 0.242\n",
      "llama_ft_gold.json: 0.4532\n",
      "llama_ft_none.json: 0.2488\n",
      "llama_prompt_none.json: 0.1162\n",
      "llama_prompt_retrieved_top-1.json: 0.2591\n",
      "llama_ft_retrieved_top-1.json: 0.4103\n",
      "mistral_prompt_gold.json: 0.3128\n",
      "mistral_ft_gold.json: 0.5596\n",
      "mistral_ft_none.json: 0.2257\n",
      "mistral_prompt_none.json: 0.1379\n",
      "mistral_prompt_retrieved_top-1.json: 0.3548\n",
      "mistral_ft_retrieved_top-1.json: 0.3387\n"
     ]
    },
    {
     "name": "stderr",
     "output_type": "stream",
     "text": [
      "\n"
     ]
    }
   ],
   "source": [
    "techniques = {}\n",
    "for *_, gold_knowledge, retrieved_knowledge, speaker, target, sample_id in tqdm(ds, desc=\"Computing KF1\"):\n",
    "\n",
    "    if speaker == \"U\":\n",
    "        continue\n",
    "    if len(gold_knowledge) <=0:\n",
    "        continue\n",
    "    retrieved_sentences = [doc[\"doc\"][\"body\"] for doc in retrieved_knowledge[:1]]\n",
    "\n",
    "    if gold_knowledge[0][\"doc\"][\"body\"] not in retrieved_sentences:\n",
    "        continue\n",
    "\n",
    "    if gold_knowledge[0][\"doc\"][\"body\"] not in test_only_knowledge:\n",
    "        continue\n",
    "\n",
    "    for key, value in task_replies[sample_id].items():\n",
    "        if \"retrieved_top-1\" in key or \"gold\" in key or \"gt\" in key or \"none\" in key:\n",
    "            if key not in techniques:\n",
    "                techniques[key] = TeacherMetrics()\n",
    "            techniques[key].evaluate_response({\"text\": value}, [gold_knowledge[0][\"doc\"][\"body\"]])\n",
    "\n",
    "for technique, metrics in techniques.items():\n",
    "    print(f\"{technique}: {metrics.report()['f1']}\")"
   ]
  }
 ],
 "metadata": {
  "kernelspec": {
   "display_name": "inlg",
   "language": "python",
   "name": "python3"
  },
  "language_info": {
   "codemirror_mode": {
    "name": "ipython",
    "version": 3
   },
   "file_extension": ".py",
   "mimetype": "text/x-python",
   "name": "python",
   "nbconvert_exporter": "python",
   "pygments_lexer": "ipython3",
   "version": "3.10.14"
  }
 },
 "nbformat": 4,
 "nbformat_minor": 2
}
