{
 "cells": [
  {
   "cell_type": "markdown",
   "metadata": {},
   "source": [
    "# Wizard of Wikipedia"
   ]
  },
  {
   "cell_type": "markdown",
   "metadata": {},
   "source": [
    "## Load data"
   ]
  },
  {
   "cell_type": "code",
   "execution_count": 4,
   "metadata": {},
   "outputs": [],
   "source": [
    "import json\n",
    "import os\n",
    "from typing import Dict, List, Optional, Tuple\n",
    "\n",
    "from tqdm import tqdm\n",
    "\n",
    "\n",
    "def get_gold_passage(turn: dict) -> Tuple[Optional[str], Optional[str]]:\n",
    "    if len(turn[\"checked_sentence\"]) == 0:\n",
    "        return None, None\n",
    "    key, sentence = next(iter(turn[\"checked_sentence\"].items()))\n",
    "    if key == \"no_passages_used\":\n",
    "        return None, None\n",
    "    if len(turn[\"checked_passage\"]) == 0:\n",
    "        topic = \" \".join(key.split(\"_\")[1:-1])\n",
    "    else:\n",
    "        topic = next(iter(turn[\"checked_passage\"].values()))\n",
    "\n",
    "    return topic, sentence\n",
    "\n",
    "\n",
    "def get_retrieved_passages(turn: dict) -> Dict[str, List[str]]:\n",
    "    retrieved_passages = {}\n",
    "    for passages_per_topic in turn[\"retrieved_passages\"]:\n",
    "        for topic, passages in passages_per_topic.items():\n",
    "            retrieved_passages[topic] = passages\n",
    "\n",
    "    return retrieved_passages\n",
    "\n",
    "\n",
    "def get_self_and_partner_passages(\n",
    "    passages: List[Dict[str, List[str]]]\n",
    ") -> Tuple[Dict[str, List[str]], Dict[str, List[str]]]:\n",
    "\n",
    "    if len(passages) == 0:\n",
    "        self_passages, partner_passages = {}, {}\n",
    "    elif len(passages) == 1:\n",
    "        self_passages, partner_passages = {}, passages[-1]\n",
    "    else:\n",
    "        self_passages, partner_passages = passages[-2], passages[-1]\n",
    "\n",
    "    return self_passages, partner_passages"
   ]
  },
  {
   "cell_type": "code",
   "execution_count": 5,
   "metadata": {},
   "outputs": [],
   "source": [
    "def prepare_wizard_of_wikipedia(data_dir):\n",
    "\n",
    "    splits = {}\n",
    "    for split, filename in zip(\n",
    "        [\"train\", \"valid\", \"test\"],\n",
    "        [\"train.json\", \"valid_topic_split.json\", \"test_topic_split.json\"],\n",
    "    ):\n",
    "        with open(os.path.join(data_dir, filename), \"r\") as f:\n",
    "            data = json.load(f)\n",
    "\n",
    "        dataset = {}\n",
    "        discarded_turns = {}\n",
    "        for dialogue_id, dialogue in enumerate(\n",
    "            tqdm(data, desc=f\"Processing {split} dialogues\")\n",
    "        ):\n",
    "            chosen_topic = dialogue[\"chosen_topic\"]\n",
    "            chosen_topic_passage = dialogue[\"chosen_topic_passage\"]\n",
    "            dialoue_history = [\n",
    "                chosen_topic  # add the chosen topic as first turn like in the WoW paper\n",
    "            ]\n",
    "            passages = []\n",
    "            for turn_id, turn in enumerate(dialogue[\"dialog\"]):\n",
    "                text = turn[\"text\"]\n",
    "                if turn[\"speaker\"].endswith(\"Wizard\"):\n",
    "                    try:\n",
    "                        gold_topic, sentence = get_gold_passage(turn)\n",
    "\n",
    "                        self_passages, partner_passages = get_self_and_partner_passages(\n",
    "                            passages\n",
    "                        )\n",
    "\n",
    "                        dataset[f\"dial_{dialogue_id}_turn_{turn_id}\"] = {\n",
    "                            \"dialogue_id\": dialogue_id,\n",
    "                            \"turn_id\": turn_id,\n",
    "                            \"speaker\": \"wizard\",\n",
    "                            \"dialogue_history\": dialoue_history.copy(),\n",
    "                            \"text\": text,\n",
    "                            \"gold_sentence\": {\n",
    "                                \"sentence\": sentence,\n",
    "                                \"topic\": gold_topic,\n",
    "                            },\n",
    "                            \"chosen_topic\": chosen_topic,\n",
    "                            \"chosen_topic_passage\": chosen_topic_passage,\n",
    "                            \"partner_passages\": partner_passages,\n",
    "                            \"self_passages\": self_passages,\n",
    "                        }\n",
    "\n",
    "                    except ValueError as e:\n",
    "                        discarded_turns[f\"dial_{dialogue_id}_turn_{turn_id}\"] = str(e)\n",
    "                else:\n",
    "                    dataset[f\"dial_{dialogue_id}_turn_{turn_id}\"] = {\n",
    "                        \"dialogue_id\": dialogue_id,\n",
    "                        \"turn_id\": turn_id,\n",
    "                        \"speaker\": \"apprentice\",\n",
    "                        \"text\": text,\n",
    "                        \"chosen_topic\": chosen_topic,\n",
    "                    }\n",
    "\n",
    "                # append the passages for the current turn and use them for the next one\n",
    "                passages.append(get_retrieved_passages(turn))\n",
    "                # append the text to the dialogue history\n",
    "                dialoue_history.append(text)\n",
    "\n",
    "        total_turns = len(dataset)\n",
    "        discarded_turns_count = len(discarded_turns)\n",
    "        percentage_discarded_turns = (\n",
    "            discarded_turns_count / (total_turns + discarded_turns_count)\n",
    "        ) * 100\n",
    "        print(f\"Percentage of discarded turns: {percentage_discarded_turns}%\")\n",
    "\n",
    "        splits[split] = dataset\n",
    "    \n",
    "    return splits"
   ]
  },
  {
   "cell_type": "code",
   "execution_count": 6,
   "metadata": {},
   "outputs": [
    {
     "name": "stderr",
     "output_type": "stream",
     "text": [
      "Processing train dialogues: 100%|██████████| 18430/18430 [00:03<00:00, 5717.38it/s] \n"
     ]
    },
    {
     "name": "stdout",
     "output_type": "stream",
     "text": [
      "Percentage of discarded turns: 0.0%\n"
     ]
    },
    {
     "name": "stderr",
     "output_type": "stream",
     "text": [
      "Processing valid dialogues: 100%|██████████| 967/967 [00:00<00:00, 13842.21it/s]\n"
     ]
    },
    {
     "name": "stdout",
     "output_type": "stream",
     "text": [
      "Percentage of discarded turns: 0.0%\n"
     ]
    },
    {
     "name": "stderr",
     "output_type": "stream",
     "text": [
      "Processing test dialogues: 100%|██████████| 968/968 [00:00<00:00, 15882.98it/s]"
     ]
    },
    {
     "name": "stdout",
     "output_type": "stream",
     "text": [
      "Percentage of discarded turns: 0.0%\n"
     ]
    },
    {
     "name": "stderr",
     "output_type": "stream",
     "text": [
      "\n"
     ]
    }
   ],
   "source": [
    "splits = prepare_wizard_of_wikipedia(\"../original_data/WizardOfWikipedia\")"
   ]
  },
  {
   "cell_type": "markdown",
   "metadata": {},
   "source": [
    "## Stats"
   ]
  },
  {
   "cell_type": "code",
   "execution_count": 7,
   "metadata": {},
   "outputs": [],
   "source": [
    "import numpy as np\n",
    "\n",
    "def analyze_splits(splits):\n",
    "    topics = {}\n",
    "    for split, turns in splits.items():\n",
    "        n_tokens_per_turn = []\n",
    "        n_wizard_turns = 0\n",
    "        n_tokens_per_dialogue = {}\n",
    "        n_turns_with_no_passages = 0\n",
    "        n_tokens_per_passage = []\n",
    "        if split not in topics:\n",
    "            topics[split] = set()\n",
    "        for turn in turns.values():\n",
    "            if turn[\"dialogue_id\"] not in n_tokens_per_dialogue:\n",
    "                n_tokens_per_dialogue[turn[\"dialogue_id\"]] = 0\n",
    "            n_tokens_per_turn.append(len(turn[\"text\"].split()))\n",
    "            n_tokens_per_dialogue[turn[\"dialogue_id\"]] += len(turn[\"text\"].split())\n",
    "            topics[split].add(turn[\"chosen_topic\"])\n",
    "            if turn[\"speaker\"] == \"wizard\":\n",
    "                n_wizard_turns += 1\n",
    "                if turn[\"gold_sentence\"][\"sentence\"] is None:\n",
    "                    n_turns_with_no_passages += 1\n",
    "                else:\n",
    "                    n_tokens_per_passage.append(len(turn[\"gold_sentence\"][\"sentence\"].split()))\n",
    "\n",
    "        \n",
    "        print(split.upper())\n",
    "        print(f\"\\t# DIALS: {len(n_tokens_per_dialogue)}\")\n",
    "        print(f\"\\t# UNIQUE TOPICS: {len(topics[split])}\")\n",
    "        print(f\"\\tAVG # TURNS PER DIAL: \", len(turns)/len(n_tokens_per_dialogue))\n",
    "        print(f\"\\tAVG # TOKENS PER TURN: {np.mean(n_tokens_per_turn)}\")\n",
    "        print(f\"\\tAVG # TOKENS PER DIAL: {np.mean(list(n_tokens_per_dialogue.values()))}\")\n",
    "        print(f\"\\t% (WIZARD) TURNS WITH NO KNOWLEDGE: {n_turns_with_no_passages/n_wizard_turns*100}%\")\n",
    "        print(f\"\\tAVG # TOKENS PER (GOLD) SENTENCE: {np.mean(n_tokens_per_passage)}\")\n",
    "    \n",
    "    return topics"
   ]
  },
  {
   "cell_type": "code",
   "execution_count": 8,
   "metadata": {},
   "outputs": [
    {
     "name": "stdout",
     "output_type": "stream",
     "text": [
      "TRAIN\n",
      "\t# DIALS: 18430\n",
      "\t# UNIQUE TOPICS: 1247\n",
      "\tAVG # TURNS PER DIAL:  9.049755832881171\n",
      "\tAVG # TOKENS PER TURN: 16.372738882526814\n",
      "\tAVG # TOKENS PER DIAL: 148.1692892023874\n",
      "\t% (WIZARD) TURNS WITH NO KNOWLEDGE: 6.87231972323327%\n",
      "\tAVG # TOKENS PER (GOLD) SENTENCE: 22.54549441477698\n",
      "VALID\n",
      "\t# DIALS: 967\n",
      "\t# UNIQUE TOPICS: 54\n",
      "\tAVG # TURNS PER DIAL:  9.10651499482937\n",
      "\tAVG # TOKENS PER TURN: 16.410174880763115\n",
      "\tAVG # TOKENS PER DIAL: 149.43950361944158\n",
      "\t% (WIZARD) TURNS WITH NO KNOWLEDGE: 6.069561263923619%\n",
      "\tAVG # TOKENS PER (GOLD) SENTENCE: 21.78872216844143\n",
      "TEST\n",
      "\t# DIALS: 968\n",
      "\t# UNIQUE TOPICS: 58\n",
      "\tAVG # TURNS PER DIAL:  9.072314049586776\n",
      "\tAVG # TOKENS PER TURN: 16.125939421544068\n",
      "\tAVG # TOKENS PER DIAL: 146.2995867768595\n",
      "\t% (WIZARD) TURNS WITH NO KNOWLEDGE: 5.821917808219178%\n",
      "\tAVG # TOKENS PER (GOLD) SENTENCE: 22.84048484848485\n"
     ]
    }
   ],
   "source": [
    "topics = analyze_splits(splits)"
   ]
  },
  {
   "cell_type": "code",
   "execution_count": 9,
   "metadata": {},
   "outputs": [
    {
     "name": "stdout",
     "output_type": "stream",
     "text": [
      "\tAVG # TOKENS PER SYSTEM TURN: 18.431360244620404\n",
      "\tSTD # TOKENS PER SYSTEM TURN: 7.8527370320803005\n",
      "\tAVG # SENTENCES PER SYSTEM TURN: 1.6476393674554457\n",
      "\tSTD # SENTENCES PER SYSTEM TURN: 0.7870277710048533\n",
      "\n",
      "97.7% of SYS sentence have no more than 35 tokens\n",
      "97.7% of SYS turns have no more than 4 sentences\n"
     ]
    }
   ],
   "source": [
    "import math\n",
    "from nltk.tokenize import sent_tokenize\n",
    "\n",
    "n_wizard_turns = 0\n",
    "system_tokens_per_turn = []\n",
    "system_sentences_per_turn = []\n",
    "for turn in list(splits[\"train\"].values()) + list(splits[\"valid\"].values()):\n",
    "    if turn[\"speaker\"] == \"wizard\":\n",
    "        n_wizard_turns += 1\n",
    "        system_tokens_per_turn.append(len(turn[\"text\"].split()))\n",
    "        system_sentences_per_turn.append(len(sent_tokenize(turn[\"text\"])))\n",
    "\n",
    "\n",
    "print(f\"\\tAVG # TOKENS PER SYSTEM TURN: {np.mean(system_tokens_per_turn)}\")\n",
    "print(f\"\\tSTD # TOKENS PER SYSTEM TURN: {np.std(system_tokens_per_turn)}\")\n",
    "print(f\"\\tAVG # SENTENCES PER SYSTEM TURN: {np.mean(system_sentences_per_turn)}\")\n",
    "print(f\"\\tSTD # SENTENCES PER SYSTEM TURN: {np.std(system_sentences_per_turn)}\")\n",
    "print()\n",
    "print(f\"97.7% of SYS sentence have no more than {math.ceil(np.mean(system_tokens_per_turn) + 2*np.std(system_tokens_per_turn))} tokens\")\n",
    "print(f\"97.7% of SYS turns have no more than {math.ceil(np.mean(system_sentences_per_turn) + 2*np.std(system_sentences_per_turn))} sentences\")"
   ]
  },
  {
   "cell_type": "code",
   "execution_count": 10,
   "metadata": {},
   "outputs": [
    {
     "name": "stdout",
     "output_type": "stream",
     "text": [
      "No topic is inside another split: True\n"
     ]
    }
   ],
   "source": [
    "def check_topic_splits(topics):\n",
    "    for split, split_topics in topics.items():\n",
    "        for other_split, other_split_topics in topics.items():\n",
    "            if split != other_split:\n",
    "                if len(split_topics.intersection(other_split_topics)) > 0:\n",
    "                    print(f\"Split {split} has topics that are also in split {other_split}\")\n",
    "                    return False\n",
    "    return True\n",
    "\n",
    "topic_splits_valid = check_topic_splits(topics)\n",
    "print(f\"No topic is inside another split: {topic_splits_valid}\")\n"
   ]
  },
  {
   "cell_type": "code",
   "execution_count": 11,
   "metadata": {},
   "outputs": [
    {
     "data": {
      "image/png": "[encoded data removed]",
      "text/plain": [
       "<Figure size 640x480 with 1 Axes>"
      ]
     },
     "metadata": {},
     "output_type": "display_data"
    },
    {
     "name": "stdout",
     "output_type": "stream",
     "text": [
      "Number of turns 87646\n"
     ]
    }
   ],
   "source": [
    "import matplotlib.pyplot as plt\n",
    "\n",
    "# Calculate the length per turn\n",
    "lengths = []\n",
    "for split in [\"train\", \"valid\"]:\n",
    "    data = splits[split].values()\n",
    "    for turn in data:\n",
    "        if turn[\"speaker\"] == \"wizard\":\n",
    "            lengths.append(len(turn[\"text\"].split()))\n",
    "\n",
    "# Create the bar plot\n",
    "y, bins, fig = plt.hist(lengths, 20, weights=[1/len(lengths)]*len(lengths))\n",
    "plt.xlabel(\"Turn Index\")\n",
    "plt.ylabel(\"Length per Turn\")\n",
    "plt.title(\"Percentage of turns with a certain length.\")\n",
    "plt.show()\n",
    "print(f\"Number of turns {len(lengths)}\")\n"
   ]
  },
  {
   "cell_type": "code",
   "execution_count": 12,
   "metadata": {},
   "outputs": [
    {
     "data": {
      "image/png": "[encoded data removed]",
      "text/plain": [
       "<Figure size 640x480 with 1 Axes>"
      ]
     },
     "metadata": {},
     "output_type": "display_data"
    }
   ],
   "source": [
    "cumulative_lenghts_per_turn = {}\n",
    "\n",
    "for split in [\"train\", \"valid\"]:\n",
    "    context_length = {}\n",
    "    for sample_id, turn in splits[split].items():\n",
    "        turn_id = int(sample_id.split(\"_\")[-1])\n",
    "        dialog_id = int(sample_id.split(\"_\")[1])\n",
    "        if dialog_id not in context_length:\n",
    "            context_length[dialog_id] = 0\n",
    "        if turn[\"speaker\"] == \"wizard\":\n",
    "            if turn_id not in cumulative_lenghts_per_turn:\n",
    "                cumulative_lenghts_per_turn[turn_id] = []\n",
    "            cumulative_lenghts_per_turn[turn_id].append(context_length[dialog_id])\n",
    "        context_length[dialog_id] += len(turn[\"text\"].split())\n",
    "\n",
    "cumulative_lenghts_per_turn = {k: np.mean(v) for k, v in cumulative_lenghts_per_turn.items()}\n",
    "plt.bar(cumulative_lenghts_per_turn.keys(), cumulative_lenghts_per_turn.values())\n",
    "plt.yticks(np.arange(0, max(cumulative_lenghts_per_turn.values())+1, 50))\n",
    "plt.xticks(np.arange(1, max(cumulative_lenghts_per_turn)+1, 2))\n",
    "plt.xlabel(\"Turn Index\")\n",
    "plt.ylabel(\"Average Context Length\")\n",
    "plt.title(\"Average context length for each system turn\")\n",
    "plt.show()"
   ]
  },
  {
   "cell_type": "code",
   "execution_count": 19,
   "metadata": {},
   "outputs": [
    {
     "data": {
      "image/png": "[encoded data removed]",
      "text/plain": [
       "<Figure size 640x480 with 1 Axes>"
      ]
     },
     "metadata": {},
     "output_type": "display_data"
    },
    {
     "name": "stdout",
     "output_type": "stream",
     "text": [
      "Average number of documents per turn: 61.42017129746417\n",
      "Standard deviation of number of documents per turn: 22.398556456690674\n",
      "Maximum number of documents per turn: 132\n"
     ]
    },
    {
     "data": {
      "image/png": "[encoded data removed]",
      "text/plain": [
       "<Figure size 640x480 with 1 Axes>"
      ]
     },
     "metadata": {},
     "output_type": "display_data"
    },
    {
     "name": "stdout",
     "output_type": "stream",
     "text": [
      "Average number of documents per turn: 62.541941350306885\n",
      "Standard deviation of number of documents per turn: 22.380606983552344\n",
      "Maximum number of documents per turn: 127\n"
     ]
    },
    {
     "data": {
      "image/png": "[encoded data removed]",
      "text/plain": [
       "<Figure size 640x480 with 1 Axes>"
      ]
     },
     "metadata": {},
     "output_type": "display_data"
    },
    {
     "name": "stdout",
     "output_type": "stream",
     "text": [
      "Average number of documents per turn: 61.015296803652966\n",
      "Standard deviation of number of documents per turn: 21.996419255681708\n",
      "Maximum number of documents per turn: 117\n"
     ]
    }
   ],
   "source": [
    "import matplotlib.pyplot as plt\n",
    "import numpy as np\n",
    "\n",
    "for split in [\"train\", \"valid\", \"test\"]:\n",
    "    n_documents = []\n",
    "    for dialogue in splits[split].values():\n",
    "        if dialogue[\"speaker\"] == \"wizard\":\n",
    "            documents = set(dialogue[\"chosen_topic_passage\"])\n",
    "            documents.update([sent for topic in dialogue[\"self_passages\"].values() for sent in topic])\n",
    "            documents.update([sent for topic in dialogue[\"partner_passages\"].values() for sent in topic])\n",
    "            n_documents.append(len(documents))\n",
    "\n",
    "    plt.hist(n_documents, weights=[1/len(n_documents)]*len(n_documents))\n",
    "    plt.xlabel(\"Number of documents\")\n",
    "    plt.ylabel(\"Percentage of turns\")\n",
    "    plt.title(f\"Percentage of turns in {split} with a certain number of documents\")\n",
    "    plt.show()\n",
    "\n",
    "    print(f\"Average number of documents per turn: {np.mean(n_documents)}\")\n",
    "    print(f\"Standard deviation of number of documents per turn: {np.std(n_documents)}\")\n",
    "    print(f\"Maximum number of documents per turn: {max(n_documents)}\")"
   ]
  },
  {
   "cell_type": "markdown",
   "metadata": {},
   "source": [
    "## Retriever Stats"
   ]
  },
  {
   "cell_type": "markdown",
   "metadata": {},
   "source": [
    "### Sentence level"
   ]
  },
  {
   "cell_type": "code",
   "execution_count": 7,
   "metadata": {},
   "outputs": [
    {
     "name": "stderr",
     "output_type": "stream",
     "text": [
      "Analysing train samples: 100%|██████████| 83247/83247 [00:00<00:00, 368511.17it/s]\n"
     ]
    },
    {
     "name": "stdout",
     "output_type": "stream",
     "text": [
      "\tRecall@1 for train: 12.22686582565849\n",
      "\tRecall@3 for train: 31.541676340840493\n",
      "\tRecall@5 for train: 46.08518432525862\n"
     ]
    },
    {
     "name": "stderr",
     "output_type": "stream",
     "text": [
      "Analysing valid samples: 100%|██████████| 4399/4399 [00:00<00:00, 490854.86it/s]\n"
     ]
    },
    {
     "name": "stdout",
     "output_type": "stream",
     "text": [
      "\tRecall@1 for valid: 13.891577928363988\n",
      "\tRecall@3 for valid: 31.243949661181027\n",
      "\tRecall@5 for valid: 43.780251694094865\n"
     ]
    },
    {
     "name": "stderr",
     "output_type": "stream",
     "text": [
      "Analysing test samples: 100%|██████████| 4380/4380 [00:00<00:00, 406700.13it/s]"
     ]
    },
    {
     "name": "stdout",
     "output_type": "stream",
     "text": [
      "\tRecall@1 for test: 12.218181818181819\n",
      "\tRecall@3 for test: 33.381818181818176\n",
      "\tRecall@5 for test: 47.1030303030303\n"
     ]
    },
    {
     "name": "stderr",
     "output_type": "stream",
     "text": [
      "\n"
     ]
    }
   ],
   "source": [
    "import json\n",
    "from tqdm import tqdm\n",
    "\n",
    "for split in [\"train\", \"valid\", \"test\"]:\n",
    "    with open(f\"../data/WizardOfWikipedia/{split}.json\", \"r\") as f:\n",
    "        data = json.load(f)\n",
    "    top_k_accuracy = {1: 0, 3: 0, 5: 0}\n",
    "    valid_sentences = 0\n",
    "    for sample_id, sample in tqdm(data.items(), desc=f\"Analysing {split} samples\"):\n",
    "\n",
    "        gold_sentence = sample[\"gold_sentence\"][\"sentence\"]\n",
    "        if gold_sentence is None:\n",
    "            continue\n",
    "        valid_sentences += 1\n",
    "        retrieved_sentences = [summary[\"sentence\"] for summary in sample[\"retrieved_sentences\"]]\n",
    "        for i in [1, 3, 5]:\n",
    "            if gold_sentence in retrieved_sentences[:i]:\n",
    "                top_k_accuracy[i] += 1\n",
    "    for i in [1, 3, 5]:\n",
    "        top_k_accuracy[i] /= valid_sentences\n",
    "        print(f\"\\tRecall@{i} for {split}: {top_k_accuracy[i]*100}\")\n",
    "    \n",
    "    "
   ]
  },
  {
   "cell_type": "markdown",
   "metadata": {},
   "source": [
    "### Topic level"
   ]
  },
  {
   "cell_type": "code",
   "execution_count": 35,
   "metadata": {},
   "outputs": [
    {
     "name": "stderr",
     "output_type": "stream",
     "text": [
      "Analysing train samples: 100%|██████████| 83247/83247 [00:00<00:00, 433835.29it/s]\n"
     ]
    },
    {
     "name": "stdout",
     "output_type": "stream",
     "text": [
      "\tRecall@1 for train: 66.89884683848\n",
      "\tRecall@3 for train: 75.93194541186182\n",
      "\tRecall@5 for train: 79.6713360678998\n"
     ]
    },
    {
     "name": "stderr",
     "output_type": "stream",
     "text": [
      "Analysing valid samples: 100%|██████████| 4399/4399 [00:00<00:00, 217679.63it/s]\n"
     ]
    },
    {
     "name": "stdout",
     "output_type": "stream",
     "text": [
      "\tRecall@1 for valid: 62.89932236205228\n",
      "\tRecall@3 for valid: 73.37850919651501\n",
      "\tRecall@5 for valid: 78.00096805421104\n"
     ]
    },
    {
     "name": "stderr",
     "output_type": "stream",
     "text": [
      "Analysing test samples: 100%|██████████| 4380/4380 [00:00<00:00, 479737.07it/s]"
     ]
    },
    {
     "name": "stdout",
     "output_type": "stream",
     "text": [
      "\tRecall@1 for test: 68.67878787878789\n",
      "\tRecall@3 for test: 79.22424242424242\n",
      "\tRecall@5 for test: 82.73939393939393\n"
     ]
    },
    {
     "name": "stderr",
     "output_type": "stream",
     "text": [
      "\n"
     ]
    }
   ],
   "source": [
    "import json\n",
    "from tqdm import tqdm\n",
    "\n",
    "for split in [\"train\", \"valid\", \"test\"]:\n",
    "    with open(f\"../data/WizardOfWikipedia/{split}.json\", \"r\") as f:\n",
    "        data = json.load(f)\n",
    "    top_k_accuracy = {1: 0, 3: 0, 5: 0}\n",
    "    valid_sentences = 0\n",
    "    for sample_id, sample in tqdm(data.items(), desc=f\"Analysing {split} samples\"):\n",
    "\n",
    "        gold_sentence = sample[\"gold_sentence\"][\"topic\"]\n",
    "        if gold_sentence is None:\n",
    "            continue\n",
    "        valid_sentences += 1\n",
    "        retrieved_sentences = [summary[\"topic\"] for summary in sample[\"retrieved_sentences\"]]\n",
    "        for i in [1, 3, 5]:\n",
    "            if gold_sentence in retrieved_sentences[:i]:\n",
    "                top_k_accuracy[i] += 1\n",
    "    for i in [1, 3, 5]:\n",
    "        top_k_accuracy[i] /= valid_sentences\n",
    "        print(f\"\\tRecall@{i} for {split}: {top_k_accuracy[i]*100}\")\n",
    "    \n",
    "    "
   ]
  },
  {
   "cell_type": "markdown",
   "metadata": {},
   "source": [
    "## Generation stats"
   ]
  },
  {
   "cell_type": "code",
   "execution_count": 1,
   "metadata": {},
   "outputs": [],
   "source": [
    "from utils import collect_task_replies\n",
    "\n",
    "task_replies = collect_task_replies(\"../output/WizardOfWikipedia/\")"
   ]
  },
  {
   "cell_type": "code",
   "execution_count": 2,
   "metadata": {},
   "outputs": [
    {
     "data": {
      "image/png": "[encoded data removed]",
      "text/plain": [
       "<Figure size 640x480 with 1 Axes>"
      ]
     },
     "metadata": {},
     "output_type": "display_data"
    },
    {
     "name": "stdout",
     "output_type": "stream",
     "text": [
      "# candidates 70080\n"
     ]
    }
   ],
   "source": [
    "import matplotlib.pyplot as plt\n",
    "\n",
    "lengths = []\n",
    "for sample_id, sample in task_replies.items():\n",
    "    for c_name, candidate in sample.items():\n",
    "        if c_name == \"gt\":\n",
    "            continue\n",
    "        lengths.append(len(candidate.split()))\n",
    "\n",
    "y, bins, fig = plt.hist(lengths, 10, weights=[1/len(lengths)]*len(lengths))\n",
    "plt.xlabel(\"# Tokens\")\n",
    "plt.ylabel(\"% Responses\")\n",
    "plt.title(\"Percentage of responses with a certain length.\")\n",
    "plt.show()\n",
    "print(f\"# candidates {len(lengths)}\")\n"
   ]
  },
  {
   "cell_type": "code",
   "execution_count": 6,
   "metadata": {},
   "outputs": [
    {
     "name": "stdout",
     "output_type": "stream",
     "text": [
      "Percentage of responses with length lower than 80: 77.12%\n"
     ]
    }
   ],
   "source": [
    "len_threshold = 80\n",
    "lengths_lower_than_threshold = [l for l in lengths if l <= len_threshold]\n",
    "print(f\"Percentage of responses with length lower than {len_threshold}: {round(len(lengths_lower_than_threshold)/len(lengths)*100, 2)}%\")"
   ]
  },
  {
   "cell_type": "markdown",
   "metadata": {},
   "source": [
    "## Sample dialogues for human evaluation"
   ]
  },
  {
   "cell_type": "markdown",
   "metadata": {},
   "source": [
    "#### Random Sampling"
   ]
  },
  {
   "cell_type": "code",
   "execution_count": 1,
   "metadata": {},
   "outputs": [
    {
     "name": "stderr",
     "output_type": "stream",
     "text": [
      "Processing samples: 100%|██████████| 4380/4380 [00:00<00:00, 4681.69it/s]"
     ]
    },
    {
     "name": "stdout",
     "output_type": "stream",
     "text": [
      "Number of samples: 4380\n",
      "Number of samples at turn 5 and 6: 968\n",
      "Number of valid samples: 870\n"
     ]
    },
    {
     "name": "stderr",
     "output_type": "stream",
     "text": [
      "\n"
     ]
    }
   ],
   "source": [
    "import json\n",
    "\n",
    "from tqdm import tqdm\n",
    "\n",
    "from utils import collect_task_replies, fix_replies_if_necessary\n",
    "\n",
    "task_replies = collect_task_replies(\"../output/WizardOfWikipedia/\")\n",
    "\n",
    "with open(\"../data/WizardOfWikipedia/test.json\", \"r\") as f:\n",
    "    data = json.load(f)\n",
    "\n",
    "possible_samples = 0\n",
    "valid_samples = {\n",
    "    \"with_knowledge\": {},\n",
    "    \"without_knowledge\": {}\n",
    "}\n",
    "for sample_id, sample in tqdm(data.items(), desc=\"Processing samples\"):\n",
    "    dialogue_id = sample[\"dialogue_id\"]\n",
    "    turn_id = sample[\"turn_id\"]\n",
    "    history = sample[\"dialogue_history\"][1:] # remove the topic\n",
    "\n",
    "    if turn_id not in [5, 6]:\n",
    "        continue\n",
    "    possible_samples += 1\n",
    "\n",
    "    has_knowledge = sample[\"gold_sentence\"][\"sentence\"] is not None\n",
    "\n",
    "    if has_knowledge:\n",
    "        key = \"with_knowledge\"\n",
    "    else:\n",
    "        key = \"without_knowledge\"\n",
    "\n",
    "    replies = {model: reply.lower() for model, reply in task_replies[sample_id].items()}\n",
    "\n",
    "    try:\n",
    "        candidates = fix_replies_if_necessary(replies, max_tokens=35, max_sentences=4, max_candidate_length=80)\n",
    "    except:\n",
    "        continue\n",
    "\n",
    "    identical_candidates = {}\n",
    "    for c_name, c in candidates.items():\n",
    "        remaining_candidates = [value for key, value in candidates.items() if key != c_name]\n",
    "        if c in remaining_candidates:\n",
    "            if c not in identical_candidates:\n",
    "                identical_candidates[c] = []\n",
    "            identical_candidates[c].append(c_name)\n",
    "\n",
    "    new_candidates = {}\n",
    "    for c_name, c in candidates.items():\n",
    "        if c not in identical_candidates:\n",
    "            new_candidates[c_name] = c\n",
    "    \n",
    "    for c in identical_candidates:\n",
    "        if \"gt\" in identical_candidates[c]:\n",
    "            c_name = \"gt\"\n",
    "        else:\n",
    "            c_name = identical_candidates[c][0]\n",
    "        new_candidates[c_name] = c\n",
    "\n",
    "    if dialogue_id not in valid_samples[key]:\n",
    "        valid_samples[key][dialogue_id] = {}\n",
    "\n",
    "    valid_samples[key][dialogue_id][sample_id] = {\n",
    "        \"sample_id\": sample_id,\n",
    "        \"dialogue_id\": dialogue_id,\n",
    "        \"turn_id\": turn_id,\n",
    "        \"history\": [turn.lower() for turn in history],\n",
    "        \"candidates\": new_candidates,\n",
    "        \"has_knowledge\": has_knowledge, \n",
    "        \"idenitical_candidates\": identical_candidates,\n",
    "    }\n",
    "\n",
    "print(\"Number of samples:\", len(data))\n",
    "print(\"Number of samples at turn 5 and 6:\", possible_samples)\n",
    "print(\"Number of valid samples:\", len(set(list(valid_samples[\"with_knowledge\"].keys()) + list(valid_samples[\"without_knowledge\"].keys()))))"
   ]
  },
  {
   "cell_type": "code",
   "execution_count": 2,
   "metadata": {},
   "outputs": [
    {
     "data": {
      "image/png": "[encoded data removed]",
      "text/plain": [
       "<Figure size 2000x600 with 1 Axes>"
      ]
     },
     "metadata": {},
     "output_type": "display_data"
    }
   ],
   "source": [
    "from collections import Counter\n",
    "import matplotlib.pyplot as plt\n",
    "\n",
    "tokens = Counter()\n",
    "for categories in valid_samples.values():\n",
    "    for samples_per_dialogue in categories.values():\n",
    "        for sample in samples_per_dialogue.values():\n",
    "            for candidate in sample[\"candidates\"].values():\n",
    "                tokens.update([w.lower() for w in candidate.split()[:2]])\n",
    "\n",
    "\n",
    "most_common = tokens.most_common(200)\n",
    "\n",
    "plt.figure(figsize=(20, 6))\n",
    "plt.bar([k[0] for k in most_common[:50]], [k[1] for k in most_common[:50]])\n",
    "plt.xticks(rotation=-45)\n",
    "plt.show()\n",
    "\n"
   ]
  },
  {
   "cell_type": "code",
   "execution_count": 3,
   "metadata": {},
   "outputs": [
    {
     "name": "stdout",
     "output_type": "stream",
     "text": [
      "Number of valid samples with knowledge: 828\n",
      "Number of valid samples without knowledge: 42\n"
     ]
    }
   ],
   "source": [
    "print(\"Number of valid samples with knowledge:\", len(valid_samples[\"with_knowledge\"]))\n",
    "print(\"Number of valid samples without knowledge:\", len(valid_samples[\"without_knowledge\"]))"
   ]
  },
  {
   "cell_type": "code",
   "execution_count": 4,
   "metadata": {},
   "outputs": [
    {
     "name": "stdout",
     "output_type": "stream",
     "text": [
      "Number of sampled dialogues without knowledge: 10\n",
      "Number of sampled dialogues with knowledge: 10\n",
      "Max Token in History: 156\n",
      "Max Characters in History: 868\n",
      "Number of candidates: 17\n",
      "Number of samples in batch 0: 20\n",
      "\tAvg Number of candidates in batch 0: 5\n",
      "\tMin number of candidates in batch 0: 5\n",
      "\tMax number of candidates in batch 0: 5\n",
      "Number of samples in batch 1: 20\n",
      "\tAvg Number of candidates in batch 1: 4.8\n",
      "\tMin number of candidates in batch 1: 4\n",
      "\tMax number of candidates in batch 1: 5\n",
      "Number of samples in batch 2: 20\n",
      "\tAvg Number of candidates in batch 2: 5\n",
      "\tMin number of candidates in batch 2: 5\n",
      "\tMax number of candidates in batch 2: 5\n",
      "Number of samples in batch 3: 20\n",
      "\tAvg Number of candidates in batch 3: 4.8\n",
      "\tMin number of candidates in batch 3: 4\n",
      "\tMax number of candidates in batch 3: 5\n"
     ]
    }
   ],
   "source": [
    "import os\n",
    "import random\n",
    "from statistics import mean\n",
    "\n",
    "from utils import get_candidates_per_batch\n",
    "\n",
    "random.seed(7)\n",
    "\n",
    "n_dial_to_sample = 10\n",
    "samples_to_eval = {}\n",
    "dialogue_blacklist = set()\n",
    "\n",
    "blacklist = [\n",
    "    270,\n",
    "    669\n",
    "]\n",
    "\n",
    "max_history_tokens = 0\n",
    "max_history_chars = 0\n",
    "dialogue_keys = list(valid_samples[\"without_knowledge\"])\n",
    "random.shuffle(dialogue_keys)\n",
    "for dialogue_id in blacklist:\n",
    "    if dialogue_id in dialogue_keys:\n",
    "        dialogue_keys.remove(dialogue_id)\n",
    "\n",
    "for dialogue_id in dialogue_keys[:n_dial_to_sample]:\n",
    "    dialogue_blacklist.add(dialogue_id)\n",
    "    sample_id = random.sample(list(valid_samples[\"without_knowledge\"][dialogue_id].keys()), 1).pop()\n",
    "    samples_to_eval[sample_id] = valid_samples[\"without_knowledge\"][dialogue_id][sample_id]\n",
    "    sample = samples_to_eval[sample_id]\n",
    "\n",
    "    max_history_tokens = max(max_history_tokens, sum([len(turn.split()) for turn in sample[\"history\"]]))\n",
    "    max_history_chars = max(max_history_chars, sum([len(turn) for turn in sample[\"history\"]]))\n",
    "\n",
    "assert len(dialogue_blacklist) == n_dial_to_sample, dialogue_blacklist\n",
    "n_samples_without_knowledge = len(samples_to_eval)\n",
    "print(\"Number of sampled dialogues without knowledge:\", len(samples_to_eval))\n",
    "\n",
    "\n",
    "dialogue_keys = [dialogue_id for dialogue_id in valid_samples[\"with_knowledge\"] if dialogue_id not in dialogue_blacklist]\n",
    "random.shuffle(dialogue_keys)\n",
    "for dialogue_id in blacklist:\n",
    "    if dialogue_id in dialogue_keys:\n",
    "        dialogue_keys.remove(dialogue_id)\n",
    "\n",
    "for dialogue_id in dialogue_keys[:n_dial_to_sample]:\n",
    "    dialogue_blacklist.add(dialogue_id)\n",
    "    sample_id = random.sample(list(valid_samples[\"with_knowledge\"][dialogue_id].keys()), 1).pop()\n",
    "    samples_to_eval[sample_id] = valid_samples[\"with_knowledge\"][dialogue_id][sample_id]\n",
    "    sample = samples_to_eval[sample_id]\n",
    "\n",
    "    max_history_tokens = max(max_history_tokens, sum([len(turn.split()) for turn in sample[\"history\"]]))\n",
    "    max_history_chars = max(max_history_chars, sum([len(turn) for turn in sample[\"history\"]]))\n",
    "\n",
    "assert len(dialogue_blacklist) == n_dial_to_sample*2, dialogue_blacklist\n",
    "print(\"Number of sampled dialogues with knowledge:\", len(samples_to_eval) - n_samples_without_knowledge)\n",
    "\n",
    "print(\"Max Token in History:\", max_history_tokens)\n",
    "print(\"Max Characters in History:\", max_history_chars)\n",
    "\n",
    "with open(\"../data/WizardOfWikipedia/samples_to_eval.json\", \"w\") as f:\n",
    "    json.dump(samples_to_eval, f, indent=4)\n",
    "\n",
    "for sample in task_replies.values():\n",
    "    model_candidates = list(sample.keys())\n",
    "    break\n",
    "\n",
    "print(\"Number of candidates:\", len(model_candidates))\n",
    "\n",
    "candidates_per_batch = get_candidates_per_batch(model_candidates, 4)\n",
    "\n",
    "for batch_id, candidates in enumerate(candidates_per_batch):\n",
    "    samples_per_batch_to_eval = {}\n",
    "    actual_candidates = []\n",
    "    for sample_id, sample in samples_to_eval.items():\n",
    "        samples_per_batch_to_eval[sample_id] = {\n",
    "            \"sample_id\": sample_id,\n",
    "            \"dialogue_id\": sample[\"dialogue_id\"],\n",
    "            \"turn_id\": sample[\"turn_id\"],\n",
    "            \"history\": sample[\"history\"],\n",
    "            \"candidates\": {model: sample[\"candidates\"][model] for model in candidates if model in sample[\"candidates\"]},\n",
    "            \"has_knowledge\": sample[\"has_knowledge\"],\n",
    "        }\n",
    "        # add the ground truth\n",
    "        samples_per_batch_to_eval[sample_id][\"candidates\"][\"gt\"] = sample[\"candidates\"][\"gt\"]\n",
    "        actual_candidates.append(len(samples_per_batch_to_eval[sample_id][\"candidates\"]))\n",
    "    print(f\"Number of samples in batch {batch_id}:\", len(samples_per_batch_to_eval))\n",
    "    print(f\"\\tAvg Number of candidates in batch {batch_id}:\", mean(actual_candidates))\n",
    "    print(f\"\\tMin number of candidates in batch {batch_id}:\", min(actual_candidates))\n",
    "    print(f\"\\tMax number of candidates in batch {batch_id}:\", max(actual_candidates))\n",
    "\n",
    "    out_folder = f\"../data/WizardOfWikipedia/human_eval/batch_{batch_id}\"\n",
    "    os.makedirs(out_folder, exist_ok=True)\n",
    "    with open(f\"{out_folder}/samples_to_eval.json\", \"w\") as f:\n",
    "        json.dump(samples_per_batch_to_eval, f, indent=4)"
   ]
  },
  {
   "cell_type": "markdown",
   "metadata": {},
   "source": [
    "## Sample dialogues for generation"
   ]
  },
  {
   "cell_type": "code",
   "execution_count": 7,
   "metadata": {},
   "outputs": [
    {
     "data": {
      "image/png": "[encoded data removed]",
      "text/plain": [
       "<Figure size 640x480 with 1 Axes>"
      ]
     },
     "metadata": {},
     "output_type": "display_data"
    },
    {
     "name": "stdout",
     "output_type": "stream",
     "text": [
      "Number of turns 4399\n"
     ]
    }
   ],
   "source": [
    "import matplotlib.pyplot as plt\n",
    "\n",
    "# Calculate the length per turn\n",
    "lengths = []\n",
    "for sample in splits[\"valid\"].values():\n",
    "    if sample[\"speaker\"] == \"wizard\":\n",
    "        lengths.append(len(sample[\"text\"].split()))\n",
    "\n",
    "# Create the bar plot\n",
    "y, bins, fig = plt.hist(lengths, 50, weights=[1/len(lengths)]*len(lengths))\n",
    "plt.xlabel(\"# Tokens\")\n",
    "plt.ylabel(\"% Questions\")\n",
    "plt.title(\"Percentage of turn replies with a certain length.\")\n",
    "plt.show()\n",
    "print(f\"Number of turns {len(lengths)}\")\n"
   ]
  },
  {
   "cell_type": "code",
   "execution_count": 8,
   "metadata": {},
   "outputs": [],
   "source": [
    "from tqdm import tqdm\n",
    "import random\n",
    "\n",
    "def prepare_split(samples, bins, split_size):\n",
    "\n",
    "    random.seed(42)\n",
    "    dataset = {}\n",
    "    for sample_id, sample in tqdm(samples.items(), desc=f\"Preparing Stratified split\"):\n",
    "        for i, bin in enumerate(bins[1:]):\n",
    "            if sample[\"speaker\"] == \"wizard\":\n",
    "                if len(sample[\"text\"].split()) <= bin:\n",
    "                    if i not in dataset:\n",
    "                        dataset[i] = []\n",
    "                    dataset[i].append({\n",
    "                        \"sample_id\": sample_id,\n",
    "                        \"text\": sample[\"text\"],\n",
    "                    })\n",
    "                    break\n",
    "    splits = []\n",
    "    for i, split in dataset.items():\n",
    "        try:\n",
    "            splits += random.sample(split, int(len(split) * split_size))\n",
    "        except ValueError:\n",
    "            continue\n",
    "\n",
    "    return splits"
   ]
  },
  {
   "cell_type": "code",
   "execution_count": 9,
   "metadata": {},
   "outputs": [
    {
     "name": "stderr",
     "output_type": "stream",
     "text": [
      "Preparing Stratified split: 100%|██████████| 8806/8806 [00:00<00:00, 115718.53it/s]\n"
     ]
    },
    {
     "data": {
      "text/plain": [
       "420"
      ]
     },
     "execution_count": 9,
     "metadata": {},
     "output_type": "execute_result"
    }
   ],
   "source": [
    "splits = prepare_split(splits[\"valid\"], bins, 0.1)\n",
    "len(splits)"
   ]
  },
  {
   "cell_type": "code",
   "execution_count": 10,
   "metadata": {},
   "outputs": [
    {
     "data": {
      "image/png": "[encoded data removed]",
      "text/plain": [
       "<Figure size 640x480 with 1 Axes>"
      ]
     },
     "metadata": {},
     "output_type": "display_data"
    }
   ],
   "source": [
    "plt.hist(lengths, bins, weights=[1/len(lengths)]*len(lengths), alpha=0.5, label='Original Lengths')\n",
    "plt.hist([len(sample[\"text\"].split()) for sample in splits], bins, weights=[1/len(splits)]*len(splits), alpha=0.5, label='Split Lengths')\n",
    "plt.xlabel(\"# Tokens\")\n",
    "plt.ylabel(\"% Questions\")\n",
    "plt.title(\"Comparison of Original Lengths and Split Lengths\")\n",
    "plt.legend()\n",
    "plt.show()\n"
   ]
  },
  {
   "cell_type": "code",
   "execution_count": 17,
   "metadata": {},
   "outputs": [],
   "source": [
    "import json\n",
    "from copy import deepcopy\n",
    "\n",
    "with open(\"../data/WizardOfWikipedia/valid.json\", \"r\") as f:\n",
    "    valid = json.load(f)\n",
    "\n",
    "dataset = {}\n",
    "for sample in splits:\n",
    "    dataset[f'{sample[\"sample_id\"]}'] = sample\n",
    "\n",
    "with open(\"valid_optimization.json\", \"w\") as f:\n",
    "    json.dump(splits, f, indent=4)\n",
    "\n",
    "valid_optimization = deepcopy(valid)\n",
    "for sample_id, sample in valid.items():\n",
    "    if sample_id not in dataset:\n",
    "        del valid_optimization[sample_id]\n",
    "\n",
    "assert len(valid_optimization) == len(splits)\n",
    "\n",
    "with open(\"valid_optimization.json\", \"w\") as f:\n",
    "    json.dump(valid_optimization, f, indent=4)"
   ]
  },
  {
   "cell_type": "code",
   "execution_count": 12,
   "metadata": {},
   "outputs": [
    {
     "name": "stderr",
     "output_type": "stream",
     "text": [
      "/home/simone/miniconda3/envs/inlg/lib/python3.10/site-packages/tqdm/auto.py:21: TqdmWarning: IProgress not found. Please update jupyter and ipywidgets. See https://ipywidgets.readthedocs.io/en/stable/user_install.html\n",
      "  from .autonotebook import tqdm as notebook_tqdm\n"
     ]
    }
   ],
   "source": [
    "from transformers import AutoTokenizer\n",
    "\n",
    "llama = \"meta-llama/Llama-2-7b-chat-hf\"\n",
    "mistral = \"mistralai/Mistral-7B-Instruct-v0.1\""
   ]
  },
  {
   "cell_type": "code",
   "execution_count": 16,
   "metadata": {},
   "outputs": [
    {
     "name": "stderr",
     "output_type": "stream",
     "text": [
      "100%|██████████| 4399/4399 [00:00<00:00, 15110.74it/s]"
     ]
    },
    {
     "name": "stdout",
     "output_type": "stream",
     "text": [
      "Maximum Length: 92\n",
      "Mean Length: 27.06365082973403\n"
     ]
    },
    {
     "name": "stderr",
     "output_type": "stream",
     "text": [
      "\n"
     ]
    }
   ],
   "source": [
    "from tqdm import tqdm\n",
    "import statistics\n",
    "import json\n",
    "\n",
    "tokenizer = AutoTokenizer.from_pretrained(llama)\n",
    "\n",
    "with open(\"../data/WizardOfWikipedia/valid.json\", \"r\") as f:\n",
    "    valid = json.load(f)\n",
    "\n",
    "lengths = []\n",
    "for sample in tqdm(valid.values()):\n",
    "    sample[\"input_ids\"] = tokenizer(sample[\"text\"])\n",
    "    lengths.append(len(sample[\"input_ids\"][\"input_ids\"]))\n",
    "\n",
    "max_length = max(lengths)\n",
    "mean_length = statistics.mean(lengths)\n",
    "\n",
    "print(\"Maximum Length:\", max_length)\n",
    "print(\"Mean Length:\", mean_length)\n"
   ]
  },
  {
   "cell_type": "code",
   "execution_count": 32,
   "metadata": {},
   "outputs": [
    {
     "name": "stdout",
     "output_type": "stream",
     "text": [
      "Mean Context Length: 103.41397287589943\n",
      "Max Context Length: 4850\n"
     ]
    }
   ],
   "source": [
    "import statistics\n",
    "\n",
    "with open(\"../data/WizardOfWikipedia/train.json\", \"r\") as f:\n",
    "    valid = json.load(f)\n",
    "\n",
    "context_length = []\n",
    "for sample in valid.values():\n",
    "    length = 0\n",
    "    for s in sample[\"retrieved_sentences\"][:3]:\n",
    "        # skip sentences which are too long\n",
    "        #if len(s[\"sentence\"].split()) > 512:\n",
    "        #    continue\n",
    "        length += len(tokenizer.encode(s[\"sentence\"]))\n",
    "    context_length.append(length)\n",
    "\n",
    "print(\"Mean Context Length:\", statistics.mean(context_length))\n",
    "print(\"Max Context Length:\", max(context_length))"
   ]
  },
  {
   "cell_type": "markdown",
   "metadata": {},
   "source": [
    "## Error Analysis"
   ]
  },
  {
   "cell_type": "code",
   "execution_count": null,
   "metadata": {},
   "outputs": [],
   "source": [
    "!pip install parlai"
   ]
  },
  {
   "cell_type": "code",
   "execution_count": 5,
   "metadata": {},
   "outputs": [],
   "source": [
    "\n",
    "import json\n",
    "from pathlib import Path\n",
    "\n",
    "from parlai.core.metrics import TeacherMetrics\n",
    "from tqdm import tqdm\n",
    "\n",
    "with open(\"../data/WizardOfWikipedia/test.json\", \"r\") as f:\n",
    "    data = json.load(f)\n",
    "\n",
    "task_replies = {}\n",
    "for model in Path(\"../output/WizardOfWikipedia\").iterdir():\n",
    "    if model.is_dir():\n",
    "        for elem in model.iterdir():\n",
    "            if elem.is_file():\n",
    "                if elem.name.startswith(\"generation_results_\"):\n",
    "                    with open(elem, \"r\") as f:\n",
    "                        replies = json.load(f)[\"results\"]\n",
    "                    for sample_id, reply in replies.items():\n",
    "                        if sample_id not in task_replies:\n",
    "                            task_replies[sample_id] = {\n",
    "                                \"gt\": reply[\"target\"],\n",
    "                            }\n",
    "                        task_replies[sample_id][\n",
    "                            f'{model.name}_prompt_{elem.name.split(\"generation_results_\")[-1]}'\n",
    "                        ] = reply[\"output\"]\n",
    "            elif elem.is_dir():\n",
    "                for file in elem.iterdir():\n",
    "                    if file.is_file():\n",
    "                        if file.name.startswith(\"generation_results_\"):\n",
    "                            with open(file, \"r\") as f:\n",
    "                                replies = json.load(f)[\"results\"]\n",
    "                            for sample_id, reply in replies.items():\n",
    "                                if sample_id not in task_replies:\n",
    "                                    task_replies[sample_id] = {\n",
    "                                        \"gt\": reply[\"target\"],\n",
    "                                    }\n",
    "                                task_replies[sample_id][\n",
    "                                    f'{model.name}_ft_{file.name.split(\"generation_results_\")[-1]}'\n",
    "                                ] = reply[\"output\"]"
   ]
  },
  {
   "cell_type": "markdown",
   "metadata": {},
   "source": [
    "### BLEU"
   ]
  },
  {
   "cell_type": "code",
   "execution_count": 16,
   "metadata": {},
   "outputs": [
    {
     "name": "stdout",
     "output_type": "stream",
     "text": [
      "Number of samples: 968\n"
     ]
    }
   ],
   "source": [
    "from utils import collect_task_replies\n",
    "\n",
    "task_replies = collect_task_replies(\"../output/WizardOfWikipedia\")\n",
    "\n",
    "task_replies = {sample_id: {c_name: candidate.lower() for c_name, candidate in sample.items()} for sample_id, sample in task_replies.items() if sample_id.split(\"_\")[-1] in [\"5\", \"6\"]}\n",
    "\n",
    "print(\"Number of samples:\", len(task_replies))\n",
    "\n",
    "replacements = {\n",
    "    \"_\": \" \",\n",
    "    \".json\": \"\",\n",
    "    \"mistral\": \"Mistral\",\n",
    "    \"llama\": \"Llama2\",\n",
    "    \"gt\": \"Ground Truth\",\n",
    "    \"none\": \"\",\n",
    "    \"retrieved\": \"\",\n",
    "    \"top-1\": \"Top 1\",\n",
    "    \"top-3\": \"Top 3\",\n",
    "    \"gold\": \"Gold\",\n",
    "    \"prompt\": \"Prompt\",\n",
    "    \"ft\": \"Fine-Tuned\",\n",
    "    \"  \": \" \",\n",
    "}"
   ]
  },
  {
   "cell_type": "markdown",
   "metadata": {},
   "source": [
    "#### Average"
   ]
  },
  {
   "cell_type": "code",
   "execution_count": 18,
   "metadata": {},
   "outputs": [
    {
     "name": "stderr",
     "output_type": "stream",
     "text": [
      "Computing cross BLEU:   0%|          | 0/968 [00:00<?, ?it/s]"
     ]
    },
    {
     "name": "stderr",
     "output_type": "stream",
     "text": [
      "Computing cross BLEU: 100%|██████████| 968/968 [00:24<00:00, 40.17it/s]\n"
     ]
    },
    {
     "data": {
      "application/vnd.plotly.v1+json": {
       "config": {
        "plotlyServerURL": "https://plot.ly"
       },
       "data": [
        {
         "coloraxis": "coloraxis",
         "hovertemplate": "x: %{x}<br>y: %{y}<br>color: %{z}<extra></extra>",
         "name": "0",
         "texttemplate": "%{z}",
         "type": "heatmap",
         "x": [
          "Ground Truth",
          "Llama2 Fine-Tuned ",
          "Llama2 Fine-Tuned Top 1",
          "Llama2 Fine-Tuned Top 3",
          "Llama2 Fine-Tuned Gold",
          "Llama2 Prompt ",
          "Llama2 Prompt Top 1",
          "Llama2 Prompt Top 3",
          "Llama2 Prompt Gold"
         ],
         "xaxis": "x",
         "y": [
          "Llama2 Prompt Gold",
          "Llama2 Prompt Top 3",
          "Llama2 Prompt Top 1",
          "Llama2 Prompt ",
          "Llama2 Fine-Tuned Gold",
          "Llama2 Fine-Tuned Top 3",
          "Llama2 Fine-Tuned Top 1",
          "Llama2 Fine-Tuned ",
          "Ground Truth"
         ],
         "yaxis": "y",
         "z": [
          [
           0.004,
           0.001,
           0.001,
           0.001,
           0.01,
           0.1,
           0.121,
           0.102,
           0
          ],
          [
           0,
           0,
           0.001,
           0.002,
           0.002,
           0.099,
           0.169,
           0,
           0.101
          ],
          [
           0,
           0,
           0.001,
           0.001,
           0.001,
           0.134,
           0,
           0.17,
           0.121
          ],
          [
           0,
           0.001,
           0.001,
           0.001,
           0.001,
           0,
           0.135,
           0.1,
           0.101
          ],
          [
           0.112,
           0.022,
           0.05,
           0.053,
           0,
           0.003,
           0.005,
           0.007,
           0.034
          ],
          [
           0.01,
           0.063,
           0.151,
           0,
           0.053,
           0.007,
           0.007,
           0.011,
           0.006
          ],
          [
           0.009,
           0.086,
           0,
           0.151,
           0.051,
           0.008,
           0.008,
           0.008,
           0.006
          ],
          [
           0.005,
           0,
           0.085,
           0.063,
           0.023,
           0.007,
           0.005,
           0.005,
           0.006
          ],
          [
           0,
           0.005,
           0.009,
           0.01,
           0.111,
           0.002,
           0.002,
           0.002,
           0.013
          ]
         ]
        }
       ],
       "layout": {
        "coloraxis": {
         "colorscale": [
          [
           0,
           "#0d0887"
          ],
          [
           0.1111111111111111,
           "#46039f"
          ],
          [
           0.2222222222222222,
           "#7201a8"
          ],
          [
           0.3333333333333333,
           "#9c179e"
          ],
          [
           0.4444444444444444,
           "#bd3786"
          ],
          [
           0.5555555555555556,
           "#d8576b"
          ],
          [
           0.6666666666666666,
           "#ed7953"
          ],
          [
           0.7777777777777778,
           "#fb9f3a"
          ],
          [
           0.8888888888888888,
           "#fdca26"
          ],
          [
           1,
           "#f0f921"
          ]
         ]
        },
        "font": {
         "size": 15
        },
        "height": 600,
        "template": {
         "data": {
          "bar": [
           {
            "error_x": {
             "color": "#2a3f5f"
            },
            "error_y": {
             "color": "#2a3f5f"
            },
            "marker": {
             "line": {
              "color": "#E5ECF6",
              "width": 0.5
             },
             "pattern": {
              "fillmode": "overlay",
              "size": 10,
              "solidity": 0.2
             }
            },
            "type": "bar"
           }
          ],
          "barpolar": [
           {
            "marker": {
             "line": {
              "color": "#E5ECF6",
              "width": 0.5
             },
             "pattern": {
              "fillmode": "overlay",
              "size": 10,
              "solidity": 0.2
             }
            },
            "type": "barpolar"
           }
          ],
          "carpet": [
           {
            "aaxis": {
             "endlinecolor": "#2a3f5f",
             "gridcolor": "white",
             "linecolor": "white",
             "minorgridcolor": "white",
             "startlinecolor": "#2a3f5f"
            },
            "baxis": {
             "endlinecolor": "#2a3f5f",
             "gridcolor": "white",
             "linecolor": "white",
             "minorgridcolor": "white",
             "startlinecolor": "#2a3f5f"
            },
            "type": "carpet"
           }
          ],
          "choropleth": [
           {
            "colorbar": {
             "outlinewidth": 0,
             "ticks": ""
            },
            "type": "choropleth"
           }
          ],
          "contour": [
           {
            "colorbar": {
             "outlinewidth": 0,
             "ticks": ""
            },
            "colorscale": [
             [
              0,
              "#0d0887"
             ],
             [
              0.1111111111111111,
              "#46039f"
             ],
             [
              0.2222222222222222,
              "#7201a8"
             ],
             [
              0.3333333333333333,
              "#9c179e"
             ],
             [
              0.4444444444444444,
              "#bd3786"
             ],
             [
              0.5555555555555556,
              "#d8576b"
             ],
             [
              0.6666666666666666,
              "#ed7953"
             ],
             [
              0.7777777777777778,
              "#fb9f3a"
             ],
             [
              0.8888888888888888,
              "#fdca26"
             ],
             [
              1,
              "#f0f921"
             ]
            ],
            "type": "contour"
           }
          ],
          "contourcarpet": [
           {
            "colorbar": {
             "outlinewidth": 0,
             "ticks": ""
            },
            "type": "contourcarpet"
           }
          ],
          "heatmap": [
           {
            "colorbar": {
             "outlinewidth": 0,
             "ticks": ""
            },
            "colorscale": [
             [
              0,
              "#0d0887"
             ],
             [
              0.1111111111111111,
              "#46039f"
             ],
             [
              0.2222222222222222,
              "#7201a8"
             ],
             [
              0.3333333333333333,
              "#9c179e"
             ],
             [
              0.4444444444444444,
              "#bd3786"
             ],
             [
              0.5555555555555556,
              "#d8576b"
             ],
             [
              0.6666666666666666,
              "#ed7953"
             ],
             [
              0.7777777777777778,
              "#fb9f3a"
             ],
             [
              0.8888888888888888,
              "#fdca26"
             ],
             [
              1,
              "#f0f921"
             ]
            ],
            "type": "heatmap"
           }
          ],
          "heatmapgl": [
           {
            "colorbar": {
             "outlinewidth": 0,
             "ticks": ""
            },
            "colorscale": [
             [
              0,
              "#0d0887"
             ],
             [
              0.1111111111111111,
              "#46039f"
             ],
             [
              0.2222222222222222,
              "#7201a8"
             ],
             [
              0.3333333333333333,
              "#9c179e"
             ],
             [
              0.4444444444444444,
              "#bd3786"
             ],
             [
              0.5555555555555556,
              "#d8576b"
             ],
             [
              0.6666666666666666,
              "#ed7953"
             ],
             [
              0.7777777777777778,
              "#fb9f3a"
             ],
             [
              0.8888888888888888,
              "#fdca26"
             ],
             [
              1,
              "#f0f921"
             ]
            ],
            "type": "heatmapgl"
           }
          ],
          "histogram": [
           {
            "marker": {
             "pattern": {
              "fillmode": "overlay",
              "size": 10,
              "solidity": 0.2
             }
            },
            "type": "histogram"
           }
          ],
          "histogram2d": [
           {
            "colorbar": {
             "outlinewidth": 0,
             "ticks": ""
            },
            "colorscale": [
             [
              0,
              "#0d0887"
             ],
             [
              0.1111111111111111,
              "#46039f"
             ],
             [
              0.2222222222222222,
              "#7201a8"
             ],
             [
              0.3333333333333333,
              "#9c179e"
             ],
             [
              0.4444444444444444,
              "#bd3786"
             ],
             [
              0.5555555555555556,
              "#d8576b"
             ],
             [
              0.6666666666666666,
              "#ed7953"
             ],
             [
              0.7777777777777778,
              "#fb9f3a"
             ],
             [
              0.8888888888888888,
              "#fdca26"
             ],
             [
              1,
              "#f0f921"
             ]
            ],
            "type": "histogram2d"
           }
          ],
          "histogram2dcontour": [
           {
            "colorbar": {
             "outlinewidth": 0,
             "ticks": ""
            },
            "colorscale": [
             [
              0,
              "#0d0887"
             ],
             [
              0.1111111111111111,
              "#46039f"
             ],
             [
              0.2222222222222222,
              "#7201a8"
             ],
             [
              0.3333333333333333,
              "#9c179e"
             ],
             [
              0.4444444444444444,
              "#bd3786"
             ],
             [
              0.5555555555555556,
              "#d8576b"
             ],
             [
              0.6666666666666666,
              "#ed7953"
             ],
             [
              0.7777777777777778,
              "#fb9f3a"
             ],
             [
              0.8888888888888888,
              "#fdca26"
             ],
             [
              1,
              "#f0f921"
             ]
            ],
            "type": "histogram2dcontour"
           }
          ],
          "mesh3d": [
           {
            "colorbar": {
             "outlinewidth": 0,
             "ticks": ""
            },
            "type": "mesh3d"
           }
          ],
          "parcoords": [
           {
            "line": {
             "colorbar": {
              "outlinewidth": 0,
              "ticks": ""
             }
            },
            "type": "parcoords"
           }
          ],
          "pie": [
           {
            "automargin": true,
            "type": "pie"
           }
          ],
          "scatter": [
           {
            "fillpattern": {
             "fillmode": "overlay",
             "size": 10,
             "solidity": 0.2
            },
            "type": "scatter"
           }
          ],
          "scatter3d": [
           {
            "line": {
             "colorbar": {
              "outlinewidth": 0,
              "ticks": ""
             }
            },
            "marker": {
             "colorbar": {
              "outlinewidth": 0,
              "ticks": ""
             }
            },
            "type": "scatter3d"
           }
          ],
          "scattercarpet": [
           {
            "marker": {
             "colorbar": {
              "outlinewidth": 0,
              "ticks": ""
             }
            },
            "type": "scattercarpet"
           }
          ],
          "scattergeo": [
           {
            "marker": {
             "colorbar": {
              "outlinewidth": 0,
              "ticks": ""
             }
            },
            "type": "scattergeo"
           }
          ],
          "scattergl": [
           {
            "marker": {
             "colorbar": {
              "outlinewidth": 0,
              "ticks": ""
             }
            },
            "type": "scattergl"
           }
          ],
          "scattermapbox": [
           {
            "marker": {
             "colorbar": {
              "outlinewidth": 0,
              "ticks": ""
             }
            },
            "type": "scattermapbox"
           }
          ],
          "scatterpolar": [
           {
            "marker": {
             "colorbar": {
              "outlinewidth": 0,
              "ticks": ""
             }
            },
            "type": "scatterpolar"
           }
          ],
          "scatterpolargl": [
           {
            "marker": {
             "colorbar": {
              "outlinewidth": 0,
              "ticks": ""
             }
            },
            "type": "scatterpolargl"
           }
          ],
          "scatterternary": [
           {
            "marker": {
             "colorbar": {
              "outlinewidth": 0,
              "ticks": ""
             }
            },
            "type": "scatterternary"
           }
          ],
          "surface": [
           {
            "colorbar": {
             "outlinewidth": 0,
             "ticks": ""
            },
            "colorscale": [
             [
              0,
              "#0d0887"
             ],
             [
              0.1111111111111111,
              "#46039f"
             ],
             [
              0.2222222222222222,
              "#7201a8"
             ],
             [
              0.3333333333333333,
              "#9c179e"
             ],
             [
              0.4444444444444444,
              "#bd3786"
             ],
             [
              0.5555555555555556,
              "#d8576b"
             ],
             [
              0.6666666666666666,
              "#ed7953"
             ],
             [
              0.7777777777777778,
              "#fb9f3a"
             ],
             [
              0.8888888888888888,
              "#fdca26"
             ],
             [
              1,
              "#f0f921"
             ]
            ],
            "type": "surface"
           }
          ],
          "table": [
           {
            "cells": {
             "fill": {
              "color": "#EBF0F8"
             },
             "line": {
              "color": "white"
             }
            },
            "header": {
             "fill": {
              "color": "#C8D4E3"
             },
             "line": {
              "color": "white"
             }
            },
            "type": "table"
           }
          ]
         },
         "layout": {
          "annotationdefaults": {
           "arrowcolor": "#2a3f5f",
           "arrowhead": 0,
           "arrowwidth": 1
          },
          "autotypenumbers": "strict",
          "coloraxis": {
           "colorbar": {
            "outlinewidth": 0,
            "ticks": ""
           }
          },
          "colorscale": {
           "diverging": [
            [
             0,
             "#8e0152"
            ],
            [
             0.1,
             "#c51b7d"
            ],
            [
             0.2,
             "#de77ae"
            ],
            [
             0.3,
             "#f1b6da"
            ],
            [
             0.4,
             "#fde0ef"
            ],
            [
             0.5,
             "#f7f7f7"
            ],
            [
             0.6,
             "#e6f5d0"
            ],
            [
             0.7,
             "#b8e186"
            ],
            [
             0.8,
             "#7fbc41"
            ],
            [
             0.9,
             "#4d9221"
            ],
            [
             1,
             "#276419"
            ]
           ],
           "sequential": [
            [
             0,
             "#0d0887"
            ],
            [
             0.1111111111111111,
             "#46039f"
            ],
            [
             0.2222222222222222,
             "#7201a8"
            ],
            [
             0.3333333333333333,
             "#9c179e"
            ],
            [
             0.4444444444444444,
             "#bd3786"
            ],
            [
             0.5555555555555556,
             "#d8576b"
            ],
            [
             0.6666666666666666,
             "#ed7953"
            ],
            [
             0.7777777777777778,
             "#fb9f3a"
            ],
            [
             0.8888888888888888,
             "#fdca26"
            ],
            [
             1,
             "#f0f921"
            ]
           ],
           "sequentialminus": [
            [
             0,
             "#0d0887"
            ],
            [
             0.1111111111111111,
             "#46039f"
            ],
            [
             0.2222222222222222,
             "#7201a8"
            ],
            [
             0.3333333333333333,
             "#9c179e"
            ],
            [
             0.4444444444444444,
             "#bd3786"
            ],
            [
             0.5555555555555556,
             "#d8576b"
            ],
            [
             0.6666666666666666,
             "#ed7953"
            ],
            [
             0.7777777777777778,
             "#fb9f3a"
            ],
            [
             0.8888888888888888,
             "#fdca26"
            ],
            [
             1,
             "#f0f921"
            ]
           ]
          },
          "colorway": [
           "#636efa",
           "#EF553B",
           "#00cc96",
           "#ab63fa",
           "#FFA15A",
           "#19d3f3",
           "#FF6692",
           "#B6E880",
           "#FF97FF",
           "#FECB52"
          ],
          "font": {
           "color": "#2a3f5f"
          },
          "geo": {
           "bgcolor": "white",
           "lakecolor": "white",
           "landcolor": "#E5ECF6",
           "showlakes": true,
           "showland": true,
           "subunitcolor": "white"
          },
          "hoverlabel": {
           "align": "left"
          },
          "hovermode": "closest",
          "mapbox": {
           "style": "light"
          },
          "paper_bgcolor": "white",
          "plot_bgcolor": "#E5ECF6",
          "polar": {
           "angularaxis": {
            "gridcolor": "white",
            "linecolor": "white",
            "ticks": ""
           },
           "bgcolor": "#E5ECF6",
           "radialaxis": {
            "gridcolor": "white",
            "linecolor": "white",
            "ticks": ""
           }
          },
          "scene": {
           "xaxis": {
            "backgroundcolor": "#E5ECF6",
            "gridcolor": "white",
            "gridwidth": 2,
            "linecolor": "white",
            "showbackground": true,
            "ticks": "",
            "zerolinecolor": "white"
           },
           "yaxis": {
            "backgroundcolor": "#E5ECF6",
            "gridcolor": "white",
            "gridwidth": 2,
            "linecolor": "white",
            "showbackground": true,
            "ticks": "",
            "zerolinecolor": "white"
           },
           "zaxis": {
            "backgroundcolor": "#E5ECF6",
            "gridcolor": "white",
            "gridwidth": 2,
            "linecolor": "white",
            "showbackground": true,
            "ticks": "",
            "zerolinecolor": "white"
           }
          },
          "shapedefaults": {
           "line": {
            "color": "#2a3f5f"
           }
          },
          "ternary": {
           "aaxis": {
            "gridcolor": "white",
            "linecolor": "white",
            "ticks": ""
           },
           "baxis": {
            "gridcolor": "white",
            "linecolor": "white",
            "ticks": ""
           },
           "bgcolor": "#E5ECF6",
           "caxis": {
            "gridcolor": "white",
            "linecolor": "white",
            "ticks": ""
           }
          },
          "title": {
           "x": 0.05
          },
          "xaxis": {
           "automargin": true,
           "gridcolor": "white",
           "linecolor": "white",
           "ticks": "",
           "title": {
            "standoff": 15
           },
           "zerolinecolor": "white",
           "zerolinewidth": 2
          },
          "yaxis": {
           "automargin": true,
           "gridcolor": "white",
           "linecolor": "white",
           "ticks": "",
           "title": {
            "standoff": 15
           },
           "zerolinecolor": "white",
           "zerolinewidth": 2
          }
         }
        },
        "title": {
         "text": "Bleu-4 token level (mean)"
        },
        "width": 600,
        "xaxis": {
         "anchor": "y",
         "constrain": "domain",
         "domain": [
          0,
          1
         ],
         "scaleanchor": "y",
         "tickangle": -45
        },
        "yaxis": {
         "anchor": "x",
         "autorange": "reversed",
         "constrain": "domain",
         "domain": [
          0,
          1
         ]
        }
       }
      },
      "text/html": [
       "<div>                            <div id=\"4e2b8505-71d8-4301-9abd-7fb6b3ea33ad\" class=\"plotly-graph-div\" style=\"height:600px; width:600px;\"></div>            <script type=\"text/javascript\">                require([\"plotly\"], function(Plotly) {                    window.PLOTLYENV=window.PLOTLYENV || {};                                    if (document.getElementById(\"4e2b8505-71d8-4301-9abd-7fb6b3ea33ad\")) {                    Plotly.newPlot(                        \"4e2b8505-71d8-4301-9abd-7fb6b3ea33ad\",                        [{\"coloraxis\":\"coloraxis\",\"name\":\"0\",\"texttemplate\":\"%{z}\",\"x\":[\"Ground Truth\",\"Llama2 Fine-Tuned \",\"Llama2 Fine-Tuned Top 1\",\"Llama2 Fine-Tuned Top 3\",\"Llama2 Fine-Tuned Gold\",\"Llama2 Prompt \",\"Llama2 Prompt Top 1\",\"Llama2 Prompt Top 3\",\"Llama2 Prompt Gold\"],\"y\":[\"Llama2 Prompt Gold\",\"Llama2 Prompt Top 3\",\"Llama2 Prompt Top 1\",\"Llama2 Prompt \",\"Llama2 Fine-Tuned Gold\",\"Llama2 Fine-Tuned Top 3\",\"Llama2 Fine-Tuned Top 1\",\"Llama2 Fine-Tuned \",\"Ground Truth\"],\"z\":[[0.004,0.001,0.001,0.001,0.01,0.1,0.121,0.102,0.0],[0.0,0.0,0.001,0.002,0.002,0.099,0.169,0.0,0.101],[0.0,0.0,0.001,0.001,0.001,0.134,0.0,0.17,0.121],[0.0,0.001,0.001,0.001,0.001,0.0,0.135,0.1,0.101],[0.112,0.022,0.05,0.053,0.0,0.003,0.005,0.007,0.034],[0.01,0.063,0.151,0.0,0.053,0.007,0.007,0.011,0.006],[0.009,0.086,0.0,0.151,0.051,0.008,0.008,0.008,0.006],[0.005,0.0,0.085,0.063,0.023,0.007,0.005,0.005,0.006],[0.0,0.005,0.009,0.01,0.111,0.002,0.002,0.002,0.013]],\"type\":\"heatmap\",\"xaxis\":\"x\",\"yaxis\":\"y\",\"hovertemplate\":\"x: %{x}\\u003cbr\\u003ey: %{y}\\u003cbr\\u003ecolor: %{z}\\u003cextra\\u003e\\u003c\\u002fextra\\u003e\"}],                        {\"template\":{\"data\":{\"histogram2dcontour\":[{\"type\":\"histogram2dcontour\",\"colorbar\":{\"outlinewidth\":0,\"ticks\":\"\"},\"colorscale\":[[0.0,\"#0d0887\"],[0.1111111111111111,\"#46039f\"],[0.2222222222222222,\"#7201a8\"],[0.3333333333333333,\"#9c179e\"],[0.4444444444444444,\"#bd3786\"],[0.5555555555555556,\"#d8576b\"],[0.6666666666666666,\"#ed7953\"],[0.7777777777777778,\"#fb9f3a\"],[0.8888888888888888,\"#fdca26\"],[1.0,\"#f0f921\"]]}],\"choropleth\":[{\"type\":\"choropleth\",\"colorbar\":{\"outlinewidth\":0,\"ticks\":\"\"}}],\"histogram2d\":[{\"type\":\"histogram2d\",\"colorbar\":{\"outlinewidth\":0,\"ticks\":\"\"},\"colorscale\":[[0.0,\"#0d0887\"],[0.1111111111111111,\"#46039f\"],[0.2222222222222222,\"#7201a8\"],[0.3333333333333333,\"#9c179e\"],[0.4444444444444444,\"#bd3786\"],[0.5555555555555556,\"#d8576b\"],[0.6666666666666666,\"#ed7953\"],[0.7777777777777778,\"#fb9f3a\"],[0.8888888888888888,\"#fdca26\"],[1.0,\"#f0f921\"]]}],\"heatmap\":[{\"type\":\"heatmap\",\"colorbar\":{\"outlinewidth\":0,\"ticks\":\"\"},\"colorscale\":[[0.0,\"#0d0887\"],[0.1111111111111111,\"#46039f\"],[0.2222222222222222,\"#7201a8\"],[0.3333333333333333,\"#9c179e\"],[0.4444444444444444,\"#bd3786\"],[0.5555555555555556,\"#d8576b\"],[0.6666666666666666,\"#ed7953\"],[0.7777777777777778,\"#fb9f3a\"],[0.8888888888888888,\"#fdca26\"],[1.0,\"#f0f921\"]]}],\"heatmapgl\":[{\"type\":\"heatmapgl\",\"colorbar\":{\"outlinewidth\":0,\"ticks\":\"\"},\"colorscale\":[[0.0,\"#0d0887\"],[0.1111111111111111,\"#46039f\"],[0.2222222222222222,\"#7201a8\"],[0.3333333333333333,\"#9c179e\"],[0.4444444444444444,\"#bd3786\"],[0.5555555555555556,\"#d8576b\"],[0.6666666666666666,\"#ed7953\"],[0.7777777777777778,\"#fb9f3a\"],[0.8888888888888888,\"#fdca26\"],[1.0,\"#f0f921\"]]}],\"contourcarpet\":[{\"type\":\"contourcarpet\",\"colorbar\":{\"outlinewidth\":0,\"ticks\":\"\"}}],\"contour\":[{\"type\":\"contour\",\"colorbar\":{\"outlinewidth\":0,\"ticks\":\"\"},\"colorscale\":[[0.0,\"#0d0887\"],[0.1111111111111111,\"#46039f\"],[0.2222222222222222,\"#7201a8\"],[0.3333333333333333,\"#9c179e\"],[0.4444444444444444,\"#bd3786\"],[0.5555555555555556,\"#d8576b\"],[0.6666666666666666,\"#ed7953\"],[0.7777777777777778,\"#fb9f3a\"],[0.8888888888888888,\"#fdca26\"],[1.0,\"#f0f921\"]]}],\"surface\":[{\"type\":\"surface\",\"colorbar\":{\"outlinewidth\":0,\"ticks\":\"\"},\"colorscale\":[[0.0,\"#0d0887\"],[0.1111111111111111,\"#46039f\"],[0.2222222222222222,\"#7201a8\"],[0.3333333333333333,\"#9c179e\"],[0.4444444444444444,\"#bd3786\"],[0.5555555555555556,\"#d8576b\"],[0.6666666666666666,\"#ed7953\"],[0.7777777777777778,\"#fb9f3a\"],[0.8888888888888888,\"#fdca26\"],[1.0,\"#f0f921\"]]}],\"mesh3d\":[{\"type\":\"mesh3d\",\"colorbar\":{\"outlinewidth\":0,\"ticks\":\"\"}}],\"scatter\":[{\"fillpattern\":{\"fillmode\":\"overlay\",\"size\":10,\"solidity\":0.2},\"type\":\"scatter\"}],\"parcoords\":[{\"type\":\"parcoords\",\"line\":{\"colorbar\":{\"outlinewidth\":0,\"ticks\":\"\"}}}],\"scatterpolargl\":[{\"type\":\"scatterpolargl\",\"marker\":{\"colorbar\":{\"outlinewidth\":0,\"ticks\":\"\"}}}],\"bar\":[{\"error_x\":{\"color\":\"#2a3f5f\"},\"error_y\":{\"color\":\"#2a3f5f\"},\"marker\":{\"line\":{\"color\":\"#E5ECF6\",\"width\":0.5},\"pattern\":{\"fillmode\":\"overlay\",\"size\":10,\"solidity\":0.2}},\"type\":\"bar\"}],\"scattergeo\":[{\"type\":\"scattergeo\",\"marker\":{\"colorbar\":{\"outlinewidth\":0,\"ticks\":\"\"}}}],\"scatterpolar\":[{\"type\":\"scatterpolar\",\"marker\":{\"colorbar\":{\"outlinewidth\":0,\"ticks\":\"\"}}}],\"histogram\":[{\"marker\":{\"pattern\":{\"fillmode\":\"overlay\",\"size\":10,\"solidity\":0.2}},\"type\":\"histogram\"}],\"scattergl\":[{\"type\":\"scattergl\",\"marker\":{\"colorbar\":{\"outlinewidth\":0,\"ticks\":\"\"}}}],\"scatter3d\":[{\"type\":\"scatter3d\",\"line\":{\"colorbar\":{\"outlinewidth\":0,\"ticks\":\"\"}},\"marker\":{\"colorbar\":{\"outlinewidth\":0,\"ticks\":\"\"}}}],\"scattermapbox\":[{\"type\":\"scattermapbox\",\"marker\":{\"colorbar\":{\"outlinewidth\":0,\"ticks\":\"\"}}}],\"scatterternary\":[{\"type\":\"scatterternary\",\"marker\":{\"colorbar\":{\"outlinewidth\":0,\"ticks\":\"\"}}}],\"scattercarpet\":[{\"type\":\"scattercarpet\",\"marker\":{\"colorbar\":{\"outlinewidth\":0,\"ticks\":\"\"}}}],\"carpet\":[{\"aaxis\":{\"endlinecolor\":\"#2a3f5f\",\"gridcolor\":\"white\",\"linecolor\":\"white\",\"minorgridcolor\":\"white\",\"startlinecolor\":\"#2a3f5f\"},\"baxis\":{\"endlinecolor\":\"#2a3f5f\",\"gridcolor\":\"white\",\"linecolor\":\"white\",\"minorgridcolor\":\"white\",\"startlinecolor\":\"#2a3f5f\"},\"type\":\"carpet\"}],\"table\":[{\"cells\":{\"fill\":{\"color\":\"#EBF0F8\"},\"line\":{\"color\":\"white\"}},\"header\":{\"fill\":{\"color\":\"#C8D4E3\"},\"line\":{\"color\":\"white\"}},\"type\":\"table\"}],\"barpolar\":[{\"marker\":{\"line\":{\"color\":\"#E5ECF6\",\"width\":0.5},\"pattern\":{\"fillmode\":\"overlay\",\"size\":10,\"solidity\":0.2}},\"type\":\"barpolar\"}],\"pie\":[{\"automargin\":true,\"type\":\"pie\"}]},\"layout\":{\"autotypenumbers\":\"strict\",\"colorway\":[\"#636efa\",\"#EF553B\",\"#00cc96\",\"#ab63fa\",\"#FFA15A\",\"#19d3f3\",\"#FF6692\",\"#B6E880\",\"#FF97FF\",\"#FECB52\"],\"font\":{\"color\":\"#2a3f5f\"},\"hovermode\":\"closest\",\"hoverlabel\":{\"align\":\"left\"},\"paper_bgcolor\":\"white\",\"plot_bgcolor\":\"#E5ECF6\",\"polar\":{\"bgcolor\":\"#E5ECF6\",\"angularaxis\":{\"gridcolor\":\"white\",\"linecolor\":\"white\",\"ticks\":\"\"},\"radialaxis\":{\"gridcolor\":\"white\",\"linecolor\":\"white\",\"ticks\":\"\"}},\"ternary\":{\"bgcolor\":\"#E5ECF6\",\"aaxis\":{\"gridcolor\":\"white\",\"linecolor\":\"white\",\"ticks\":\"\"},\"baxis\":{\"gridcolor\":\"white\",\"linecolor\":\"white\",\"ticks\":\"\"},\"caxis\":{\"gridcolor\":\"white\",\"linecolor\":\"white\",\"ticks\":\"\"}},\"coloraxis\":{\"colorbar\":{\"outlinewidth\":0,\"ticks\":\"\"}},\"colorscale\":{\"sequential\":[[0.0,\"#0d0887\"],[0.1111111111111111,\"#46039f\"],[0.2222222222222222,\"#7201a8\"],[0.3333333333333333,\"#9c179e\"],[0.4444444444444444,\"#bd3786\"],[0.5555555555555556,\"#d8576b\"],[0.6666666666666666,\"#ed7953\"],[0.7777777777777778,\"#fb9f3a\"],[0.8888888888888888,\"#fdca26\"],[1.0,\"#f0f921\"]],\"sequentialminus\":[[0.0,\"#0d0887\"],[0.1111111111111111,\"#46039f\"],[0.2222222222222222,\"#7201a8\"],[0.3333333333333333,\"#9c179e\"],[0.4444444444444444,\"#bd3786\"],[0.5555555555555556,\"#d8576b\"],[0.6666666666666666,\"#ed7953\"],[0.7777777777777778,\"#fb9f3a\"],[0.8888888888888888,\"#fdca26\"],[1.0,\"#f0f921\"]],\"diverging\":[[0,\"#8e0152\"],[0.1,\"#c51b7d\"],[0.2,\"#de77ae\"],[0.3,\"#f1b6da\"],[0.4,\"#fde0ef\"],[0.5,\"#f7f7f7\"],[0.6,\"#e6f5d0\"],[0.7,\"#b8e186\"],[0.8,\"#7fbc41\"],[0.9,\"#4d9221\"],[1,\"#276419\"]]},\"xaxis\":{\"gridcolor\":\"white\",\"linecolor\":\"white\",\"ticks\":\"\",\"title\":{\"standoff\":15},\"zerolinecolor\":\"white\",\"automargin\":true,\"zerolinewidth\":2},\"yaxis\":{\"gridcolor\":\"white\",\"linecolor\":\"white\",\"ticks\":\"\",\"title\":{\"standoff\":15},\"zerolinecolor\":\"white\",\"automargin\":true,\"zerolinewidth\":2},\"scene\":{\"xaxis\":{\"backgroundcolor\":\"#E5ECF6\",\"gridcolor\":\"white\",\"linecolor\":\"white\",\"showbackground\":true,\"ticks\":\"\",\"zerolinecolor\":\"white\",\"gridwidth\":2},\"yaxis\":{\"backgroundcolor\":\"#E5ECF6\",\"gridcolor\":\"white\",\"linecolor\":\"white\",\"showbackground\":true,\"ticks\":\"\",\"zerolinecolor\":\"white\",\"gridwidth\":2},\"zaxis\":{\"backgroundcolor\":\"#E5ECF6\",\"gridcolor\":\"white\",\"linecolor\":\"white\",\"showbackground\":true,\"ticks\":\"\",\"zerolinecolor\":\"white\",\"gridwidth\":2}},\"shapedefaults\":{\"line\":{\"color\":\"#2a3f5f\"}},\"annotationdefaults\":{\"arrowcolor\":\"#2a3f5f\",\"arrowhead\":0,\"arrowwidth\":1},\"geo\":{\"bgcolor\":\"white\",\"landcolor\":\"#E5ECF6\",\"subunitcolor\":\"white\",\"showland\":true,\"showlakes\":true,\"lakecolor\":\"white\"},\"title\":{\"x\":0.05},\"mapbox\":{\"style\":\"light\"}}},\"xaxis\":{\"anchor\":\"y\",\"domain\":[0.0,1.0],\"scaleanchor\":\"y\",\"constrain\":\"domain\",\"tickangle\":-45},\"yaxis\":{\"anchor\":\"x\",\"domain\":[0.0,1.0],\"autorange\":\"reversed\",\"constrain\":\"domain\"},\"coloraxis\":{\"colorscale\":[[0.0,\"#0d0887\"],[0.1111111111111111,\"#46039f\"],[0.2222222222222222,\"#7201a8\"],[0.3333333333333333,\"#9c179e\"],[0.4444444444444444,\"#bd3786\"],[0.5555555555555556,\"#d8576b\"],[0.6666666666666666,\"#ed7953\"],[0.7777777777777778,\"#fb9f3a\"],[0.8888888888888888,\"#fdca26\"],[1.0,\"#f0f921\"]]},\"title\":{\"text\":\"Bleu-4 token level (mean)\"},\"font\":{\"size\":15},\"height\":600,\"width\":600},                        {\"responsive\": true}                    ).then(function(){\n",
       "                            \n",
       "var gd = document.getElementById('4e2b8505-71d8-4301-9abd-7fb6b3ea33ad');\n",
       "var x = new MutationObserver(function (mutations, observer) {{\n",
       "        var display = window.getComputedStyle(gd).display;\n",
       "        if (!display || display === 'none') {{\n",
       "            console.log([gd, 'removed!']);\n",
       "            Plotly.purge(gd);\n",
       "            observer.disconnect();\n",
       "        }}\n",
       "}});\n",
       "\n",
       "// Listen for the removal of the full notebook cells\n",
       "var notebookContainer = gd.closest('#notebook-container');\n",
       "if (notebookContainer) {{\n",
       "    x.observe(notebookContainer, {childList: true});\n",
       "}}\n",
       "\n",
       "// Listen for the clearing of the current output cell\n",
       "var outputEl = gd.closest('.output');\n",
       "if (outputEl) {{\n",
       "    x.observe(outputEl, {childList: true});\n",
       "}}\n",
       "\n",
       "                        })                };                });            </script>        </div>"
      ]
     },
     "metadata": {},
     "output_type": "display_data"
    }
   ],
   "source": [
    "from utils import plot_cross_bleu\n",
    "\n",
    "candidates = [\n",
    "    \"gt\",\n",
    "    \"llama_ft_none.json\",\n",
    "    \"llama_ft_retrieved_top-1.json\",\n",
    "    \"llama_ft_retrieved_top-3.json\",\n",
    "    \"llama_ft_gold.json\",\n",
    "    \"llama_prompt_none.json\",\n",
    "    \"llama_prompt_retrieved_top-1.json\",\n",
    "    \"llama_prompt_retrieved_top-3.json\",\n",
    "    \"llama_prompt_gold.json\",\n",
    "]\n",
    "\n",
    "plot_cross_bleu(task_replies, candidates, replacements, results_to_plot=['b4_tok'])"
   ]
  },
  {
   "cell_type": "code",
   "execution_count": 20,
   "metadata": {},
   "outputs": [
    {
     "name": "stderr",
     "output_type": "stream",
     "text": [
      "Computing cross BLEU:   0%|          | 0/968 [00:00<?, ?it/s]"
     ]
    },
    {
     "name": "stderr",
     "output_type": "stream",
     "text": [
      "Computing cross BLEU: 100%|██████████| 968/968 [00:20<00:00, 46.59it/s]\n"
     ]
    },
    {
     "data": {
      "application/vnd.plotly.v1+json": {
       "config": {
        "plotlyServerURL": "https://plot.ly"
       },
       "data": [
        {
         "coloraxis": "coloraxis",
         "hovertemplate": "x: %{x}<br>y: %{y}<br>color: %{z}<extra></extra>",
         "name": "0",
         "texttemplate": "%{z}",
         "type": "heatmap",
         "x": [
          "Ground Truth",
          "Mistral Fine-Tuned ",
          "Mistral Fine-Tuned Top 1",
          "Mistral Fine-Tuned Top 3",
          "Mistral Fine-Tuned Gold",
          "Mistral Prompt ",
          "Mistral Prompt Top 1",
          "Mistral Prompt Top 3",
          "Mistral Prompt Gold"
         ],
         "xaxis": "x",
         "y": [
          "Mistral Prompt Gold",
          "Mistral Prompt Top 3",
          "Mistral Prompt Top 1",
          "Mistral Prompt ",
          "Mistral Fine-Tuned Gold",
          "Mistral Fine-Tuned Top 3",
          "Mistral Fine-Tuned Top 1",
          "Mistral Fine-Tuned ",
          "Ground Truth"
         ],
         "yaxis": "y",
         "z": [
          [
           0.007,
           0.005,
           0.007,
           0.008,
           0.025,
           0.069,
           0.051,
           0.055,
           0
          ],
          [
           0.001,
           0.002,
           0.006,
           0.011,
           0.005,
           0.04,
           0.067,
           0,
           0.054
          ],
          [
           0.001,
           0.009,
           0.008,
           0.009,
           0.003,
           0.046,
           0,
           0.069,
           0.051
          ],
          [
           0.002,
           0.016,
           0.014,
           0.012,
           0.007,
           0,
           0.047,
           0.042,
           0.07
          ],
          [
           0.109,
           0.038,
           0.059,
           0.069,
           0,
           0.008,
           0.005,
           0.013,
           0.047
          ],
          [
           0.013,
           0.151,
           0.223,
           0,
           0.07,
           0.017,
           0.014,
           0.026,
           0.013
          ],
          [
           0.006,
           0.221,
           0,
           0.222,
           0.06,
           0.02,
           0.015,
           0.015,
           0.013
          ],
          [
           0.005,
           0,
           0.224,
           0.151,
           0.039,
           0.023,
           0.014,
           0.007,
           0.01
          ],
          [
           0,
           0.005,
           0.006,
           0.012,
           0.11,
           0.003,
           0.002,
           0.003,
           0.014
          ]
         ]
        }
       ],
       "layout": {
        "coloraxis": {
         "colorscale": [
          [
           0,
           "#0d0887"
          ],
          [
           0.1111111111111111,
           "#46039f"
          ],
          [
           0.2222222222222222,
           "#7201a8"
          ],
          [
           0.3333333333333333,
           "#9c179e"
          ],
          [
           0.4444444444444444,
           "#bd3786"
          ],
          [
           0.5555555555555556,
           "#d8576b"
          ],
          [
           0.6666666666666666,
           "#ed7953"
          ],
          [
           0.7777777777777778,
           "#fb9f3a"
          ],
          [
           0.8888888888888888,
           "#fdca26"
          ],
          [
           1,
           "#f0f921"
          ]
         ]
        },
        "font": {
         "size": 15
        },
        "height": 600,
        "template": {
         "data": {
          "bar": [
           {
            "error_x": {
             "color": "#2a3f5f"
            },
            "error_y": {
             "color": "#2a3f5f"
            },
            "marker": {
             "line": {
              "color": "#E5ECF6",
              "width": 0.5
             },
             "pattern": {
              "fillmode": "overlay",
              "size": 10,
              "solidity": 0.2
             }
            },
            "type": "bar"
           }
          ],
          "barpolar": [
           {
            "marker": {
             "line": {
              "color": "#E5ECF6",
              "width": 0.5
             },
             "pattern": {
              "fillmode": "overlay",
              "size": 10,
              "solidity": 0.2
             }
            },
            "type": "barpolar"
           }
          ],
          "carpet": [
           {
            "aaxis": {
             "endlinecolor": "#2a3f5f",
             "gridcolor": "white",
             "linecolor": "white",
             "minorgridcolor": "white",
             "startlinecolor": "#2a3f5f"
            },
            "baxis": {
             "endlinecolor": "#2a3f5f",
             "gridcolor": "white",
             "linecolor": "white",
             "minorgridcolor": "white",
             "startlinecolor": "#2a3f5f"
            },
            "type": "carpet"
           }
          ],
          "choropleth": [
           {
            "colorbar": {
             "outlinewidth": 0,
             "ticks": ""
            },
            "type": "choropleth"
           }
          ],
          "contour": [
           {
            "colorbar": {
             "outlinewidth": 0,
             "ticks": ""
            },
            "colorscale": [
             [
              0,
              "#0d0887"
             ],
             [
              0.1111111111111111,
              "#46039f"
             ],
             [
              0.2222222222222222,
              "#7201a8"
             ],
             [
              0.3333333333333333,
              "#9c179e"
             ],
             [
              0.4444444444444444,
              "#bd3786"
             ],
             [
              0.5555555555555556,
              "#d8576b"
             ],
             [
              0.6666666666666666,
              "#ed7953"
             ],
             [
              0.7777777777777778,
              "#fb9f3a"
             ],
             [
              0.8888888888888888,
              "#fdca26"
             ],
             [
              1,
              "#f0f921"
             ]
            ],
            "type": "contour"
           }
          ],
          "contourcarpet": [
           {
            "colorbar": {
             "outlinewidth": 0,
             "ticks": ""
            },
            "type": "contourcarpet"
           }
          ],
          "heatmap": [
           {
            "colorbar": {
             "outlinewidth": 0,
             "ticks": ""
            },
            "colorscale": [
             [
              0,
              "#0d0887"
             ],
             [
              0.1111111111111111,
              "#46039f"
             ],
             [
              0.2222222222222222,
              "#7201a8"
             ],
             [
              0.3333333333333333,
              "#9c179e"
             ],
             [
              0.4444444444444444,
              "#bd3786"
             ],
             [
              0.5555555555555556,
              "#d8576b"
             ],
             [
              0.6666666666666666,
              "#ed7953"
             ],
             [
              0.7777777777777778,
              "#fb9f3a"
             ],
             [
              0.8888888888888888,
              "#fdca26"
             ],
             [
              1,
              "#f0f921"
             ]
            ],
            "type": "heatmap"
           }
          ],
          "heatmapgl": [
           {
            "colorbar": {
             "outlinewidth": 0,
             "ticks": ""
            },
            "colorscale": [
             [
              0,
              "#0d0887"
             ],
             [
              0.1111111111111111,
              "#46039f"
             ],
             [
              0.2222222222222222,
              "#7201a8"
             ],
             [
              0.3333333333333333,
              "#9c179e"
             ],
             [
              0.4444444444444444,
              "#bd3786"
             ],
             [
              0.5555555555555556,
              "#d8576b"
             ],
             [
              0.6666666666666666,
              "#ed7953"
             ],
             [
              0.7777777777777778,
              "#fb9f3a"
             ],
             [
              0.8888888888888888,
              "#fdca26"
             ],
             [
              1,
              "#f0f921"
             ]
            ],
            "type": "heatmapgl"
           }
          ],
          "histogram": [
           {
            "marker": {
             "pattern": {
              "fillmode": "overlay",
              "size": 10,
              "solidity": 0.2
             }
            },
            "type": "histogram"
           }
          ],
          "histogram2d": [
           {
            "colorbar": {
             "outlinewidth": 0,
             "ticks": ""
            },
            "colorscale": [
             [
              0,
              "#0d0887"
             ],
             [
              0.1111111111111111,
              "#46039f"
             ],
             [
              0.2222222222222222,
              "#7201a8"
             ],
             [
              0.3333333333333333,
              "#9c179e"
             ],
             [
              0.4444444444444444,
              "#bd3786"
             ],
             [
              0.5555555555555556,
              "#d8576b"
             ],
             [
              0.6666666666666666,
              "#ed7953"
             ],
             [
              0.7777777777777778,
              "#fb9f3a"
             ],
             [
              0.8888888888888888,
              "#fdca26"
             ],
             [
              1,
              "#f0f921"
             ]
            ],
            "type": "histogram2d"
           }
          ],
          "histogram2dcontour": [
           {
            "colorbar": {
             "outlinewidth": 0,
             "ticks": ""
            },
            "colorscale": [
             [
              0,
              "#0d0887"
             ],
             [
              0.1111111111111111,
              "#46039f"
             ],
             [
              0.2222222222222222,
              "#7201a8"
             ],
             [
              0.3333333333333333,
              "#9c179e"
             ],
             [
              0.4444444444444444,
              "#bd3786"
             ],
             [
              0.5555555555555556,
              "#d8576b"
             ],
             [
              0.6666666666666666,
              "#ed7953"
             ],
             [
              0.7777777777777778,
              "#fb9f3a"
             ],
             [
              0.8888888888888888,
              "#fdca26"
             ],
             [
              1,
              "#f0f921"
             ]
            ],
            "type": "histogram2dcontour"
           }
          ],
          "mesh3d": [
           {
            "colorbar": {
             "outlinewidth": 0,
             "ticks": ""
            },
            "type": "mesh3d"
           }
          ],
          "parcoords": [
           {
            "line": {
             "colorbar": {
              "outlinewidth": 0,
              "ticks": ""
             }
            },
            "type": "parcoords"
           }
          ],
          "pie": [
           {
            "automargin": true,
            "type": "pie"
           }
          ],
          "scatter": [
           {
            "fillpattern": {
             "fillmode": "overlay",
             "size": 10,
             "solidity": 0.2
            },
            "type": "scatter"
           }
          ],
          "scatter3d": [
           {
            "line": {
             "colorbar": {
              "outlinewidth": 0,
              "ticks": ""
             }
            },
            "marker": {
             "colorbar": {
              "outlinewidth": 0,
              "ticks": ""
             }
            },
            "type": "scatter3d"
           }
          ],
          "scattercarpet": [
           {
            "marker": {
             "colorbar": {
              "outlinewidth": 0,
              "ticks": ""
             }
            },
            "type": "scattercarpet"
           }
          ],
          "scattergeo": [
           {
            "marker": {
             "colorbar": {
              "outlinewidth": 0,
              "ticks": ""
             }
            },
            "type": "scattergeo"
           }
          ],
          "scattergl": [
           {
            "marker": {
             "colorbar": {
              "outlinewidth": 0,
              "ticks": ""
             }
            },
            "type": "scattergl"
           }
          ],
          "scattermapbox": [
           {
            "marker": {
             "colorbar": {
              "outlinewidth": 0,
              "ticks": ""
             }
            },
            "type": "scattermapbox"
           }
          ],
          "scatterpolar": [
           {
            "marker": {
             "colorbar": {
              "outlinewidth": 0,
              "ticks": ""
             }
            },
            "type": "scatterpolar"
           }
          ],
          "scatterpolargl": [
           {
            "marker": {
             "colorbar": {
              "outlinewidth": 0,
              "ticks": ""
             }
            },
            "type": "scatterpolargl"
           }
          ],
          "scatterternary": [
           {
            "marker": {
             "colorbar": {
              "outlinewidth": 0,
              "ticks": ""
             }
            },
            "type": "scatterternary"
           }
          ],
          "surface": [
           {
            "colorbar": {
             "outlinewidth": 0,
             "ticks": ""
            },
            "colorscale": [
             [
              0,
              "#0d0887"
             ],
             [
              0.1111111111111111,
              "#46039f"
             ],
             [
              0.2222222222222222,
              "#7201a8"
             ],
             [
              0.3333333333333333,
              "#9c179e"
             ],
             [
              0.4444444444444444,
              "#bd3786"
             ],
             [
              0.5555555555555556,
              "#d8576b"
             ],
             [
              0.6666666666666666,
              "#ed7953"
             ],
             [
              0.7777777777777778,
              "#fb9f3a"
             ],
             [
              0.8888888888888888,
              "#fdca26"
             ],
             [
              1,
              "#f0f921"
             ]
            ],
            "type": "surface"
           }
          ],
          "table": [
           {
            "cells": {
             "fill": {
              "color": "#EBF0F8"
             },
             "line": {
              "color": "white"
             }
            },
            "header": {
             "fill": {
              "color": "#C8D4E3"
             },
             "line": {
              "color": "white"
             }
            },
            "type": "table"
           }
          ]
         },
         "layout": {
          "annotationdefaults": {
           "arrowcolor": "#2a3f5f",
           "arrowhead": 0,
           "arrowwidth": 1
          },
          "autotypenumbers": "strict",
          "coloraxis": {
           "colorbar": {
            "outlinewidth": 0,
            "ticks": ""
           }
          },
          "colorscale": {
           "diverging": [
            [
             0,
             "#8e0152"
            ],
            [
             0.1,
             "#c51b7d"
            ],
            [
             0.2,
             "#de77ae"
            ],
            [
             0.3,
             "#f1b6da"
            ],
            [
             0.4,
             "#fde0ef"
            ],
            [
             0.5,
             "#f7f7f7"
            ],
            [
             0.6,
             "#e6f5d0"
            ],
            [
             0.7,
             "#b8e186"
            ],
            [
             0.8,
             "#7fbc41"
            ],
            [
             0.9,
             "#4d9221"
            ],
            [
             1,
             "#276419"
            ]
           ],
           "sequential": [
            [
             0,
             "#0d0887"
            ],
            [
             0.1111111111111111,
             "#46039f"
            ],
            [
             0.2222222222222222,
             "#7201a8"
            ],
            [
             0.3333333333333333,
             "#9c179e"
            ],
            [
             0.4444444444444444,
             "#bd3786"
            ],
            [
             0.5555555555555556,
             "#d8576b"
            ],
            [
             0.6666666666666666,
             "#ed7953"
            ],
            [
             0.7777777777777778,
             "#fb9f3a"
            ],
            [
             0.8888888888888888,
             "#fdca26"
            ],
            [
             1,
             "#f0f921"
            ]
           ],
           "sequentialminus": [
            [
             0,
             "#0d0887"
            ],
            [
             0.1111111111111111,
             "#46039f"
            ],
            [
             0.2222222222222222,
             "#7201a8"
            ],
            [
             0.3333333333333333,
             "#9c179e"
            ],
            [
             0.4444444444444444,
             "#bd3786"
            ],
            [
             0.5555555555555556,
             "#d8576b"
            ],
            [
             0.6666666666666666,
             "#ed7953"
            ],
            [
             0.7777777777777778,
             "#fb9f3a"
            ],
            [
             0.8888888888888888,
             "#fdca26"
            ],
            [
             1,
             "#f0f921"
            ]
           ]
          },
          "colorway": [
           "#636efa",
           "#EF553B",
           "#00cc96",
           "#ab63fa",
           "#FFA15A",
           "#19d3f3",
           "#FF6692",
           "#B6E880",
           "#FF97FF",
           "#FECB52"
          ],
          "font": {
           "color": "#2a3f5f"
          },
          "geo": {
           "bgcolor": "white",
           "lakecolor": "white",
           "landcolor": "#E5ECF6",
           "showlakes": true,
           "showland": true,
           "subunitcolor": "white"
          },
          "hoverlabel": {
           "align": "left"
          },
          "hovermode": "closest",
          "mapbox": {
           "style": "light"
          },
          "paper_bgcolor": "white",
          "plot_bgcolor": "#E5ECF6",
          "polar": {
           "angularaxis": {
            "gridcolor": "white",
            "linecolor": "white",
            "ticks": ""
           },
           "bgcolor": "#E5ECF6",
           "radialaxis": {
            "gridcolor": "white",
            "linecolor": "white",
            "ticks": ""
           }
          },
          "scene": {
           "xaxis": {
            "backgroundcolor": "#E5ECF6",
            "gridcolor": "white",
            "gridwidth": 2,
            "linecolor": "white",
            "showbackground": true,
            "ticks": "",
            "zerolinecolor": "white"
           },
           "yaxis": {
            "backgroundcolor": "#E5ECF6",
            "gridcolor": "white",
            "gridwidth": 2,
            "linecolor": "white",
            "showbackground": true,
            "ticks": "",
            "zerolinecolor": "white"
           },
           "zaxis": {
            "backgroundcolor": "#E5ECF6",
            "gridcolor": "white",
            "gridwidth": 2,
            "linecolor": "white",
            "showbackground": true,
            "ticks": "",
            "zerolinecolor": "white"
           }
          },
          "shapedefaults": {
           "line": {
            "color": "#2a3f5f"
           }
          },
          "ternary": {
           "aaxis": {
            "gridcolor": "white",
            "linecolor": "white",
            "ticks": ""
           },
           "baxis": {
            "gridcolor": "white",
            "linecolor": "white",
            "ticks": ""
           },
           "bgcolor": "#E5ECF6",
           "caxis": {
            "gridcolor": "white",
            "linecolor": "white",
            "ticks": ""
           }
          },
          "title": {
           "x": 0.05
          },
          "xaxis": {
           "automargin": true,
           "gridcolor": "white",
           "linecolor": "white",
           "ticks": "",
           "title": {
            "standoff": 15
           },
           "zerolinecolor": "white",
           "zerolinewidth": 2
          },
          "yaxis": {
           "automargin": true,
           "gridcolor": "white",
           "linecolor": "white",
           "ticks": "",
           "title": {
            "standoff": 15
           },
           "zerolinecolor": "white",
           "zerolinewidth": 2
          }
         }
        },
        "title": {
         "text": "Bleu-4 token level (mean)"
        },
        "width": 600,
        "xaxis": {
         "anchor": "y",
         "constrain": "domain",
         "domain": [
          0,
          1
         ],
         "scaleanchor": "y",
         "tickangle": -45
        },
        "yaxis": {
         "anchor": "x",
         "autorange": "reversed",
         "constrain": "domain",
         "domain": [
          0,
          1
         ]
        }
       }
      },
      "text/html": [
       "<div>                            <div id=\"303fdfc5-013e-4ae4-b786-01a42b4a7cfd\" class=\"plotly-graph-div\" style=\"height:600px; width:600px;\"></div>            <script type=\"text/javascript\">                require([\"plotly\"], function(Plotly) {                    window.PLOTLYENV=window.PLOTLYENV || {};                                    if (document.getElementById(\"303fdfc5-013e-4ae4-b786-01a42b4a7cfd\")) {                    Plotly.newPlot(                        \"303fdfc5-013e-4ae4-b786-01a42b4a7cfd\",                        [{\"coloraxis\":\"coloraxis\",\"name\":\"0\",\"texttemplate\":\"%{z}\",\"x\":[\"Ground Truth\",\"Mistral Fine-Tuned \",\"Mistral Fine-Tuned Top 1\",\"Mistral Fine-Tuned Top 3\",\"Mistral Fine-Tuned Gold\",\"Mistral Prompt \",\"Mistral Prompt Top 1\",\"Mistral Prompt Top 3\",\"Mistral Prompt Gold\"],\"y\":[\"Mistral Prompt Gold\",\"Mistral Prompt Top 3\",\"Mistral Prompt Top 1\",\"Mistral Prompt \",\"Mistral Fine-Tuned Gold\",\"Mistral Fine-Tuned Top 3\",\"Mistral Fine-Tuned Top 1\",\"Mistral Fine-Tuned \",\"Ground Truth\"],\"z\":[[0.007,0.005,0.007,0.008,0.025,0.069,0.051,0.055,0.0],[0.001,0.002,0.006,0.011,0.005,0.04,0.067,0.0,0.054],[0.001,0.009,0.008,0.009,0.003,0.046,0.0,0.069,0.051],[0.002,0.016,0.014,0.012,0.007,0.0,0.047,0.042,0.07],[0.109,0.038,0.059,0.069,0.0,0.008,0.005,0.013,0.047],[0.013,0.151,0.223,0.0,0.07,0.017,0.014,0.026,0.013],[0.006,0.221,0.0,0.222,0.06,0.02,0.015,0.015,0.013],[0.005,0.0,0.224,0.151,0.039,0.023,0.014,0.007,0.01],[0.0,0.005,0.006,0.012,0.11,0.003,0.002,0.003,0.014]],\"type\":\"heatmap\",\"xaxis\":\"x\",\"yaxis\":\"y\",\"hovertemplate\":\"x: %{x}\\u003cbr\\u003ey: %{y}\\u003cbr\\u003ecolor: %{z}\\u003cextra\\u003e\\u003c\\u002fextra\\u003e\"}],                        {\"template\":{\"data\":{\"histogram2dcontour\":[{\"type\":\"histogram2dcontour\",\"colorbar\":{\"outlinewidth\":0,\"ticks\":\"\"},\"colorscale\":[[0.0,\"#0d0887\"],[0.1111111111111111,\"#46039f\"],[0.2222222222222222,\"#7201a8\"],[0.3333333333333333,\"#9c179e\"],[0.4444444444444444,\"#bd3786\"],[0.5555555555555556,\"#d8576b\"],[0.6666666666666666,\"#ed7953\"],[0.7777777777777778,\"#fb9f3a\"],[0.8888888888888888,\"#fdca26\"],[1.0,\"#f0f921\"]]}],\"choropleth\":[{\"type\":\"choropleth\",\"colorbar\":{\"outlinewidth\":0,\"ticks\":\"\"}}],\"histogram2d\":[{\"type\":\"histogram2d\",\"colorbar\":{\"outlinewidth\":0,\"ticks\":\"\"},\"colorscale\":[[0.0,\"#0d0887\"],[0.1111111111111111,\"#46039f\"],[0.2222222222222222,\"#7201a8\"],[0.3333333333333333,\"#9c179e\"],[0.4444444444444444,\"#bd3786\"],[0.5555555555555556,\"#d8576b\"],[0.6666666666666666,\"#ed7953\"],[0.7777777777777778,\"#fb9f3a\"],[0.8888888888888888,\"#fdca26\"],[1.0,\"#f0f921\"]]}],\"heatmap\":[{\"type\":\"heatmap\",\"colorbar\":{\"outlinewidth\":0,\"ticks\":\"\"},\"colorscale\":[[0.0,\"#0d0887\"],[0.1111111111111111,\"#46039f\"],[0.2222222222222222,\"#7201a8\"],[0.3333333333333333,\"#9c179e\"],[0.4444444444444444,\"#bd3786\"],[0.5555555555555556,\"#d8576b\"],[0.6666666666666666,\"#ed7953\"],[0.7777777777777778,\"#fb9f3a\"],[0.8888888888888888,\"#fdca26\"],[1.0,\"#f0f921\"]]}],\"heatmapgl\":[{\"type\":\"heatmapgl\",\"colorbar\":{\"outlinewidth\":0,\"ticks\":\"\"},\"colorscale\":[[0.0,\"#0d0887\"],[0.1111111111111111,\"#46039f\"],[0.2222222222222222,\"#7201a8\"],[0.3333333333333333,\"#9c179e\"],[0.4444444444444444,\"#bd3786\"],[0.5555555555555556,\"#d8576b\"],[0.6666666666666666,\"#ed7953\"],[0.7777777777777778,\"#fb9f3a\"],[0.8888888888888888,\"#fdca26\"],[1.0,\"#f0f921\"]]}],\"contourcarpet\":[{\"type\":\"contourcarpet\",\"colorbar\":{\"outlinewidth\":0,\"ticks\":\"\"}}],\"contour\":[{\"type\":\"contour\",\"colorbar\":{\"outlinewidth\":0,\"ticks\":\"\"},\"colorscale\":[[0.0,\"#0d0887\"],[0.1111111111111111,\"#46039f\"],[0.2222222222222222,\"#7201a8\"],[0.3333333333333333,\"#9c179e\"],[0.4444444444444444,\"#bd3786\"],[0.5555555555555556,\"#d8576b\"],[0.6666666666666666,\"#ed7953\"],[0.7777777777777778,\"#fb9f3a\"],[0.8888888888888888,\"#fdca26\"],[1.0,\"#f0f921\"]]}],\"surface\":[{\"type\":\"surface\",\"colorbar\":{\"outlinewidth\":0,\"ticks\":\"\"},\"colorscale\":[[0.0,\"#0d0887\"],[0.1111111111111111,\"#46039f\"],[0.2222222222222222,\"#7201a8\"],[0.3333333333333333,\"#9c179e\"],[0.4444444444444444,\"#bd3786\"],[0.5555555555555556,\"#d8576b\"],[0.6666666666666666,\"#ed7953\"],[0.7777777777777778,\"#fb9f3a\"],[0.8888888888888888,\"#fdca26\"],[1.0,\"#f0f921\"]]}],\"mesh3d\":[{\"type\":\"mesh3d\",\"colorbar\":{\"outlinewidth\":0,\"ticks\":\"\"}}],\"scatter\":[{\"fillpattern\":{\"fillmode\":\"overlay\",\"size\":10,\"solidity\":0.2},\"type\":\"scatter\"}],\"parcoords\":[{\"type\":\"parcoords\",\"line\":{\"colorbar\":{\"outlinewidth\":0,\"ticks\":\"\"}}}],\"scatterpolargl\":[{\"type\":\"scatterpolargl\",\"marker\":{\"colorbar\":{\"outlinewidth\":0,\"ticks\":\"\"}}}],\"bar\":[{\"error_x\":{\"color\":\"#2a3f5f\"},\"error_y\":{\"color\":\"#2a3f5f\"},\"marker\":{\"line\":{\"color\":\"#E5ECF6\",\"width\":0.5},\"pattern\":{\"fillmode\":\"overlay\",\"size\":10,\"solidity\":0.2}},\"type\":\"bar\"}],\"scattergeo\":[{\"type\":\"scattergeo\",\"marker\":{\"colorbar\":{\"outlinewidth\":0,\"ticks\":\"\"}}}],\"scatterpolar\":[{\"type\":\"scatterpolar\",\"marker\":{\"colorbar\":{\"outlinewidth\":0,\"ticks\":\"\"}}}],\"histogram\":[{\"marker\":{\"pattern\":{\"fillmode\":\"overlay\",\"size\":10,\"solidity\":0.2}},\"type\":\"histogram\"}],\"scattergl\":[{\"type\":\"scattergl\",\"marker\":{\"colorbar\":{\"outlinewidth\":0,\"ticks\":\"\"}}}],\"scatter3d\":[{\"type\":\"scatter3d\",\"line\":{\"colorbar\":{\"outlinewidth\":0,\"ticks\":\"\"}},\"marker\":{\"colorbar\":{\"outlinewidth\":0,\"ticks\":\"\"}}}],\"scattermapbox\":[{\"type\":\"scattermapbox\",\"marker\":{\"colorbar\":{\"outlinewidth\":0,\"ticks\":\"\"}}}],\"scatterternary\":[{\"type\":\"scatterternary\",\"marker\":{\"colorbar\":{\"outlinewidth\":0,\"ticks\":\"\"}}}],\"scattercarpet\":[{\"type\":\"scattercarpet\",\"marker\":{\"colorbar\":{\"outlinewidth\":0,\"ticks\":\"\"}}}],\"carpet\":[{\"aaxis\":{\"endlinecolor\":\"#2a3f5f\",\"gridcolor\":\"white\",\"linecolor\":\"white\",\"minorgridcolor\":\"white\",\"startlinecolor\":\"#2a3f5f\"},\"baxis\":{\"endlinecolor\":\"#2a3f5f\",\"gridcolor\":\"white\",\"linecolor\":\"white\",\"minorgridcolor\":\"white\",\"startlinecolor\":\"#2a3f5f\"},\"type\":\"carpet\"}],\"table\":[{\"cells\":{\"fill\":{\"color\":\"#EBF0F8\"},\"line\":{\"color\":\"white\"}},\"header\":{\"fill\":{\"color\":\"#C8D4E3\"},\"line\":{\"color\":\"white\"}},\"type\":\"table\"}],\"barpolar\":[{\"marker\":{\"line\":{\"color\":\"#E5ECF6\",\"width\":0.5},\"pattern\":{\"fillmode\":\"overlay\",\"size\":10,\"solidity\":0.2}},\"type\":\"barpolar\"}],\"pie\":[{\"automargin\":true,\"type\":\"pie\"}]},\"layout\":{\"autotypenumbers\":\"strict\",\"colorway\":[\"#636efa\",\"#EF553B\",\"#00cc96\",\"#ab63fa\",\"#FFA15A\",\"#19d3f3\",\"#FF6692\",\"#B6E880\",\"#FF97FF\",\"#FECB52\"],\"font\":{\"color\":\"#2a3f5f\"},\"hovermode\":\"closest\",\"hoverlabel\":{\"align\":\"left\"},\"paper_bgcolor\":\"white\",\"plot_bgcolor\":\"#E5ECF6\",\"polar\":{\"bgcolor\":\"#E5ECF6\",\"angularaxis\":{\"gridcolor\":\"white\",\"linecolor\":\"white\",\"ticks\":\"\"},\"radialaxis\":{\"gridcolor\":\"white\",\"linecolor\":\"white\",\"ticks\":\"\"}},\"ternary\":{\"bgcolor\":\"#E5ECF6\",\"aaxis\":{\"gridcolor\":\"white\",\"linecolor\":\"white\",\"ticks\":\"\"},\"baxis\":{\"gridcolor\":\"white\",\"linecolor\":\"white\",\"ticks\":\"\"},\"caxis\":{\"gridcolor\":\"white\",\"linecolor\":\"white\",\"ticks\":\"\"}},\"coloraxis\":{\"colorbar\":{\"outlinewidth\":0,\"ticks\":\"\"}},\"colorscale\":{\"sequential\":[[0.0,\"#0d0887\"],[0.1111111111111111,\"#46039f\"],[0.2222222222222222,\"#7201a8\"],[0.3333333333333333,\"#9c179e\"],[0.4444444444444444,\"#bd3786\"],[0.5555555555555556,\"#d8576b\"],[0.6666666666666666,\"#ed7953\"],[0.7777777777777778,\"#fb9f3a\"],[0.8888888888888888,\"#fdca26\"],[1.0,\"#f0f921\"]],\"sequentialminus\":[[0.0,\"#0d0887\"],[0.1111111111111111,\"#46039f\"],[0.2222222222222222,\"#7201a8\"],[0.3333333333333333,\"#9c179e\"],[0.4444444444444444,\"#bd3786\"],[0.5555555555555556,\"#d8576b\"],[0.6666666666666666,\"#ed7953\"],[0.7777777777777778,\"#fb9f3a\"],[0.8888888888888888,\"#fdca26\"],[1.0,\"#f0f921\"]],\"diverging\":[[0,\"#8e0152\"],[0.1,\"#c51b7d\"],[0.2,\"#de77ae\"],[0.3,\"#f1b6da\"],[0.4,\"#fde0ef\"],[0.5,\"#f7f7f7\"],[0.6,\"#e6f5d0\"],[0.7,\"#b8e186\"],[0.8,\"#7fbc41\"],[0.9,\"#4d9221\"],[1,\"#276419\"]]},\"xaxis\":{\"gridcolor\":\"white\",\"linecolor\":\"white\",\"ticks\":\"\",\"title\":{\"standoff\":15},\"zerolinecolor\":\"white\",\"automargin\":true,\"zerolinewidth\":2},\"yaxis\":{\"gridcolor\":\"white\",\"linecolor\":\"white\",\"ticks\":\"\",\"title\":{\"standoff\":15},\"zerolinecolor\":\"white\",\"automargin\":true,\"zerolinewidth\":2},\"scene\":{\"xaxis\":{\"backgroundcolor\":\"#E5ECF6\",\"gridcolor\":\"white\",\"linecolor\":\"white\",\"showbackground\":true,\"ticks\":\"\",\"zerolinecolor\":\"white\",\"gridwidth\":2},\"yaxis\":{\"backgroundcolor\":\"#E5ECF6\",\"gridcolor\":\"white\",\"linecolor\":\"white\",\"showbackground\":true,\"ticks\":\"\",\"zerolinecolor\":\"white\",\"gridwidth\":2},\"zaxis\":{\"backgroundcolor\":\"#E5ECF6\",\"gridcolor\":\"white\",\"linecolor\":\"white\",\"showbackground\":true,\"ticks\":\"\",\"zerolinecolor\":\"white\",\"gridwidth\":2}},\"shapedefaults\":{\"line\":{\"color\":\"#2a3f5f\"}},\"annotationdefaults\":{\"arrowcolor\":\"#2a3f5f\",\"arrowhead\":0,\"arrowwidth\":1},\"geo\":{\"bgcolor\":\"white\",\"landcolor\":\"#E5ECF6\",\"subunitcolor\":\"white\",\"showland\":true,\"showlakes\":true,\"lakecolor\":\"white\"},\"title\":{\"x\":0.05},\"mapbox\":{\"style\":\"light\"}}},\"xaxis\":{\"anchor\":\"y\",\"domain\":[0.0,1.0],\"scaleanchor\":\"y\",\"constrain\":\"domain\",\"tickangle\":-45},\"yaxis\":{\"anchor\":\"x\",\"domain\":[0.0,1.0],\"autorange\":\"reversed\",\"constrain\":\"domain\"},\"coloraxis\":{\"colorscale\":[[0.0,\"#0d0887\"],[0.1111111111111111,\"#46039f\"],[0.2222222222222222,\"#7201a8\"],[0.3333333333333333,\"#9c179e\"],[0.4444444444444444,\"#bd3786\"],[0.5555555555555556,\"#d8576b\"],[0.6666666666666666,\"#ed7953\"],[0.7777777777777778,\"#fb9f3a\"],[0.8888888888888888,\"#fdca26\"],[1.0,\"#f0f921\"]]},\"title\":{\"text\":\"Bleu-4 token level (mean)\"},\"font\":{\"size\":15},\"height\":600,\"width\":600},                        {\"responsive\": true}                    ).then(function(){\n",
       "                            \n",
       "var gd = document.getElementById('303fdfc5-013e-4ae4-b786-01a42b4a7cfd');\n",
       "var x = new MutationObserver(function (mutations, observer) {{\n",
       "        var display = window.getComputedStyle(gd).display;\n",
       "        if (!display || display === 'none') {{\n",
       "            console.log([gd, 'removed!']);\n",
       "            Plotly.purge(gd);\n",
       "            observer.disconnect();\n",
       "        }}\n",
       "}});\n",
       "\n",
       "// Listen for the removal of the full notebook cells\n",
       "var notebookContainer = gd.closest('#notebook-container');\n",
       "if (notebookContainer) {{\n",
       "    x.observe(notebookContainer, {childList: true});\n",
       "}}\n",
       "\n",
       "// Listen for the clearing of the current output cell\n",
       "var outputEl = gd.closest('.output');\n",
       "if (outputEl) {{\n",
       "    x.observe(outputEl, {childList: true});\n",
       "}}\n",
       "\n",
       "                        })                };                });            </script>        </div>"
      ]
     },
     "metadata": {},
     "output_type": "display_data"
    }
   ],
   "source": [
    "candidates = [\n",
    "    \"gt\",\n",
    "    \"mistral_ft_none.json\",\n",
    "    \"mistral_ft_retrieved_top-1.json\",\n",
    "    \"mistral_ft_retrieved_top-3.json\",\n",
    "    \"mistral_ft_gold.json\",\n",
    "    \"mistral_prompt_none.json\",\n",
    "    \"mistral_prompt_retrieved_top-1.json\",\n",
    "    \"mistral_prompt_retrieved_top-3.json\",\n",
    "    \"mistral_prompt_gold.json\",\n",
    "]\n",
    "\n",
    "plot_cross_bleu(task_replies, candidates, replacements, results_to_plot=['b4_tok'])"
   ]
  },
  {
   "cell_type": "markdown",
   "metadata": {},
   "source": [
    "#### Max"
   ]
  },
  {
   "cell_type": "code",
   "execution_count": 21,
   "metadata": {},
   "outputs": [
    {
     "name": "stderr",
     "output_type": "stream",
     "text": [
      "Computing cross BLEU: 100%|██████████| 968/968 [00:24<00:00, 40.19it/s]\n"
     ]
    },
    {
     "data": {
      "application/vnd.plotly.v1+json": {
       "config": {
        "plotlyServerURL": "https://plot.ly"
       },
       "data": [
        {
         "coloraxis": "coloraxis",
         "hovertemplate": "x: %{x}<br>y: %{y}<br>color: %{z}<extra></extra>",
         "name": "0",
         "texttemplate": "%{z}",
         "type": "heatmap",
         "x": [
          "Ground Truth",
          "Llama2 Fine-Tuned ",
          "Llama2 Fine-Tuned Top 1",
          "Llama2 Fine-Tuned Top 3",
          "Llama2 Fine-Tuned Gold",
          "Llama2 Prompt ",
          "Llama2 Prompt Top 1",
          "Llama2 Prompt Top 3",
          "Llama2 Prompt Gold"
         ],
         "xaxis": "x",
         "y": [
          "Llama2 Prompt Gold",
          "Llama2 Prompt Top 3",
          "Llama2 Prompt Top 1",
          "Llama2 Prompt ",
          "Llama2 Fine-Tuned Gold",
          "Llama2 Fine-Tuned Top 3",
          "Llama2 Fine-Tuned Top 1",
          "Llama2 Fine-Tuned ",
          "Ground Truth"
         ],
         "yaxis": "y",
         "z": [
          [
           0.236,
           0.09,
           0.145,
           0.099,
           0.335,
           0.846,
           0.861,
           0.89,
           0
          ],
          [
           0.065,
           0.062,
           0.068,
           0.172,
           0.289,
           0.882,
           0.935,
           0,
           0.889
          ],
          [
           0.067,
           0.07,
           0.111,
           0.127,
           0.127,
           0.938,
           0,
           0.934,
           0.861
          ],
          [
           0.132,
           0.077,
           0.136,
           0.124,
           0.15,
           0,
           0.938,
           0.882,
           0.846
          ],
          [
           1,
           0.842,
           1,
           1,
           0,
           0.164,
           0.211,
           0.366,
           0.466
          ],
          [
           0.84,
           1,
           1,
           0,
           1,
           0.149,
           0.211,
           0.3,
           0.208
          ],
          [
           0.66,
           1,
           0,
           1,
           1,
           0.162,
           0.267,
           0.145,
           0.168
          ],
          [
           0.385,
           0,
           1,
           1,
           0.842,
           0.214,
           0.167,
           0.149,
           0.21
          ],
          [
           0,
           0.382,
           0.675,
           0.84,
           1,
           0.144,
           0.086,
           0.106,
           0.346
          ]
         ]
        }
       ],
       "layout": {
        "coloraxis": {
         "colorscale": [
          [
           0,
           "#0d0887"
          ],
          [
           0.1111111111111111,
           "#46039f"
          ],
          [
           0.2222222222222222,
           "#7201a8"
          ],
          [
           0.3333333333333333,
           "#9c179e"
          ],
          [
           0.4444444444444444,
           "#bd3786"
          ],
          [
           0.5555555555555556,
           "#d8576b"
          ],
          [
           0.6666666666666666,
           "#ed7953"
          ],
          [
           0.7777777777777778,
           "#fb9f3a"
          ],
          [
           0.8888888888888888,
           "#fdca26"
          ],
          [
           1,
           "#f0f921"
          ]
         ]
        },
        "font": {
         "size": 15
        },
        "height": 600,
        "template": {
         "data": {
          "bar": [
           {
            "error_x": {
             "color": "#2a3f5f"
            },
            "error_y": {
             "color": "#2a3f5f"
            },
            "marker": {
             "line": {
              "color": "#E5ECF6",
              "width": 0.5
             },
             "pattern": {
              "fillmode": "overlay",
              "size": 10,
              "solidity": 0.2
             }
            },
            "type": "bar"
           }
          ],
          "barpolar": [
           {
            "marker": {
             "line": {
              "color": "#E5ECF6",
              "width": 0.5
             },
             "pattern": {
              "fillmode": "overlay",
              "size": 10,
              "solidity": 0.2
             }
            },
            "type": "barpolar"
           }
          ],
          "carpet": [
           {
            "aaxis": {
             "endlinecolor": "#2a3f5f",
             "gridcolor": "white",
             "linecolor": "white",
             "minorgridcolor": "white",
             "startlinecolor": "#2a3f5f"
            },
            "baxis": {
             "endlinecolor": "#2a3f5f",
             "gridcolor": "white",
             "linecolor": "white",
             "minorgridcolor": "white",
             "startlinecolor": "#2a3f5f"
            },
            "type": "carpet"
           }
          ],
          "choropleth": [
           {
            "colorbar": {
             "outlinewidth": 0,
             "ticks": ""
            },
            "type": "choropleth"
           }
          ],
          "contour": [
           {
            "colorbar": {
             "outlinewidth": 0,
             "ticks": ""
            },
            "colorscale": [
             [
              0,
              "#0d0887"
             ],
             [
              0.1111111111111111,
              "#46039f"
             ],
             [
              0.2222222222222222,
              "#7201a8"
             ],
             [
              0.3333333333333333,
              "#9c179e"
             ],
             [
              0.4444444444444444,
              "#bd3786"
             ],
             [
              0.5555555555555556,
              "#d8576b"
             ],
             [
              0.6666666666666666,
              "#ed7953"
             ],
             [
              0.7777777777777778,
              "#fb9f3a"
             ],
             [
              0.8888888888888888,
              "#fdca26"
             ],
             [
              1,
              "#f0f921"
             ]
            ],
            "type": "contour"
           }
          ],
          "contourcarpet": [
           {
            "colorbar": {
             "outlinewidth": 0,
             "ticks": ""
            },
            "type": "contourcarpet"
           }
          ],
          "heatmap": [
           {
            "colorbar": {
             "outlinewidth": 0,
             "ticks": ""
            },
            "colorscale": [
             [
              0,
              "#0d0887"
             ],
             [
              0.1111111111111111,
              "#46039f"
             ],
             [
              0.2222222222222222,
              "#7201a8"
             ],
             [
              0.3333333333333333,
              "#9c179e"
             ],
             [
              0.4444444444444444,
              "#bd3786"
             ],
             [
              0.5555555555555556,
              "#d8576b"
             ],
             [
              0.6666666666666666,
              "#ed7953"
             ],
             [
              0.7777777777777778,
              "#fb9f3a"
             ],
             [
              0.8888888888888888,
              "#fdca26"
             ],
             [
              1,
              "#f0f921"
             ]
            ],
            "type": "heatmap"
           }
          ],
          "heatmapgl": [
           {
            "colorbar": {
             "outlinewidth": 0,
             "ticks": ""
            },
            "colorscale": [
             [
              0,
              "#0d0887"
             ],
             [
              0.1111111111111111,
              "#46039f"
             ],
             [
              0.2222222222222222,
              "#7201a8"
             ],
             [
              0.3333333333333333,
              "#9c179e"
             ],
             [
              0.4444444444444444,
              "#bd3786"
             ],
             [
              0.5555555555555556,
              "#d8576b"
             ],
             [
              0.6666666666666666,
              "#ed7953"
             ],
             [
              0.7777777777777778,
              "#fb9f3a"
             ],
             [
              0.8888888888888888,
              "#fdca26"
             ],
             [
              1,
              "#f0f921"
             ]
            ],
            "type": "heatmapgl"
           }
          ],
          "histogram": [
           {
            "marker": {
             "pattern": {
              "fillmode": "overlay",
              "size": 10,
              "solidity": 0.2
             }
            },
            "type": "histogram"
           }
          ],
          "histogram2d": [
           {
            "colorbar": {
             "outlinewidth": 0,
             "ticks": ""
            },
            "colorscale": [
             [
              0,
              "#0d0887"
             ],
             [
              0.1111111111111111,
              "#46039f"
             ],
             [
              0.2222222222222222,
              "#7201a8"
             ],
             [
              0.3333333333333333,
              "#9c179e"
             ],
             [
              0.4444444444444444,
              "#bd3786"
             ],
             [
              0.5555555555555556,
              "#d8576b"
             ],
             [
              0.6666666666666666,
              "#ed7953"
             ],
             [
              0.7777777777777778,
              "#fb9f3a"
             ],
             [
              0.8888888888888888,
              "#fdca26"
             ],
             [
              1,
              "#f0f921"
             ]
            ],
            "type": "histogram2d"
           }
          ],
          "histogram2dcontour": [
           {
            "colorbar": {
             "outlinewidth": 0,
             "ticks": ""
            },
            "colorscale": [
             [
              0,
              "#0d0887"
             ],
             [
              0.1111111111111111,
              "#46039f"
             ],
             [
              0.2222222222222222,
              "#7201a8"
             ],
             [
              0.3333333333333333,
              "#9c179e"
             ],
             [
              0.4444444444444444,
              "#bd3786"
             ],
             [
              0.5555555555555556,
              "#d8576b"
             ],
             [
              0.6666666666666666,
              "#ed7953"
             ],
             [
              0.7777777777777778,
              "#fb9f3a"
             ],
             [
              0.8888888888888888,
              "#fdca26"
             ],
             [
              1,
              "#f0f921"
             ]
            ],
            "type": "histogram2dcontour"
           }
          ],
          "mesh3d": [
           {
            "colorbar": {
             "outlinewidth": 0,
             "ticks": ""
            },
            "type": "mesh3d"
           }
          ],
          "parcoords": [
           {
            "line": {
             "colorbar": {
              "outlinewidth": 0,
              "ticks": ""
             }
            },
            "type": "parcoords"
           }
          ],
          "pie": [
           {
            "automargin": true,
            "type": "pie"
           }
          ],
          "scatter": [
           {
            "fillpattern": {
             "fillmode": "overlay",
             "size": 10,
             "solidity": 0.2
            },
            "type": "scatter"
           }
          ],
          "scatter3d": [
           {
            "line": {
             "colorbar": {
              "outlinewidth": 0,
              "ticks": ""
             }
            },
            "marker": {
             "colorbar": {
              "outlinewidth": 0,
              "ticks": ""
             }
            },
            "type": "scatter3d"
           }
          ],
          "scattercarpet": [
           {
            "marker": {
             "colorbar": {
              "outlinewidth": 0,
              "ticks": ""
             }
            },
            "type": "scattercarpet"
           }
          ],
          "scattergeo": [
           {
            "marker": {
             "colorbar": {
              "outlinewidth": 0,
              "ticks": ""
             }
            },
            "type": "scattergeo"
           }
          ],
          "scattergl": [
           {
            "marker": {
             "colorbar": {
              "outlinewidth": 0,
              "ticks": ""
             }
            },
            "type": "scattergl"
           }
          ],
          "scattermapbox": [
           {
            "marker": {
             "colorbar": {
              "outlinewidth": 0,
              "ticks": ""
             }
            },
            "type": "scattermapbox"
           }
          ],
          "scatterpolar": [
           {
            "marker": {
             "colorbar": {
              "outlinewidth": 0,
              "ticks": ""
             }
            },
            "type": "scatterpolar"
           }
          ],
          "scatterpolargl": [
           {
            "marker": {
             "colorbar": {
              "outlinewidth": 0,
              "ticks": ""
             }
            },
            "type": "scatterpolargl"
           }
          ],
          "scatterternary": [
           {
            "marker": {
             "colorbar": {
              "outlinewidth": 0,
              "ticks": ""
             }
            },
            "type": "scatterternary"
           }
          ],
          "surface": [
           {
            "colorbar": {
             "outlinewidth": 0,
             "ticks": ""
            },
            "colorscale": [
             [
              0,
              "#0d0887"
             ],
             [
              0.1111111111111111,
              "#46039f"
             ],
             [
              0.2222222222222222,
              "#7201a8"
             ],
             [
              0.3333333333333333,
              "#9c179e"
             ],
             [
              0.4444444444444444,
              "#bd3786"
             ],
             [
              0.5555555555555556,
              "#d8576b"
             ],
             [
              0.6666666666666666,
              "#ed7953"
             ],
             [
              0.7777777777777778,
              "#fb9f3a"
             ],
             [
              0.8888888888888888,
              "#fdca26"
             ],
             [
              1,
              "#f0f921"
             ]
            ],
            "type": "surface"
           }
          ],
          "table": [
           {
            "cells": {
             "fill": {
              "color": "#EBF0F8"
             },
             "line": {
              "color": "white"
             }
            },
            "header": {
             "fill": {
              "color": "#C8D4E3"
             },
             "line": {
              "color": "white"
             }
            },
            "type": "table"
           }
          ]
         },
         "layout": {
          "annotationdefaults": {
           "arrowcolor": "#2a3f5f",
           "arrowhead": 0,
           "arrowwidth": 1
          },
          "autotypenumbers": "strict",
          "coloraxis": {
           "colorbar": {
            "outlinewidth": 0,
            "ticks": ""
           }
          },
          "colorscale": {
           "diverging": [
            [
             0,
             "#8e0152"
            ],
            [
             0.1,
             "#c51b7d"
            ],
            [
             0.2,
             "#de77ae"
            ],
            [
             0.3,
             "#f1b6da"
            ],
            [
             0.4,
             "#fde0ef"
            ],
            [
             0.5,
             "#f7f7f7"
            ],
            [
             0.6,
             "#e6f5d0"
            ],
            [
             0.7,
             "#b8e186"
            ],
            [
             0.8,
             "#7fbc41"
            ],
            [
             0.9,
             "#4d9221"
            ],
            [
             1,
             "#276419"
            ]
           ],
           "sequential": [
            [
             0,
             "#0d0887"
            ],
            [
             0.1111111111111111,
             "#46039f"
            ],
            [
             0.2222222222222222,
             "#7201a8"
            ],
            [
             0.3333333333333333,
             "#9c179e"
            ],
            [
             0.4444444444444444,
             "#bd3786"
            ],
            [
             0.5555555555555556,
             "#d8576b"
            ],
            [
             0.6666666666666666,
             "#ed7953"
            ],
            [
             0.7777777777777778,
             "#fb9f3a"
            ],
            [
             0.8888888888888888,
             "#fdca26"
            ],
            [
             1,
             "#f0f921"
            ]
           ],
           "sequentialminus": [
            [
             0,
             "#0d0887"
            ],
            [
             0.1111111111111111,
             "#46039f"
            ],
            [
             0.2222222222222222,
             "#7201a8"
            ],
            [
             0.3333333333333333,
             "#9c179e"
            ],
            [
             0.4444444444444444,
             "#bd3786"
            ],
            [
             0.5555555555555556,
             "#d8576b"
            ],
            [
             0.6666666666666666,
             "#ed7953"
            ],
            [
             0.7777777777777778,
             "#fb9f3a"
            ],
            [
             0.8888888888888888,
             "#fdca26"
            ],
            [
             1,
             "#f0f921"
            ]
           ]
          },
          "colorway": [
           "#636efa",
           "#EF553B",
           "#00cc96",
           "#ab63fa",
           "#FFA15A",
           "#19d3f3",
           "#FF6692",
           "#B6E880",
           "#FF97FF",
           "#FECB52"
          ],
          "font": {
           "color": "#2a3f5f"
          },
          "geo": {
           "bgcolor": "white",
           "lakecolor": "white",
           "landcolor": "#E5ECF6",
           "showlakes": true,
           "showland": true,
           "subunitcolor": "white"
          },
          "hoverlabel": {
           "align": "left"
          },
          "hovermode": "closest",
          "mapbox": {
           "style": "light"
          },
          "paper_bgcolor": "white",
          "plot_bgcolor": "#E5ECF6",
          "polar": {
           "angularaxis": {
            "gridcolor": "white",
            "linecolor": "white",
            "ticks": ""
           },
           "bgcolor": "#E5ECF6",
           "radialaxis": {
            "gridcolor": "white",
            "linecolor": "white",
            "ticks": ""
           }
          },
          "scene": {
           "xaxis": {
            "backgroundcolor": "#E5ECF6",
            "gridcolor": "white",
            "gridwidth": 2,
            "linecolor": "white",
            "showbackground": true,
            "ticks": "",
            "zerolinecolor": "white"
           },
           "yaxis": {
            "backgroundcolor": "#E5ECF6",
            "gridcolor": "white",
            "gridwidth": 2,
            "linecolor": "white",
            "showbackground": true,
            "ticks": "",
            "zerolinecolor": "white"
           },
           "zaxis": {
            "backgroundcolor": "#E5ECF6",
            "gridcolor": "white",
            "gridwidth": 2,
            "linecolor": "white",
            "showbackground": true,
            "ticks": "",
            "zerolinecolor": "white"
           }
          },
          "shapedefaults": {
           "line": {
            "color": "#2a3f5f"
           }
          },
          "ternary": {
           "aaxis": {
            "gridcolor": "white",
            "linecolor": "white",
            "ticks": ""
           },
           "baxis": {
            "gridcolor": "white",
            "linecolor": "white",
            "ticks": ""
           },
           "bgcolor": "#E5ECF6",
           "caxis": {
            "gridcolor": "white",
            "linecolor": "white",
            "ticks": ""
           }
          },
          "title": {
           "x": 0.05
          },
          "xaxis": {
           "automargin": true,
           "gridcolor": "white",
           "linecolor": "white",
           "ticks": "",
           "title": {
            "standoff": 15
           },
           "zerolinecolor": "white",
           "zerolinewidth": 2
          },
          "yaxis": {
           "automargin": true,
           "gridcolor": "white",
           "linecolor": "white",
           "ticks": "",
           "title": {
            "standoff": 15
           },
           "zerolinecolor": "white",
           "zerolinewidth": 2
          }
         }
        },
        "title": {
         "text": "Bleu-4 token level (max)"
        },
        "width": 600,
        "xaxis": {
         "anchor": "y",
         "constrain": "domain",
         "domain": [
          0,
          1
         ],
         "scaleanchor": "y",
         "tickangle": -45
        },
        "yaxis": {
         "anchor": "x",
         "autorange": "reversed",
         "constrain": "domain",
         "domain": [
          0,
          1
         ]
        }
       }
      },
      "text/html": [
       "<div>                            <div id=\"f3aeebf3-8503-4bff-b810-7f77cc46dc80\" class=\"plotly-graph-div\" style=\"height:600px; width:600px;\"></div>            <script type=\"text/javascript\">                require([\"plotly\"], function(Plotly) {                    window.PLOTLYENV=window.PLOTLYENV || {};                                    if (document.getElementById(\"f3aeebf3-8503-4bff-b810-7f77cc46dc80\")) {                    Plotly.newPlot(                        \"f3aeebf3-8503-4bff-b810-7f77cc46dc80\",                        [{\"coloraxis\":\"coloraxis\",\"name\":\"0\",\"texttemplate\":\"%{z}\",\"x\":[\"Ground Truth\",\"Llama2 Fine-Tuned \",\"Llama2 Fine-Tuned Top 1\",\"Llama2 Fine-Tuned Top 3\",\"Llama2 Fine-Tuned Gold\",\"Llama2 Prompt \",\"Llama2 Prompt Top 1\",\"Llama2 Prompt Top 3\",\"Llama2 Prompt Gold\"],\"y\":[\"Llama2 Prompt Gold\",\"Llama2 Prompt Top 3\",\"Llama2 Prompt Top 1\",\"Llama2 Prompt \",\"Llama2 Fine-Tuned Gold\",\"Llama2 Fine-Tuned Top 3\",\"Llama2 Fine-Tuned Top 1\",\"Llama2 Fine-Tuned \",\"Ground Truth\"],\"z\":[[0.236,0.09,0.145,0.099,0.335,0.846,0.861,0.89,0.0],[0.065,0.062,0.068,0.172,0.289,0.882,0.935,0.0,0.889],[0.067,0.07,0.111,0.127,0.127,0.938,0.0,0.934,0.861],[0.132,0.077,0.136,0.124,0.15,0.0,0.938,0.882,0.846],[1.0,0.842,1.0,1.0,0.0,0.164,0.211,0.366,0.466],[0.84,1.0,1.0,0.0,1.0,0.149,0.211,0.3,0.208],[0.66,1.0,0.0,1.0,1.0,0.162,0.267,0.145,0.168],[0.385,0.0,1.0,1.0,0.842,0.214,0.167,0.149,0.21],[0.0,0.382,0.675,0.84,1.0,0.144,0.086,0.106,0.346]],\"type\":\"heatmap\",\"xaxis\":\"x\",\"yaxis\":\"y\",\"hovertemplate\":\"x: %{x}\\u003cbr\\u003ey: %{y}\\u003cbr\\u003ecolor: %{z}\\u003cextra\\u003e\\u003c\\u002fextra\\u003e\"}],                        {\"template\":{\"data\":{\"histogram2dcontour\":[{\"type\":\"histogram2dcontour\",\"colorbar\":{\"outlinewidth\":0,\"ticks\":\"\"},\"colorscale\":[[0.0,\"#0d0887\"],[0.1111111111111111,\"#46039f\"],[0.2222222222222222,\"#7201a8\"],[0.3333333333333333,\"#9c179e\"],[0.4444444444444444,\"#bd3786\"],[0.5555555555555556,\"#d8576b\"],[0.6666666666666666,\"#ed7953\"],[0.7777777777777778,\"#fb9f3a\"],[0.8888888888888888,\"#fdca26\"],[1.0,\"#f0f921\"]]}],\"choropleth\":[{\"type\":\"choropleth\",\"colorbar\":{\"outlinewidth\":0,\"ticks\":\"\"}}],\"histogram2d\":[{\"type\":\"histogram2d\",\"colorbar\":{\"outlinewidth\":0,\"ticks\":\"\"},\"colorscale\":[[0.0,\"#0d0887\"],[0.1111111111111111,\"#46039f\"],[0.2222222222222222,\"#7201a8\"],[0.3333333333333333,\"#9c179e\"],[0.4444444444444444,\"#bd3786\"],[0.5555555555555556,\"#d8576b\"],[0.6666666666666666,\"#ed7953\"],[0.7777777777777778,\"#fb9f3a\"],[0.8888888888888888,\"#fdca26\"],[1.0,\"#f0f921\"]]}],\"heatmap\":[{\"type\":\"heatmap\",\"colorbar\":{\"outlinewidth\":0,\"ticks\":\"\"},\"colorscale\":[[0.0,\"#0d0887\"],[0.1111111111111111,\"#46039f\"],[0.2222222222222222,\"#7201a8\"],[0.3333333333333333,\"#9c179e\"],[0.4444444444444444,\"#bd3786\"],[0.5555555555555556,\"#d8576b\"],[0.6666666666666666,\"#ed7953\"],[0.7777777777777778,\"#fb9f3a\"],[0.8888888888888888,\"#fdca26\"],[1.0,\"#f0f921\"]]}],\"heatmapgl\":[{\"type\":\"heatmapgl\",\"colorbar\":{\"outlinewidth\":0,\"ticks\":\"\"},\"colorscale\":[[0.0,\"#0d0887\"],[0.1111111111111111,\"#46039f\"],[0.2222222222222222,\"#7201a8\"],[0.3333333333333333,\"#9c179e\"],[0.4444444444444444,\"#bd3786\"],[0.5555555555555556,\"#d8576b\"],[0.6666666666666666,\"#ed7953\"],[0.7777777777777778,\"#fb9f3a\"],[0.8888888888888888,\"#fdca26\"],[1.0,\"#f0f921\"]]}],\"contourcarpet\":[{\"type\":\"contourcarpet\",\"colorbar\":{\"outlinewidth\":0,\"ticks\":\"\"}}],\"contour\":[{\"type\":\"contour\",\"colorbar\":{\"outlinewidth\":0,\"ticks\":\"\"},\"colorscale\":[[0.0,\"#0d0887\"],[0.1111111111111111,\"#46039f\"],[0.2222222222222222,\"#7201a8\"],[0.3333333333333333,\"#9c179e\"],[0.4444444444444444,\"#bd3786\"],[0.5555555555555556,\"#d8576b\"],[0.6666666666666666,\"#ed7953\"],[0.7777777777777778,\"#fb9f3a\"],[0.8888888888888888,\"#fdca26\"],[1.0,\"#f0f921\"]]}],\"surface\":[{\"type\":\"surface\",\"colorbar\":{\"outlinewidth\":0,\"ticks\":\"\"},\"colorscale\":[[0.0,\"#0d0887\"],[0.1111111111111111,\"#46039f\"],[0.2222222222222222,\"#7201a8\"],[0.3333333333333333,\"#9c179e\"],[0.4444444444444444,\"#bd3786\"],[0.5555555555555556,\"#d8576b\"],[0.6666666666666666,\"#ed7953\"],[0.7777777777777778,\"#fb9f3a\"],[0.8888888888888888,\"#fdca26\"],[1.0,\"#f0f921\"]]}],\"mesh3d\":[{\"type\":\"mesh3d\",\"colorbar\":{\"outlinewidth\":0,\"ticks\":\"\"}}],\"scatter\":[{\"fillpattern\":{\"fillmode\":\"overlay\",\"size\":10,\"solidity\":0.2},\"type\":\"scatter\"}],\"parcoords\":[{\"type\":\"parcoords\",\"line\":{\"colorbar\":{\"outlinewidth\":0,\"ticks\":\"\"}}}],\"scatterpolargl\":[{\"type\":\"scatterpolargl\",\"marker\":{\"colorbar\":{\"outlinewidth\":0,\"ticks\":\"\"}}}],\"bar\":[{\"error_x\":{\"color\":\"#2a3f5f\"},\"error_y\":{\"color\":\"#2a3f5f\"},\"marker\":{\"line\":{\"color\":\"#E5ECF6\",\"width\":0.5},\"pattern\":{\"fillmode\":\"overlay\",\"size\":10,\"solidity\":0.2}},\"type\":\"bar\"}],\"scattergeo\":[{\"type\":\"scattergeo\",\"marker\":{\"colorbar\":{\"outlinewidth\":0,\"ticks\":\"\"}}}],\"scatterpolar\":[{\"type\":\"scatterpolar\",\"marker\":{\"colorbar\":{\"outlinewidth\":0,\"ticks\":\"\"}}}],\"histogram\":[{\"marker\":{\"pattern\":{\"fillmode\":\"overlay\",\"size\":10,\"solidity\":0.2}},\"type\":\"histogram\"}],\"scattergl\":[{\"type\":\"scattergl\",\"marker\":{\"colorbar\":{\"outlinewidth\":0,\"ticks\":\"\"}}}],\"scatter3d\":[{\"type\":\"scatter3d\",\"line\":{\"colorbar\":{\"outlinewidth\":0,\"ticks\":\"\"}},\"marker\":{\"colorbar\":{\"outlinewidth\":0,\"ticks\":\"\"}}}],\"scattermapbox\":[{\"type\":\"scattermapbox\",\"marker\":{\"colorbar\":{\"outlinewidth\":0,\"ticks\":\"\"}}}],\"scatterternary\":[{\"type\":\"scatterternary\",\"marker\":{\"colorbar\":{\"outlinewidth\":0,\"ticks\":\"\"}}}],\"scattercarpet\":[{\"type\":\"scattercarpet\",\"marker\":{\"colorbar\":{\"outlinewidth\":0,\"ticks\":\"\"}}}],\"carpet\":[{\"aaxis\":{\"endlinecolor\":\"#2a3f5f\",\"gridcolor\":\"white\",\"linecolor\":\"white\",\"minorgridcolor\":\"white\",\"startlinecolor\":\"#2a3f5f\"},\"baxis\":{\"endlinecolor\":\"#2a3f5f\",\"gridcolor\":\"white\",\"linecolor\":\"white\",\"minorgridcolor\":\"white\",\"startlinecolor\":\"#2a3f5f\"},\"type\":\"carpet\"}],\"table\":[{\"cells\":{\"fill\":{\"color\":\"#EBF0F8\"},\"line\":{\"color\":\"white\"}},\"header\":{\"fill\":{\"color\":\"#C8D4E3\"},\"line\":{\"color\":\"white\"}},\"type\":\"table\"}],\"barpolar\":[{\"marker\":{\"line\":{\"color\":\"#E5ECF6\",\"width\":0.5},\"pattern\":{\"fillmode\":\"overlay\",\"size\":10,\"solidity\":0.2}},\"type\":\"barpolar\"}],\"pie\":[{\"automargin\":true,\"type\":\"pie\"}]},\"layout\":{\"autotypenumbers\":\"strict\",\"colorway\":[\"#636efa\",\"#EF553B\",\"#00cc96\",\"#ab63fa\",\"#FFA15A\",\"#19d3f3\",\"#FF6692\",\"#B6E880\",\"#FF97FF\",\"#FECB52\"],\"font\":{\"color\":\"#2a3f5f\"},\"hovermode\":\"closest\",\"hoverlabel\":{\"align\":\"left\"},\"paper_bgcolor\":\"white\",\"plot_bgcolor\":\"#E5ECF6\",\"polar\":{\"bgcolor\":\"#E5ECF6\",\"angularaxis\":{\"gridcolor\":\"white\",\"linecolor\":\"white\",\"ticks\":\"\"},\"radialaxis\":{\"gridcolor\":\"white\",\"linecolor\":\"white\",\"ticks\":\"\"}},\"ternary\":{\"bgcolor\":\"#E5ECF6\",\"aaxis\":{\"gridcolor\":\"white\",\"linecolor\":\"white\",\"ticks\":\"\"},\"baxis\":{\"gridcolor\":\"white\",\"linecolor\":\"white\",\"ticks\":\"\"},\"caxis\":{\"gridcolor\":\"white\",\"linecolor\":\"white\",\"ticks\":\"\"}},\"coloraxis\":{\"colorbar\":{\"outlinewidth\":0,\"ticks\":\"\"}},\"colorscale\":{\"sequential\":[[0.0,\"#0d0887\"],[0.1111111111111111,\"#46039f\"],[0.2222222222222222,\"#7201a8\"],[0.3333333333333333,\"#9c179e\"],[0.4444444444444444,\"#bd3786\"],[0.5555555555555556,\"#d8576b\"],[0.6666666666666666,\"#ed7953\"],[0.7777777777777778,\"#fb9f3a\"],[0.8888888888888888,\"#fdca26\"],[1.0,\"#f0f921\"]],\"sequentialminus\":[[0.0,\"#0d0887\"],[0.1111111111111111,\"#46039f\"],[0.2222222222222222,\"#7201a8\"],[0.3333333333333333,\"#9c179e\"],[0.4444444444444444,\"#bd3786\"],[0.5555555555555556,\"#d8576b\"],[0.6666666666666666,\"#ed7953\"],[0.7777777777777778,\"#fb9f3a\"],[0.8888888888888888,\"#fdca26\"],[1.0,\"#f0f921\"]],\"diverging\":[[0,\"#8e0152\"],[0.1,\"#c51b7d\"],[0.2,\"#de77ae\"],[0.3,\"#f1b6da\"],[0.4,\"#fde0ef\"],[0.5,\"#f7f7f7\"],[0.6,\"#e6f5d0\"],[0.7,\"#b8e186\"],[0.8,\"#7fbc41\"],[0.9,\"#4d9221\"],[1,\"#276419\"]]},\"xaxis\":{\"gridcolor\":\"white\",\"linecolor\":\"white\",\"ticks\":\"\",\"title\":{\"standoff\":15},\"zerolinecolor\":\"white\",\"automargin\":true,\"zerolinewidth\":2},\"yaxis\":{\"gridcolor\":\"white\",\"linecolor\":\"white\",\"ticks\":\"\",\"title\":{\"standoff\":15},\"zerolinecolor\":\"white\",\"automargin\":true,\"zerolinewidth\":2},\"scene\":{\"xaxis\":{\"backgroundcolor\":\"#E5ECF6\",\"gridcolor\":\"white\",\"linecolor\":\"white\",\"showbackground\":true,\"ticks\":\"\",\"zerolinecolor\":\"white\",\"gridwidth\":2},\"yaxis\":{\"backgroundcolor\":\"#E5ECF6\",\"gridcolor\":\"white\",\"linecolor\":\"white\",\"showbackground\":true,\"ticks\":\"\",\"zerolinecolor\":\"white\",\"gridwidth\":2},\"zaxis\":{\"backgroundcolor\":\"#E5ECF6\",\"gridcolor\":\"white\",\"linecolor\":\"white\",\"showbackground\":true,\"ticks\":\"\",\"zerolinecolor\":\"white\",\"gridwidth\":2}},\"shapedefaults\":{\"line\":{\"color\":\"#2a3f5f\"}},\"annotationdefaults\":{\"arrowcolor\":\"#2a3f5f\",\"arrowhead\":0,\"arrowwidth\":1},\"geo\":{\"bgcolor\":\"white\",\"landcolor\":\"#E5ECF6\",\"subunitcolor\":\"white\",\"showland\":true,\"showlakes\":true,\"lakecolor\":\"white\"},\"title\":{\"x\":0.05},\"mapbox\":{\"style\":\"light\"}}},\"xaxis\":{\"anchor\":\"y\",\"domain\":[0.0,1.0],\"scaleanchor\":\"y\",\"constrain\":\"domain\",\"tickangle\":-45},\"yaxis\":{\"anchor\":\"x\",\"domain\":[0.0,1.0],\"autorange\":\"reversed\",\"constrain\":\"domain\"},\"coloraxis\":{\"colorscale\":[[0.0,\"#0d0887\"],[0.1111111111111111,\"#46039f\"],[0.2222222222222222,\"#7201a8\"],[0.3333333333333333,\"#9c179e\"],[0.4444444444444444,\"#bd3786\"],[0.5555555555555556,\"#d8576b\"],[0.6666666666666666,\"#ed7953\"],[0.7777777777777778,\"#fb9f3a\"],[0.8888888888888888,\"#fdca26\"],[1.0,\"#f0f921\"]]},\"title\":{\"text\":\"Bleu-4 token level (max)\"},\"font\":{\"size\":15},\"height\":600,\"width\":600},                        {\"responsive\": true}                    ).then(function(){\n",
       "                            \n",
       "var gd = document.getElementById('f3aeebf3-8503-4bff-b810-7f77cc46dc80');\n",
       "var x = new MutationObserver(function (mutations, observer) {{\n",
       "        var display = window.getComputedStyle(gd).display;\n",
       "        if (!display || display === 'none') {{\n",
       "            console.log([gd, 'removed!']);\n",
       "            Plotly.purge(gd);\n",
       "            observer.disconnect();\n",
       "        }}\n",
       "}});\n",
       "\n",
       "// Listen for the removal of the full notebook cells\n",
       "var notebookContainer = gd.closest('#notebook-container');\n",
       "if (notebookContainer) {{\n",
       "    x.observe(notebookContainer, {childList: true});\n",
       "}}\n",
       "\n",
       "// Listen for the clearing of the current output cell\n",
       "var outputEl = gd.closest('.output');\n",
       "if (outputEl) {{\n",
       "    x.observe(outputEl, {childList: true});\n",
       "}}\n",
       "\n",
       "                        })                };                });            </script>        </div>"
      ]
     },
     "metadata": {},
     "output_type": "display_data"
    }
   ],
   "source": [
    "from utils import plot_cross_bleu\n",
    "\n",
    "candidates = [\n",
    "    \"gt\",\n",
    "    \"llama_ft_none.json\",\n",
    "    \"llama_ft_retrieved_top-1.json\",\n",
    "    \"llama_ft_retrieved_top-3.json\",\n",
    "    \"llama_ft_gold.json\",\n",
    "    \"llama_prompt_none.json\",\n",
    "    \"llama_prompt_retrieved_top-1.json\",\n",
    "    \"llama_prompt_retrieved_top-3.json\",\n",
    "    \"llama_prompt_gold.json\",\n",
    "]\n",
    "\n",
    "plot_cross_bleu(task_replies, candidates, replacements, results_to_plot=['b4_tok'], operation=\"max\")"
   ]
  },
  {
   "cell_type": "code",
   "execution_count": 22,
   "metadata": {},
   "outputs": [
    {
     "name": "stderr",
     "output_type": "stream",
     "text": [
      "Computing cross BLEU:   0%|          | 0/968 [00:00<?, ?it/s]/home/simone/miniconda3/envs/inlg/lib/python3.10/site-packages/nltk/translate/bleu_score.py:552: UserWarning:\n",
      "\n",
      "\n",
      "The hypothesis contains 0 counts of 2-gram overlaps.\n",
      "Therefore the BLEU score evaluates to 0, independently of\n",
      "how many N-gram overlaps of lower order it contains.\n",
      "Consider using lower n-gram order or use SmoothingFunction()\n",
      "\n",
      "/home/simone/miniconda3/envs/inlg/lib/python3.10/site-packages/nltk/translate/bleu_score.py:552: UserWarning:\n",
      "\n",
      "\n",
      "The hypothesis contains 0 counts of 3-gram overlaps.\n",
      "Therefore the BLEU score evaluates to 0, independently of\n",
      "how many N-gram overlaps of lower order it contains.\n",
      "Consider using lower n-gram order or use SmoothingFunction()\n",
      "\n",
      "/home/simone/miniconda3/envs/inlg/lib/python3.10/site-packages/nltk/translate/bleu_score.py:552: UserWarning:\n",
      "\n",
      "\n",
      "The hypothesis contains 0 counts of 4-gram overlaps.\n",
      "Therefore the BLEU score evaluates to 0, independently of\n",
      "how many N-gram overlaps of lower order it contains.\n",
      "Consider using lower n-gram order or use SmoothingFunction()\n",
      "\n",
      "Computing cross BLEU: 100%|██████████| 968/968 [00:20<00:00, 46.62it/s]\n"
     ]
    },
    {
     "data": {
      "application/vnd.plotly.v1+json": {
       "config": {
        "plotlyServerURL": "https://plot.ly"
       },
       "data": [
        {
         "coloraxis": "coloraxis",
         "hovertemplate": "x: %{x}<br>y: %{y}<br>color: %{z}<extra></extra>",
         "name": "0",
         "texttemplate": "%{z}",
         "type": "heatmap",
         "x": [
          "Ground Truth",
          "Mistral Fine-Tuned ",
          "Mistral Fine-Tuned Top 1",
          "Mistral Fine-Tuned Top 3",
          "Mistral Fine-Tuned Gold",
          "Mistral Prompt ",
          "Mistral Prompt Top 1",
          "Mistral Prompt Top 3",
          "Mistral Prompt Gold"
         ],
         "xaxis": "x",
         "y": [
          "Mistral Prompt Gold",
          "Mistral Prompt Top 3",
          "Mistral Prompt Top 1",
          "Mistral Prompt ",
          "Mistral Fine-Tuned Gold",
          "Mistral Fine-Tuned Top 3",
          "Mistral Fine-Tuned Top 1",
          "Mistral Fine-Tuned ",
          "Ground Truth"
         ],
         "yaxis": "y",
         "z": [
          [
           0.531,
           1,
           1,
           1,
           1,
           1,
           1,
           0.553,
           0
          ],
          [
           0.152,
           0.34,
           0.903,
           1,
           0.362,
           0.851,
           1,
           0,
           0.553
          ],
          [
           0.614,
           0.92,
           0.903,
           1,
           0.365,
           1,
           0,
           1,
           1
          ],
          [
           0.532,
           1,
           1,
           1,
           1,
           0,
           1,
           0.85,
           1
          ],
          [
           0.948,
           1,
           1,
           1,
           0,
           1,
           0.376,
           0.434,
           1
          ],
          [
           0.948,
           1,
           1,
           0,
           1,
           1,
           1,
           1,
           1
          ],
          [
           0.528,
           1,
           0,
           1,
           1,
           1,
           0.903,
           0.903,
           1
          ],
          [
           0.584,
           0,
           1,
           1,
           1,
           1,
           0.912,
           0.34,
           1
          ],
          [
           0,
           0.582,
           0.519,
           0.951,
           0.948,
           0.516,
           0.614,
           0.152,
           0.524
          ]
         ]
        }
       ],
       "layout": {
        "coloraxis": {
         "colorscale": [
          [
           0,
           "#0d0887"
          ],
          [
           0.1111111111111111,
           "#46039f"
          ],
          [
           0.2222222222222222,
           "#7201a8"
          ],
          [
           0.3333333333333333,
           "#9c179e"
          ],
          [
           0.4444444444444444,
           "#bd3786"
          ],
          [
           0.5555555555555556,
           "#d8576b"
          ],
          [
           0.6666666666666666,
           "#ed7953"
          ],
          [
           0.7777777777777778,
           "#fb9f3a"
          ],
          [
           0.8888888888888888,
           "#fdca26"
          ],
          [
           1,
           "#f0f921"
          ]
         ]
        },
        "font": {
         "size": 15
        },
        "height": 600,
        "template": {
         "data": {
          "bar": [
           {
            "error_x": {
             "color": "#2a3f5f"
            },
            "error_y": {
             "color": "#2a3f5f"
            },
            "marker": {
             "line": {
              "color": "#E5ECF6",
              "width": 0.5
             },
             "pattern": {
              "fillmode": "overlay",
              "size": 10,
              "solidity": 0.2
             }
            },
            "type": "bar"
           }
          ],
          "barpolar": [
           {
            "marker": {
             "line": {
              "color": "#E5ECF6",
              "width": 0.5
             },
             "pattern": {
              "fillmode": "overlay",
              "size": 10,
              "solidity": 0.2
             }
            },
            "type": "barpolar"
           }
          ],
          "carpet": [
           {
            "aaxis": {
             "endlinecolor": "#2a3f5f",
             "gridcolor": "white",
             "linecolor": "white",
             "minorgridcolor": "white",
             "startlinecolor": "#2a3f5f"
            },
            "baxis": {
             "endlinecolor": "#2a3f5f",
             "gridcolor": "white",
             "linecolor": "white",
             "minorgridcolor": "white",
             "startlinecolor": "#2a3f5f"
            },
            "type": "carpet"
           }
          ],
          "choropleth": [
           {
            "colorbar": {
             "outlinewidth": 0,
             "ticks": ""
            },
            "type": "choropleth"
           }
          ],
          "contour": [
           {
            "colorbar": {
             "outlinewidth": 0,
             "ticks": ""
            },
            "colorscale": [
             [
              0,
              "#0d0887"
             ],
             [
              0.1111111111111111,
              "#46039f"
             ],
             [
              0.2222222222222222,
              "#7201a8"
             ],
             [
              0.3333333333333333,
              "#9c179e"
             ],
             [
              0.4444444444444444,
              "#bd3786"
             ],
             [
              0.5555555555555556,
              "#d8576b"
             ],
             [
              0.6666666666666666,
              "#ed7953"
             ],
             [
              0.7777777777777778,
              "#fb9f3a"
             ],
             [
              0.8888888888888888,
              "#fdca26"
             ],
             [
              1,
              "#f0f921"
             ]
            ],
            "type": "contour"
           }
          ],
          "contourcarpet": [
           {
            "colorbar": {
             "outlinewidth": 0,
             "ticks": ""
            },
            "type": "contourcarpet"
           }
          ],
          "heatmap": [
           {
            "colorbar": {
             "outlinewidth": 0,
             "ticks": ""
            },
            "colorscale": [
             [
              0,
              "#0d0887"
             ],
             [
              0.1111111111111111,
              "#46039f"
             ],
             [
              0.2222222222222222,
              "#7201a8"
             ],
             [
              0.3333333333333333,
              "#9c179e"
             ],
             [
              0.4444444444444444,
              "#bd3786"
             ],
             [
              0.5555555555555556,
              "#d8576b"
             ],
             [
              0.6666666666666666,
              "#ed7953"
             ],
             [
              0.7777777777777778,
              "#fb9f3a"
             ],
             [
              0.8888888888888888,
              "#fdca26"
             ],
             [
              1,
              "#f0f921"
             ]
            ],
            "type": "heatmap"
           }
          ],
          "heatmapgl": [
           {
            "colorbar": {
             "outlinewidth": 0,
             "ticks": ""
            },
            "colorscale": [
             [
              0,
              "#0d0887"
             ],
             [
              0.1111111111111111,
              "#46039f"
             ],
             [
              0.2222222222222222,
              "#7201a8"
             ],
             [
              0.3333333333333333,
              "#9c179e"
             ],
             [
              0.4444444444444444,
              "#bd3786"
             ],
             [
              0.5555555555555556,
              "#d8576b"
             ],
             [
              0.6666666666666666,
              "#ed7953"
             ],
             [
              0.7777777777777778,
              "#fb9f3a"
             ],
             [
              0.8888888888888888,
              "#fdca26"
             ],
             [
              1,
              "#f0f921"
             ]
            ],
            "type": "heatmapgl"
           }
          ],
          "histogram": [
           {
            "marker": {
             "pattern": {
              "fillmode": "overlay",
              "size": 10,
              "solidity": 0.2
             }
            },
            "type": "histogram"
           }
          ],
          "histogram2d": [
           {
            "colorbar": {
             "outlinewidth": 0,
             "ticks": ""
            },
            "colorscale": [
             [
              0,
              "#0d0887"
             ],
             [
              0.1111111111111111,
              "#46039f"
             ],
             [
              0.2222222222222222,
              "#7201a8"
             ],
             [
              0.3333333333333333,
              "#9c179e"
             ],
             [
              0.4444444444444444,
              "#bd3786"
             ],
             [
              0.5555555555555556,
              "#d8576b"
             ],
             [
              0.6666666666666666,
              "#ed7953"
             ],
             [
              0.7777777777777778,
              "#fb9f3a"
             ],
             [
              0.8888888888888888,
              "#fdca26"
             ],
             [
              1,
              "#f0f921"
             ]
            ],
            "type": "histogram2d"
           }
          ],
          "histogram2dcontour": [
           {
            "colorbar": {
             "outlinewidth": 0,
             "ticks": ""
            },
            "colorscale": [
             [
              0,
              "#0d0887"
             ],
             [
              0.1111111111111111,
              "#46039f"
             ],
             [
              0.2222222222222222,
              "#7201a8"
             ],
             [
              0.3333333333333333,
              "#9c179e"
             ],
             [
              0.4444444444444444,
              "#bd3786"
             ],
             [
              0.5555555555555556,
              "#d8576b"
             ],
             [
              0.6666666666666666,
              "#ed7953"
             ],
             [
              0.7777777777777778,
              "#fb9f3a"
             ],
             [
              0.8888888888888888,
              "#fdca26"
             ],
             [
              1,
              "#f0f921"
             ]
            ],
            "type": "histogram2dcontour"
           }
          ],
          "mesh3d": [
           {
            "colorbar": {
             "outlinewidth": 0,
             "ticks": ""
            },
            "type": "mesh3d"
           }
          ],
          "parcoords": [
           {
            "line": {
             "colorbar": {
              "outlinewidth": 0,
              "ticks": ""
             }
            },
            "type": "parcoords"
           }
          ],
          "pie": [
           {
            "automargin": true,
            "type": "pie"
           }
          ],
          "scatter": [
           {
            "fillpattern": {
             "fillmode": "overlay",
             "size": 10,
             "solidity": 0.2
            },
            "type": "scatter"
           }
          ],
          "scatter3d": [
           {
            "line": {
             "colorbar": {
              "outlinewidth": 0,
              "ticks": ""
             }
            },
            "marker": {
             "colorbar": {
              "outlinewidth": 0,
              "ticks": ""
             }
            },
            "type": "scatter3d"
           }
          ],
          "scattercarpet": [
           {
            "marker": {
             "colorbar": {
              "outlinewidth": 0,
              "ticks": ""
             }
            },
            "type": "scattercarpet"
           }
          ],
          "scattergeo": [
           {
            "marker": {
             "colorbar": {
              "outlinewidth": 0,
              "ticks": ""
             }
            },
            "type": "scattergeo"
           }
          ],
          "scattergl": [
           {
            "marker": {
             "colorbar": {
              "outlinewidth": 0,
              "ticks": ""
             }
            },
            "type": "scattergl"
           }
          ],
          "scattermapbox": [
           {
            "marker": {
             "colorbar": {
              "outlinewidth": 0,
              "ticks": ""
             }
            },
            "type": "scattermapbox"
           }
          ],
          "scatterpolar": [
           {
            "marker": {
             "colorbar": {
              "outlinewidth": 0,
              "ticks": ""
             }
            },
            "type": "scatterpolar"
           }
          ],
          "scatterpolargl": [
           {
            "marker": {
             "colorbar": {
              "outlinewidth": 0,
              "ticks": ""
             }
            },
            "type": "scatterpolargl"
           }
          ],
          "scatterternary": [
           {
            "marker": {
             "colorbar": {
              "outlinewidth": 0,
              "ticks": ""
             }
            },
            "type": "scatterternary"
           }
          ],
          "surface": [
           {
            "colorbar": {
             "outlinewidth": 0,
             "ticks": ""
            },
            "colorscale": [
             [
              0,
              "#0d0887"
             ],
             [
              0.1111111111111111,
              "#46039f"
             ],
             [
              0.2222222222222222,
              "#7201a8"
             ],
             [
              0.3333333333333333,
              "#9c179e"
             ],
             [
              0.4444444444444444,
              "#bd3786"
             ],
             [
              0.5555555555555556,
              "#d8576b"
             ],
             [
              0.6666666666666666,
              "#ed7953"
             ],
             [
              0.7777777777777778,
              "#fb9f3a"
             ],
             [
              0.8888888888888888,
              "#fdca26"
             ],
             [
              1,
              "#f0f921"
             ]
            ],
            "type": "surface"
           }
          ],
          "table": [
           {
            "cells": {
             "fill": {
              "color": "#EBF0F8"
             },
             "line": {
              "color": "white"
             }
            },
            "header": {
             "fill": {
              "color": "#C8D4E3"
             },
             "line": {
              "color": "white"
             }
            },
            "type": "table"
           }
          ]
         },
         "layout": {
          "annotationdefaults": {
           "arrowcolor": "#2a3f5f",
           "arrowhead": 0,
           "arrowwidth": 1
          },
          "autotypenumbers": "strict",
          "coloraxis": {
           "colorbar": {
            "outlinewidth": 0,
            "ticks": ""
           }
          },
          "colorscale": {
           "diverging": [
            [
             0,
             "#8e0152"
            ],
            [
             0.1,
             "#c51b7d"
            ],
            [
             0.2,
             "#de77ae"
            ],
            [
             0.3,
             "#f1b6da"
            ],
            [
             0.4,
             "#fde0ef"
            ],
            [
             0.5,
             "#f7f7f7"
            ],
            [
             0.6,
             "#e6f5d0"
            ],
            [
             0.7,
             "#b8e186"
            ],
            [
             0.8,
             "#7fbc41"
            ],
            [
             0.9,
             "#4d9221"
            ],
            [
             1,
             "#276419"
            ]
           ],
           "sequential": [
            [
             0,
             "#0d0887"
            ],
            [
             0.1111111111111111,
             "#46039f"
            ],
            [
             0.2222222222222222,
             "#7201a8"
            ],
            [
             0.3333333333333333,
             "#9c179e"
            ],
            [
             0.4444444444444444,
             "#bd3786"
            ],
            [
             0.5555555555555556,
             "#d8576b"
            ],
            [
             0.6666666666666666,
             "#ed7953"
            ],
            [
             0.7777777777777778,
             "#fb9f3a"
            ],
            [
             0.8888888888888888,
             "#fdca26"
            ],
            [
             1,
             "#f0f921"
            ]
           ],
           "sequentialminus": [
            [
             0,
             "#0d0887"
            ],
            [
             0.1111111111111111,
             "#46039f"
            ],
            [
             0.2222222222222222,
             "#7201a8"
            ],
            [
             0.3333333333333333,
             "#9c179e"
            ],
            [
             0.4444444444444444,
             "#bd3786"
            ],
            [
             0.5555555555555556,
             "#d8576b"
            ],
            [
             0.6666666666666666,
             "#ed7953"
            ],
            [
             0.7777777777777778,
             "#fb9f3a"
            ],
            [
             0.8888888888888888,
             "#fdca26"
            ],
            [
             1,
             "#f0f921"
            ]
           ]
          },
          "colorway": [
           "#636efa",
           "#EF553B",
           "#00cc96",
           "#ab63fa",
           "#FFA15A",
           "#19d3f3",
           "#FF6692",
           "#B6E880",
           "#FF97FF",
           "#FECB52"
          ],
          "font": {
           "color": "#2a3f5f"
          },
          "geo": {
           "bgcolor": "white",
           "lakecolor": "white",
           "landcolor": "#E5ECF6",
           "showlakes": true,
           "showland": true,
           "subunitcolor": "white"
          },
          "hoverlabel": {
           "align": "left"
          },
          "hovermode": "closest",
          "mapbox": {
           "style": "light"
          },
          "paper_bgcolor": "white",
          "plot_bgcolor": "#E5ECF6",
          "polar": {
           "angularaxis": {
            "gridcolor": "white",
            "linecolor": "white",
            "ticks": ""
           },
           "bgcolor": "#E5ECF6",
           "radialaxis": {
            "gridcolor": "white",
            "linecolor": "white",
            "ticks": ""
           }
          },
          "scene": {
           "xaxis": {
            "backgroundcolor": "#E5ECF6",
            "gridcolor": "white",
            "gridwidth": 2,
            "linecolor": "white",
            "showbackground": true,
            "ticks": "",
            "zerolinecolor": "white"
           },
           "yaxis": {
            "backgroundcolor": "#E5ECF6",
            "gridcolor": "white",
            "gridwidth": 2,
            "linecolor": "white",
            "showbackground": true,
            "ticks": "",
            "zerolinecolor": "white"
           },
           "zaxis": {
            "backgroundcolor": "#E5ECF6",
            "gridcolor": "white",
            "gridwidth": 2,
            "linecolor": "white",
            "showbackground": true,
            "ticks": "",
            "zerolinecolor": "white"
           }
          },
          "shapedefaults": {
           "line": {
            "color": "#2a3f5f"
           }
          },
          "ternary": {
           "aaxis": {
            "gridcolor": "white",
            "linecolor": "white",
            "ticks": ""
           },
           "baxis": {
            "gridcolor": "white",
            "linecolor": "white",
            "ticks": ""
           },
           "bgcolor": "#E5ECF6",
           "caxis": {
            "gridcolor": "white",
            "linecolor": "white",
            "ticks": ""
           }
          },
          "title": {
           "x": 0.05
          },
          "xaxis": {
           "automargin": true,
           "gridcolor": "white",
           "linecolor": "white",
           "ticks": "",
           "title": {
            "standoff": 15
           },
           "zerolinecolor": "white",
           "zerolinewidth": 2
          },
          "yaxis": {
           "automargin": true,
           "gridcolor": "white",
           "linecolor": "white",
           "ticks": "",
           "title": {
            "standoff": 15
           },
           "zerolinecolor": "white",
           "zerolinewidth": 2
          }
         }
        },
        "title": {
         "text": "Bleu-4 token level (max)"
        },
        "width": 600,
        "xaxis": {
         "anchor": "y",
         "constrain": "domain",
         "domain": [
          0,
          1
         ],
         "scaleanchor": "y",
         "tickangle": -45
        },
        "yaxis": {
         "anchor": "x",
         "autorange": "reversed",
         "constrain": "domain",
         "domain": [
          0,
          1
         ]
        }
       }
      },
      "text/html": [
       "<div>                            <div id=\"a4159b3b-f9ee-4139-8616-3097f7e005a8\" class=\"plotly-graph-div\" style=\"height:600px; width:600px;\"></div>            <script type=\"text/javascript\">                require([\"plotly\"], function(Plotly) {                    window.PLOTLYENV=window.PLOTLYENV || {};                                    if (document.getElementById(\"a4159b3b-f9ee-4139-8616-3097f7e005a8\")) {                    Plotly.newPlot(                        \"a4159b3b-f9ee-4139-8616-3097f7e005a8\",                        [{\"coloraxis\":\"coloraxis\",\"name\":\"0\",\"texttemplate\":\"%{z}\",\"x\":[\"Ground Truth\",\"Mistral Fine-Tuned \",\"Mistral Fine-Tuned Top 1\",\"Mistral Fine-Tuned Top 3\",\"Mistral Fine-Tuned Gold\",\"Mistral Prompt \",\"Mistral Prompt Top 1\",\"Mistral Prompt Top 3\",\"Mistral Prompt Gold\"],\"y\":[\"Mistral Prompt Gold\",\"Mistral Prompt Top 3\",\"Mistral Prompt Top 1\",\"Mistral Prompt \",\"Mistral Fine-Tuned Gold\",\"Mistral Fine-Tuned Top 3\",\"Mistral Fine-Tuned Top 1\",\"Mistral Fine-Tuned \",\"Ground Truth\"],\"z\":[[0.531,1.0,1.0,1.0,1.0,1.0,1.0,0.553,0.0],[0.152,0.34,0.903,1.0,0.362,0.851,1.0,0.0,0.553],[0.614,0.92,0.903,1.0,0.365,1.0,0.0,1.0,1.0],[0.532,1.0,1.0,1.0,1.0,0.0,1.0,0.85,1.0],[0.948,1.0,1.0,1.0,0.0,1.0,0.376,0.434,1.0],[0.948,1.0,1.0,0.0,1.0,1.0,1.0,1.0,1.0],[0.528,1.0,0.0,1.0,1.0,1.0,0.903,0.903,1.0],[0.584,0.0,1.0,1.0,1.0,1.0,0.912,0.34,1.0],[0.0,0.582,0.519,0.951,0.948,0.516,0.614,0.152,0.524]],\"type\":\"heatmap\",\"xaxis\":\"x\",\"yaxis\":\"y\",\"hovertemplate\":\"x: %{x}\\u003cbr\\u003ey: %{y}\\u003cbr\\u003ecolor: %{z}\\u003cextra\\u003e\\u003c\\u002fextra\\u003e\"}],                        {\"template\":{\"data\":{\"histogram2dcontour\":[{\"type\":\"histogram2dcontour\",\"colorbar\":{\"outlinewidth\":0,\"ticks\":\"\"},\"colorscale\":[[0.0,\"#0d0887\"],[0.1111111111111111,\"#46039f\"],[0.2222222222222222,\"#7201a8\"],[0.3333333333333333,\"#9c179e\"],[0.4444444444444444,\"#bd3786\"],[0.5555555555555556,\"#d8576b\"],[0.6666666666666666,\"#ed7953\"],[0.7777777777777778,\"#fb9f3a\"],[0.8888888888888888,\"#fdca26\"],[1.0,\"#f0f921\"]]}],\"choropleth\":[{\"type\":\"choropleth\",\"colorbar\":{\"outlinewidth\":0,\"ticks\":\"\"}}],\"histogram2d\":[{\"type\":\"histogram2d\",\"colorbar\":{\"outlinewidth\":0,\"ticks\":\"\"},\"colorscale\":[[0.0,\"#0d0887\"],[0.1111111111111111,\"#46039f\"],[0.2222222222222222,\"#7201a8\"],[0.3333333333333333,\"#9c179e\"],[0.4444444444444444,\"#bd3786\"],[0.5555555555555556,\"#d8576b\"],[0.6666666666666666,\"#ed7953\"],[0.7777777777777778,\"#fb9f3a\"],[0.8888888888888888,\"#fdca26\"],[1.0,\"#f0f921\"]]}],\"heatmap\":[{\"type\":\"heatmap\",\"colorbar\":{\"outlinewidth\":0,\"ticks\":\"\"},\"colorscale\":[[0.0,\"#0d0887\"],[0.1111111111111111,\"#46039f\"],[0.2222222222222222,\"#7201a8\"],[0.3333333333333333,\"#9c179e\"],[0.4444444444444444,\"#bd3786\"],[0.5555555555555556,\"#d8576b\"],[0.6666666666666666,\"#ed7953\"],[0.7777777777777778,\"#fb9f3a\"],[0.8888888888888888,\"#fdca26\"],[1.0,\"#f0f921\"]]}],\"heatmapgl\":[{\"type\":\"heatmapgl\",\"colorbar\":{\"outlinewidth\":0,\"ticks\":\"\"},\"colorscale\":[[0.0,\"#0d0887\"],[0.1111111111111111,\"#46039f\"],[0.2222222222222222,\"#7201a8\"],[0.3333333333333333,\"#9c179e\"],[0.4444444444444444,\"#bd3786\"],[0.5555555555555556,\"#d8576b\"],[0.6666666666666666,\"#ed7953\"],[0.7777777777777778,\"#fb9f3a\"],[0.8888888888888888,\"#fdca26\"],[1.0,\"#f0f921\"]]}],\"contourcarpet\":[{\"type\":\"contourcarpet\",\"colorbar\":{\"outlinewidth\":0,\"ticks\":\"\"}}],\"contour\":[{\"type\":\"contour\",\"colorbar\":{\"outlinewidth\":0,\"ticks\":\"\"},\"colorscale\":[[0.0,\"#0d0887\"],[0.1111111111111111,\"#46039f\"],[0.2222222222222222,\"#7201a8\"],[0.3333333333333333,\"#9c179e\"],[0.4444444444444444,\"#bd3786\"],[0.5555555555555556,\"#d8576b\"],[0.6666666666666666,\"#ed7953\"],[0.7777777777777778,\"#fb9f3a\"],[0.8888888888888888,\"#fdca26\"],[1.0,\"#f0f921\"]]}],\"surface\":[{\"type\":\"surface\",\"colorbar\":{\"outlinewidth\":0,\"ticks\":\"\"},\"colorscale\":[[0.0,\"#0d0887\"],[0.1111111111111111,\"#46039f\"],[0.2222222222222222,\"#7201a8\"],[0.3333333333333333,\"#9c179e\"],[0.4444444444444444,\"#bd3786\"],[0.5555555555555556,\"#d8576b\"],[0.6666666666666666,\"#ed7953\"],[0.7777777777777778,\"#fb9f3a\"],[0.8888888888888888,\"#fdca26\"],[1.0,\"#f0f921\"]]}],\"mesh3d\":[{\"type\":\"mesh3d\",\"colorbar\":{\"outlinewidth\":0,\"ticks\":\"\"}}],\"scatter\":[{\"fillpattern\":{\"fillmode\":\"overlay\",\"size\":10,\"solidity\":0.2},\"type\":\"scatter\"}],\"parcoords\":[{\"type\":\"parcoords\",\"line\":{\"colorbar\":{\"outlinewidth\":0,\"ticks\":\"\"}}}],\"scatterpolargl\":[{\"type\":\"scatterpolargl\",\"marker\":{\"colorbar\":{\"outlinewidth\":0,\"ticks\":\"\"}}}],\"bar\":[{\"error_x\":{\"color\":\"#2a3f5f\"},\"error_y\":{\"color\":\"#2a3f5f\"},\"marker\":{\"line\":{\"color\":\"#E5ECF6\",\"width\":0.5},\"pattern\":{\"fillmode\":\"overlay\",\"size\":10,\"solidity\":0.2}},\"type\":\"bar\"}],\"scattergeo\":[{\"type\":\"scattergeo\",\"marker\":{\"colorbar\":{\"outlinewidth\":0,\"ticks\":\"\"}}}],\"scatterpolar\":[{\"type\":\"scatterpolar\",\"marker\":{\"colorbar\":{\"outlinewidth\":0,\"ticks\":\"\"}}}],\"histogram\":[{\"marker\":{\"pattern\":{\"fillmode\":\"overlay\",\"size\":10,\"solidity\":0.2}},\"type\":\"histogram\"}],\"scattergl\":[{\"type\":\"scattergl\",\"marker\":{\"colorbar\":{\"outlinewidth\":0,\"ticks\":\"\"}}}],\"scatter3d\":[{\"type\":\"scatter3d\",\"line\":{\"colorbar\":{\"outlinewidth\":0,\"ticks\":\"\"}},\"marker\":{\"colorbar\":{\"outlinewidth\":0,\"ticks\":\"\"}}}],\"scattermapbox\":[{\"type\":\"scattermapbox\",\"marker\":{\"colorbar\":{\"outlinewidth\":0,\"ticks\":\"\"}}}],\"scatterternary\":[{\"type\":\"scatterternary\",\"marker\":{\"colorbar\":{\"outlinewidth\":0,\"ticks\":\"\"}}}],\"scattercarpet\":[{\"type\":\"scattercarpet\",\"marker\":{\"colorbar\":{\"outlinewidth\":0,\"ticks\":\"\"}}}],\"carpet\":[{\"aaxis\":{\"endlinecolor\":\"#2a3f5f\",\"gridcolor\":\"white\",\"linecolor\":\"white\",\"minorgridcolor\":\"white\",\"startlinecolor\":\"#2a3f5f\"},\"baxis\":{\"endlinecolor\":\"#2a3f5f\",\"gridcolor\":\"white\",\"linecolor\":\"white\",\"minorgridcolor\":\"white\",\"startlinecolor\":\"#2a3f5f\"},\"type\":\"carpet\"}],\"table\":[{\"cells\":{\"fill\":{\"color\":\"#EBF0F8\"},\"line\":{\"color\":\"white\"}},\"header\":{\"fill\":{\"color\":\"#C8D4E3\"},\"line\":{\"color\":\"white\"}},\"type\":\"table\"}],\"barpolar\":[{\"marker\":{\"line\":{\"color\":\"#E5ECF6\",\"width\":0.5},\"pattern\":{\"fillmode\":\"overlay\",\"size\":10,\"solidity\":0.2}},\"type\":\"barpolar\"}],\"pie\":[{\"automargin\":true,\"type\":\"pie\"}]},\"layout\":{\"autotypenumbers\":\"strict\",\"colorway\":[\"#636efa\",\"#EF553B\",\"#00cc96\",\"#ab63fa\",\"#FFA15A\",\"#19d3f3\",\"#FF6692\",\"#B6E880\",\"#FF97FF\",\"#FECB52\"],\"font\":{\"color\":\"#2a3f5f\"},\"hovermode\":\"closest\",\"hoverlabel\":{\"align\":\"left\"},\"paper_bgcolor\":\"white\",\"plot_bgcolor\":\"#E5ECF6\",\"polar\":{\"bgcolor\":\"#E5ECF6\",\"angularaxis\":{\"gridcolor\":\"white\",\"linecolor\":\"white\",\"ticks\":\"\"},\"radialaxis\":{\"gridcolor\":\"white\",\"linecolor\":\"white\",\"ticks\":\"\"}},\"ternary\":{\"bgcolor\":\"#E5ECF6\",\"aaxis\":{\"gridcolor\":\"white\",\"linecolor\":\"white\",\"ticks\":\"\"},\"baxis\":{\"gridcolor\":\"white\",\"linecolor\":\"white\",\"ticks\":\"\"},\"caxis\":{\"gridcolor\":\"white\",\"linecolor\":\"white\",\"ticks\":\"\"}},\"coloraxis\":{\"colorbar\":{\"outlinewidth\":0,\"ticks\":\"\"}},\"colorscale\":{\"sequential\":[[0.0,\"#0d0887\"],[0.1111111111111111,\"#46039f\"],[0.2222222222222222,\"#7201a8\"],[0.3333333333333333,\"#9c179e\"],[0.4444444444444444,\"#bd3786\"],[0.5555555555555556,\"#d8576b\"],[0.6666666666666666,\"#ed7953\"],[0.7777777777777778,\"#fb9f3a\"],[0.8888888888888888,\"#fdca26\"],[1.0,\"#f0f921\"]],\"sequentialminus\":[[0.0,\"#0d0887\"],[0.1111111111111111,\"#46039f\"],[0.2222222222222222,\"#7201a8\"],[0.3333333333333333,\"#9c179e\"],[0.4444444444444444,\"#bd3786\"],[0.5555555555555556,\"#d8576b\"],[0.6666666666666666,\"#ed7953\"],[0.7777777777777778,\"#fb9f3a\"],[0.8888888888888888,\"#fdca26\"],[1.0,\"#f0f921\"]],\"diverging\":[[0,\"#8e0152\"],[0.1,\"#c51b7d\"],[0.2,\"#de77ae\"],[0.3,\"#f1b6da\"],[0.4,\"#fde0ef\"],[0.5,\"#f7f7f7\"],[0.6,\"#e6f5d0\"],[0.7,\"#b8e186\"],[0.8,\"#7fbc41\"],[0.9,\"#4d9221\"],[1,\"#276419\"]]},\"xaxis\":{\"gridcolor\":\"white\",\"linecolor\":\"white\",\"ticks\":\"\",\"title\":{\"standoff\":15},\"zerolinecolor\":\"white\",\"automargin\":true,\"zerolinewidth\":2},\"yaxis\":{\"gridcolor\":\"white\",\"linecolor\":\"white\",\"ticks\":\"\",\"title\":{\"standoff\":15},\"zerolinecolor\":\"white\",\"automargin\":true,\"zerolinewidth\":2},\"scene\":{\"xaxis\":{\"backgroundcolor\":\"#E5ECF6\",\"gridcolor\":\"white\",\"linecolor\":\"white\",\"showbackground\":true,\"ticks\":\"\",\"zerolinecolor\":\"white\",\"gridwidth\":2},\"yaxis\":{\"backgroundcolor\":\"#E5ECF6\",\"gridcolor\":\"white\",\"linecolor\":\"white\",\"showbackground\":true,\"ticks\":\"\",\"zerolinecolor\":\"white\",\"gridwidth\":2},\"zaxis\":{\"backgroundcolor\":\"#E5ECF6\",\"gridcolor\":\"white\",\"linecolor\":\"white\",\"showbackground\":true,\"ticks\":\"\",\"zerolinecolor\":\"white\",\"gridwidth\":2}},\"shapedefaults\":{\"line\":{\"color\":\"#2a3f5f\"}},\"annotationdefaults\":{\"arrowcolor\":\"#2a3f5f\",\"arrowhead\":0,\"arrowwidth\":1},\"geo\":{\"bgcolor\":\"white\",\"landcolor\":\"#E5ECF6\",\"subunitcolor\":\"white\",\"showland\":true,\"showlakes\":true,\"lakecolor\":\"white\"},\"title\":{\"x\":0.05},\"mapbox\":{\"style\":\"light\"}}},\"xaxis\":{\"anchor\":\"y\",\"domain\":[0.0,1.0],\"scaleanchor\":\"y\",\"constrain\":\"domain\",\"tickangle\":-45},\"yaxis\":{\"anchor\":\"x\",\"domain\":[0.0,1.0],\"autorange\":\"reversed\",\"constrain\":\"domain\"},\"coloraxis\":{\"colorscale\":[[0.0,\"#0d0887\"],[0.1111111111111111,\"#46039f\"],[0.2222222222222222,\"#7201a8\"],[0.3333333333333333,\"#9c179e\"],[0.4444444444444444,\"#bd3786\"],[0.5555555555555556,\"#d8576b\"],[0.6666666666666666,\"#ed7953\"],[0.7777777777777778,\"#fb9f3a\"],[0.8888888888888888,\"#fdca26\"],[1.0,\"#f0f921\"]]},\"title\":{\"text\":\"Bleu-4 token level (max)\"},\"font\":{\"size\":15},\"height\":600,\"width\":600},                        {\"responsive\": true}                    ).then(function(){\n",
       "                            \n",
       "var gd = document.getElementById('a4159b3b-f9ee-4139-8616-3097f7e005a8');\n",
       "var x = new MutationObserver(function (mutations, observer) {{\n",
       "        var display = window.getComputedStyle(gd).display;\n",
       "        if (!display || display === 'none') {{\n",
       "            console.log([gd, 'removed!']);\n",
       "            Plotly.purge(gd);\n",
       "            observer.disconnect();\n",
       "        }}\n",
       "}});\n",
       "\n",
       "// Listen for the removal of the full notebook cells\n",
       "var notebookContainer = gd.closest('#notebook-container');\n",
       "if (notebookContainer) {{\n",
       "    x.observe(notebookContainer, {childList: true});\n",
       "}}\n",
       "\n",
       "// Listen for the clearing of the current output cell\n",
       "var outputEl = gd.closest('.output');\n",
       "if (outputEl) {{\n",
       "    x.observe(outputEl, {childList: true});\n",
       "}}\n",
       "\n",
       "                        })                };                });            </script>        </div>"
      ]
     },
     "metadata": {},
     "output_type": "display_data"
    }
   ],
   "source": [
    "candidates = [\n",
    "    \"gt\",\n",
    "    \"mistral_ft_none.json\",\n",
    "    \"mistral_ft_retrieved_top-1.json\",\n",
    "    \"mistral_ft_retrieved_top-3.json\",\n",
    "    \"mistral_ft_gold.json\",\n",
    "    \"mistral_prompt_none.json\",\n",
    "    \"mistral_prompt_retrieved_top-1.json\",\n",
    "    \"mistral_prompt_retrieved_top-3.json\",\n",
    "    \"mistral_prompt_gold.json\",\n",
    "]\n",
    "\n",
    "plot_cross_bleu(task_replies, candidates, replacements, results_to_plot=['b4_tok'], operation=\"max\")"
   ]
  },
  {
   "cell_type": "markdown",
   "metadata": {},
   "source": [
    "#### Samples above a threshold"
   ]
  },
  {
   "cell_type": "code",
   "execution_count": 6,
   "metadata": {},
   "outputs": [
    {
     "name": "stderr",
     "output_type": "stream",
     "text": [
      "  0%|          | 0/4380 [00:00<?, ?it/s]/home/simone/miniconda3/envs/inlg/lib/python3.10/site-packages/nltk/translate/bleu_score.py:552: UserWarning: \n",
      "The hypothesis contains 0 counts of 2-gram overlaps.\n",
      "Therefore the BLEU score evaluates to 0, independently of\n",
      "how many N-gram overlaps of lower order it contains.\n",
      "Consider using lower n-gram order or use SmoothingFunction()\n",
      "  warnings.warn(_msg)\n",
      "/home/simone/miniconda3/envs/inlg/lib/python3.10/site-packages/nltk/translate/bleu_score.py:552: UserWarning: \n",
      "The hypothesis contains 0 counts of 3-gram overlaps.\n",
      "Therefore the BLEU score evaluates to 0, independently of\n",
      "how many N-gram overlaps of lower order it contains.\n",
      "Consider using lower n-gram order or use SmoothingFunction()\n",
      "  warnings.warn(_msg)\n",
      "/home/simone/miniconda3/envs/inlg/lib/python3.10/site-packages/nltk/translate/bleu_score.py:552: UserWarning: \n",
      "The hypothesis contains 0 counts of 4-gram overlaps.\n",
      "Therefore the BLEU score evaluates to 0, independently of\n",
      "how many N-gram overlaps of lower order it contains.\n",
      "Consider using lower n-gram order or use SmoothingFunction()\n",
      "  warnings.warn(_msg)\n",
      "100%|██████████| 4380/4380 [00:50<00:00, 87.49it/s] "
     ]
    },
    {
     "name": "stdout",
     "output_type": "stream",
     "text": [
      "Number of samples above threshold: 13.58%\n"
     ]
    },
    {
     "name": "stderr",
     "output_type": "stream",
     "text": [
      "\n"
     ]
    }
   ],
   "source": [
    "from utils import get_samples_above_threshold\n",
    "\n",
    "\n",
    "candidates = [\n",
    "    \"gt\",\n",
    "    \"llama_ft_none.json\",\n",
    "    \"llama_ft_retrieved_top-1.json\",\n",
    "    \"llama_ft_retrieved_top-3.json\",\n",
    "    \"llama_ft_gold.json\",\n",
    "    \"llama_prompt_none.json\",\n",
    "    \"llama_prompt_retrieved_top-1.json\",\n",
    "    \"llama_prompt_retrieved_top-3.json\",\n",
    "    \"llama_prompt_gold.json\",\n",
    "]\n",
    "\n",
    "llama_samples_above_threshold = get_samples_above_threshold(task_replies, candidates, threshold=1)\n",
    "\n",
    "print(f\"Number of samples above threshold: {round(len(llama_samples_above_threshold)/len(task_replies)*100, 2)}%\")"
   ]
  },
  {
   "cell_type": "code",
   "execution_count": 7,
   "metadata": {},
   "outputs": [
    {
     "name": "stderr",
     "output_type": "stream",
     "text": [
      "100%|██████████| 4380/4380 [00:45<00:00, 96.98it/s] "
     ]
    },
    {
     "name": "stdout",
     "output_type": "stream",
     "text": [
      "Number of samples above threshold: 16.37%\n"
     ]
    },
    {
     "name": "stderr",
     "output_type": "stream",
     "text": [
      "\n"
     ]
    }
   ],
   "source": [
    "from utils import get_samples_above_threshold\n",
    "\n",
    "\n",
    "candidates = [\n",
    "    \"gt\",\n",
    "    \"mistral_ft_none.json\",\n",
    "    \"mistral_ft_retrieved_top-1.json\",\n",
    "    \"mistral_ft_retrieved_top-3.json\",\n",
    "    \"mistral_ft_gold.json\",\n",
    "    \"mistral_prompt_none.json\",\n",
    "    \"mistral_prompt_retrieved_top-1.json\",\n",
    "    \"mistral_prompt_retrieved_top-3.json\",\n",
    "    \"mistral_prompt_gold.json\",\n",
    "]\n",
    "\n",
    "mistral_samples_above_threshold = get_samples_above_threshold(task_replies, candidates, threshold=1)\n",
    "\n",
    "print(f\"Number of samples above threshold: {round(len(mistral_samples_above_threshold)/len(task_replies)*100, 2)}%\")"
   ]
  },
  {
   "cell_type": "code",
   "execution_count": 8,
   "metadata": {},
   "outputs": [
    {
     "name": "stdout",
     "output_type": "stream",
     "text": [
      "Total number of samples above threshold: 25.68%\n"
     ]
    }
   ],
   "source": [
    "total_samples_above_threshold = llama_samples_above_threshold.union(mistral_samples_above_threshold)\n",
    "print(f\"Total number of samples above threshold: {round(len(total_samples_above_threshold)/len(task_replies)*100, 2)}%\")"
   ]
  },
  {
   "cell_type": "markdown",
   "metadata": {},
   "source": [
    "### F1 Unigram-Overlap"
   ]
  },
  {
   "cell_type": "markdown",
   "metadata": {},
   "source": [
    "#### Full test set"
   ]
  },
  {
   "cell_type": "code",
   "execution_count": null,
   "metadata": {},
   "outputs": [
    {
     "name": "stderr",
     "output_type": "stream",
     "text": [
      "Computing F1: 100%|██████████| 4380/4380 [00:19<00:00, 228.31it/s]"
     ]
    },
    {
     "name": "stdout",
     "output_type": "stream",
     "text": [
      "llama_prompt_gold.json: 0.1659\n",
      "llama_ft_gold.json: 0.3841\n",
      "llama_ft_noisy.json: 0.1639\n",
      "llama_ft_retrieved_top-3.json: 0.207\n",
      "llama_prompt_retrieved_top-3.json: 0.1291\n",
      "llama_ft_none.json: 0.1846\n",
      "llama_prompt_none.json: 0.1268\n",
      "llama_ft_retrieved_top-1.json: 0.1967\n",
      "llama_prompt_retrieved_top-1.json: 0.1261\n",
      "mistral_prompt_gold.json: 0.1588\n",
      "mistral_ft_gold.json: 0.3821\n",
      "mistral_ft_noisy.json: 0.1761\n",
      "mistral_ft_retrieved_top-3.json: 0.2049\n",
      "mistral_prompt_retrieved_top-3.json: 0.1222\n",
      "mistral_ft_none.json: 0.1863\n",
      "mistral_prompt_none.json: 0.1104\n",
      "mistral_ft_retrieved_top-1.json: 0.1983\n",
      "mistral_prompt_retrieved_top-1.json: 0.1116\n"
     ]
    },
    {
     "name": "stderr",
     "output_type": "stream",
     "text": [
      "\n"
     ]
    }
   ],
   "source": [
    "techniques = {}\n",
    "for sample_id, sample in tqdm(data.items(), desc=\"Computing F1\"):\n",
    "    reference = sample[\"text\"]\n",
    "    for key, value in task_replies[sample_id].items():\n",
    "        if key == \"gt\":\n",
    "            continue\n",
    "        if key not in techniques:\n",
    "            techniques[key] = TeacherMetrics()\n",
    "        techniques[key].evaluate_response({\"text\": value}, [reference])\n",
    "\n",
    "\n",
    "for technique, metrics in techniques.items():\n",
    "    print(f\"{technique}: {metrics.report()['f1']}\")"
   ]
  },
  {
   "cell_type": "markdown",
   "metadata": {},
   "source": [
    "#### Knowledge-access Turns"
   ]
  },
  {
   "cell_type": "code",
   "execution_count": null,
   "metadata": {},
   "outputs": [
    {
     "name": "stderr",
     "output_type": "stream",
     "text": [
      "Computing F1: 100%|██████████| 4380/4380 [00:18<00:00, 232.18it/s]"
     ]
    },
    {
     "name": "stdout",
     "output_type": "stream",
     "text": [
      "llama_prompt_gold.json: 0.1688\n",
      "llama_ft_gold.json: 0.3969\n",
      "llama_ft_noisy.json: 0.1632\n",
      "llama_ft_retrieved_top-3.json: 0.2084\n",
      "llama_prompt_retrieved_top-3.json: 0.1299\n",
      "llama_ft_none.json: 0.1867\n",
      "llama_prompt_none.json: 0.1273\n",
      "llama_ft_retrieved_top-1.json: 0.1975\n",
      "llama_prompt_retrieved_top-1.json: 0.1266\n",
      "mistral_prompt_gold.json: 0.1622\n",
      "mistral_ft_gold.json: 0.3949\n",
      "mistral_ft_noisy.json: 0.1766\n",
      "mistral_ft_retrieved_top-3.json: 0.2063\n",
      "mistral_prompt_retrieved_top-3.json: 0.1231\n",
      "mistral_ft_none.json: 0.1872\n",
      "mistral_prompt_none.json: 0.1111\n",
      "mistral_ft_retrieved_top-1.json: 0.1993\n",
      "mistral_prompt_retrieved_top-1.json: 0.1126\n"
     ]
    },
    {
     "name": "stderr",
     "output_type": "stream",
     "text": [
      "\n"
     ]
    }
   ],
   "source": [
    "techniques = {}\n",
    "for sample_id, sample in tqdm(data.items(), desc=\"Computing F1\"):\n",
    "    sentence = sample[\"gold_sentence\"][\"sentence\"]\n",
    "    if sentence is None:\n",
    "        continue\n",
    "\n",
    "    reference = sample[\"text\"]\n",
    "    for key, value in task_replies[sample_id].items():\n",
    "        if key == \"gt\":\n",
    "            continue\n",
    "        if key not in techniques:\n",
    "            techniques[key] = TeacherMetrics()\n",
    "        techniques[key].evaluate_response({\"text\": value}, [reference])\n",
    "\n",
    "for technique, metrics in techniques.items():\n",
    "    print(f\"{technique}: {metrics.report()['f1']}\")"
   ]
  },
  {
   "cell_type": "markdown",
   "metadata": {},
   "source": [
    "#### No Knowledge-access Turns"
   ]
  },
  {
   "cell_type": "code",
   "execution_count": 8,
   "metadata": {},
   "outputs": [
    {
     "name": "stderr",
     "output_type": "stream",
     "text": [
      "Computing F1: 100%|██████████| 4380/4380 [00:01<00:00, 4329.35it/s]"
     ]
    },
    {
     "name": "stdout",
     "output_type": "stream",
     "text": [
      "llama_prompt_gold.json: 0.1202\n",
      "llama_ft_gold.json: 0.177\n",
      "llama_ft_noisy.json: 0.1751\n",
      "llama_ft_retrieved_top-3.json: 0.184\n",
      "llama_prompt_retrieved_top-3.json: 0.1168\n",
      "llama_ft_none.json: 0.1514\n",
      "llama_prompt_none.json: 0.1184\n",
      "llama_ft_retrieved_top-1.json: 0.1839\n",
      "llama_prompt_retrieved_top-1.json: 0.1174\n",
      "mistral_prompt_gold.json: 0.1041\n",
      "mistral_ft_gold.json: 0.1753\n",
      "mistral_ft_noisy.json: 0.1675\n",
      "mistral_ft_retrieved_top-3.json: 0.1826\n",
      "mistral_prompt_retrieved_top-3.json: 0.1072\n",
      "mistral_ft_none.json: 0.1721\n",
      "mistral_prompt_none.json: 0.1004\n",
      "mistral_ft_retrieved_top-1.json: 0.1824\n",
      "mistral_prompt_retrieved_top-1.json: 0.09596\n"
     ]
    },
    {
     "name": "stderr",
     "output_type": "stream",
     "text": [
      "\n"
     ]
    }
   ],
   "source": [
    "techniques = {}\n",
    "for sample_id, sample in tqdm(data.items(), desc=\"Computing F1\"):\n",
    "    sentence = sample[\"gold_sentence\"][\"sentence\"]\n",
    "    if sentence is not None:\n",
    "        continue\n",
    "\n",
    "    reference = sample[\"text\"]\n",
    "    for key, value in task_replies[sample_id].items():\n",
    "        if key in \"gt\":\n",
    "            continue\n",
    "        if key not in techniques:\n",
    "            techniques[key] = TeacherMetrics()\n",
    "        techniques[key].evaluate_response({\"text\": value}, [reference])\n",
    "\n",
    "for technique, metrics in techniques.items():\n",
    "    print(f\"{technique}: {metrics.report()['f1']}\")"
   ]
  },
  {
   "cell_type": "markdown",
   "metadata": {},
   "source": [
    "#### Samples with correctly retrieved documents"
   ]
  },
  {
   "cell_type": "markdown",
   "metadata": {},
   "source": [
    "##### Top-1"
   ]
  },
  {
   "cell_type": "code",
   "execution_count": 73,
   "metadata": {},
   "outputs": [
    {
     "name": "stderr",
     "output_type": "stream",
     "text": [
      "Computing F1:   0%|          | 0/4380 [00:00<?, ?it/s]"
     ]
    },
    {
     "name": "stderr",
     "output_type": "stream",
     "text": [
      "Computing F1: 100%|██████████| 4380/4380 [00:01<00:00, 4317.77it/s]"
     ]
    },
    {
     "name": "stdout",
     "output_type": "stream",
     "text": [
      "llama_prompt_gold.json: 0.1528\n",
      "llama_ft_gold.json: 0.3792\n",
      "llama_ft_retrieved_top-1.json: 0.304\n",
      "llama_prompt_retrieved_top-1.json: 0.1522\n",
      "mistral_prompt_gold.json: 0.1573\n",
      "mistral_ft_gold.json: 0.3809\n",
      "mistral_ft_retrieved_top-1.json: 0.3144\n",
      "mistral_prompt_retrieved_top-1.json: 0.1566\n"
     ]
    },
    {
     "name": "stderr",
     "output_type": "stream",
     "text": [
      "\n"
     ]
    }
   ],
   "source": [
    "techniques = {}\n",
    "for sample_id, sample in tqdm(data.items(), desc=\"Computing F1\"):\n",
    "    sentence = sample[\"gold_sentence\"][\"sentence\"]\n",
    "    if sentence is None:\n",
    "        continue\n",
    "    retrieved_sentences = [summary[\"sentence\"] for summary in sample[\"retrieved_sentences\"][:1]]\n",
    "\n",
    "    if sentence not in retrieved_sentences:\n",
    "        continue\n",
    "\n",
    "    reference = sample[\"text\"]\n",
    "    for key, value in task_replies[sample_id].items():\n",
    "        if key == \"gt\":\n",
    "            continue\n",
    "        if \"retrieved_top-1\" in key or \"gold\" in key:\n",
    "            if key not in techniques:\n",
    "                techniques[key] = TeacherMetrics()\n",
    "            techniques[key].evaluate_response({\"text\": value}, [reference])\n",
    "\n",
    "for technique, metrics in techniques.items():\n",
    "    print(f\"{technique}: {metrics.report()['f1']}\")"
   ]
  },
  {
   "cell_type": "markdown",
   "metadata": {},
   "source": [
    "##### Top-3"
   ]
  },
  {
   "cell_type": "code",
   "execution_count": 64,
   "metadata": {},
   "outputs": [
    {
     "name": "stderr",
     "output_type": "stream",
     "text": [
      "Computing F1:   0%|          | 0/4380 [00:00<?, ?it/s]"
     ]
    },
    {
     "name": "stderr",
     "output_type": "stream",
     "text": [
      "Computing F1: 100%|██████████| 4380/4380 [00:02<00:00, 1616.99it/s]"
     ]
    },
    {
     "name": "stdout",
     "output_type": "stream",
     "text": [
      "llama_prompt_gold.json: 0.1561\n",
      "llama_ft_gold.json: 0.3955\n",
      "llama_ft_retrieved_top-3.json: 0.2966\n",
      "llama_prompt_retrieved_top-3.json: 0.1472\n",
      "mistral_prompt_gold.json: 0.1593\n",
      "mistral_ft_gold.json: 0.3949\n",
      "mistral_ft_retrieved_top-3.json: 0.2921\n",
      "mistral_prompt_retrieved_top-3.json: 0.1633\n"
     ]
    },
    {
     "name": "stderr",
     "output_type": "stream",
     "text": [
      "\n"
     ]
    }
   ],
   "source": [
    "techniques = {}\n",
    "for sample_id, sample in tqdm(data.items(), desc=\"Computing F1\"):\n",
    "    sentence = sample[\"gold_sentence\"][\"sentence\"]\n",
    "    if sentence is None:\n",
    "        continue\n",
    "    retrieved_sentences = [summary[\"sentence\"] for summary in sample[\"retrieved_sentences\"][:3]]\n",
    "\n",
    "    if sentence not in retrieved_sentences:\n",
    "        continue\n",
    "\n",
    "    reference = sample[\"text\"]\n",
    "    for key, value in task_replies[sample_id].items():\n",
    "        if key == \"gt\":\n",
    "            continue\n",
    "        if \"retrieved_top-3\" in key or \"gold\" in key:\n",
    "            if key not in techniques:\n",
    "                techniques[key] = TeacherMetrics()\n",
    "            techniques[key].evaluate_response({\"text\": value}, [reference])\n",
    "\n",
    "for technique, metrics in techniques.items():\n",
    "    print(f\"{technique}: {metrics.report()['f1']}\")"
   ]
  },
  {
   "cell_type": "markdown",
   "metadata": {},
   "source": [
    "### KF1 Unigram-Overlap (w. knowledge)"
   ]
  },
  {
   "cell_type": "markdown",
   "metadata": {},
   "source": [
    "#### Full test set"
   ]
  },
  {
   "cell_type": "code",
   "execution_count": 9,
   "metadata": {},
   "outputs": [
    {
     "name": "stderr",
     "output_type": "stream",
     "text": [
      "Computing KF1: 100%|██████████| 4380/4380 [00:19<00:00, 224.96it/s]"
     ]
    },
    {
     "name": "stdout",
     "output_type": "stream",
     "text": [
      "gt: 0.3848\n",
      "llama_prompt_gold.json: 0.2103\n",
      "llama_ft_gold.json: 0.7623\n",
      "llama_ft_noisy.json: 0.2169\n",
      "llama_ft_retrieved_top-3.json: 0.251\n",
      "llama_prompt_retrieved_top-3.json: 0.1351\n",
      "llama_ft_none.json: 0.1743\n",
      "llama_prompt_none.json: 0.1162\n",
      "llama_ft_retrieved_top-1.json: 0.2029\n",
      "llama_prompt_retrieved_top-1.json: 0.125\n",
      "mistral_prompt_gold.json: 0.2595\n",
      "mistral_ft_gold.json: 0.6836\n",
      "mistral_ft_noisy.json: 0.2038\n",
      "mistral_ft_retrieved_top-3.json: 0.2163\n",
      "mistral_prompt_retrieved_top-3.json: 0.1776\n",
      "mistral_ft_none.json: 0.1547\n",
      "mistral_prompt_none.json: 0.1096\n",
      "mistral_ft_retrieved_top-1.json: 0.1872\n",
      "mistral_prompt_retrieved_top-1.json: 0.1383\n"
     ]
    },
    {
     "name": "stderr",
     "output_type": "stream",
     "text": [
      "\n"
     ]
    }
   ],
   "source": [
    "techniques = {}\n",
    "for sample_id, sample in tqdm(data.items(), desc=\"Computing KF1\"):\n",
    "    reference = sample[\"gold_sentence\"][\"sentence\"]\n",
    "    if reference is None:\n",
    "        continue\n",
    "    for key, value in task_replies[sample_id].items():\n",
    "        if key not in techniques:\n",
    "            techniques[key] = TeacherMetrics()\n",
    "        techniques[key].evaluate_response({\"text\": value}, [reference])\n",
    "\n",
    "for technique, metrics in techniques.items():\n",
    "    print(f\"{technique}: {metrics.report()['f1']}\")"
   ]
  },
  {
   "cell_type": "markdown",
   "metadata": {},
   "source": [
    "#### Samples with correctly retrieved documents"
   ]
  },
  {
   "cell_type": "markdown",
   "metadata": {},
   "source": [
    "##### Top-1"
   ]
  },
  {
   "cell_type": "code",
   "execution_count": 11,
   "metadata": {},
   "outputs": [
    {
     "name": "stderr",
     "output_type": "stream",
     "text": [
      "Computing KF1: 100%|██████████| 4380/4380 [00:01<00:00, 3162.84it/s]"
     ]
    },
    {
     "name": "stdout",
     "output_type": "stream",
     "text": [
      "gt: 0.374\n",
      "llama_prompt_gold.json: 0.1874\n",
      "llama_ft_gold.json: 0.8539\n",
      "llama_ft_noisy.json: 0.8563\n",
      "llama_ft_retrieved_top-1.json: 0.4904\n",
      "llama_prompt_retrieved_top-1.json: 0.1878\n",
      "mistral_prompt_gold.json: 0.2658\n",
      "mistral_ft_gold.json: 0.7709\n",
      "mistral_ft_noisy.json: 0.7702\n",
      "mistral_ft_retrieved_top-1.json: 0.4629\n",
      "mistral_prompt_retrieved_top-1.json: 0.2528\n"
     ]
    },
    {
     "name": "stderr",
     "output_type": "stream",
     "text": [
      "\n"
     ]
    }
   ],
   "source": [
    "techniques = {}\n",
    "for sample_id, sample in tqdm(data.items(), desc=\"Computing KF1\"):\n",
    "    reference = sample[\"gold_sentence\"][\"sentence\"]\n",
    "    if reference is None:\n",
    "        continue\n",
    "\n",
    "    retrieved_sentences = [summary[\"sentence\"] for summary in sample[\"retrieved_sentences\"][:1]]\n",
    "\n",
    "    if reference not in retrieved_sentences:\n",
    "        continue\n",
    "\n",
    "    for key, value in task_replies[sample_id].items():\n",
    "        if \"retrieved_top-1\" in key or \"gold\" in key or \"gt\" in key or \"noisy\" in key:\n",
    "            if key not in techniques:\n",
    "                techniques[key] = TeacherMetrics()\n",
    "            techniques[key].evaluate_response({\"text\": value}, [reference])\n",
    "\n",
    "for technique, metrics in techniques.items():\n",
    "    print(f\"{technique}: {metrics.report()['f1']}\")"
   ]
  },
  {
   "cell_type": "markdown",
   "metadata": {},
   "source": [
    "##### Top-3"
   ]
  },
  {
   "cell_type": "code",
   "execution_count": 72,
   "metadata": {},
   "outputs": [
    {
     "name": "stderr",
     "output_type": "stream",
     "text": [
      "Computing KF1:   0%|          | 0/4380 [00:00<?, ?it/s]"
     ]
    },
    {
     "name": "stderr",
     "output_type": "stream",
     "text": [
      "Computing KF1: 100%|██████████| 4380/4380 [00:03<00:00, 1425.09it/s]"
     ]
    },
    {
     "name": "stdout",
     "output_type": "stream",
     "text": [
      "gt: 0.3868\n",
      "llama_prompt_gold.json: 0.1956\n",
      "llama_ft_gold.json: 0.8473\n",
      "llama_ft_retrieved_top-3.json: 0.4887\n",
      "llama_prompt_retrieved_top-3.json: 0.1784\n",
      "mistral_prompt_gold.json: 0.2678\n",
      "mistral_ft_gold.json: 0.7531\n",
      "mistral_ft_retrieved_top-3.json: 0.4099\n",
      "mistral_prompt_retrieved_top-3.json: 0.2851\n"
     ]
    },
    {
     "name": "stderr",
     "output_type": "stream",
     "text": [
      "\n"
     ]
    }
   ],
   "source": [
    "techniques = {}\n",
    "for sample_id, sample in tqdm(data.items(), desc=\"Computing KF1\"):\n",
    "    reference = sample[\"gold_sentence\"][\"sentence\"]\n",
    "    if reference is None:\n",
    "        continue\n",
    "\n",
    "    retrieved_sentences = [summary[\"sentence\"] for summary in sample[\"retrieved_sentences\"][:3]]\n",
    "\n",
    "    if reference not in retrieved_sentences:\n",
    "        continue\n",
    "\n",
    "    for key, value in task_replies[sample_id].items():\n",
    "        if \"retrieved_top-3\" in key or \"gold\" in key or \"gt\" in key:\n",
    "            if key not in techniques:\n",
    "                techniques[key] = TeacherMetrics()\n",
    "            techniques[key].evaluate_response({\"text\": value}, [reference])\n",
    "\n",
    "for technique, metrics in techniques.items():\n",
    "    print(f\"{technique}: {metrics.report()['f1']}\")"
   ]
  }
 ],
 "metadata": {
  "kernelspec": {
   "display_name": "inlg",
   "language": "python",
   "name": "python3"
  },
  "language_info": {
   "codemirror_mode": {
    "name": "ipython",
    "version": 3
   },
   "file_extension": ".py",
   "mimetype": "text/x-python",
   "name": "python",
   "nbconvert_exporter": "python",
   "pygments_lexer": "ipython3",
   "version": "3.10.14"
  }
 },
 "nbformat": 4,
 "nbformat_minor": 2
}
